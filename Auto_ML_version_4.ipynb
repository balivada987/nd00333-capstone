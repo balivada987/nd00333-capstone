{
 "cells": [
  {
   "cell_type": "markdown",
   "metadata": {},
   "source": [
    "# Automated ML\n",
    "\n",
    "TODO: Import Dependencies. In the cell below, import all the dependencies that you will need to complete the project."
   ]
  },
  {
   "cell_type": "code",
   "execution_count": 1,
   "metadata": {},
   "outputs": [],
   "source": [
    "import logging\n",
    "import os\n",
    "import csv\n",
    "\n",
    "from matplotlib import pyplot as plt\n",
    "import numpy as np\n",
    "import pandas as pd\n",
    "from sklearn import datasets\n",
    "import pkg_resources\n",
    "\n",
    "import azureml.core\n",
    "from azureml.core.experiment import Experiment\n",
    "from azureml.core.workspace import Workspace\n",
    "from azureml.train.automl import AutoMLConfig\n",
    "from azureml.core.dataset import Dataset\n",
    "\n",
    "from azureml.pipeline.steps import AutoMLStep"
   ]
  },
  {
   "cell_type": "code",
   "execution_count": 2,
   "metadata": {
    "gather": {
     "logged": 1598423888013
    },
    "jupyter": {
     "outputs_hidden": false,
     "source_hidden": false
    },
    "nteract": {
     "transient": {
      "deleting": false
     }
    }
   },
   "outputs": [
    {
     "name": "stdout",
     "output_type": "stream",
     "text": [
      "Workspace name: quick-starts-ws-127468\n",
      "Azure region: southcentralus\n",
      "Subscription id: dafd62fe-51d3-4671-af50-6bac2f001b5d\n",
      "Resource group: aml-quickstarts-127468\n"
     ]
    }
   ],
   "source": [
    "from azureml.core import Workspace, Experiment\n",
    "from azureml.pipeline.steps import PythonScriptStep\n",
    "from azureml.train.sklearn import SKLearn\n",
    "\n",
    "ws = Workspace.get(name=\"quick-starts-ws-127468\")\n",
    "exp = Experiment(workspace=ws, name=\"udacity-project\")\n",
    "\n",
    "print('Workspace name: ' + ws.name, \n",
    "      'Azure region: ' + ws.location, \n",
    "      'Subscription id: ' + ws.subscription_id, \n",
    "      'Resource group: ' + ws.resource_group, sep = '\\n')\n",
    "\n",
    "run = exp.start_logging()\n",
    "from azureml.core.compute import ComputeTarget, AmlCompute\n",
    "\n",
    "# TODO: Create compute cluster\n",
    "\n",
    "# Use vm_size = \"Standard_D2_V2\" in your provisioning configuration.\n",
    "# max_nodes should be no greater than 4.\n",
    "vm_size = \"Standard_DS3_V2\"\n",
    "compute_name=\"notebook127468\"\n",
    "# create the cluster\n",
    "compute_min_nodes=0\n",
    "compute_max_nodes=4\n",
    " \n",
    "\n",
    "\n",
    "\n",
    "### YOUR CODE HERE ###\n",
    "# Checking if  compute already exist or not  if not creating a new target\n",
    "if compute_name in ws.compute_targets:\n",
    "    compute_target = ws.compute_targets[compute_name]\n",
    "    if compute_target and type(compute_target) is AmlCompute:\n",
    "        print(\"found compute target: \" + compute_name)\n",
    "else:\n",
    "    print(\"creating new compute target...\")\n",
    "    provisioning_config = AmlCompute.provisioning_configuration(vm_size = vm_size,\n",
    "                                                                min_nodes = compute_min_nodes, \n",
    "                                                                max_nodes = compute_max_nodes)\n",
    "    # if no min node count is provided it will use the scale settings for the cluster\n",
    "    compute_target.wait_for_completion(show_output=True, timeout_in_minutes=20)\n",
    "    # For a more detailed view of current AmlCompute status, use get_status()\n",
    "    print(compute_target.get_status().serialize())\n",
    "\n",
    "\n",
    "\n"
   ]
  },
  {
   "cell_type": "markdown",
   "metadata": {},
   "source": [
    "## Dataset\n",
    "\n",
    "### Overview\n",
    "TODO: In this markdown cell, give an overview of the dataset you are using. Also mention the task you will be performing.\n",
    "\n",
    "\n",
    "TODO: Get data. In the cell below, write code to access the data you will be using in this project. Remember that the dataset needs to be external."
   ]
  },
  {
   "cell_type": "code",
   "execution_count": 5,
   "metadata": {
    "gather": {
     "logged": 1598423890461
    },
    "jupyter": {
     "outputs_hidden": false,
     "source_hidden": false
    },
    "nteract": {
     "transient": {
      "deleting": false
     }
    }
   },
   "outputs": [
    {
     "name": "stdout",
     "output_type": "stream",
     "text": [
      "Uploading an estimated of 5 files\n",
      "Target already exists. Skipping upload for data/Auto_ML_version_3.ipynb\n",
      "Target already exists. Skipping upload for data/score.py\n",
      "Target already exists. Skipping upload for data/.ipynb_checkpoints/Auto_ML_version_3-checkpoint.ipynb\n",
      "Target already exists. Skipping upload for data/.ipynb_checkpoints/score-checkpoint.py\n",
      "Uploading ./heart_failure_clinical_records_dataset.csv\n",
      "Uploaded ./heart_failure_clinical_records_dataset.csv, 1 files out of an estimated total of 4\n",
      "Uploaded 1 files\n"
     ]
    },
    {
     "data": {
      "text/plain": [
       "$AZUREML_DATAREFERENCE_cb31003a51504363b2e03097c5339349"
      ]
     },
     "execution_count": 5,
     "metadata": {},
     "output_type": "execute_result"
    }
   ],
   "source": [
    "#ws = Workspace.from_config()\n",
    "\n",
    "# choose a name for experiment\n",
    "#experiment_name = 'your experiment name here'\n",
    "\n",
    "#experiment=Experiment(ws, experiment_name)\n",
    "\n",
    "#workspace = Workspace(subscription_id, resource_group, workspace_name)\n",
    "\n",
    "# get the datastore to upload prepared data\n",
    "datastore = ws.get_default_datastore()\n",
    "\n",
    "# upload the local file from src_dir to the target_path in datastore\n",
    "datastore.upload(src_dir='./', target_path='data')\n",
    "\n",
    "# create a dataset referencing the cloud location\n",
    "#"
   ]
  },
  {
   "cell_type": "code",
   "execution_count": 6,
   "metadata": {},
   "outputs": [],
   "source": [
    "dataset = Dataset.Tabular.from_delimited_files(path = [(datastore, ('data/heart_failure_clinical_records_dataset.csv'))])"
   ]
  },
  {
   "cell_type": "code",
   "execution_count": 7,
   "metadata": {},
   "outputs": [
    {
     "data": {
      "text/html": [
       "<div>\n",
       "<style scoped>\n",
       "    .dataframe tbody tr th:only-of-type {\n",
       "        vertical-align: middle;\n",
       "    }\n",
       "\n",
       "    .dataframe tbody tr th {\n",
       "        vertical-align: top;\n",
       "    }\n",
       "\n",
       "    .dataframe thead th {\n",
       "        text-align: right;\n",
       "    }\n",
       "</style>\n",
       "<table border=\"1\" class=\"dataframe\">\n",
       "  <thead>\n",
       "    <tr style=\"text-align: right;\">\n",
       "      <th></th>\n",
       "      <th>age</th>\n",
       "      <th>anaemia</th>\n",
       "      <th>creatinine_phosphokinase</th>\n",
       "      <th>diabetes</th>\n",
       "      <th>ejection_fraction</th>\n",
       "      <th>high_blood_pressure</th>\n",
       "      <th>platelets</th>\n",
       "      <th>serum_creatinine</th>\n",
       "      <th>serum_sodium</th>\n",
       "      <th>sex</th>\n",
       "      <th>smoking</th>\n",
       "      <th>time</th>\n",
       "      <th>DEATH_EVENT</th>\n",
       "    </tr>\n",
       "  </thead>\n",
       "  <tbody>\n",
       "    <tr>\n",
       "      <th>0</th>\n",
       "      <td>75.0</td>\n",
       "      <td>0</td>\n",
       "      <td>582</td>\n",
       "      <td>0</td>\n",
       "      <td>20</td>\n",
       "      <td>1</td>\n",
       "      <td>265000.00</td>\n",
       "      <td>1.9</td>\n",
       "      <td>130</td>\n",
       "      <td>1</td>\n",
       "      <td>0</td>\n",
       "      <td>4</td>\n",
       "      <td>1</td>\n",
       "    </tr>\n",
       "    <tr>\n",
       "      <th>1</th>\n",
       "      <td>55.0</td>\n",
       "      <td>0</td>\n",
       "      <td>7861</td>\n",
       "      <td>0</td>\n",
       "      <td>38</td>\n",
       "      <td>0</td>\n",
       "      <td>263358.03</td>\n",
       "      <td>1.1</td>\n",
       "      <td>136</td>\n",
       "      <td>1</td>\n",
       "      <td>0</td>\n",
       "      <td>6</td>\n",
       "      <td>1</td>\n",
       "    </tr>\n",
       "    <tr>\n",
       "      <th>2</th>\n",
       "      <td>65.0</td>\n",
       "      <td>0</td>\n",
       "      <td>146</td>\n",
       "      <td>0</td>\n",
       "      <td>20</td>\n",
       "      <td>0</td>\n",
       "      <td>162000.00</td>\n",
       "      <td>1.3</td>\n",
       "      <td>129</td>\n",
       "      <td>1</td>\n",
       "      <td>1</td>\n",
       "      <td>7</td>\n",
       "      <td>1</td>\n",
       "    </tr>\n",
       "    <tr>\n",
       "      <th>3</th>\n",
       "      <td>50.0</td>\n",
       "      <td>1</td>\n",
       "      <td>111</td>\n",
       "      <td>0</td>\n",
       "      <td>20</td>\n",
       "      <td>0</td>\n",
       "      <td>210000.00</td>\n",
       "      <td>1.9</td>\n",
       "      <td>137</td>\n",
       "      <td>1</td>\n",
       "      <td>0</td>\n",
       "      <td>7</td>\n",
       "      <td>1</td>\n",
       "    </tr>\n",
       "    <tr>\n",
       "      <th>4</th>\n",
       "      <td>65.0</td>\n",
       "      <td>1</td>\n",
       "      <td>160</td>\n",
       "      <td>1</td>\n",
       "      <td>20</td>\n",
       "      <td>0</td>\n",
       "      <td>327000.00</td>\n",
       "      <td>2.7</td>\n",
       "      <td>116</td>\n",
       "      <td>0</td>\n",
       "      <td>0</td>\n",
       "      <td>8</td>\n",
       "      <td>1</td>\n",
       "    </tr>\n",
       "    <tr>\n",
       "      <th>...</th>\n",
       "      <td>...</td>\n",
       "      <td>...</td>\n",
       "      <td>...</td>\n",
       "      <td>...</td>\n",
       "      <td>...</td>\n",
       "      <td>...</td>\n",
       "      <td>...</td>\n",
       "      <td>...</td>\n",
       "      <td>...</td>\n",
       "      <td>...</td>\n",
       "      <td>...</td>\n",
       "      <td>...</td>\n",
       "      <td>...</td>\n",
       "    </tr>\n",
       "    <tr>\n",
       "      <th>294</th>\n",
       "      <td>62.0</td>\n",
       "      <td>0</td>\n",
       "      <td>61</td>\n",
       "      <td>1</td>\n",
       "      <td>38</td>\n",
       "      <td>1</td>\n",
       "      <td>155000.00</td>\n",
       "      <td>1.1</td>\n",
       "      <td>143</td>\n",
       "      <td>1</td>\n",
       "      <td>1</td>\n",
       "      <td>270</td>\n",
       "      <td>0</td>\n",
       "    </tr>\n",
       "    <tr>\n",
       "      <th>295</th>\n",
       "      <td>55.0</td>\n",
       "      <td>0</td>\n",
       "      <td>1820</td>\n",
       "      <td>0</td>\n",
       "      <td>38</td>\n",
       "      <td>0</td>\n",
       "      <td>270000.00</td>\n",
       "      <td>1.2</td>\n",
       "      <td>139</td>\n",
       "      <td>0</td>\n",
       "      <td>0</td>\n",
       "      <td>271</td>\n",
       "      <td>0</td>\n",
       "    </tr>\n",
       "    <tr>\n",
       "      <th>296</th>\n",
       "      <td>45.0</td>\n",
       "      <td>0</td>\n",
       "      <td>2060</td>\n",
       "      <td>1</td>\n",
       "      <td>60</td>\n",
       "      <td>0</td>\n",
       "      <td>742000.00</td>\n",
       "      <td>0.8</td>\n",
       "      <td>138</td>\n",
       "      <td>0</td>\n",
       "      <td>0</td>\n",
       "      <td>278</td>\n",
       "      <td>0</td>\n",
       "    </tr>\n",
       "    <tr>\n",
       "      <th>297</th>\n",
       "      <td>45.0</td>\n",
       "      <td>0</td>\n",
       "      <td>2413</td>\n",
       "      <td>0</td>\n",
       "      <td>38</td>\n",
       "      <td>0</td>\n",
       "      <td>140000.00</td>\n",
       "      <td>1.4</td>\n",
       "      <td>140</td>\n",
       "      <td>1</td>\n",
       "      <td>1</td>\n",
       "      <td>280</td>\n",
       "      <td>0</td>\n",
       "    </tr>\n",
       "    <tr>\n",
       "      <th>298</th>\n",
       "      <td>50.0</td>\n",
       "      <td>0</td>\n",
       "      <td>196</td>\n",
       "      <td>0</td>\n",
       "      <td>45</td>\n",
       "      <td>0</td>\n",
       "      <td>395000.00</td>\n",
       "      <td>1.6</td>\n",
       "      <td>136</td>\n",
       "      <td>1</td>\n",
       "      <td>1</td>\n",
       "      <td>285</td>\n",
       "      <td>0</td>\n",
       "    </tr>\n",
       "  </tbody>\n",
       "</table>\n",
       "<p>299 rows × 13 columns</p>\n",
       "</div>"
      ],
      "text/plain": [
       "      age  anaemia  creatinine_phosphokinase  diabetes  ejection_fraction  \\\n",
       "0    75.0        0                       582         0                 20   \n",
       "1    55.0        0                      7861         0                 38   \n",
       "2    65.0        0                       146         0                 20   \n",
       "3    50.0        1                       111         0                 20   \n",
       "4    65.0        1                       160         1                 20   \n",
       "..    ...      ...                       ...       ...                ...   \n",
       "294  62.0        0                        61         1                 38   \n",
       "295  55.0        0                      1820         0                 38   \n",
       "296  45.0        0                      2060         1                 60   \n",
       "297  45.0        0                      2413         0                 38   \n",
       "298  50.0        0                       196         0                 45   \n",
       "\n",
       "     high_blood_pressure  platelets  serum_creatinine  serum_sodium  sex  \\\n",
       "0                      1  265000.00               1.9           130    1   \n",
       "1                      0  263358.03               1.1           136    1   \n",
       "2                      0  162000.00               1.3           129    1   \n",
       "3                      0  210000.00               1.9           137    1   \n",
       "4                      0  327000.00               2.7           116    0   \n",
       "..                   ...        ...               ...           ...  ...   \n",
       "294                    1  155000.00               1.1           143    1   \n",
       "295                    0  270000.00               1.2           139    0   \n",
       "296                    0  742000.00               0.8           138    0   \n",
       "297                    0  140000.00               1.4           140    1   \n",
       "298                    0  395000.00               1.6           136    1   \n",
       "\n",
       "     smoking  time  DEATH_EVENT  \n",
       "0          0     4            1  \n",
       "1          0     6            1  \n",
       "2          1     7            1  \n",
       "3          0     7            1  \n",
       "4          0     8            1  \n",
       "..       ...   ...          ...  \n",
       "294        1   270            0  \n",
       "295        0   271            0  \n",
       "296        0   278            0  \n",
       "297        1   280            0  \n",
       "298        1   285            0  \n",
       "\n",
       "[299 rows x 13 columns]"
      ]
     },
     "execution_count": 7,
     "metadata": {},
     "output_type": "execute_result"
    }
   ],
   "source": [
    "dataset.to_pandas_dataframe()"
   ]
  },
  {
   "cell_type": "code",
   "execution_count": null,
   "metadata": {},
   "outputs": [],
   "source": [
    "\"\"\"\n",
    "est = SKLearn(source_directory=\"./\", \n",
    "                compute_target=compute_target, \n",
    "                vm_size=vm_size,\n",
    "                entry_script='train.py'\n",
    "               )\n",
    "\n",
    "\"\"\""
   ]
  },
  {
   "cell_type": "code",
   "execution_count": null,
   "metadata": {},
   "outputs": [],
   "source": [
    "dataset"
   ]
  },
  {
   "cell_type": "markdown",
   "metadata": {},
   "source": [
    "## AutoML Configuration\n",
    "\n",
    "TODO: Explain why you chose the automl settings and cofiguration you used below."
   ]
  },
  {
   "cell_type": "code",
   "execution_count": 8,
   "metadata": {
    "gather": {
     "logged": 1598429217746
    },
    "jupyter": {
     "outputs_hidden": false,
     "source_hidden": false
    },
    "nteract": {
     "transient": {
      "deleting": false
     }
    }
   },
   "outputs": [],
   "source": [
    "# TODO: Put your automl settings here\n",
    "\n",
    "\n",
    "\n",
    "from azureml.train.automl import AutoMLConfig\n",
    "import numpy as np\n",
    "\n",
    "\n",
    "# Set parameters for AutoMLConfig\n",
    "# NOTE: DO NOT CHANGE THE experiment_timeout_minutes PARAMETER OR YOUR INSTANCE WILL TIME OUT.\n",
    "# If you wish to run the experiment longer, you will need to run this notebook in your own\n",
    "# Azure tenant, which will incur personal costs.\n",
    "automl_config = AutoMLConfig(\n",
    "    experiment_timeout_minutes=30,\n",
    "    task='classification',\n",
    "    compute_target=compute_target,\n",
    "    primary_metric=\"accuracy\",\n",
    "    training_data=dataset,\n",
    "    label_column_name='DEATH_EVENT',\n",
    "    #allowed_models=[\"LightGBM\",\"RandomForest\"],\n",
    "    n_cross_validations=3)\n"
   ]
  },
  {
   "cell_type": "code",
   "execution_count": 9,
   "metadata": {},
   "outputs": [
    {
     "name": "stdout",
     "output_type": "stream",
     "text": [
      "Running on remote.\n",
      "Running on remote compute: notebook127468\n",
      "Parent Run ID: AutoML_c7b2d821-31c1-4aad-af00-8b853ffcede3\n",
      "\n",
      "Current status: FeaturesGeneration. Generating features for the dataset.\n",
      "Current status: ModelSelection. Beginning model selection.\n",
      "\n",
      "****************************************************************************************************\n",
      "DATA GUARDRAILS: \n",
      "\n",
      "TYPE:         Class balancing detection\n",
      "STATUS:       PASSED\n",
      "DESCRIPTION:  Your inputs were analyzed, and all classes are balanced in your training data.\n",
      "              Learn more about imbalanced data: https://aka.ms/AutomatedMLImbalancedData\n",
      "\n",
      "****************************************************************************************************\n",
      "\n",
      "TYPE:         Missing feature values imputation\n",
      "STATUS:       PASSED\n",
      "DESCRIPTION:  No feature missing values were detected in the training data.\n",
      "              Learn more about missing value imputation: https://aka.ms/AutomatedMLFeaturization\n",
      "\n",
      "****************************************************************************************************\n",
      "\n",
      "TYPE:         High cardinality feature detection\n",
      "STATUS:       PASSED\n",
      "DESCRIPTION:  Your inputs were analyzed, and no high cardinality features were detected.\n",
      "              Learn more about high cardinality feature handling: https://aka.ms/AutomatedMLFeaturization\n",
      "\n",
      "****************************************************************************************************\n",
      "\n",
      "****************************************************************************************************\n",
      "ITERATION: The iteration being evaluated.\n",
      "PIPELINE: A summary description of the pipeline being evaluated.\n",
      "DURATION: Time taken for the current iteration.\n",
      "METRIC: The result of computing score on the fitted pipeline.\n",
      "BEST: The best observed score thus far.\n",
      "****************************************************************************************************\n",
      "\n",
      " ITERATION   PIPELINE                                       DURATION      METRIC      BEST\n",
      "         0   MaxAbsScaler LightGBM                          0:00:32       0.8259    0.8259\n",
      "         1   MaxAbsScaler XGBoostClassifier                 0:00:26       0.8260    0.8260\n",
      "         2   MinMaxScaler RandomForest                      0:00:33       0.8394    0.8394\n",
      "         3   StandardScalerWrapper SGD                      0:00:35       0.8160    0.8394\n",
      "         4   MinMaxScaler RandomForest                      0:00:34       0.8494    0.8494\n",
      "         5   StandardScalerWrapper SGD                      0:00:37       0.7823    0.8494\n",
      "         6   StandardScalerWrapper RandomForest             0:00:37       0.7992    0.8494\n",
      "         7   RobustScaler ExtremeRandomTrees                0:00:28       0.7927    0.8494\n",
      "         8   StandardScalerWrapper ExtremeRandomTrees       0:00:27       0.8092    0.8494\n",
      "         9   StandardScalerWrapper SGD                      0:00:33       0.8194    0.8494\n",
      "        10   StandardScalerWrapper SGD                      0:00:30       0.8125    0.8494\n",
      "        11   MinMaxScaler SGD                               0:01:04       0.7790    0.8494\n",
      "        12   RobustScaler ExtremeRandomTrees                0:00:33       0.8393    0.8494\n",
      "        13   MinMaxScaler SGD                               0:00:39       0.7993    0.8494\n",
      "        14   MinMaxScaler ExtremeRandomTrees                0:00:36       0.8361    0.8494\n",
      "        15   MinMaxScaler ExtremeRandomTrees                0:00:34       0.7860    0.8494\n",
      "        16   MinMaxScaler ExtremeRandomTrees                0:00:36       0.7492    0.8494\n",
      "        17   StandardScalerWrapper RandomForest             0:01:10       0.8260    0.8494\n",
      "        18   StandardScalerWrapper SGD                      0:00:26       0.7757    0.8494\n",
      "        19   RobustScaler ExtremeRandomTrees                0:00:38       0.8092    0.8494\n",
      "        20   StandardScalerWrapper RandomForest             0:00:32       0.8092    0.8494\n",
      "        21   MinMaxScaler ExtremeRandomTrees                0:00:31       0.8361    0.8494\n",
      "        22   MinMaxScaler RandomForest                      0:00:33       0.8361    0.8494\n",
      "        23   MaxAbsScaler LightGBM                          0:00:36       0.8094    0.8494\n",
      "        24   MaxAbsScaler GradientBoosting                  0:00:31       0.7627    0.8494\n",
      "        25   StandardScalerWrapper RandomForest             0:00:28       0.8227    0.8494\n",
      "        26   StandardScalerWrapper XGBoostClassifier        0:00:37       0.8360    0.8494\n",
      "        27   RobustScaler KNN                               0:00:32       0.6757    0.8494\n",
      "        28   StandardScalerWrapper RandomForest             0:00:36       0.8394    0.8494\n",
      "        29   MinMaxScaler LogisticRegression                0:00:33       0.8160    0.8494\n",
      "        30   MaxAbsScaler RandomForest                      0:00:40       0.6790    0.8494\n",
      "        31   SparseNormalizer XGBoostClassifier             0:00:37       0.8293    0.8494\n",
      "        32    VotingEnsemble                                0:00:48       0.8695    0.8695\n",
      "        33    StackEnsemble                                 0:00:51       0.8294    0.8695\n"
     ]
    },
    {
     "data": {
      "application/vnd.jupyter.widget-view+json": {
       "model_id": "e1a62c367def42709d3407c4312c0aeb",
       "version_major": 2,
       "version_minor": 0
      },
      "text/plain": [
       "_AutoMLWidget(widget_settings={'childWidgetDisplay': 'popup', 'send_telemetry': False, 'log_level': 'INFO', 's…"
      ]
     },
     "metadata": {},
     "output_type": "display_data"
    },
    {
     "data": {
      "application/aml.mini.widget.v1": "{\"status\": \"Completed\", \"workbench_run_details_uri\": \"https://ml.azure.com/experiments/automl_test/runs/AutoML_c7b2d821-31c1-4aad-af00-8b853ffcede3?wsid=/subscriptions/dafd62fe-51d3-4671-af50-6bac2f001b5d/resourcegroups/aml-quickstarts-127468/workspaces/quick-starts-ws-127468\", \"run_id\": \"AutoML_c7b2d821-31c1-4aad-af00-8b853ffcede3\", \"run_properties\": {\"run_id\": \"AutoML_c7b2d821-31c1-4aad-af00-8b853ffcede3\", \"created_utc\": \"2020-11-23T03:08:52.667682Z\", \"properties\": {\"num_iterations\": \"1000\", \"training_type\": \"TrainFull\", \"acquisition_function\": \"EI\", \"primary_metric\": \"accuracy\", \"train_split\": \"0\", \"acquisition_parameter\": \"0\", \"num_cross_validation\": \"3\", \"target\": \"notebook127468\", \"AMLSettingsJsonString\": \"{\\\"path\\\":null,\\\"name\\\":\\\"automl_test\\\",\\\"subscription_id\\\":\\\"dafd62fe-51d3-4671-af50-6bac2f001b5d\\\",\\\"resource_group\\\":\\\"aml-quickstarts-127468\\\",\\\"workspace_name\\\":\\\"quick-starts-ws-127468\\\",\\\"region\\\":\\\"southcentralus\\\",\\\"compute_target\\\":\\\"notebook127468\\\",\\\"spark_service\\\":null,\\\"azure_service\\\":\\\"remote\\\",\\\"_local_managed_run_id\\\":null,\\\"many_models\\\":false,\\\"pipeline_fetch_max_batch_size\\\":1,\\\"iterations\\\":1000,\\\"primary_metric\\\":\\\"accuracy\\\",\\\"task_type\\\":\\\"classification\\\",\\\"data_script\\\":null,\\\"validation_size\\\":0.0,\\\"n_cross_validations\\\":3,\\\"y_min\\\":null,\\\"y_max\\\":null,\\\"num_classes\\\":null,\\\"featurization\\\":\\\"auto\\\",\\\"_ignore_package_version_incompatibilities\\\":false,\\\"is_timeseries\\\":false,\\\"max_cores_per_iteration\\\":1,\\\"max_concurrent_iterations\\\":1,\\\"iteration_timeout_minutes\\\":null,\\\"mem_in_mb\\\":null,\\\"enforce_time_on_windows\\\":false,\\\"experiment_timeout_minutes\\\":30,\\\"experiment_exit_score\\\":null,\\\"whitelist_models\\\":null,\\\"blacklist_algos\\\":[\\\"TensorFlowLinearClassifier\\\",\\\"TensorFlowDNN\\\"],\\\"supported_models\\\":[\\\"GradientBoosting\\\",\\\"SGD\\\",\\\"KNN\\\",\\\"AveragedPerceptronClassifier\\\",\\\"DecisionTree\\\",\\\"RandomForest\\\",\\\"XGBoostClassifier\\\",\\\"LinearSVM\\\",\\\"MultinomialNaiveBayes\\\",\\\"ExtremeRandomTrees\\\",\\\"TensorFlowDNN\\\",\\\"LightGBM\\\",\\\"LogisticRegression\\\",\\\"BernoulliNaiveBayes\\\",\\\"TensorFlowLinearClassifier\\\",\\\"SVM\\\"],\\\"auto_blacklist\\\":true,\\\"blacklist_samples_reached\\\":false,\\\"exclude_nan_labels\\\":true,\\\"verbosity\\\":20,\\\"_debug_log\\\":\\\"azureml_automl.log\\\",\\\"show_warnings\\\":false,\\\"model_explainability\\\":true,\\\"service_url\\\":null,\\\"sdk_url\\\":null,\\\"sdk_packages\\\":null,\\\"enable_onnx_compatible_models\\\":false,\\\"enable_split_onnx_featurizer_estimator_models\\\":false,\\\"vm_type\\\":\\\"STANDARD_DS3_V2\\\",\\\"telemetry_verbosity\\\":20,\\\"send_telemetry\\\":true,\\\"enable_dnn\\\":false,\\\"scenario\\\":\\\"SDK-1.13.0\\\",\\\"environment_label\\\":null,\\\"force_text_dnn\\\":false,\\\"enable_feature_sweeping\\\":true,\\\"enable_early_stopping\\\":false,\\\"early_stopping_n_iters\\\":10,\\\"metrics\\\":null,\\\"enable_ensembling\\\":true,\\\"enable_stack_ensembling\\\":true,\\\"ensemble_iterations\\\":15,\\\"enable_tf\\\":false,\\\"enable_subsampling\\\":null,\\\"subsample_seed\\\":null,\\\"enable_nimbusml\\\":false,\\\"enable_streaming\\\":false,\\\"force_streaming\\\":false,\\\"track_child_runs\\\":true,\\\"allowed_private_models\\\":[],\\\"label_column_name\\\":\\\"DEATH_EVENT\\\",\\\"weight_column_name\\\":null,\\\"cv_split_column_names\\\":null,\\\"enable_local_managed\\\":false,\\\"cost_mode\\\":1,\\\"lag_length\\\":0,\\\"metric_operation\\\":\\\"maximize\\\",\\\"preprocess\\\":true}\", \"DataPrepJsonString\": \"{\\\\\\\"training_data\\\\\\\": \\\\\\\"{\\\\\\\\\\\\\\\"blocks\\\\\\\\\\\\\\\": [{\\\\\\\\\\\\\\\"id\\\\\\\\\\\\\\\": \\\\\\\\\\\\\\\"43df3b69-54c9-487d-8c7f-cc1e9fe667d6\\\\\\\\\\\\\\\", \\\\\\\\\\\\\\\"type\\\\\\\\\\\\\\\": \\\\\\\\\\\\\\\"Microsoft.DPrep.GetDatastoreFilesBlock\\\\\\\\\\\\\\\", \\\\\\\\\\\\\\\"arguments\\\\\\\\\\\\\\\": {\\\\\\\\\\\\\\\"datastores\\\\\\\\\\\\\\\": [{\\\\\\\\\\\\\\\"datastoreName\\\\\\\\\\\\\\\": \\\\\\\\\\\\\\\"workspaceblobstore\\\\\\\\\\\\\\\", \\\\\\\\\\\\\\\"path\\\\\\\\\\\\\\\": \\\\\\\\\\\\\\\"data/heart_failure_clinical_records_dataset.csv\\\\\\\\\\\\\\\", \\\\\\\\\\\\\\\"resourceGroup\\\\\\\\\\\\\\\": \\\\\\\\\\\\\\\"aml-quickstarts-127468\\\\\\\\\\\\\\\", \\\\\\\\\\\\\\\"subscription\\\\\\\\\\\\\\\": \\\\\\\\\\\\\\\"dafd62fe-51d3-4671-af50-6bac2f001b5d\\\\\\\\\\\\\\\", \\\\\\\\\\\\\\\"workspaceName\\\\\\\\\\\\\\\": \\\\\\\\\\\\\\\"quick-starts-ws-127468\\\\\\\\\\\\\\\"}]}, \\\\\\\\\\\\\\\"localData\\\\\\\\\\\\\\\": {}, \\\\\\\\\\\\\\\"isEnabled\\\\\\\\\\\\\\\": true, \\\\\\\\\\\\\\\"name\\\\\\\\\\\\\\\": null, \\\\\\\\\\\\\\\"annotation\\\\\\\\\\\\\\\": null}, {\\\\\\\\\\\\\\\"id\\\\\\\\\\\\\\\": \\\\\\\\\\\\\\\"8c6048b5-a8e2-47ee-b730-83a4be0e4ef2\\\\\\\\\\\\\\\", \\\\\\\\\\\\\\\"type\\\\\\\\\\\\\\\": \\\\\\\\\\\\\\\"Microsoft.DPrep.ParseDelimitedBlock\\\\\\\\\\\\\\\", \\\\\\\\\\\\\\\"arguments\\\\\\\\\\\\\\\": {\\\\\\\\\\\\\\\"columnHeadersMode\\\\\\\\\\\\\\\": 3, \\\\\\\\\\\\\\\"fileEncoding\\\\\\\\\\\\\\\": 0, \\\\\\\\\\\\\\\"handleQuotedLineBreaks\\\\\\\\\\\\\\\": false, \\\\\\\\\\\\\\\"preview\\\\\\\\\\\\\\\": false, \\\\\\\\\\\\\\\"separator\\\\\\\\\\\\\\\": \\\\\\\\\\\\\\\",\\\\\\\\\\\\\\\", \\\\\\\\\\\\\\\"skipRows\\\\\\\\\\\\\\\": 0, \\\\\\\\\\\\\\\"skipRowsMode\\\\\\\\\\\\\\\": 0}, \\\\\\\\\\\\\\\"localData\\\\\\\\\\\\\\\": {}, \\\\\\\\\\\\\\\"isEnabled\\\\\\\\\\\\\\\": true, \\\\\\\\\\\\\\\"name\\\\\\\\\\\\\\\": null, \\\\\\\\\\\\\\\"annotation\\\\\\\\\\\\\\\": null}, {\\\\\\\\\\\\\\\"id\\\\\\\\\\\\\\\": \\\\\\\\\\\\\\\"d21872d8-66c7-424a-ad7b-75a7ac86e5ac\\\\\\\\\\\\\\\", \\\\\\\\\\\\\\\"type\\\\\\\\\\\\\\\": \\\\\\\\\\\\\\\"Microsoft.DPrep.DropColumnsBlock\\\\\\\\\\\\\\\", \\\\\\\\\\\\\\\"arguments\\\\\\\\\\\\\\\": {\\\\\\\\\\\\\\\"columns\\\\\\\\\\\\\\\": {\\\\\\\\\\\\\\\"type\\\\\\\\\\\\\\\": 0, \\\\\\\\\\\\\\\"details\\\\\\\\\\\\\\\": {\\\\\\\\\\\\\\\"selectedColumns\\\\\\\\\\\\\\\": [\\\\\\\\\\\\\\\"Path\\\\\\\\\\\\\\\"]}}}, \\\\\\\\\\\\\\\"localData\\\\\\\\\\\\\\\": {}, \\\\\\\\\\\\\\\"isEnabled\\\\\\\\\\\\\\\": true, \\\\\\\\\\\\\\\"name\\\\\\\\\\\\\\\": null, \\\\\\\\\\\\\\\"annotation\\\\\\\\\\\\\\\": null}, {\\\\\\\\\\\\\\\"id\\\\\\\\\\\\\\\": \\\\\\\\\\\\\\\"9fd63a5c-4083-4a9d-927e-7e51b65248ed\\\\\\\\\\\\\\\", \\\\\\\\\\\\\\\"type\\\\\\\\\\\\\\\": \\\\\\\\\\\\\\\"Microsoft.DPrep.SetColumnTypesBlock\\\\\\\\\\\\\\\", \\\\\\\\\\\\\\\"arguments\\\\\\\\\\\\\\\": {\\\\\\\\\\\\\\\"columnConversion\\\\\\\\\\\\\\\": [{\\\\\\\\\\\\\\\"column\\\\\\\\\\\\\\\": {\\\\\\\\\\\\\\\"type\\\\\\\\\\\\\\\": 2, \\\\\\\\\\\\\\\"details\\\\\\\\\\\\\\\": {\\\\\\\\\\\\\\\"selectedColumn\\\\\\\\\\\\\\\": \\\\\\\\\\\\\\\"age\\\\\\\\\\\\\\\"}}, \\\\\\\\\\\\\\\"typeProperty\\\\\\\\\\\\\\\": 3}, {\\\\\\\\\\\\\\\"column\\\\\\\\\\\\\\\": {\\\\\\\\\\\\\\\"type\\\\\\\\\\\\\\\": 2, \\\\\\\\\\\\\\\"details\\\\\\\\\\\\\\\": {\\\\\\\\\\\\\\\"selectedColumn\\\\\\\\\\\\\\\": \\\\\\\\\\\\\\\"anaemia\\\\\\\\\\\\\\\"}}, \\\\\\\\\\\\\\\"typeProperty\\\\\\\\\\\\\\\": 2}, {\\\\\\\\\\\\\\\"column\\\\\\\\\\\\\\\": {\\\\\\\\\\\\\\\"type\\\\\\\\\\\\\\\": 2, \\\\\\\\\\\\\\\"details\\\\\\\\\\\\\\\": {\\\\\\\\\\\\\\\"selectedColumn\\\\\\\\\\\\\\\": \\\\\\\\\\\\\\\"creatinine_phosphokinase\\\\\\\\\\\\\\\"}}, \\\\\\\\\\\\\\\"typeProperty\\\\\\\\\\\\\\\": 2}, {\\\\\\\\\\\\\\\"column\\\\\\\\\\\\\\\": {\\\\\\\\\\\\\\\"type\\\\\\\\\\\\\\\": 2, \\\\\\\\\\\\\\\"details\\\\\\\\\\\\\\\": {\\\\\\\\\\\\\\\"selectedColumn\\\\\\\\\\\\\\\": \\\\\\\\\\\\\\\"diabetes\\\\\\\\\\\\\\\"}}, \\\\\\\\\\\\\\\"typeProperty\\\\\\\\\\\\\\\": 2}, {\\\\\\\\\\\\\\\"column\\\\\\\\\\\\\\\": {\\\\\\\\\\\\\\\"type\\\\\\\\\\\\\\\": 2, \\\\\\\\\\\\\\\"details\\\\\\\\\\\\\\\": {\\\\\\\\\\\\\\\"selectedColumn\\\\\\\\\\\\\\\": \\\\\\\\\\\\\\\"ejection_fraction\\\\\\\\\\\\\\\"}}, \\\\\\\\\\\\\\\"typeProperty\\\\\\\\\\\\\\\": 2}, {\\\\\\\\\\\\\\\"column\\\\\\\\\\\\\\\": {\\\\\\\\\\\\\\\"type\\\\\\\\\\\\\\\": 2, \\\\\\\\\\\\\\\"details\\\\\\\\\\\\\\\": {\\\\\\\\\\\\\\\"selectedColumn\\\\\\\\\\\\\\\": \\\\\\\\\\\\\\\"high_blood_pressure\\\\\\\\\\\\\\\"}}, \\\\\\\\\\\\\\\"typeProperty\\\\\\\\\\\\\\\": 2}, {\\\\\\\\\\\\\\\"column\\\\\\\\\\\\\\\": {\\\\\\\\\\\\\\\"type\\\\\\\\\\\\\\\": 2, \\\\\\\\\\\\\\\"details\\\\\\\\\\\\\\\": {\\\\\\\\\\\\\\\"selectedColumn\\\\\\\\\\\\\\\": \\\\\\\\\\\\\\\"platelets\\\\\\\\\\\\\\\"}}, \\\\\\\\\\\\\\\"typeProperty\\\\\\\\\\\\\\\": 3}, {\\\\\\\\\\\\\\\"column\\\\\\\\\\\\\\\": {\\\\\\\\\\\\\\\"type\\\\\\\\\\\\\\\": 2, \\\\\\\\\\\\\\\"details\\\\\\\\\\\\\\\": {\\\\\\\\\\\\\\\"selectedColumn\\\\\\\\\\\\\\\": \\\\\\\\\\\\\\\"serum_creatinine\\\\\\\\\\\\\\\"}}, \\\\\\\\\\\\\\\"typeProperty\\\\\\\\\\\\\\\": 3}, {\\\\\\\\\\\\\\\"column\\\\\\\\\\\\\\\": {\\\\\\\\\\\\\\\"type\\\\\\\\\\\\\\\": 2, \\\\\\\\\\\\\\\"details\\\\\\\\\\\\\\\": {\\\\\\\\\\\\\\\"selectedColumn\\\\\\\\\\\\\\\": \\\\\\\\\\\\\\\"serum_sodium\\\\\\\\\\\\\\\"}}, \\\\\\\\\\\\\\\"typeProperty\\\\\\\\\\\\\\\": 2}, {\\\\\\\\\\\\\\\"column\\\\\\\\\\\\\\\": {\\\\\\\\\\\\\\\"type\\\\\\\\\\\\\\\": 2, \\\\\\\\\\\\\\\"details\\\\\\\\\\\\\\\": {\\\\\\\\\\\\\\\"selectedColumn\\\\\\\\\\\\\\\": \\\\\\\\\\\\\\\"sex\\\\\\\\\\\\\\\"}}, \\\\\\\\\\\\\\\"typeProperty\\\\\\\\\\\\\\\": 2}, {\\\\\\\\\\\\\\\"column\\\\\\\\\\\\\\\": {\\\\\\\\\\\\\\\"type\\\\\\\\\\\\\\\": 2, \\\\\\\\\\\\\\\"details\\\\\\\\\\\\\\\": {\\\\\\\\\\\\\\\"selectedColumn\\\\\\\\\\\\\\\": \\\\\\\\\\\\\\\"smoking\\\\\\\\\\\\\\\"}}, \\\\\\\\\\\\\\\"typeProperty\\\\\\\\\\\\\\\": 2}, {\\\\\\\\\\\\\\\"column\\\\\\\\\\\\\\\": {\\\\\\\\\\\\\\\"type\\\\\\\\\\\\\\\": 2, \\\\\\\\\\\\\\\"details\\\\\\\\\\\\\\\": {\\\\\\\\\\\\\\\"selectedColumn\\\\\\\\\\\\\\\": \\\\\\\\\\\\\\\"time\\\\\\\\\\\\\\\"}}, \\\\\\\\\\\\\\\"typeProperty\\\\\\\\\\\\\\\": 2}, {\\\\\\\\\\\\\\\"column\\\\\\\\\\\\\\\": {\\\\\\\\\\\\\\\"type\\\\\\\\\\\\\\\": 2, \\\\\\\\\\\\\\\"details\\\\\\\\\\\\\\\": {\\\\\\\\\\\\\\\"selectedColumn\\\\\\\\\\\\\\\": \\\\\\\\\\\\\\\"DEATH_EVENT\\\\\\\\\\\\\\\"}}, \\\\\\\\\\\\\\\"typeProperty\\\\\\\\\\\\\\\": 2}]}, \\\\\\\\\\\\\\\"localData\\\\\\\\\\\\\\\": {}, \\\\\\\\\\\\\\\"isEnabled\\\\\\\\\\\\\\\": true, \\\\\\\\\\\\\\\"name\\\\\\\\\\\\\\\": null, \\\\\\\\\\\\\\\"annotation\\\\\\\\\\\\\\\": null}], \\\\\\\\\\\\\\\"inspectors\\\\\\\\\\\\\\\": [], \\\\\\\\\\\\\\\"meta\\\\\\\\\\\\\\\": {\\\\\\\\\\\\\\\"savedDatasetId\\\\\\\\\\\\\\\": \\\\\\\\\\\\\\\"d5e5adfc-7ea7-450f-850f-8764084d4f33\\\\\\\\\\\\\\\", \\\\\\\\\\\\\\\"datasetType\\\\\\\\\\\\\\\": \\\\\\\\\\\\\\\"tabular\\\\\\\\\\\\\\\", \\\\\\\\\\\\\\\"subscriptionId\\\\\\\\\\\\\\\": \\\\\\\\\\\\\\\"dafd62fe-51d3-4671-af50-6bac2f001b5d\\\\\\\\\\\\\\\", \\\\\\\\\\\\\\\"workspaceId\\\\\\\\\\\\\\\": \\\\\\\\\\\\\\\"a32bde75-48c2-41bf-95ed-fd93abf9bf1a\\\\\\\\\\\\\\\", \\\\\\\\\\\\\\\"workspaceLocation\\\\\\\\\\\\\\\": \\\\\\\\\\\\\\\"southcentralus\\\\\\\\\\\\\\\"}}\\\\\\\", \\\\\\\"activities\\\\\\\": 0}\", \"EnableSubsampling\": null, \"runTemplate\": \"AutoML\", \"azureml.runsource\": \"automl\", \"display_task_type\": \"classification\", \"dependencies_versions\": \"{\\\"azureml-widgets\\\": \\\"1.18.0\\\", \\\"azureml-train\\\": \\\"1.18.0\\\", \\\"azureml-train-restclients-hyperdrive\\\": \\\"1.18.0\\\", \\\"azureml-train-core\\\": \\\"1.18.0\\\", \\\"azureml-train-automl\\\": \\\"1.18.0\\\", \\\"azureml-train-automl-runtime\\\": \\\"1.18.0\\\", \\\"azureml-train-automl-client\\\": \\\"1.18.0\\\", \\\"azureml-tensorboard\\\": \\\"1.18.0\\\", \\\"azureml-telemetry\\\": \\\"1.18.0\\\", \\\"azureml-sdk\\\": \\\"1.18.0\\\", \\\"azureml-samples\\\": \\\"0+unknown\\\", \\\"azureml-pipeline\\\": \\\"1.18.0\\\", \\\"azureml-pipeline-steps\\\": \\\"1.18.0\\\", \\\"azureml-pipeline-core\\\": \\\"1.18.0\\\", \\\"azureml-opendatasets\\\": \\\"1.18.0\\\", \\\"azureml-model-management-sdk\\\": \\\"1.0.1b6.post1\\\", \\\"azureml-mlflow\\\": \\\"1.18.0\\\", \\\"azureml-interpret\\\": \\\"1.18.0\\\", \\\"azureml-explain-model\\\": \\\"1.18.0\\\", \\\"azureml-defaults\\\": \\\"1.18.0\\\", \\\"azureml-dataset-runtime\\\": \\\"1.18.0\\\", \\\"azureml-dataprep\\\": \\\"2.4.2\\\", \\\"azureml-dataprep-rslex\\\": \\\"1.2.2\\\", \\\"azureml-dataprep-native\\\": \\\"24.0.0\\\", \\\"azureml-datadrift\\\": \\\"1.18.0\\\", \\\"azureml-core\\\": \\\"1.18.0\\\", \\\"azureml-contrib-services\\\": \\\"1.18.0\\\", \\\"azureml-contrib-server\\\": \\\"1.18.0\\\", \\\"azureml-contrib-reinforcementlearning\\\": \\\"1.18.0\\\", \\\"azureml-contrib-pipeline-steps\\\": \\\"1.18.0\\\", \\\"azureml-contrib-notebook\\\": \\\"1.18.0\\\", \\\"azureml-contrib-interpret\\\": \\\"1.18.0\\\", \\\"azureml-contrib-gbdt\\\": \\\"1.18.0\\\", \\\"azureml-contrib-fairness\\\": \\\"1.18.0\\\", \\\"azureml-contrib-dataset\\\": \\\"1.18.0\\\", \\\"azureml-cli-common\\\": \\\"1.18.0\\\", \\\"azureml-automl-runtime\\\": \\\"1.18.0\\\", \\\"azureml-automl-core\\\": \\\"1.18.0\\\", \\\"azureml-accel-models\\\": \\\"1.18.0\\\"}\", \"_aml_system_scenario_identification\": \"Remote.Parent\", \"ClientType\": \"SDK\", \"environment_cpu_name\": \"AzureML-AutoML\", \"environment_cpu_version\": \"44\", \"environment_gpu_name\": \"AzureML-AutoML-GPU\", \"environment_gpu_version\": \"32\", \"root_attribution\": \"automl\", \"attribution\": \"AutoML\", \"Orchestrator\": \"AutoML\", \"CancelUri\": \"https://southcentralus.experiments.azureml.net/jasmine/v1.0/subscriptions/dafd62fe-51d3-4671-af50-6bac2f001b5d/resourceGroups/aml-quickstarts-127468/providers/Microsoft.MachineLearningServices/workspaces/quick-starts-ws-127468/experimentids/f4719dd7-fbcb-4b4c-b154-7b507d1da4d2/cancel/AutoML_c7b2d821-31c1-4aad-af00-8b853ffcede3\", \"ClientSdkVersion\": \"1.17.0\", \"snapshotId\": \"00000000-0000-0000-0000-000000000000\", \"SetupRunId\": \"AutoML_c7b2d821-31c1-4aad-af00-8b853ffcede3_setup\", \"SetupRunContainerId\": \"dcid.AutoML_c7b2d821-31c1-4aad-af00-8b853ffcede3_setup\", \"FeaturizationRunJsonPath\": \"featurizer_container.json\", \"FeaturizationRunId\": \"AutoML_c7b2d821-31c1-4aad-af00-8b853ffcede3_featurize\", \"ProblemInfoJsonString\": \"{\\\"dataset_num_categorical\\\": 0, \\\"is_sparse\\\": false, \\\"subsampling\\\": false, \\\"dataset_classes\\\": 2, \\\"dataset_features\\\": 12, \\\"dataset_samples\\\": 299, \\\"single_frequency_class_detected\\\": false}\", \"ModelExplainRunId\": \"AutoML_c7b2d821-31c1-4aad-af00-8b853ffcede3_ModelExplain\"}, \"tags\": {\"model_explain_run\": \"best_run\", \"_aml_system_azureml.automlComponent\": \"AutoML\", \"pipeline_id\": \"<5dfac790c5c209f98a1da2dc1c7fb76f0397324f>;<c7af0367625be6ac5c2fecbfc72ed444cb7a2111>;<cf1dc9b7ea4a50d759bce352343ec6737501695a>;<f873311e8cfb2bcdbeb6c20367cf912f4ee6733e>;<b19eeb61727e9c4fbb5aa45fb6e9fe3fab5b1f04>;<47dd667bb7c34b68c9fffa6fd580565b1f85400f>;<713f188a27b176644f73e8664c667c674a2d3d62>;<62c0e30b2e9113b3ecd95bcf5b31423c72074070>;<9e3f4780268658ad403e896559a8d3406152018c>;<e81d621ed176e5fac9def492d4ac54f304146b7c>;<59e4a1b86a57dfaeac5f3a051de6155ffc74f55b>;<a2983da01504b121cc4056d933a1191b51be87bc>;<52ac74da744a165756acc49238b34b81115532fd>;<a91f8b94ae9bf0dfc66e93d29d1ef41b7e2687f2>;<8de8c085d2a4b23d3f4cc392a2f2660d23d38c14>;<4d4be808b8b6dd0f67e8354c79eddd3d712440a5>;<d8d1a28b70a271fc16185d8e06b7faeee4bdd817>;<80d7fafc6227885ab86e843212a0c5ea47a69004>;<19bb9b610818186383462e6b1f9b568bc04b93e9>;<9fd7f177a78effac65f3f97ae40ca91e296c3f10>;<f86e0c37319548491774cfe027df9161ae6eecd2>;<9845a0ba1345a7474c237d10111bcf5bccbb1f0e>;<be1ef63576c9bf239084ecda182b48071c3c26e3>;<24898c3fc87ab1754f4f98f00e8c6bffdbeabbd1>;<296bee2ea21560bb503612b58a050e88ca516572>;<a70556ddc54ce058011f4209001378c7264af490>;<d9ed25894afad288dc23d70eeeb3660aa4565eca>;<11d7675cfa08e0126f5ce4cb623913120475d66a>;<70387d435b5224814fa17ac357d06b277f560d4f>;<24177c647d283c4b6f539b2b40ec5f1fd1c6bedd>;<f5d5aa7e7ef496875d374084e321449bca5ae227>;<6989c8ccd4f31b67a1cb68471f8e859d60c127f2>;<__AutoML_Ensemble__>;<__AutoML_Stack_Ensemble__>;\", \"score\": \"<0.825925925925926>;<0.8259932659932661>;<0.8393602693602693>;<0.816026936026936>;<0.8493939393939395>;<0.7823232323232322>;<0.7991919191919191>;<0.7927272727272728>;<0.8092255892255893>;<0.8193602693602693>;<0.8125252525252525>;<0.7790235690235691>;<0.8392592592592593>;<0.7992592592592592>;<0.8360942760942761>;<0.7859595959595959>;<0.7491919191919192>;<0.8259932659932661>;<0.7757239057239057>;<0.8091919191919192>;<0.8091582491582492>;<0.836127946127946>;<0.8360942760942761>;<0.8093939393939394>;<0.7627272727272727>;<0.8227272727272728>;<0.836026936026936>;<0.6756902356902357>;<0.8393939393939395>;<0.8159932659932659>;<0.678989898989899>;<0.8292592592592593>;<0.8694612794612794>;<0.8293939393939395>;\", \"predicted_cost\": \"<0>;<0>;<0.5>;<0.016742>;<0.01080466139151828>;<0.006674730034033271>;<0.014169840248414216>;<0.019684305163119333>;<0.021828701159626616>;<0.007404068679912179>;<0.009093947129468477>;<0.005818553478742866>;<0.02963541623264073>;<0.00864778316882636>;<0.021908766404053568>;<0.02318192505600594>;<0.02886995568335129>;<0.023603031769125326>;<0.00569446244935506>;<0.026375076495998875>;<0.02619730883440192>;<0.02667204869823831>;<0.025470539577430916>;<0.0250500787433378>;<0.00935169684145167>;<0.0361609997955983>;<0.03660999754025871>;<0.0026637962547382513>;<0.03303742732710256>;<0.016716367943478288>;<0.03558945809995863>;<0.02879109689287491>;<0>;<0>;\", \"fit_time\": \"<0.028343333333333335>;<0.03576266666666667>;<0.016742000000000003>;<0.004789666666666667>;<0.022674666666666666>;<0.008866666666666667>;<0.020457666666666666>;<0.064733>;<0.045913333333333334>;<0.004265666666666667>;<0.014576>;<0.005491333333333333>;<0.06315433333333333>;<0.015975666666666666>;<0.022743333333333334>;<0.048927>;<0.050733>;<0.018762>;<0.004511>;<0.038967666666666664>;<0.016844>;<0.049966333333333335>;<0.10027599999999999>;<0.015142666666666667>;<0.022511>;<0.24996200000000002>;<0.018049>;<0.006552>;<0.05492366666666667>;<0.009092333333333334>;<0.09697499999999999>;<0.0243>;<19>;<20>;\", \"training_percent\": \"<100>;<100>;<100>;<100>;<100>;<100>;<100>;<100>;<100>;<100>;<100>;<100>;<100>;<100>;<100>;<100>;<100>;<100>;<100>;<100>;<100>;<100>;<100>;<100>;<100>;<100>;<100>;<100>;<100>;<100>;<100>;<100>;<100>;<100>;\", \"iteration\": \"<0>;<1>;<2>;<3>;<4>;<5>;<6>;<7>;<8>;<9>;<10>;<11>;<12>;<13>;<14>;<15>;<16>;<17>;<18>;<19>;<20>;<21>;<22>;<23>;<24>;<25>;<26>;<27>;<28>;<29>;<30>;<31>;<32>;<33>;\", \"run_preprocessor\": \"<MaxAbsScaler>;<MaxAbsScaler>;<MinMaxScaler>;<StandardScalerWrapper>;<MinMaxScaler>;<StandardScalerWrapper>;<StandardScalerWrapper>;<RobustScaler>;<StandardScalerWrapper>;<StandardScalerWrapper>;<StandardScalerWrapper>;<MinMaxScaler>;<RobustScaler>;<MinMaxScaler>;<MinMaxScaler>;<MinMaxScaler>;<MinMaxScaler>;<StandardScalerWrapper>;<StandardScalerWrapper>;<RobustScaler>;<StandardScalerWrapper>;<MinMaxScaler>;<MinMaxScaler>;<MaxAbsScaler>;<MaxAbsScaler>;<StandardScalerWrapper>;<StandardScalerWrapper>;<RobustScaler>;<StandardScalerWrapper>;<MinMaxScaler>;<MaxAbsScaler>;<SparseNormalizer>;<>;<>;\", \"run_algorithm\": \"<LightGBM>;<XGBoostClassifier>;<RandomForest>;<SGD>;<RandomForest>;<SGD>;<RandomForest>;<ExtremeRandomTrees>;<ExtremeRandomTrees>;<SGD>;<SGD>;<SGD>;<ExtremeRandomTrees>;<SGD>;<ExtremeRandomTrees>;<ExtremeRandomTrees>;<ExtremeRandomTrees>;<RandomForest>;<SGD>;<ExtremeRandomTrees>;<RandomForest>;<ExtremeRandomTrees>;<RandomForest>;<LightGBM>;<GradientBoosting>;<RandomForest>;<XGBoostClassifier>;<KNN>;<RandomForest>;<LogisticRegression>;<RandomForest>;<XGBoostClassifier>;<VotingEnsemble>;<StackEnsemble>;\", \"dynamic_whitelisting_iterations\": \"<25>;<30>;\", \"automl_best_child_run_id\": \"AutoML_c7b2d821-31c1-4aad-af00-8b853ffcede3_32\", \"model_explain_best_run_child_id\": \"AutoML_c7b2d821-31c1-4aad-af00-8b853ffcede3_32\"}, \"end_time_utc\": \"2020-11-23T03:47:06.623815Z\", \"status\": \"Completed\", \"log_files\": {}, \"log_groups\": [], \"run_duration\": \"0:38:13\"}, \"child_runs\": [{\"run_id\": \"AutoML_c7b2d821-31c1-4aad-af00-8b853ffcede3_0\", \"run_number\": 5, \"metric\": null, \"status\": \"Completed\", \"run_type\": \"azureml.scriptrun\", \"training_percent\": \"100\", \"start_time\": \"2020-11-23T03:14:08.120692Z\", \"end_time\": \"2020-11-23T03:14:40.129614Z\", \"created_time\": \"2020-11-23T03:13:54.019228Z\", \"created_time_dt\": \"2020-11-23T03:13:54.019228Z\", \"duration\": \"0:00:46\", \"iteration\": \"0\", \"goal\": \"accuracy_max\", \"run_name\": \"MaxAbsScaler, LightGBM\", \"run_properties\": \"copy=True\", \"primary_metric\": 0.82592593, \"best_metric\": 0.82592593}, {\"run_id\": \"AutoML_c7b2d821-31c1-4aad-af00-8b853ffcede3_1\", \"run_number\": 6, \"metric\": null, \"status\": \"Completed\", \"run_type\": \"azureml.scriptrun\", \"training_percent\": \"100\", \"start_time\": \"2020-11-23T03:15:01.470157Z\", \"end_time\": \"2020-11-23T03:15:27.93248Z\", \"created_time\": \"2020-11-23T03:14:50.865166Z\", \"created_time_dt\": \"2020-11-23T03:14:50.865166Z\", \"duration\": \"0:00:37\", \"iteration\": \"1\", \"goal\": \"accuracy_max\", \"run_name\": \"MaxAbsScaler, XGBoostClassifier\", \"run_properties\": \"copy=True\", \"primary_metric\": 0.82599327, \"best_metric\": 0.82599327}, {\"run_id\": \"AutoML_c7b2d821-31c1-4aad-af00-8b853ffcede3_2\", \"run_number\": 7, \"metric\": null, \"status\": \"Completed\", \"run_type\": \"azureml.scriptrun\", \"training_percent\": \"100\", \"start_time\": \"2020-11-23T03:15:47.131731Z\", \"end_time\": \"2020-11-23T03:16:19.933286Z\", \"created_time\": \"2020-11-23T03:15:36.430433Z\", \"created_time_dt\": \"2020-11-23T03:15:36.430433Z\", \"duration\": \"0:00:43\", \"iteration\": \"2\", \"goal\": \"accuracy_max\", \"run_name\": \"MinMaxScaler, RandomForest\", \"run_properties\": \"copy=True, feature_range=(0, 1\", \"primary_metric\": 0.83936027, \"best_metric\": 0.83936027}, {\"run_id\": \"AutoML_c7b2d821-31c1-4aad-af00-8b853ffcede3_3\", \"run_number\": 8, \"metric\": null, \"status\": \"Completed\", \"run_type\": \"azureml.scriptrun\", \"training_percent\": \"100\", \"start_time\": \"2020-11-23T03:16:36.293083Z\", \"end_time\": \"2020-11-23T03:17:11.725751Z\", \"created_time\": \"2020-11-23T03:16:23.304457Z\", \"created_time_dt\": \"2020-11-23T03:16:23.304457Z\", \"duration\": \"0:00:48\", \"iteration\": \"3\", \"goal\": \"accuracy_max\", \"run_name\": \"StandardScalerWrapper, SGD\", \"run_properties\": \"<azureml.automl.runtime.shared.model_wrappers.StandardScalerWrapper object at 0x7f772d987128\", \"primary_metric\": 0.81602694, \"best_metric\": 0.83936027}, {\"run_id\": \"AutoML_c7b2d821-31c1-4aad-af00-8b853ffcede3_4\", \"run_number\": 9, \"metric\": null, \"status\": \"Completed\", \"run_type\": \"azureml.scriptrun\", \"training_percent\": \"100\", \"start_time\": \"2020-11-23T03:17:35.384077Z\", \"end_time\": \"2020-11-23T03:18:09.188643Z\", \"created_time\": \"2020-11-23T03:17:20.41351Z\", \"created_time_dt\": \"2020-11-23T03:17:20.41351Z\", \"duration\": \"0:00:48\", \"iteration\": \"4\", \"goal\": \"accuracy_max\", \"run_name\": \"MinMaxScaler, RandomForest\", \"run_properties\": \"copy=True, feature_range=(0, 1\", \"primary_metric\": 0.84939394, \"best_metric\": 0.84939394}, {\"run_id\": \"AutoML_c7b2d821-31c1-4aad-af00-8b853ffcede3_5\", \"run_number\": 10, \"metric\": null, \"status\": \"Completed\", \"run_type\": \"azureml.scriptrun\", \"training_percent\": \"100\", \"start_time\": \"2020-11-23T03:18:33.837661Z\", \"end_time\": \"2020-11-23T03:19:10.979644Z\", \"created_time\": \"2020-11-23T03:18:17.733726Z\", \"created_time_dt\": \"2020-11-23T03:18:17.733726Z\", \"duration\": \"0:00:53\", \"iteration\": \"5\", \"goal\": \"accuracy_max\", \"run_name\": \"StandardScalerWrapper, SGD\", \"run_properties\": \"<azureml.automl.runtime.shared.model_wrappers.StandardScalerWrapper object at 0x7f502d5e2668\", \"primary_metric\": 0.78232323, \"best_metric\": 0.84939394}, {\"run_id\": \"AutoML_c7b2d821-31c1-4aad-af00-8b853ffcede3_6\", \"run_number\": 11, \"metric\": null, \"status\": \"Completed\", \"run_type\": \"azureml.scriptrun\", \"training_percent\": \"100\", \"start_time\": \"2020-11-23T03:19:33.942075Z\", \"end_time\": \"2020-11-23T03:20:10.851503Z\", \"created_time\": \"2020-11-23T03:19:15.301002Z\", \"created_time_dt\": \"2020-11-23T03:19:15.301002Z\", \"duration\": \"0:00:55\", \"iteration\": \"6\", \"goal\": \"accuracy_max\", \"run_name\": \"StandardScalerWrapper, RandomForest\", \"run_properties\": \"<azureml.automl.runtime.shared.model_wrappers.StandardScalerWrapper object at 0x7fbb64d0d9e8\", \"primary_metric\": 0.79919192, \"best_metric\": 0.84939394}, {\"run_id\": \"AutoML_c7b2d821-31c1-4aad-af00-8b853ffcede3_7\", \"run_number\": 12, \"metric\": null, \"status\": \"Completed\", \"run_type\": \"azureml.scriptrun\", \"training_percent\": \"100\", \"start_time\": \"2020-11-23T03:20:24.788575Z\", \"end_time\": \"2020-11-23T03:20:52.987823Z\", \"created_time\": \"2020-11-23T03:20:14.575481Z\", \"created_time_dt\": \"2020-11-23T03:20:14.575481Z\", \"duration\": \"0:00:38\", \"iteration\": \"7\", \"goal\": \"accuracy_max\", \"run_name\": \"RobustScaler, ExtremeRandomTrees\", \"run_properties\": \"copy=True, quantile_range=[10, 90], with_centering=False,\\n             with_scaling=False\", \"primary_metric\": 0.79272727, \"best_metric\": 0.84939394}, {\"run_id\": \"AutoML_c7b2d821-31c1-4aad-af00-8b853ffcede3_8\", \"run_number\": 13, \"metric\": null, \"status\": \"Completed\", \"run_type\": \"azureml.scriptrun\", \"training_percent\": \"100\", \"start_time\": \"2020-11-23T03:21:17.57697Z\", \"end_time\": \"2020-11-23T03:21:44.849344Z\", \"created_time\": \"2020-11-23T03:21:05.964896Z\", \"created_time_dt\": \"2020-11-23T03:21:05.964896Z\", \"duration\": \"0:00:38\", \"iteration\": \"8\", \"goal\": \"accuracy_max\", \"run_name\": \"StandardScalerWrapper, ExtremeRandomTrees\", \"run_properties\": \"<azureml.automl.runtime.shared.model_wrappers.StandardScalerWrapper object at 0x7f814649b860\", \"primary_metric\": 0.80922559, \"best_metric\": 0.84939394}, {\"run_id\": \"AutoML_c7b2d821-31c1-4aad-af00-8b853ffcede3_9\", \"run_number\": 14, \"metric\": null, \"status\": \"Completed\", \"run_type\": \"azureml.scriptrun\", \"training_percent\": \"100\", \"start_time\": \"2020-11-23T03:22:01.890144Z\", \"end_time\": \"2020-11-23T03:22:34.785622Z\", \"created_time\": \"2020-11-23T03:21:47.814981Z\", \"created_time_dt\": \"2020-11-23T03:21:47.814981Z\", \"duration\": \"0:00:46\", \"iteration\": \"9\", \"goal\": \"accuracy_max\", \"run_name\": \"StandardScalerWrapper, SGD\", \"run_properties\": \"<azureml.automl.runtime.shared.model_wrappers.StandardScalerWrapper object at 0x7f44000827f0\", \"primary_metric\": 0.81936027, \"best_metric\": 0.84939394}, {\"run_id\": \"AutoML_c7b2d821-31c1-4aad-af00-8b853ffcede3_10\", \"run_number\": 15, \"metric\": null, \"status\": \"Completed\", \"run_type\": \"azureml.scriptrun\", \"training_percent\": \"100\", \"start_time\": \"2020-11-23T03:23:02.05336Z\", \"end_time\": \"2020-11-23T03:23:32.03028Z\", \"created_time\": \"2020-11-23T03:22:46.430976Z\", \"created_time_dt\": \"2020-11-23T03:22:46.430976Z\", \"duration\": \"0:00:45\", \"iteration\": \"10\", \"goal\": \"accuracy_max\", \"run_name\": \"StandardScalerWrapper, SGD\", \"run_properties\": \"<azureml.automl.runtime.shared.model_wrappers.StandardScalerWrapper object at 0x7f43b97d96a0\", \"primary_metric\": 0.81252525, \"best_metric\": 0.84939394}, {\"run_id\": \"AutoML_c7b2d821-31c1-4aad-af00-8b853ffcede3_11\", \"run_number\": 16, \"metric\": null, \"status\": \"Completed\", \"run_type\": \"azureml.scriptrun\", \"training_percent\": \"100\", \"start_time\": \"2020-11-23T03:23:54.596309Z\", \"end_time\": \"2020-11-23T03:24:58.553504Z\", \"created_time\": \"2020-11-23T03:23:43.951198Z\", \"created_time_dt\": \"2020-11-23T03:23:43.951198Z\", \"duration\": \"0:01:14\", \"iteration\": \"11\", \"goal\": \"accuracy_max\", \"run_name\": \"MinMaxScaler, SGD\", \"run_properties\": \"copy=True, feature_range=(0, 1\", \"primary_metric\": 0.77902357, \"best_metric\": 0.84939394}, {\"run_id\": \"AutoML_c7b2d821-31c1-4aad-af00-8b853ffcede3_12\", \"run_number\": 17, \"metric\": null, \"status\": \"Completed\", \"run_type\": \"azureml.scriptrun\", \"training_percent\": \"100\", \"start_time\": \"2020-11-23T03:25:15.023893Z\", \"end_time\": \"2020-11-23T03:25:47.803004Z\", \"created_time\": \"2020-11-23T03:25:02.322376Z\", \"created_time_dt\": \"2020-11-23T03:25:02.322376Z\", \"duration\": \"0:00:45\", \"iteration\": \"12\", \"goal\": \"accuracy_max\", \"run_name\": \"RobustScaler, ExtremeRandomTrees\", \"run_properties\": \"copy=True, quantile_range=[10, 90], with_centering=False,\\n             with_scaling=False\", \"primary_metric\": 0.83925926, \"best_metric\": 0.84939394}, {\"run_id\": \"AutoML_c7b2d821-31c1-4aad-af00-8b853ffcede3_13\", \"run_number\": 18, \"metric\": null, \"status\": \"Completed\", \"run_type\": \"azureml.scriptrun\", \"training_percent\": \"100\", \"start_time\": \"2020-11-23T03:26:12.029437Z\", \"end_time\": \"2020-11-23T03:26:50.938304Z\", \"created_time\": \"2020-11-23T03:26:01.049297Z\", \"created_time_dt\": \"2020-11-23T03:26:01.049297Z\", \"duration\": \"0:00:49\", \"iteration\": \"13\", \"goal\": \"accuracy_max\", \"run_name\": \"MinMaxScaler, SGD\", \"run_properties\": \"copy=True, feature_range=(0, 1\", \"primary_metric\": 0.79925926, \"best_metric\": 0.84939394}, {\"run_id\": \"AutoML_c7b2d821-31c1-4aad-af00-8b853ffcede3_14\", \"run_number\": 19, \"metric\": null, \"status\": \"Completed\", \"run_type\": \"azureml.scriptrun\", \"training_percent\": \"100\", \"start_time\": \"2020-11-23T03:27:07.334009Z\", \"end_time\": \"2020-11-23T03:27:43.807789Z\", \"created_time\": \"2020-11-23T03:26:53.202454Z\", \"created_time_dt\": \"2020-11-23T03:26:53.202454Z\", \"duration\": \"0:00:50\", \"iteration\": \"14\", \"goal\": \"accuracy_max\", \"run_name\": \"MinMaxScaler, ExtremeRandomTrees\", \"run_properties\": \"copy=True, feature_range=(0, 1\", \"primary_metric\": 0.83609428, \"best_metric\": 0.84939394}, {\"run_id\": \"AutoML_c7b2d821-31c1-4aad-af00-8b853ffcede3_15\", \"run_number\": 20, \"metric\": null, \"status\": \"Completed\", \"run_type\": \"azureml.scriptrun\", \"training_percent\": \"100\", \"start_time\": \"2020-11-23T03:28:07.073857Z\", \"end_time\": \"2020-11-23T03:28:40.824241Z\", \"created_time\": \"2020-11-23T03:27:51.800373Z\", \"created_time_dt\": \"2020-11-23T03:27:51.800373Z\", \"duration\": \"0:00:49\", \"iteration\": \"15\", \"goal\": \"accuracy_max\", \"run_name\": \"MinMaxScaler, ExtremeRandomTrees\", \"run_properties\": \"copy=True, feature_range=(0, 1\", \"primary_metric\": 0.7859596, \"best_metric\": 0.84939394}, {\"run_id\": \"AutoML_c7b2d821-31c1-4aad-af00-8b853ffcede3_16\", \"run_number\": 21, \"metric\": null, \"status\": \"Completed\", \"run_type\": \"azureml.scriptrun\", \"training_percent\": \"100\", \"start_time\": \"2020-11-23T03:29:04.835348Z\", \"end_time\": \"2020-11-23T03:29:40.904614Z\", \"created_time\": \"2020-11-23T03:28:51.069685Z\", \"created_time_dt\": \"2020-11-23T03:28:51.069685Z\", \"duration\": \"0:00:49\", \"iteration\": \"16\", \"goal\": \"accuracy_max\", \"run_name\": \"MinMaxScaler, ExtremeRandomTrees\", \"run_properties\": \"copy=True, feature_range=(0, 1\", \"primary_metric\": 0.74919192, \"best_metric\": 0.84939394}, {\"run_id\": \"AutoML_c7b2d821-31c1-4aad-af00-8b853ffcede3_17\", \"run_number\": 22, \"metric\": null, \"status\": \"Completed\", \"run_type\": \"azureml.scriptrun\", \"training_percent\": \"100\", \"start_time\": \"2020-11-23T03:30:01.36147Z\", \"end_time\": \"2020-11-23T03:31:11.681445Z\", \"created_time\": \"2020-11-23T03:29:49.376171Z\", \"created_time_dt\": \"2020-11-23T03:29:49.376171Z\", \"duration\": \"0:01:22\", \"iteration\": \"17\", \"goal\": \"accuracy_max\", \"run_name\": \"StandardScalerWrapper, RandomForest\", \"run_properties\": \"<azureml.automl.runtime.shared.model_wrappers.StandardScalerWrapper object at 0x7fcc5b01a940\", \"primary_metric\": 0.82599327, \"best_metric\": 0.84939394}, {\"run_id\": \"AutoML_c7b2d821-31c1-4aad-af00-8b853ffcede3_18\", \"run_number\": 23, \"metric\": null, \"status\": \"Completed\", \"run_type\": \"azureml.scriptrun\", \"training_percent\": \"100\", \"start_time\": \"2020-11-23T03:31:32.318186Z\", \"end_time\": \"2020-11-23T03:31:58.063024Z\", \"created_time\": \"2020-11-23T03:31:20.061823Z\", \"created_time_dt\": \"2020-11-23T03:31:20.061823Z\", \"duration\": \"0:00:38\", \"iteration\": \"18\", \"goal\": \"accuracy_max\", \"run_name\": \"StandardScalerWrapper, SGD\", \"run_properties\": \"<azureml.automl.runtime.shared.model_wrappers.StandardScalerWrapper object at 0x7fb0f87e2828\", \"primary_metric\": 0.77572391, \"best_metric\": 0.84939394}, {\"run_id\": \"AutoML_c7b2d821-31c1-4aad-af00-8b853ffcede3_19\", \"run_number\": 24, \"metric\": null, \"status\": \"Completed\", \"run_type\": \"azureml.scriptrun\", \"training_percent\": \"100\", \"start_time\": \"2020-11-23T03:32:25.717451Z\", \"end_time\": \"2020-11-23T03:33:03.808575Z\", \"created_time\": \"2020-11-23T03:32:10.590864Z\", \"created_time_dt\": \"2020-11-23T03:32:10.590864Z\", \"duration\": \"0:00:53\", \"iteration\": \"19\", \"goal\": \"accuracy_max\", \"run_name\": \"RobustScaler, ExtremeRandomTrees\", \"run_properties\": \"copy=True, quantile_range=[25, 75], with_centering=True,\\n             with_scaling=False\", \"primary_metric\": 0.80919192, \"best_metric\": 0.84939394}, {\"run_id\": \"AutoML_c7b2d821-31c1-4aad-af00-8b853ffcede3_20\", \"run_number\": 25, \"metric\": null, \"status\": \"Completed\", \"run_type\": \"azureml.scriptrun\", \"training_percent\": \"100\", \"start_time\": \"2020-11-23T03:33:23.682229Z\", \"end_time\": \"2020-11-23T03:33:56.068481Z\", \"created_time\": \"2020-11-23T03:33:10.57582Z\", \"created_time_dt\": \"2020-11-23T03:33:10.57582Z\", \"duration\": \"0:00:45\", \"iteration\": \"20\", \"goal\": \"accuracy_max\", \"run_name\": \"StandardScalerWrapper, RandomForest\", \"run_properties\": \"<azureml.automl.runtime.shared.model_wrappers.StandardScalerWrapper object at 0x7ff064079c18\", \"primary_metric\": 0.80915825, \"best_metric\": 0.84939394}, {\"run_id\": \"AutoML_c7b2d821-31c1-4aad-af00-8b853ffcede3_21\", \"run_number\": 26, \"metric\": null, \"status\": \"Completed\", \"run_type\": \"azureml.scriptrun\", \"training_percent\": \"100\", \"start_time\": \"2020-11-23T03:34:23.073521Z\", \"end_time\": \"2020-11-23T03:34:53.945428Z\", \"created_time\": \"2020-11-23T03:34:07.92354Z\", \"created_time_dt\": \"2020-11-23T03:34:07.92354Z\", \"duration\": \"0:00:46\", \"iteration\": \"21\", \"goal\": \"accuracy_max\", \"run_name\": \"MinMaxScaler, ExtremeRandomTrees\", \"run_properties\": \"copy=True, feature_range=(0, 1\", \"primary_metric\": 0.83612795, \"best_metric\": 0.84939394}, {\"run_id\": \"AutoML_c7b2d821-31c1-4aad-af00-8b853ffcede3_22\", \"run_number\": 27, \"metric\": null, \"status\": \"Completed\", \"run_type\": \"azureml.scriptrun\", \"training_percent\": \"100\", \"start_time\": \"2020-11-23T03:35:13.719562Z\", \"end_time\": \"2020-11-23T03:35:47.076186Z\", \"created_time\": \"2020-11-23T03:34:58.56077Z\", \"created_time_dt\": \"2020-11-23T03:34:58.56077Z\", \"duration\": \"0:00:48\", \"iteration\": \"22\", \"goal\": \"accuracy_max\", \"run_name\": \"MinMaxScaler, RandomForest\", \"run_properties\": \"copy=True, feature_range=(0, 1\", \"primary_metric\": 0.83609428, \"best_metric\": 0.84939394}, {\"run_id\": \"AutoML_c7b2d821-31c1-4aad-af00-8b853ffcede3_23\", \"run_number\": 28, \"metric\": null, \"status\": \"Completed\", \"run_type\": \"azureml.scriptrun\", \"training_percent\": \"100\", \"start_time\": \"2020-11-23T03:36:02.152474Z\", \"end_time\": \"2020-11-23T03:36:37.879593Z\", \"created_time\": \"2020-11-23T03:35:49.763731Z\", \"created_time_dt\": \"2020-11-23T03:35:49.763731Z\", \"duration\": \"0:00:48\", \"iteration\": \"23\", \"goal\": \"accuracy_max\", \"run_name\": \"MaxAbsScaler, LightGBM\", \"run_properties\": \"copy=True\", \"primary_metric\": 0.80939394, \"best_metric\": 0.84939394}, {\"run_id\": \"AutoML_c7b2d821-31c1-4aad-af00-8b853ffcede3_24\", \"run_number\": 29, \"metric\": null, \"status\": \"Completed\", \"run_type\": \"azureml.scriptrun\", \"training_percent\": \"100\", \"start_time\": \"2020-11-23T03:36:59.613037Z\", \"end_time\": \"2020-11-23T03:37:30.63316Z\", \"created_time\": \"2020-11-23T03:36:48.427064Z\", \"created_time_dt\": \"2020-11-23T03:36:48.427064Z\", \"duration\": \"0:00:42\", \"iteration\": \"24\", \"goal\": \"accuracy_max\", \"run_name\": \"MaxAbsScaler, GradientBoosting\", \"run_properties\": \"copy=True\", \"primary_metric\": 0.76272727, \"best_metric\": 0.84939394}, {\"run_id\": \"AutoML_c7b2d821-31c1-4aad-af00-8b853ffcede3_25\", \"run_number\": 30, \"metric\": null, \"status\": \"Completed\", \"run_type\": \"azureml.scriptrun\", \"training_percent\": \"100\", \"start_time\": \"2020-11-23T03:37:47.784031Z\", \"end_time\": \"2020-11-23T03:38:15.791281Z\", \"created_time\": \"2020-11-23T03:37:35.555949Z\", \"created_time_dt\": \"2020-11-23T03:37:35.555949Z\", \"duration\": \"0:00:40\", \"iteration\": \"25\", \"goal\": \"accuracy_max\", \"run_name\": \"StandardScalerWrapper, RandomForest\", \"run_properties\": \"<azureml.automl.runtime.shared.model_wrappers.StandardScalerWrapper object at 0x7fac2563b358\", \"primary_metric\": 0.82272727, \"best_metric\": 0.84939394}, {\"run_id\": \"AutoML_c7b2d821-31c1-4aad-af00-8b853ffcede3_26\", \"run_number\": 31, \"metric\": null, \"status\": \"Completed\", \"run_type\": \"azureml.scriptrun\", \"training_percent\": \"100\", \"start_time\": \"2020-11-23T03:38:35.638504Z\", \"end_time\": \"2020-11-23T03:39:12.934678Z\", \"created_time\": \"2020-11-23T03:38:24.143268Z\", \"created_time_dt\": \"2020-11-23T03:38:24.143268Z\", \"duration\": \"0:00:48\", \"iteration\": \"26\", \"goal\": \"accuracy_max\", \"run_name\": \"StandardScalerWrapper, XGBoostClassifier\", \"run_properties\": \"<azureml.automl.runtime.shared.model_wrappers.StandardScalerWrapper object at 0x7f839407ba20\", \"primary_metric\": 0.83602694, \"best_metric\": 0.84939394}, {\"run_id\": \"AutoML_c7b2d821-31c1-4aad-af00-8b853ffcede3_27\", \"run_number\": 32, \"metric\": null, \"status\": \"Completed\", \"run_type\": \"azureml.scriptrun\", \"training_percent\": \"100\", \"start_time\": \"2020-11-23T03:39:34.528565Z\", \"end_time\": \"2020-11-23T03:40:06.945029Z\", \"created_time\": \"2020-11-23T03:39:22.976283Z\", \"created_time_dt\": \"2020-11-23T03:39:22.976283Z\", \"duration\": \"0:00:43\", \"iteration\": \"27\", \"goal\": \"accuracy_max\", \"run_name\": \"RobustScaler, KNN\", \"run_properties\": \"copy=True, quantile_range=[25, 75], with_centering=True,\\n             with_scaling=False\", \"primary_metric\": 0.67569024, \"best_metric\": 0.84939394}, {\"run_id\": \"AutoML_c7b2d821-31c1-4aad-af00-8b853ffcede3_28\", \"run_number\": 33, \"metric\": null, \"status\": \"Completed\", \"run_type\": \"azureml.scriptrun\", \"training_percent\": \"100\", \"start_time\": \"2020-11-23T03:40:31.145113Z\", \"end_time\": \"2020-11-23T03:41:06.718175Z\", \"created_time\": \"2020-11-23T03:40:17.852782Z\", \"created_time_dt\": \"2020-11-23T03:40:17.852782Z\", \"duration\": \"0:00:48\", \"iteration\": \"28\", \"goal\": \"accuracy_max\", \"run_name\": \"StandardScalerWrapper, RandomForest\", \"run_properties\": \"<azureml.automl.runtime.shared.model_wrappers.StandardScalerWrapper object at 0x7f5afa90f8d0\", \"primary_metric\": 0.83939394, \"best_metric\": 0.84939394}, {\"run_id\": \"AutoML_c7b2d821-31c1-4aad-af00-8b853ffcede3_29\", \"run_number\": 34, \"metric\": null, \"status\": \"Completed\", \"run_type\": \"azureml.scriptrun\", \"training_percent\": \"100\", \"start_time\": \"2020-11-23T03:41:31.103611Z\", \"end_time\": \"2020-11-23T03:42:04.309355Z\", \"created_time\": \"2020-11-23T03:41:16.031438Z\", \"created_time_dt\": \"2020-11-23T03:41:16.031438Z\", \"duration\": \"0:00:48\", \"iteration\": \"29\", \"goal\": \"accuracy_max\", \"run_name\": \"MinMaxScaler, LogisticRegression\", \"run_properties\": \"copy=True, feature_range=(0, 1\", \"primary_metric\": 0.81599327, \"best_metric\": 0.84939394}, {\"run_id\": \"AutoML_c7b2d821-31c1-4aad-af00-8b853ffcede3_30\", \"run_number\": 35, \"metric\": null, \"status\": \"Completed\", \"run_type\": \"azureml.scriptrun\", \"training_percent\": \"100\", \"start_time\": \"2020-11-23T03:42:26.991886Z\", \"end_time\": \"2020-11-23T03:43:07.169285Z\", \"created_time\": \"2020-11-23T03:42:13.39361Z\", \"created_time_dt\": \"2020-11-23T03:42:13.39361Z\", \"duration\": \"0:00:53\", \"iteration\": \"30\", \"goal\": \"accuracy_max\", \"run_name\": \"MaxAbsScaler, RandomForest\", \"run_properties\": \"copy=True\", \"primary_metric\": 0.6789899, \"best_metric\": 0.84939394}, {\"run_id\": \"AutoML_c7b2d821-31c1-4aad-af00-8b853ffcede3_31\", \"run_number\": 36, \"metric\": null, \"status\": \"Canceled\", \"run_type\": \"azureml.scriptrun\", \"training_percent\": \"100\", \"start_time\": \"2020-11-23T03:43:24.993053Z\", \"end_time\": \"2020-11-23T03:44:01.725343Z\", \"created_time\": \"2020-11-23T03:43:09.822514Z\", \"created_time_dt\": \"2020-11-23T03:43:09.822514Z\", \"duration\": \"0:00:51\", \"iteration\": \"31\", \"goal\": \"accuracy_max\", \"run_name\": \"SparseNormalizer, XGBoostClassifier\", \"run_properties\": \"<azureml.automl.runtime.shared.model_wrappers.SparseNormalizer object at 0x7ff4f003a400\", \"primary_metric\": 0.82925926, \"best_metric\": 0.84939394}, {\"run_id\": \"AutoML_c7b2d821-31c1-4aad-af00-8b853ffcede3_32\", \"run_number\": 37, \"metric\": null, \"status\": \"Completed\", \"run_type\": \"azureml.scriptrun\", \"training_percent\": \"100\", \"start_time\": \"2020-11-23T03:44:48.706279Z\", \"end_time\": \"2020-11-23T03:45:36.250791Z\", \"created_time\": \"2020-11-23T03:44:05.949315Z\", \"created_time_dt\": \"2020-11-23T03:44:05.949315Z\", \"duration\": \"0:01:30\", \"iteration\": \"32\", \"goal\": \"accuracy_max\", \"run_name\": \"VotingEnsemble\", \"run_properties\": \"classification_labels=None,\\n                              estimators=[('4',\\n                                           Pipeline(memory=None,\\n                                                    steps=[('minmaxscaler',\\n                                                            MinMaxScaler(copy=True,\\n                                                                         feature_range=(0,\\n                                                                                        1\", \"primary_metric\": 0.86946128, \"best_metric\": 0.86946128}, {\"run_id\": \"AutoML_c7b2d821-31c1-4aad-af00-8b853ffcede3_33\", \"run_number\": 38, \"metric\": null, \"status\": \"Completed\", \"run_type\": \"azureml.scriptrun\", \"training_percent\": \"100\", \"start_time\": \"2020-11-23T03:46:03.629607Z\", \"end_time\": \"2020-11-23T03:46:55.129395Z\", \"created_time\": \"2020-11-23T03:45:45.864281Z\", \"created_time_dt\": \"2020-11-23T03:45:45.864281Z\", \"duration\": \"0:01:09\", \"iteration\": \"33\", \"goal\": \"accuracy_max\", \"run_name\": \"StackEnsemble\", \"run_properties\": \"base_learners=[('4',\\n                                        Pipeline(memory=None,\\n                                                 steps=[('minmaxscaler',\\n                                                         MinMaxScaler(copy=True,\\n                                                                      feature_range=(0,\\n                                                                                     1\", \"primary_metric\": 0.82939394, \"best_metric\": 0.86946128}], \"children_metrics\": {\"categories\": [0], \"series\": {\"average_precision_score_weighted\": [{\"categories\": [\"0\", \"1\", \"2\", \"3\", \"4\", \"5\", \"6\", \"7\", \"8\", \"9\", \"10\", \"11\", \"12\", \"13\", \"14\", \"15\", \"16\", \"17\", \"18\", \"19\", \"20\", \"21\", \"22\", \"23\", \"24\", \"25\", \"26\", \"27\", \"28\", \"29\", \"30\", \"31\", \"32\", \"33\"], \"mode\": \"markers\", \"name\": \"average_precision_score_weighted\", \"stepped\": false, \"type\": \"scatter\", \"data\": [0.8977219335443646, 0.907002877554759, 0.9021975573268808, 0.8831049414189595, 0.9052861262051829, 0.8874073159957568, 0.8672821954908742, 0.8998053549586307, 0.8812147897044452, 0.8786236483568892, 0.8784648666223029, 0.8586811414949604, 0.8835853946597886, 0.8659717735573945, 0.8961001747872811, 0.8964138767507651, 0.8765535888901402, 0.8984646524460356, 0.886721451667056, 0.8792646306328274, 0.8767606961031186, 0.8839389752224603, 0.9174874221360393, 0.9043350751006746, 0.9189240254857185, 0.8706103326269418, 0.8581496702919074, 0.5846540025121344, 0.9122715591799911, 0.8785741398899263, 0.8242195787751627, 0.9005806681008148, 0.9114506685426794, 0.9059955746241423]}, {\"categories\": [\"0\", \"1\", \"2\", \"3\", \"4\", \"5\", \"6\", \"7\", \"8\", \"9\", \"10\", \"11\", \"12\", \"13\", \"14\", \"15\", \"16\", \"17\", \"18\", \"19\", \"20\", \"21\", \"22\", \"23\", \"24\", \"25\", \"26\", \"27\", \"28\", \"29\", \"30\", \"31\", \"32\", \"33\"], \"mode\": \"lines\", \"name\": \"average_precision_score_weighted_max\", \"stepped\": true, \"type\": \"scatter\", \"data\": [0.8977219335443646, 0.907002877554759, 0.907002877554759, 0.907002877554759, 0.907002877554759, 0.907002877554759, 0.907002877554759, 0.907002877554759, 0.907002877554759, 0.907002877554759, 0.907002877554759, 0.907002877554759, 0.907002877554759, 0.907002877554759, 0.907002877554759, 0.907002877554759, 0.907002877554759, 0.907002877554759, 0.907002877554759, 0.907002877554759, 0.907002877554759, 0.907002877554759, 0.9174874221360393, 0.9174874221360393, 0.9189240254857185, 0.9189240254857185, 0.9189240254857185, 0.9189240254857185, 0.9189240254857185, 0.9189240254857185, 0.9189240254857185, 0.9189240254857185, 0.9189240254857185, 0.9189240254857185]}], \"balanced_accuracy\": [{\"categories\": [\"0\", \"1\", \"2\", \"3\", \"4\", \"5\", \"6\", \"7\", \"8\", \"9\", \"10\", \"11\", \"12\", \"13\", \"14\", \"15\", \"16\", \"17\", \"18\", \"19\", \"20\", \"21\", \"22\", \"23\", \"24\", \"25\", \"26\", \"27\", \"28\", \"29\", \"30\", \"31\", \"32\", \"33\"], \"mode\": \"markers\", \"name\": \"balanced_accuracy\", \"stepped\": false, \"type\": \"scatter\", \"data\": [0.7924492893418248, 0.7839119650592231, 0.8121447557880147, 0.7817475780505778, 0.8038648341531315, 0.7968434674766792, 0.7560329556869628, 0.7149894454729365, 0.7942286807540145, 0.7826725220826267, 0.7877803340303116, 0.77732827674629, 0.8311785722131356, 0.7501785182921837, 0.7797249232624971, 0.7010834716305897, 0.6360327559797337, 0.8263896327983176, 0.7978604166292215, 0.769305018842377, 0.8056508558453309, 0.8258204272536461, 0.7942342725564323, 0.7520013460267249, 0.6625332862024272, 0.7729599207561714, 0.7811241719639009, 0.5275433015199718, 0.794328434515001, 0.7802570631454288, 0.5, 0.7962590841825884, 0.8347527125234406, 0.7917168431080036]}, {\"categories\": [\"0\", \"1\", \"2\", \"3\", \"4\", \"5\", \"6\", \"7\", \"8\", \"9\", \"10\", \"11\", \"12\", \"13\", \"14\", \"15\", \"16\", \"17\", \"18\", \"19\", \"20\", \"21\", \"22\", \"23\", \"24\", \"25\", \"26\", \"27\", \"28\", \"29\", \"30\", \"31\", \"32\", \"33\"], \"mode\": \"lines\", \"name\": \"balanced_accuracy_max\", \"stepped\": true, \"type\": \"scatter\", \"data\": [0.7924492893418248, 0.7924492893418248, 0.8121447557880147, 0.8121447557880147, 0.8121447557880147, 0.8121447557880147, 0.8121447557880147, 0.8121447557880147, 0.8121447557880147, 0.8121447557880147, 0.8121447557880147, 0.8121447557880147, 0.8311785722131356, 0.8311785722131356, 0.8311785722131356, 0.8311785722131356, 0.8311785722131356, 0.8311785722131356, 0.8311785722131356, 0.8311785722131356, 0.8311785722131356, 0.8311785722131356, 0.8311785722131356, 0.8311785722131356, 0.8311785722131356, 0.8311785722131356, 0.8311785722131356, 0.8311785722131356, 0.8311785722131356, 0.8311785722131356, 0.8311785722131356, 0.8311785722131356, 0.8347527125234406, 0.8347527125234406]}], \"recall_score_weighted\": [{\"categories\": [\"0\", \"1\", \"2\", \"3\", \"4\", \"5\", \"6\", \"7\", \"8\", \"9\", \"10\", \"11\", \"12\", \"13\", \"14\", \"15\", \"16\", \"17\", \"18\", \"19\", \"20\", \"21\", \"22\", \"23\", \"24\", \"25\", \"26\", \"27\", \"28\", \"29\", \"30\", \"31\", \"32\", \"33\"], \"mode\": \"markers\", \"name\": \"recall_score_weighted\", \"stepped\": false, \"type\": \"scatter\", \"data\": [0.825925925925926, 0.8259932659932661, 0.8393602693602693, 0.816026936026936, 0.8493939393939395, 0.7823232323232322, 0.7991919191919191, 0.7927272727272728, 0.8092255892255893, 0.8193602693602693, 0.8125252525252525, 0.7790235690235691, 0.8392592592592593, 0.7992592592592592, 0.8360942760942761, 0.7859595959595959, 0.7491919191919192, 0.8259932659932661, 0.7757239057239057, 0.8091919191919192, 0.8091582491582492, 0.836127946127946, 0.8360942760942761, 0.8093939393939394, 0.7627272727272727, 0.8227272727272728, 0.836026936026936, 0.6756902356902357, 0.8393939393939395, 0.8159932659932659, 0.678989898989899, 0.8292592592592593, 0.8694612794612794, 0.8293939393939395]}, {\"categories\": [\"0\", \"1\", \"2\", \"3\", \"4\", \"5\", \"6\", \"7\", \"8\", \"9\", \"10\", \"11\", \"12\", \"13\", \"14\", \"15\", \"16\", \"17\", \"18\", \"19\", \"20\", \"21\", \"22\", \"23\", \"24\", \"25\", \"26\", \"27\", \"28\", \"29\", \"30\", \"31\", \"32\", \"33\"], \"mode\": \"lines\", \"name\": \"recall_score_weighted_max\", \"stepped\": true, \"type\": \"scatter\", \"data\": [0.825925925925926, 0.8259932659932661, 0.8393602693602693, 0.8393602693602693, 0.8493939393939395, 0.8493939393939395, 0.8493939393939395, 0.8493939393939395, 0.8493939393939395, 0.8493939393939395, 0.8493939393939395, 0.8493939393939395, 0.8493939393939395, 0.8493939393939395, 0.8493939393939395, 0.8493939393939395, 0.8493939393939395, 0.8493939393939395, 0.8493939393939395, 0.8493939393939395, 0.8493939393939395, 0.8493939393939395, 0.8493939393939395, 0.8493939393939395, 0.8493939393939395, 0.8493939393939395, 0.8493939393939395, 0.8493939393939395, 0.8493939393939395, 0.8493939393939395, 0.8493939393939395, 0.8493939393939395, 0.8694612794612794, 0.8694612794612794]}], \"accuracy\": [{\"categories\": [\"0\", \"1\", \"2\", \"3\", \"4\", \"5\", \"6\", \"7\", \"8\", \"9\", \"10\", \"11\", \"12\", \"13\", \"14\", \"15\", \"16\", \"17\", \"18\", \"19\", \"20\", \"21\", \"22\", \"23\", \"24\", \"25\", \"26\", \"27\", \"28\", \"29\", \"30\", \"31\", \"32\", \"33\"], \"mode\": \"markers\", \"name\": \"accuracy\", \"stepped\": false, \"type\": \"scatter\", \"data\": [0.825925925925926, 0.8259932659932661, 0.8393602693602693, 0.816026936026936, 0.8493939393939395, 0.7823232323232322, 0.7991919191919191, 0.7927272727272728, 0.8092255892255893, 0.8193602693602693, 0.8125252525252525, 0.7790235690235691, 0.8392592592592593, 0.7992592592592592, 0.8360942760942761, 0.7859595959595959, 0.7491919191919192, 0.8259932659932661, 0.7757239057239057, 0.8091919191919192, 0.8091582491582492, 0.836127946127946, 0.8360942760942761, 0.8093939393939394, 0.7627272727272727, 0.8227272727272728, 0.836026936026936, 0.6756902356902357, 0.8393939393939395, 0.8159932659932659, 0.678989898989899, 0.8292592592592593, 0.8694612794612794, 0.8293939393939395]}, {\"categories\": [\"0\", \"1\", \"2\", \"3\", \"4\", \"5\", \"6\", \"7\", \"8\", \"9\", \"10\", \"11\", \"12\", \"13\", \"14\", \"15\", \"16\", \"17\", \"18\", \"19\", \"20\", \"21\", \"22\", \"23\", \"24\", \"25\", \"26\", \"27\", \"28\", \"29\", \"30\", \"31\", \"32\", \"33\"], \"mode\": \"lines\", \"name\": \"accuracy_max\", \"stepped\": true, \"type\": \"scatter\", \"data\": [0.825925925925926, 0.8259932659932661, 0.8393602693602693, 0.8393602693602693, 0.8493939393939395, 0.8493939393939395, 0.8493939393939395, 0.8493939393939395, 0.8493939393939395, 0.8493939393939395, 0.8493939393939395, 0.8493939393939395, 0.8493939393939395, 0.8493939393939395, 0.8493939393939395, 0.8493939393939395, 0.8493939393939395, 0.8493939393939395, 0.8493939393939395, 0.8493939393939395, 0.8493939393939395, 0.8493939393939395, 0.8493939393939395, 0.8493939393939395, 0.8493939393939395, 0.8493939393939395, 0.8493939393939395, 0.8493939393939395, 0.8493939393939395, 0.8493939393939395, 0.8493939393939395, 0.8493939393939395, 0.8694612794612794, 0.8694612794612794]}], \"log_loss\": [{\"categories\": [\"0\", \"1\", \"2\", \"3\", \"4\", \"5\", \"6\", \"7\", \"8\", \"9\", \"10\", \"11\", \"12\", \"13\", \"14\", \"15\", \"16\", \"17\", \"18\", \"19\", \"20\", \"21\", \"22\", \"23\", \"24\", \"25\", \"26\", \"27\", \"28\", \"29\", \"30\", \"31\", \"32\", \"33\"], \"mode\": \"markers\", \"name\": \"log_loss\", \"stepped\": false, \"type\": \"scatter\", \"data\": [0.4951966892314486, 0.4286740704307772, 0.39574431406960736, 0.4432097780503547, 0.40984921655100254, 0.5153317581590183, 0.7477192800783522, 0.45821909891209933, 0.4949181200365307, 0.7424175118542932, 0.45772987371105095, 0.5364162345811022, 0.5564095034525719, 0.46741814696420353, 0.42871606531311085, 0.4655027684290916, 0.49978076097810104, 0.4289636982798557, 0.5913525775744141, 0.4580851599810214, 0.483708183592859, 0.5288334650593268, 0.38149158281551593, 0.4438741008192116, 0.4887766233106327, 0.5231468872033934, 0.4647512604557647, 0.8058056620678538, 0.40816664652701656, 0.45622132295892576, 0.6103925932928248, 0.4138319508221196, 0.45049715122012507, 0.4403820151856595]}, {\"categories\": [\"0\", \"1\", \"2\", \"3\", \"4\", \"5\", \"6\", \"7\", \"8\", \"9\", \"10\", \"11\", \"12\", \"13\", \"14\", \"15\", \"16\", \"17\", \"18\", \"19\", \"20\", \"21\", \"22\", \"23\", \"24\", \"25\", \"26\", \"27\", \"28\", \"29\", \"30\", \"31\", \"32\", \"33\"], \"mode\": \"lines\", \"name\": \"log_loss_min\", \"stepped\": true, \"type\": \"scatter\", \"data\": [0.4951966892314486, 0.4286740704307772, 0.39574431406960736, 0.39574431406960736, 0.39574431406960736, 0.39574431406960736, 0.39574431406960736, 0.39574431406960736, 0.39574431406960736, 0.39574431406960736, 0.39574431406960736, 0.39574431406960736, 0.39574431406960736, 0.39574431406960736, 0.39574431406960736, 0.39574431406960736, 0.39574431406960736, 0.39574431406960736, 0.39574431406960736, 0.39574431406960736, 0.39574431406960736, 0.39574431406960736, 0.38149158281551593, 0.38149158281551593, 0.38149158281551593, 0.38149158281551593, 0.38149158281551593, 0.38149158281551593, 0.38149158281551593, 0.38149158281551593, 0.38149158281551593, 0.38149158281551593, 0.38149158281551593, 0.38149158281551593]}], \"f1_score_weighted\": [{\"categories\": [\"0\", \"1\", \"2\", \"3\", \"4\", \"5\", \"6\", \"7\", \"8\", \"9\", \"10\", \"11\", \"12\", \"13\", \"14\", \"15\", \"16\", \"17\", \"18\", \"19\", \"20\", \"21\", \"22\", \"23\", \"24\", \"25\", \"26\", \"27\", \"28\", \"29\", \"30\", \"31\", \"32\", \"33\"], \"mode\": \"markers\", \"name\": \"f1_score_weighted\", \"stepped\": false, \"type\": \"scatter\", \"data\": [0.8211819354480298, 0.8188619012721535, 0.8390030807224435, 0.8117939115523561, 0.8451624179651819, 0.7882854232275643, 0.7919236711142137, 0.7701258134065486, 0.8103039688844902, 0.8153436690080227, 0.8131210037317992, 0.7843023662061043, 0.8410725782149805, 0.7959708416036148, 0.8260184861939422, 0.7627829662167898, 0.6999966728157668, 0.8294959988717032, 0.7820414971521265, 0.8062100023748205, 0.8126066140388893, 0.8366669533690304, 0.8299532855340965, 0.7923393960601555, 0.7126546306914404, 0.8162283360044271, 0.8285044894511483, 0.5911095294466229, 0.8324170376289577, 0.8122636107455432, 0.5510765335293636, 0.8263912164127407, 0.8661751087566115, 0.8201537417696358]}, {\"categories\": [\"0\", \"1\", \"2\", \"3\", \"4\", \"5\", \"6\", \"7\", \"8\", \"9\", \"10\", \"11\", \"12\", \"13\", \"14\", \"15\", \"16\", \"17\", \"18\", \"19\", \"20\", \"21\", \"22\", \"23\", \"24\", \"25\", \"26\", \"27\", \"28\", \"29\", \"30\", \"31\", \"32\", \"33\"], \"mode\": \"lines\", \"name\": \"f1_score_weighted_max\", \"stepped\": true, \"type\": \"scatter\", \"data\": [0.8211819354480298, 0.8211819354480298, 0.8390030807224435, 0.8390030807224435, 0.8451624179651819, 0.8451624179651819, 0.8451624179651819, 0.8451624179651819, 0.8451624179651819, 0.8451624179651819, 0.8451624179651819, 0.8451624179651819, 0.8451624179651819, 0.8451624179651819, 0.8451624179651819, 0.8451624179651819, 0.8451624179651819, 0.8451624179651819, 0.8451624179651819, 0.8451624179651819, 0.8451624179651819, 0.8451624179651819, 0.8451624179651819, 0.8451624179651819, 0.8451624179651819, 0.8451624179651819, 0.8451624179651819, 0.8451624179651819, 0.8451624179651819, 0.8451624179651819, 0.8451624179651819, 0.8451624179651819, 0.8661751087566115, 0.8661751087566115]}], \"AUC_micro\": [{\"categories\": [\"0\", \"1\", \"2\", \"3\", \"4\", \"5\", \"6\", \"7\", \"8\", \"9\", \"10\", \"11\", \"12\", \"13\", \"14\", \"15\", \"16\", \"17\", \"18\", \"19\", \"20\", \"21\", \"22\", \"23\", \"24\", \"25\", \"26\", \"27\", \"28\", \"29\", \"30\", \"31\", \"32\", \"33\"], \"mode\": \"markers\", \"name\": \"AUC_micro\", \"stepped\": false, \"type\": \"scatter\", \"data\": [0.8911140699928578, 0.897847063224841, 0.9073328469884027, 0.8794702445328708, 0.9026089888786858, 0.8536966534027141, 0.8731649151447133, 0.8828812366085094, 0.8814736251402918, 0.8814775193007516, 0.8772968132503486, 0.8596453797231575, 0.8795468965751795, 0.8785861510730197, 0.8905110192837465, 0.8769952827942727, 0.8526238853178247, 0.8986910587355031, 0.8463271128796381, 0.8813406353093223, 0.8804819202122233, 0.8784736285413053, 0.9088746386423154, 0.890399173553719, 0.8752617794102643, 0.8886438492670816, 0.8766084821276742, 0.6668318674965139, 0.9053627929122879, 0.8780709213345577, 0.8205301465836818, 0.8945966431996735, 0.9133159235452165, 0.8959081420263239]}, {\"categories\": [\"0\", \"1\", \"2\", \"3\", \"4\", \"5\", \"6\", \"7\", \"8\", \"9\", \"10\", \"11\", \"12\", \"13\", \"14\", \"15\", \"16\", \"17\", \"18\", \"19\", \"20\", \"21\", \"22\", \"23\", \"24\", \"25\", \"26\", \"27\", \"28\", \"29\", \"30\", \"31\", \"32\", \"33\"], \"mode\": \"lines\", \"name\": \"AUC_micro_max\", \"stepped\": true, \"type\": \"scatter\", \"data\": [0.8911140699928578, 0.897847063224841, 0.9073328469884027, 0.9073328469884027, 0.9073328469884027, 0.9073328469884027, 0.9073328469884027, 0.9073328469884027, 0.9073328469884027, 0.9073328469884027, 0.9073328469884027, 0.9073328469884027, 0.9073328469884027, 0.9073328469884027, 0.9073328469884027, 0.9073328469884027, 0.9073328469884027, 0.9073328469884027, 0.9073328469884027, 0.9073328469884027, 0.9073328469884027, 0.9073328469884027, 0.9088746386423154, 0.9088746386423154, 0.9088746386423154, 0.9088746386423154, 0.9088746386423154, 0.9088746386423154, 0.9088746386423154, 0.9088746386423154, 0.9088746386423154, 0.9088746386423154, 0.9133159235452165, 0.9133159235452165]}], \"f1_score_macro\": [{\"categories\": [\"0\", \"1\", \"2\", \"3\", \"4\", \"5\", \"6\", \"7\", \"8\", \"9\", \"10\", \"11\", \"12\", \"13\", \"14\", \"15\", \"16\", \"17\", \"18\", \"19\", \"20\", \"21\", \"22\", \"23\", \"24\", \"25\", \"26\", \"27\", \"28\", \"29\", \"30\", \"31\", \"32\", \"33\"], \"mode\": \"markers\", \"name\": \"f1_score_macro\", \"stepped\": false, \"type\": \"scatter\", \"data\": [0.796275898533339, 0.7893460959638977, 0.8130551806747744, 0.7821911591943014, 0.8157040892524509, 0.7668472352127651, 0.7584475313113751, 0.7245970911221474, 0.7850342197792797, 0.7854181127223808, 0.7833491817866817, 0.7583046455815063, 0.8206559470380564, 0.7582522788243328, 0.7953405062509186, 0.7134342373312962, 0.6302446983415152, 0.8072069146556412, 0.7611467221293434, 0.7738053499252829, 0.789299726243161, 0.8145585642652394, 0.8025054721959771, 0.7570352947725881, 0.6522870543115941, 0.7817944319367469, 0.7977758747731359, 0.47679289583724094, 0.8040254746437153, 0.7821804978865073, 0.4034516322252171, 0.7983817808940299, 0.8458641839764796, 0.7935504732654172]}, {\"categories\": [\"0\", \"1\", \"2\", \"3\", \"4\", \"5\", \"6\", \"7\", \"8\", \"9\", \"10\", \"11\", \"12\", \"13\", \"14\", \"15\", \"16\", \"17\", \"18\", \"19\", \"20\", \"21\", \"22\", \"23\", \"24\", \"25\", \"26\", \"27\", \"28\", \"29\", \"30\", \"31\", \"32\", \"33\"], \"mode\": \"lines\", \"name\": \"f1_score_macro_max\", \"stepped\": true, \"type\": \"scatter\", \"data\": [0.796275898533339, 0.796275898533339, 0.8130551806747744, 0.8130551806747744, 0.8157040892524509, 0.8157040892524509, 0.8157040892524509, 0.8157040892524509, 0.8157040892524509, 0.8157040892524509, 0.8157040892524509, 0.8157040892524509, 0.8206559470380564, 0.8206559470380564, 0.8206559470380564, 0.8206559470380564, 0.8206559470380564, 0.8206559470380564, 0.8206559470380564, 0.8206559470380564, 0.8206559470380564, 0.8206559470380564, 0.8206559470380564, 0.8206559470380564, 0.8206559470380564, 0.8206559470380564, 0.8206559470380564, 0.8206559470380564, 0.8206559470380564, 0.8206559470380564, 0.8206559470380564, 0.8206559470380564, 0.8458641839764796, 0.8458641839764796]}], \"matthews_correlation\": [{\"categories\": [\"0\", \"1\", \"2\", \"3\", \"4\", \"5\", \"6\", \"7\", \"8\", \"9\", \"10\", \"11\", \"12\", \"13\", \"14\", \"15\", \"16\", \"17\", \"18\", \"19\", \"20\", \"21\", \"22\", \"23\", \"24\", \"25\", \"26\", \"27\", \"28\", \"29\", \"30\", \"31\", \"32\", \"33\"], \"mode\": \"markers\", \"name\": \"matthews_correlation\", \"stepped\": false, \"type\": \"scatter\", \"data\": [0.6061286118162602, 0.6030401714674086, 0.6289858038914866, 0.582275186484302, 0.6431254081454739, 0.5630937495916523, 0.5370861812802527, 0.5163293458615198, 0.5750575400977157, 0.5857969211925645, 0.5755004398132441, 0.5286109705020513, 0.6499469019057101, 0.525864257307179, 0.6278683021184627, 0.495996465135166, 0.3988250538083729, 0.6255140266518554, 0.5606433745184761, 0.5587899584580596, 0.5882601922416292, 0.637978238732181, 0.624564889672746, 0.5679276436106439, 0.441200935936598, 0.5868199601556001, 0.621395438046861, 0.10989759282374463, 0.634196543528018, 0.5797663654378974, 0.0, 0.6119533425823935, 0.7023751811209639, 0.6193354469838526]}, {\"categories\": [\"0\", \"1\", \"2\", \"3\", \"4\", \"5\", \"6\", \"7\", \"8\", \"9\", \"10\", \"11\", \"12\", \"13\", \"14\", \"15\", \"16\", \"17\", \"18\", \"19\", \"20\", \"21\", \"22\", \"23\", \"24\", \"25\", \"26\", \"27\", \"28\", \"29\", \"30\", \"31\", \"32\", \"33\"], \"mode\": \"lines\", \"name\": \"matthews_correlation_max\", \"stepped\": true, \"type\": \"scatter\", \"data\": [0.6061286118162602, 0.6061286118162602, 0.6289858038914866, 0.6289858038914866, 0.6431254081454739, 0.6431254081454739, 0.6431254081454739, 0.6431254081454739, 0.6431254081454739, 0.6431254081454739, 0.6431254081454739, 0.6431254081454739, 0.6499469019057101, 0.6499469019057101, 0.6499469019057101, 0.6499469019057101, 0.6499469019057101, 0.6499469019057101, 0.6499469019057101, 0.6499469019057101, 0.6499469019057101, 0.6499469019057101, 0.6499469019057101, 0.6499469019057101, 0.6499469019057101, 0.6499469019057101, 0.6499469019057101, 0.6499469019057101, 0.6499469019057101, 0.6499469019057101, 0.6499469019057101, 0.6499469019057101, 0.7023751811209639, 0.7023751811209639]}], \"norm_macro_recall\": [{\"categories\": [\"0\", \"1\", \"2\", \"3\", \"4\", \"5\", \"6\", \"7\", \"8\", \"9\", \"10\", \"11\", \"12\", \"13\", \"14\", \"15\", \"16\", \"17\", \"18\", \"19\", \"20\", \"21\", \"22\", \"23\", \"24\", \"25\", \"26\", \"27\", \"28\", \"29\", \"30\", \"31\", \"32\", \"33\"], \"mode\": \"markers\", \"name\": \"norm_macro_recall\", \"stepped\": false, \"type\": \"scatter\", \"data\": [0.5848985786836498, 0.5678239301184463, 0.6242895115760295, 0.5634951561011557, 0.607729668306263, 0.5936869349533583, 0.5120659113739258, 0.4299788909458733, 0.5884573615080292, 0.5653450441652537, 0.5755606680606231, 0.5546565534925798, 0.6623571444262711, 0.5003570365843673, 0.5594498465249943, 0.4021669432611792, 0.27206551195946743, 0.6527792655966352, 0.595720833258443, 0.5386100376847541, 0.6113017116906615, 0.6516408545072924, 0.5884685451128646, 0.5040026920534496, 0.32506657240485454, 0.5459198415123429, 0.5622483439278019, 0.055086603039943505, 0.588656869030002, 0.5605141262908576, 0.0, 0.5925181683651767, 0.6695054250468813, 0.5834336862160073]}, {\"categories\": [\"0\", \"1\", \"2\", \"3\", \"4\", \"5\", \"6\", \"7\", \"8\", \"9\", \"10\", \"11\", \"12\", \"13\", \"14\", \"15\", \"16\", \"17\", \"18\", \"19\", \"20\", \"21\", \"22\", \"23\", \"24\", \"25\", \"26\", \"27\", \"28\", \"29\", \"30\", \"31\", \"32\", \"33\"], \"mode\": \"lines\", \"name\": \"norm_macro_recall_max\", \"stepped\": true, \"type\": \"scatter\", \"data\": [0.5848985786836498, 0.5848985786836498, 0.6242895115760295, 0.6242895115760295, 0.6242895115760295, 0.6242895115760295, 0.6242895115760295, 0.6242895115760295, 0.6242895115760295, 0.6242895115760295, 0.6242895115760295, 0.6242895115760295, 0.6623571444262711, 0.6623571444262711, 0.6623571444262711, 0.6623571444262711, 0.6623571444262711, 0.6623571444262711, 0.6623571444262711, 0.6623571444262711, 0.6623571444262711, 0.6623571444262711, 0.6623571444262711, 0.6623571444262711, 0.6623571444262711, 0.6623571444262711, 0.6623571444262711, 0.6623571444262711, 0.6623571444262711, 0.6623571444262711, 0.6623571444262711, 0.6623571444262711, 0.6695054250468813, 0.6695054250468813]}], \"weighted_accuracy\": [{\"categories\": [\"0\", \"1\", \"2\", \"3\", \"4\", \"5\", \"6\", \"7\", \"8\", \"9\", \"10\", \"11\", \"12\", \"13\", \"14\", \"15\", \"16\", \"17\", \"18\", \"19\", \"20\", \"21\", \"22\", \"23\", \"24\", \"25\", \"26\", \"27\", \"28\", \"29\", \"30\", \"31\", \"32\", \"33\"], \"mode\": \"markers\", \"name\": \"weighted_accuracy\", \"stepped\": false, \"type\": \"scatter\", \"data\": [0.8518765369284775, 0.8581177688845031, 0.858546482211637, 0.8413560994045531, 0.8821097434467537, 0.7712567029276012, 0.8321917131024407, 0.8494658416193617, 0.8212190143056883, 0.8463000660938533, 0.83085314455007, 0.7803724805097735, 0.8457649948419145, 0.8307388468761397, 0.8771723542490913, 0.8471842297889657, 0.8313844126506797, 0.8258300330551395, 0.7591698620242049, 0.8381699814544358, 0.8124430712363342, 0.84446360119036, 0.8672179264981872, 0.8528538994586353, 0.8357441748332648, 0.8579827381224924, 0.8754757605566913, 0.7807214596140001, 0.8730712397562912, 0.8422371796780257, 0.8051228382700453, 0.8542857925044492, 0.895185242721583, 0.8590413890427109]}, {\"categories\": [\"0\", \"1\", \"2\", \"3\", \"4\", \"5\", \"6\", \"7\", \"8\", \"9\", \"10\", \"11\", \"12\", \"13\", \"14\", \"15\", \"16\", \"17\", \"18\", \"19\", \"20\", \"21\", \"22\", \"23\", \"24\", \"25\", \"26\", \"27\", \"28\", \"29\", \"30\", \"31\", \"32\", \"33\"], \"mode\": \"lines\", \"name\": \"weighted_accuracy_max\", \"stepped\": true, \"type\": \"scatter\", \"data\": [0.8518765369284775, 0.8581177688845031, 0.858546482211637, 0.858546482211637, 0.8821097434467537, 0.8821097434467537, 0.8821097434467537, 0.8821097434467537, 0.8821097434467537, 0.8821097434467537, 0.8821097434467537, 0.8821097434467537, 0.8821097434467537, 0.8821097434467537, 0.8821097434467537, 0.8821097434467537, 0.8821097434467537, 0.8821097434467537, 0.8821097434467537, 0.8821097434467537, 0.8821097434467537, 0.8821097434467537, 0.8821097434467537, 0.8821097434467537, 0.8821097434467537, 0.8821097434467537, 0.8821097434467537, 0.8821097434467537, 0.8821097434467537, 0.8821097434467537, 0.8821097434467537, 0.8821097434467537, 0.895185242721583, 0.895185242721583]}], \"precision_score_micro\": [{\"categories\": [\"0\", \"1\", \"2\", \"3\", \"4\", \"5\", \"6\", \"7\", \"8\", \"9\", \"10\", \"11\", \"12\", \"13\", \"14\", \"15\", \"16\", \"17\", \"18\", \"19\", \"20\", \"21\", \"22\", \"23\", \"24\", \"25\", \"26\", \"27\", \"28\", \"29\", \"30\", \"31\", \"32\", \"33\"], \"mode\": \"markers\", \"name\": \"precision_score_micro\", \"stepped\": false, \"type\": \"scatter\", \"data\": [0.825925925925926, 0.8259932659932661, 0.8393602693602693, 0.816026936026936, 0.8493939393939395, 0.7823232323232322, 0.7991919191919191, 0.7927272727272728, 0.8092255892255893, 0.8193602693602693, 0.8125252525252525, 0.7790235690235691, 0.8392592592592593, 0.7992592592592592, 0.8360942760942761, 0.7859595959595959, 0.7491919191919192, 0.8259932659932661, 0.7757239057239057, 0.8091919191919192, 0.8091582491582492, 0.836127946127946, 0.8360942760942761, 0.8093939393939394, 0.7627272727272727, 0.8227272727272728, 0.836026936026936, 0.6756902356902357, 0.8393939393939395, 0.8159932659932659, 0.678989898989899, 0.8292592592592593, 0.8694612794612794, 0.8293939393939395]}, {\"categories\": [\"0\", \"1\", \"2\", \"3\", \"4\", \"5\", \"6\", \"7\", \"8\", \"9\", \"10\", \"11\", \"12\", \"13\", \"14\", \"15\", \"16\", \"17\", \"18\", \"19\", \"20\", \"21\", \"22\", \"23\", \"24\", \"25\", \"26\", \"27\", \"28\", \"29\", \"30\", \"31\", \"32\", \"33\"], \"mode\": \"lines\", \"name\": \"precision_score_micro_max\", \"stepped\": true, \"type\": \"scatter\", \"data\": [0.825925925925926, 0.8259932659932661, 0.8393602693602693, 0.8393602693602693, 0.8493939393939395, 0.8493939393939395, 0.8493939393939395, 0.8493939393939395, 0.8493939393939395, 0.8493939393939395, 0.8493939393939395, 0.8493939393939395, 0.8493939393939395, 0.8493939393939395, 0.8493939393939395, 0.8493939393939395, 0.8493939393939395, 0.8493939393939395, 0.8493939393939395, 0.8493939393939395, 0.8493939393939395, 0.8493939393939395, 0.8493939393939395, 0.8493939393939395, 0.8493939393939395, 0.8493939393939395, 0.8493939393939395, 0.8493939393939395, 0.8493939393939395, 0.8493939393939395, 0.8493939393939395, 0.8493939393939395, 0.8694612794612794, 0.8694612794612794]}], \"average_precision_score_micro\": [{\"categories\": [\"0\", \"1\", \"2\", \"3\", \"4\", \"5\", \"6\", \"7\", \"8\", \"9\", \"10\", \"11\", \"12\", \"13\", \"14\", \"15\", \"16\", \"17\", \"18\", \"19\", \"20\", \"21\", \"22\", \"23\", \"24\", \"25\", \"26\", \"27\", \"28\", \"29\", \"30\", \"31\", \"32\", \"33\"], \"mode\": \"markers\", \"name\": \"average_precision_score_micro\", \"stepped\": false, \"type\": \"scatter\", \"data\": [0.8938009858636106, 0.9026455376117112, 0.9026530779796289, 0.8788857707348692, 0.9016792367684016, 0.8492553162236943, 0.8653384296384058, 0.8867289223554374, 0.883538635467449, 0.8757385998770139, 0.8740182739002855, 0.8538765209796105, 0.8748014433270436, 0.87337139672732, 0.8893025793620329, 0.879993042136222, 0.8554804293984434, 0.8953103787490564, 0.84036170678342, 0.8823230979896266, 0.8780149058810053, 0.8749391065409142, 0.9116570906836134, 0.8937830325663323, 0.8850047648133414, 0.8665059574684184, 0.8580300682710135, 0.6358155873233108, 0.9074152086997227, 0.8772645578407628, 0.8003208547107965, 0.8938469796559678, 0.91235169402137, 0.8951554018189141]}, {\"categories\": [\"0\", \"1\", \"2\", \"3\", \"4\", \"5\", \"6\", \"7\", \"8\", \"9\", \"10\", \"11\", \"12\", \"13\", \"14\", \"15\", \"16\", \"17\", \"18\", \"19\", \"20\", \"21\", \"22\", \"23\", \"24\", \"25\", \"26\", \"27\", \"28\", \"29\", \"30\", \"31\", \"32\", \"33\"], \"mode\": \"lines\", \"name\": \"average_precision_score_micro_max\", \"stepped\": true, \"type\": \"scatter\", \"data\": [0.8938009858636106, 0.9026455376117112, 0.9026530779796289, 0.9026530779796289, 0.9026530779796289, 0.9026530779796289, 0.9026530779796289, 0.9026530779796289, 0.9026530779796289, 0.9026530779796289, 0.9026530779796289, 0.9026530779796289, 0.9026530779796289, 0.9026530779796289, 0.9026530779796289, 0.9026530779796289, 0.9026530779796289, 0.9026530779796289, 0.9026530779796289, 0.9026530779796289, 0.9026530779796289, 0.9026530779796289, 0.9116570906836134, 0.9116570906836134, 0.9116570906836134, 0.9116570906836134, 0.9116570906836134, 0.9116570906836134, 0.9116570906836134, 0.9116570906836134, 0.9116570906836134, 0.9116570906836134, 0.91235169402137, 0.91235169402137]}], \"average_precision_score_macro\": [{\"categories\": [\"0\", \"1\", \"2\", \"3\", \"4\", \"5\", \"6\", \"7\", \"8\", \"9\", \"10\", \"11\", \"12\", \"13\", \"14\", \"15\", \"16\", \"17\", \"18\", \"19\", \"20\", \"21\", \"22\", \"23\", \"24\", \"25\", \"26\", \"27\", \"28\", \"29\", \"30\", \"31\", \"32\", \"33\"], \"mode\": \"markers\", \"name\": \"average_precision_score_macro\", \"stepped\": false, \"type\": \"scatter\", \"data\": [0.8731198723526422, 0.8816256331225544, 0.8803449067637933, 0.8515237422833764, 0.8828323112050596, 0.8576657235942834, 0.840147924912065, 0.8769362250593079, 0.8557331868738429, 0.8435609956542907, 0.8437253261906491, 0.8281223727640951, 0.8610465613043226, 0.8393092402213468, 0.8728330119175988, 0.8720140196186129, 0.8507259482407084, 0.8725317728027991, 0.8559849513286831, 0.8501669909110484, 0.8466758737203595, 0.8603822689386007, 0.8962642508956759, 0.8799712759155162, 0.8952050505528738, 0.8414692016752131, 0.8333734835746527, 0.5144253020855563, 0.8899783885526089, 0.8469476485356577, 0.7997840771772459, 0.8776203317772598, 0.8918682295546393, 0.8862595421140744]}, {\"categories\": [\"0\", \"1\", \"2\", \"3\", \"4\", \"5\", \"6\", \"7\", \"8\", \"9\", \"10\", \"11\", \"12\", \"13\", \"14\", \"15\", \"16\", \"17\", \"18\", \"19\", \"20\", \"21\", \"22\", \"23\", \"24\", \"25\", \"26\", \"27\", \"28\", \"29\", \"30\", \"31\", \"32\", \"33\"], \"mode\": \"lines\", \"name\": \"average_precision_score_macro_max\", \"stepped\": true, \"type\": \"scatter\", \"data\": [0.8731198723526422, 0.8816256331225544, 0.8816256331225544, 0.8816256331225544, 0.8828323112050596, 0.8828323112050596, 0.8828323112050596, 0.8828323112050596, 0.8828323112050596, 0.8828323112050596, 0.8828323112050596, 0.8828323112050596, 0.8828323112050596, 0.8828323112050596, 0.8828323112050596, 0.8828323112050596, 0.8828323112050596, 0.8828323112050596, 0.8828323112050596, 0.8828323112050596, 0.8828323112050596, 0.8828323112050596, 0.8962642508956759, 0.8962642508956759, 0.8962642508956759, 0.8962642508956759, 0.8962642508956759, 0.8962642508956759, 0.8962642508956759, 0.8962642508956759, 0.8962642508956759, 0.8962642508956759, 0.8962642508956759, 0.8962642508956759]}], \"precision_score_macro\": [{\"categories\": [\"0\", \"1\", \"2\", \"3\", \"4\", \"5\", \"6\", \"7\", \"8\", \"9\", \"10\", \"11\", \"12\", \"13\", \"14\", \"15\", \"16\", \"17\", \"18\", \"19\", \"20\", \"21\", \"22\", \"23\", \"24\", \"25\", \"26\", \"27\", \"28\", \"29\", \"30\", \"31\", \"32\", \"33\"], \"mode\": \"markers\", \"name\": \"precision_score_macro\", \"stepped\": false, \"type\": \"scatter\", \"data\": [0.8147546772260731, 0.8218409751026504, 0.8170216479427005, 0.8021334658698788, 0.8403956519779469, 0.7672641855944851, 0.782958378289058, 0.8141064974870785, 0.7813050134360541, 0.8044252065991196, 0.7883428840948038, 0.7521416077229132, 0.8193300088509438, 0.7783366112785824, 0.85395588678109, 0.8084097085465075, 0.8035857616745364, 0.8000104427736007, 0.7640650106757073, 0.7903837077162028, 0.7833952754499904, 0.8128465651887155, 0.8323536490732497, 0.8252682657818534, 0.8314346650637919, 0.8167967626131848, 0.8440793435712135, 0.6511815544073608, 0.8430481881186106, 0.8008464324321102, 0.3394949494949495, 0.8170711325562072, 0.8686311597312083, 0.8317290307088171]}, {\"categories\": [\"0\", \"1\", \"2\", \"3\", \"4\", \"5\", \"6\", \"7\", \"8\", \"9\", \"10\", \"11\", \"12\", \"13\", \"14\", \"15\", \"16\", \"17\", \"18\", \"19\", \"20\", \"21\", \"22\", \"23\", \"24\", \"25\", \"26\", \"27\", \"28\", \"29\", \"30\", \"31\", \"32\", \"33\"], \"mode\": \"lines\", \"name\": \"precision_score_macro_max\", \"stepped\": true, \"type\": \"scatter\", \"data\": [0.8147546772260731, 0.8218409751026504, 0.8218409751026504, 0.8218409751026504, 0.8403956519779469, 0.8403956519779469, 0.8403956519779469, 0.8403956519779469, 0.8403956519779469, 0.8403956519779469, 0.8403956519779469, 0.8403956519779469, 0.8403956519779469, 0.8403956519779469, 0.85395588678109, 0.85395588678109, 0.85395588678109, 0.85395588678109, 0.85395588678109, 0.85395588678109, 0.85395588678109, 0.85395588678109, 0.85395588678109, 0.85395588678109, 0.85395588678109, 0.85395588678109, 0.85395588678109, 0.85395588678109, 0.85395588678109, 0.85395588678109, 0.85395588678109, 0.85395588678109, 0.8686311597312083, 0.8686311597312083]}], \"AUC_macro\": [{\"categories\": [\"0\", \"1\", \"2\", \"3\", \"4\", \"5\", \"6\", \"7\", \"8\", \"9\", \"10\", \"11\", \"12\", \"13\", \"14\", \"15\", \"16\", \"17\", \"18\", \"19\", \"20\", \"21\", \"22\", \"23\", \"24\", \"25\", \"26\", \"27\", \"28\", \"29\", \"30\", \"31\", \"32\", \"33\"], \"mode\": \"markers\", \"name\": \"AUC_macro\", \"stepped\": false, \"type\": \"scatter\", \"data\": [0.8852144920879325, 0.8951796527623838, 0.89309676307866, 0.8710380592717742, 0.8993059891532348, 0.8753567925421333, 0.8631048806449746, 0.8912625360554761, 0.8664537073982874, 0.8751322148397116, 0.8666249369091578, 0.8505772084790365, 0.8735034375605363, 0.8551686896343295, 0.8939017011727475, 0.8839827090818194, 0.8542636409690062, 0.892383359594834, 0.8751763056692222, 0.8693142109667228, 0.8703815752773102, 0.8714504994344957, 0.908141043363762, 0.8940848593295562, 0.9120598397416054, 0.8700906311347564, 0.8712294392420711, 0.49550130095946004, 0.9039524606260555, 0.8661838139953494, 0.8375948582045387, 0.8875933814361479, 0.903352138564864, 0.8992668428084428]}, {\"categories\": [\"0\", \"1\", \"2\", \"3\", \"4\", \"5\", \"6\", \"7\", \"8\", \"9\", \"10\", \"11\", \"12\", \"13\", \"14\", \"15\", \"16\", \"17\", \"18\", \"19\", \"20\", \"21\", \"22\", \"23\", \"24\", \"25\", \"26\", \"27\", \"28\", \"29\", \"30\", \"31\", \"32\", \"33\"], \"mode\": \"lines\", \"name\": \"AUC_macro_max\", \"stepped\": true, \"type\": \"scatter\", \"data\": [0.8852144920879325, 0.8951796527623838, 0.8951796527623838, 0.8951796527623838, 0.8993059891532348, 0.8993059891532348, 0.8993059891532348, 0.8993059891532348, 0.8993059891532348, 0.8993059891532348, 0.8993059891532348, 0.8993059891532348, 0.8993059891532348, 0.8993059891532348, 0.8993059891532348, 0.8993059891532348, 0.8993059891532348, 0.8993059891532348, 0.8993059891532348, 0.8993059891532348, 0.8993059891532348, 0.8993059891532348, 0.908141043363762, 0.908141043363762, 0.9120598397416054, 0.9120598397416054, 0.9120598397416054, 0.9120598397416054, 0.9120598397416054, 0.9120598397416054, 0.9120598397416054, 0.9120598397416054, 0.9120598397416054, 0.9120598397416054]}], \"AUC_weighted\": [{\"categories\": [\"0\", \"1\", \"2\", \"3\", \"4\", \"5\", \"6\", \"7\", \"8\", \"9\", \"10\", \"11\", \"12\", \"13\", \"14\", \"15\", \"16\", \"17\", \"18\", \"19\", \"20\", \"21\", \"22\", \"23\", \"24\", \"25\", \"26\", \"27\", \"28\", \"29\", \"30\", \"31\", \"32\", \"33\"], \"mode\": \"markers\", \"name\": \"AUC_weighted\", \"stepped\": false, \"type\": \"scatter\", \"data\": [0.8852144920879325, 0.8951796527623838, 0.89309676307866, 0.8710380592717742, 0.8993059891532348, 0.8753567925421333, 0.8630569789456334, 0.8912625360554761, 0.8664537073982875, 0.8751322148397116, 0.8666249369091578, 0.8505772084790363, 0.8735034375605363, 0.8551686896343295, 0.8939017011727475, 0.8839827090818194, 0.8542636409690062, 0.892383359594834, 0.8751763056692222, 0.8693142109667228, 0.8703815752773102, 0.8714504994344958, 0.908141043363762, 0.8940848593295563, 0.9120598397416056, 0.8700906311347566, 0.8712294392420711, 0.49550130095946004, 0.9039524606260555, 0.8661838139953496, 0.8375948582045388, 0.8875933814361479, 0.903352138564864, 0.8992668428084428]}, {\"categories\": [\"0\", \"1\", \"2\", \"3\", \"4\", \"5\", \"6\", \"7\", \"8\", \"9\", \"10\", \"11\", \"12\", \"13\", \"14\", \"15\", \"16\", \"17\", \"18\", \"19\", \"20\", \"21\", \"22\", \"23\", \"24\", \"25\", \"26\", \"27\", \"28\", \"29\", \"30\", \"31\", \"32\", \"33\"], \"mode\": \"lines\", \"name\": \"AUC_weighted_max\", \"stepped\": true, \"type\": \"scatter\", \"data\": [0.8852144920879325, 0.8951796527623838, 0.8951796527623838, 0.8951796527623838, 0.8993059891532348, 0.8993059891532348, 0.8993059891532348, 0.8993059891532348, 0.8993059891532348, 0.8993059891532348, 0.8993059891532348, 0.8993059891532348, 0.8993059891532348, 0.8993059891532348, 0.8993059891532348, 0.8993059891532348, 0.8993059891532348, 0.8993059891532348, 0.8993059891532348, 0.8993059891532348, 0.8993059891532348, 0.8993059891532348, 0.908141043363762, 0.908141043363762, 0.9120598397416056, 0.9120598397416056, 0.9120598397416056, 0.9120598397416056, 0.9120598397416056, 0.9120598397416056, 0.9120598397416056, 0.9120598397416056, 0.9120598397416056, 0.9120598397416056]}], \"precision_score_weighted\": [{\"categories\": [\"0\", \"1\", \"2\", \"3\", \"4\", \"5\", \"6\", \"7\", \"8\", \"9\", \"10\", \"11\", \"12\", \"13\", \"14\", \"15\", \"16\", \"17\", \"18\", \"19\", \"20\", \"21\", \"22\", \"23\", \"24\", \"25\", \"26\", \"27\", \"28\", \"29\", \"30\", \"31\", \"32\", \"33\"], \"mode\": \"markers\", \"name\": \"precision_score_weighted\", \"stepped\": false, \"type\": \"scatter\", \"data\": [0.8296778559936454, 0.8358295096304733, 0.841335357580573, 0.8248032859652424, 0.8520053197881575, 0.8205892945817647, 0.8044874782290582, 0.813912967459775, 0.8157197097126067, 0.825805223255816, 0.8219463312485914, 0.7997595086885457, 0.8505275330688224, 0.7997603474826197, 0.851608540235234, 0.8062642851904137, 0.7923921049196178, 0.8424030847320322, 0.8228468829018166, 0.814019816767221, 0.8242456460797621, 0.845125791090564, 0.8428328897861567, 0.8299477893021149, 0.8148649288131214, 0.8317306432572208, 0.8450018249340743, 0.6899123902056453, 0.8511845118887372, 0.8233913962430585, 0.465455586164677, 0.8384197687929031, 0.8730024325143315, 0.8431618081398784]}, {\"categories\": [\"0\", \"1\", \"2\", \"3\", \"4\", \"5\", \"6\", \"7\", \"8\", \"9\", \"10\", \"11\", \"12\", \"13\", \"14\", \"15\", \"16\", \"17\", \"18\", \"19\", \"20\", \"21\", \"22\", \"23\", \"24\", \"25\", \"26\", \"27\", \"28\", \"29\", \"30\", \"31\", \"32\", \"33\"], \"mode\": \"lines\", \"name\": \"precision_score_weighted_max\", \"stepped\": true, \"type\": \"scatter\", \"data\": [0.8296778559936454, 0.8358295096304733, 0.841335357580573, 0.841335357580573, 0.8520053197881575, 0.8520053197881575, 0.8520053197881575, 0.8520053197881575, 0.8520053197881575, 0.8520053197881575, 0.8520053197881575, 0.8520053197881575, 0.8520053197881575, 0.8520053197881575, 0.8520053197881575, 0.8520053197881575, 0.8520053197881575, 0.8520053197881575, 0.8520053197881575, 0.8520053197881575, 0.8520053197881575, 0.8520053197881575, 0.8520053197881575, 0.8520053197881575, 0.8520053197881575, 0.8520053197881575, 0.8520053197881575, 0.8520053197881575, 0.8520053197881575, 0.8520053197881575, 0.8520053197881575, 0.8520053197881575, 0.8730024325143315, 0.8730024325143315]}], \"recall_score_macro\": [{\"categories\": [\"0\", \"1\", \"2\", \"3\", \"4\", \"5\", \"6\", \"7\", \"8\", \"9\", \"10\", \"11\", \"12\", \"13\", \"14\", \"15\", \"16\", \"17\", \"18\", \"19\", \"20\", \"21\", \"22\", \"23\", \"24\", \"25\", \"26\", \"27\", \"28\", \"29\", \"30\", \"31\", \"32\", \"33\"], \"mode\": \"markers\", \"name\": \"recall_score_macro\", \"stepped\": false, \"type\": \"scatter\", \"data\": [0.7924492893418248, 0.7839119650592231, 0.8121447557880147, 0.7817475780505778, 0.8038648341531315, 0.7968434674766792, 0.7560329556869628, 0.7149894454729365, 0.7942286807540145, 0.7826725220826267, 0.7877803340303116, 0.77732827674629, 0.8311785722131356, 0.7501785182921837, 0.7797249232624971, 0.7010834716305897, 0.6360327559797337, 0.8263896327983176, 0.7978604166292215, 0.769305018842377, 0.8056508558453309, 0.8258204272536461, 0.7942342725564323, 0.7520013460267249, 0.6625332862024272, 0.7729599207561714, 0.7811241719639009, 0.5275433015199718, 0.794328434515001, 0.7802570631454288, 0.5, 0.7962590841825884, 0.8347527125234406, 0.7917168431080036]}, {\"categories\": [\"0\", \"1\", \"2\", \"3\", \"4\", \"5\", \"6\", \"7\", \"8\", \"9\", \"10\", \"11\", \"12\", \"13\", \"14\", \"15\", \"16\", \"17\", \"18\", \"19\", \"20\", \"21\", \"22\", \"23\", \"24\", \"25\", \"26\", \"27\", \"28\", \"29\", \"30\", \"31\", \"32\", \"33\"], \"mode\": \"lines\", \"name\": \"recall_score_macro_max\", \"stepped\": true, \"type\": \"scatter\", \"data\": [0.7924492893418248, 0.7924492893418248, 0.8121447557880147, 0.8121447557880147, 0.8121447557880147, 0.8121447557880147, 0.8121447557880147, 0.8121447557880147, 0.8121447557880147, 0.8121447557880147, 0.8121447557880147, 0.8121447557880147, 0.8311785722131356, 0.8311785722131356, 0.8311785722131356, 0.8311785722131356, 0.8311785722131356, 0.8311785722131356, 0.8311785722131356, 0.8311785722131356, 0.8311785722131356, 0.8311785722131356, 0.8311785722131356, 0.8311785722131356, 0.8311785722131356, 0.8311785722131356, 0.8311785722131356, 0.8311785722131356, 0.8311785722131356, 0.8311785722131356, 0.8311785722131356, 0.8311785722131356, 0.8347527125234406, 0.8347527125234406]}], \"f1_score_micro\": [{\"categories\": [\"0\", \"1\", \"2\", \"3\", \"4\", \"5\", \"6\", \"7\", \"8\", \"9\", \"10\", \"11\", \"12\", \"13\", \"14\", \"15\", \"16\", \"17\", \"18\", \"19\", \"20\", \"21\", \"22\", \"23\", \"24\", \"25\", \"26\", \"27\", \"28\", \"29\", \"30\", \"31\", \"32\", \"33\"], \"mode\": \"markers\", \"name\": \"f1_score_micro\", \"stepped\": false, \"type\": \"scatter\", \"data\": [0.825925925925926, 0.825993265993266, 0.8393602693602693, 0.816026936026936, 0.8493939393939395, 0.7823232323232322, 0.7991919191919191, 0.7927272727272726, 0.8092255892255893, 0.8193602693602693, 0.8125252525252525, 0.7790235690235691, 0.8392592592592593, 0.7992592592592592, 0.8360942760942761, 0.7859595959595959, 0.7491919191919191, 0.8259932659932661, 0.7757239057239057, 0.8091919191919192, 0.8091582491582492, 0.836127946127946, 0.8360942760942761, 0.8093939393939394, 0.7627272727272727, 0.8227272727272728, 0.836026936026936, 0.6756902356902357, 0.8393939393939395, 0.8159932659932659, 0.678989898989899, 0.8292592592592593, 0.8694612794612794, 0.8293939393939395]}, {\"categories\": [\"0\", \"1\", \"2\", \"3\", \"4\", \"5\", \"6\", \"7\", \"8\", \"9\", \"10\", \"11\", \"12\", \"13\", \"14\", \"15\", \"16\", \"17\", \"18\", \"19\", \"20\", \"21\", \"22\", \"23\", \"24\", \"25\", \"26\", \"27\", \"28\", \"29\", \"30\", \"31\", \"32\", \"33\"], \"mode\": \"lines\", \"name\": \"f1_score_micro_max\", \"stepped\": true, \"type\": \"scatter\", \"data\": [0.825925925925926, 0.825993265993266, 0.8393602693602693, 0.8393602693602693, 0.8493939393939395, 0.8493939393939395, 0.8493939393939395, 0.8493939393939395, 0.8493939393939395, 0.8493939393939395, 0.8493939393939395, 0.8493939393939395, 0.8493939393939395, 0.8493939393939395, 0.8493939393939395, 0.8493939393939395, 0.8493939393939395, 0.8493939393939395, 0.8493939393939395, 0.8493939393939395, 0.8493939393939395, 0.8493939393939395, 0.8493939393939395, 0.8493939393939395, 0.8493939393939395, 0.8493939393939395, 0.8493939393939395, 0.8493939393939395, 0.8493939393939395, 0.8493939393939395, 0.8493939393939395, 0.8493939393939395, 0.8694612794612794, 0.8694612794612794]}], \"recall_score_micro\": [{\"categories\": [\"0\", \"1\", \"2\", \"3\", \"4\", \"5\", \"6\", \"7\", \"8\", \"9\", \"10\", \"11\", \"12\", \"13\", \"14\", \"15\", \"16\", \"17\", \"18\", \"19\", \"20\", \"21\", \"22\", \"23\", \"24\", \"25\", \"26\", \"27\", \"28\", \"29\", \"30\", \"31\", \"32\", \"33\"], \"mode\": \"markers\", \"name\": \"recall_score_micro\", \"stepped\": false, \"type\": \"scatter\", \"data\": [0.825925925925926, 0.8259932659932661, 0.8393602693602693, 0.816026936026936, 0.8493939393939395, 0.7823232323232322, 0.7991919191919191, 0.7927272727272728, 0.8092255892255893, 0.8193602693602693, 0.8125252525252525, 0.7790235690235691, 0.8392592592592593, 0.7992592592592592, 0.8360942760942761, 0.7859595959595959, 0.7491919191919192, 0.8259932659932661, 0.7757239057239057, 0.8091919191919192, 0.8091582491582492, 0.836127946127946, 0.8360942760942761, 0.8093939393939394, 0.7627272727272727, 0.8227272727272728, 0.836026936026936, 0.6756902356902357, 0.8393939393939395, 0.8159932659932659, 0.678989898989899, 0.8292592592592593, 0.8694612794612794, 0.8293939393939395]}, {\"categories\": [\"0\", \"1\", \"2\", \"3\", \"4\", \"5\", \"6\", \"7\", \"8\", \"9\", \"10\", \"11\", \"12\", \"13\", \"14\", \"15\", \"16\", \"17\", \"18\", \"19\", \"20\", \"21\", \"22\", \"23\", \"24\", \"25\", \"26\", \"27\", \"28\", \"29\", \"30\", \"31\", \"32\", \"33\"], \"mode\": \"lines\", \"name\": \"recall_score_micro_max\", \"stepped\": true, \"type\": \"scatter\", \"data\": [0.825925925925926, 0.8259932659932661, 0.8393602693602693, 0.8393602693602693, 0.8493939393939395, 0.8493939393939395, 0.8493939393939395, 0.8493939393939395, 0.8493939393939395, 0.8493939393939395, 0.8493939393939395, 0.8493939393939395, 0.8493939393939395, 0.8493939393939395, 0.8493939393939395, 0.8493939393939395, 0.8493939393939395, 0.8493939393939395, 0.8493939393939395, 0.8493939393939395, 0.8493939393939395, 0.8493939393939395, 0.8493939393939395, 0.8493939393939395, 0.8493939393939395, 0.8493939393939395, 0.8493939393939395, 0.8493939393939395, 0.8493939393939395, 0.8493939393939395, 0.8493939393939395, 0.8493939393939395, 0.8694612794612794, 0.8694612794612794]}]}, \"metricName\": null, \"primaryMetricName\": \"accuracy\", \"showLegend\": false}, \"run_metrics\": [{\"name\": \"experiment_status\", \"run_id\": \"AutoML_c7b2d821-31c1-4aad-af00-8b853ffcede3\", \"categories\": [0, 1, 2, 3, 4, 5, 6, 7, 8, 9, 10, 11, 12, 13], \"series\": [{\"data\": [\"DatasetEvaluation\", \"FeaturesGeneration\", \"DatasetFeaturization\", \"DatasetFeaturizationCompleted\", \"DatasetCrossValidationSplit\", \"ModelSelection\", \"BestRunExplainModel\", \"ModelExplanationDataSetSetup\", \"PickSurrogateModel\", \"EngineeredFeatureExplanations\", \"EngineeredFeatureExplanations\", \"RawFeaturesExplanations\", \"RawFeaturesExplanations\", \"BestRunExplainModel\"]}]}, {\"name\": \"experiment_status_description\", \"run_id\": \"AutoML_c7b2d821-31c1-4aad-af00-8b853ffcede3\", \"categories\": [0, 1, 2, 3, 4, 5, 6, 7, 8, 9, 10, 11, 12, 13], \"series\": [{\"data\": [\"Gathering dataset statistics.\", \"Generating features for the dataset.\", \"Beginning to fit featurizers and featurize the dataset.\", \"Completed fit featurizers and featurizing the dataset.\", \"Generating individually featurized CV splits.\", \"Beginning model selection.\", \"Best run model explanations started\", \"Model explanations data setup completed\", \"Choosing LightGBM as the surrogate model for explanations\", \"Computation of engineered features started\", \"Computation of engineered features completed\", \"Computation of raw features started\", \"Computation of raw features completed\", \"Best run model explanations completed\"]}]}, {\"name\": \"balanced_accuracy\", \"run_id\": \"AutoML_c7b2d821-31c1-4aad-af00-8b853ffcede3\", \"categories\": [0], \"series\": [{\"data\": [0.8347527125234406]}]}, {\"name\": \"average_precision_score_weighted\", \"run_id\": \"AutoML_c7b2d821-31c1-4aad-af00-8b853ffcede3\", \"categories\": [0], \"series\": [{\"data\": [0.9114506685426794]}]}, {\"name\": \"f1_score_weighted\", \"run_id\": \"AutoML_c7b2d821-31c1-4aad-af00-8b853ffcede3\", \"categories\": [0], \"series\": [{\"data\": [0.8661751087566115]}]}, {\"name\": \"norm_macro_recall\", \"run_id\": \"AutoML_c7b2d821-31c1-4aad-af00-8b853ffcede3\", \"categories\": [0], \"series\": [{\"data\": [0.6695054250468813]}]}, {\"name\": \"f1_score_micro\", \"run_id\": \"AutoML_c7b2d821-31c1-4aad-af00-8b853ffcede3\", \"categories\": [0], \"series\": [{\"data\": [0.8694612794612794]}]}, {\"name\": \"matthews_correlation\", \"run_id\": \"AutoML_c7b2d821-31c1-4aad-af00-8b853ffcede3\", \"categories\": [0], \"series\": [{\"data\": [0.7023751811209639]}]}, {\"name\": \"precision_score_macro\", \"run_id\": \"AutoML_c7b2d821-31c1-4aad-af00-8b853ffcede3\", \"categories\": [0], \"series\": [{\"data\": [0.8686311597312083]}]}, {\"name\": \"f1_score_macro\", \"run_id\": \"AutoML_c7b2d821-31c1-4aad-af00-8b853ffcede3\", \"categories\": [0], \"series\": [{\"data\": [0.8458641839764796]}]}, {\"name\": \"AUC_macro\", \"run_id\": \"AutoML_c7b2d821-31c1-4aad-af00-8b853ffcede3\", \"categories\": [0], \"series\": [{\"data\": [0.903352138564864]}]}, {\"name\": \"log_loss\", \"run_id\": \"AutoML_c7b2d821-31c1-4aad-af00-8b853ffcede3\", \"categories\": [0], \"series\": [{\"data\": [0.45049715122012507]}]}, {\"name\": \"recall_score_weighted\", \"run_id\": \"AutoML_c7b2d821-31c1-4aad-af00-8b853ffcede3\", \"categories\": [0], \"series\": [{\"data\": [0.8694612794612794]}]}, {\"name\": \"weighted_accuracy\", \"run_id\": \"AutoML_c7b2d821-31c1-4aad-af00-8b853ffcede3\", \"categories\": [0], \"series\": [{\"data\": [0.895185242721583]}]}, {\"name\": \"accuracy\", \"run_id\": \"AutoML_c7b2d821-31c1-4aad-af00-8b853ffcede3\", \"categories\": [0], \"series\": [{\"data\": [0.8694612794612794]}]}, {\"name\": \"recall_score_micro\", \"run_id\": \"AutoML_c7b2d821-31c1-4aad-af00-8b853ffcede3\", \"categories\": [0], \"series\": [{\"data\": [0.8694612794612794]}]}, {\"name\": \"recall_score_macro\", \"run_id\": \"AutoML_c7b2d821-31c1-4aad-af00-8b853ffcede3\", \"categories\": [0], \"series\": [{\"data\": [0.8347527125234406]}]}, {\"name\": \"AUC_micro\", \"run_id\": \"AutoML_c7b2d821-31c1-4aad-af00-8b853ffcede3\", \"categories\": [0], \"series\": [{\"data\": [0.9133159235452165]}]}, {\"name\": \"average_precision_score_macro\", \"run_id\": \"AutoML_c7b2d821-31c1-4aad-af00-8b853ffcede3\", \"categories\": [0], \"series\": [{\"data\": [0.8918682295546393]}]}, {\"name\": \"AUC_weighted\", \"run_id\": \"AutoML_c7b2d821-31c1-4aad-af00-8b853ffcede3\", \"categories\": [0], \"series\": [{\"data\": [0.903352138564864]}]}, {\"name\": \"precision_score_weighted\", \"run_id\": \"AutoML_c7b2d821-31c1-4aad-af00-8b853ffcede3\", \"categories\": [0], \"series\": [{\"data\": [0.8730024325143315]}]}, {\"name\": \"average_precision_score_micro\", \"run_id\": \"AutoML_c7b2d821-31c1-4aad-af00-8b853ffcede3\", \"categories\": [0], \"series\": [{\"data\": [0.91235169402137]}]}, {\"name\": \"precision_score_micro\", \"run_id\": \"AutoML_c7b2d821-31c1-4aad-af00-8b853ffcede3\", \"categories\": [0], \"series\": [{\"data\": [0.8694612794612794]}]}], \"run_logs\": \"\\nRun is completed.\", \"graph\": {}, \"widget_settings\": {\"childWidgetDisplay\": \"popup\", \"send_telemetry\": false, \"log_level\": \"INFO\", \"sdk_version\": \"1.18.0\"}, \"loading\": false}"
     },
     "metadata": {},
     "output_type": "display_data"
    },
    {
     "name": "stdout",
     "output_type": "stream",
     "text": [
      "Run(Experiment: automl_test,\n",
      "Id: AutoML_c7b2d821-31c1-4aad-af00-8b853ffcede3_32,\n",
      "Type: azureml.scriptrun,\n",
      "Status: Completed)\n",
      "Pipeline(memory=None,\n",
      "         steps=[('datatransformer',\n",
      "                 DataTransformer(enable_dnn=None, enable_feature_sweeping=None,\n",
      "                                 feature_sweeping_config=None,\n",
      "                                 feature_sweeping_timeout=None,\n",
      "                                 featurization_config=None, force_text_dnn=None,\n",
      "                                 is_cross_validation=None,\n",
      "                                 is_onnx_compatible=None, logger=None,\n",
      "                                 observer=None, task=None, working_dir=None)),\n",
      "                ('prefittedsoftvotingclassifier',...\n",
      "                                                                                                    max_samples=None,\n",
      "                                                                                                    min_impurity_decrease=0.0,\n",
      "                                                                                                    min_impurity_split=None,\n",
      "                                                                                                    min_samples_leaf=0.01,\n",
      "                                                                                                    min_samples_split=0.10368421052631578,\n",
      "                                                                                                    min_weight_fraction_leaf=0.0,\n",
      "                                                                                                    n_estimators=10,\n",
      "                                                                                                    n_jobs=1,\n",
      "                                                                                                    oob_score=False,\n",
      "                                                                                                    random_state=None,\n",
      "                                                                                                    verbose=0,\n",
      "                                                                                                    warm_start=False))],\n",
      "                                                                     verbose=False))],\n",
      "                                               flatten_transform=None,\n",
      "                                               weights=[0.125, 0.125, 0.125,\n",
      "                                                        0.25, 0.125, 0.125,\n",
      "                                                        0.125]))],\n",
      "         verbose=False)\n",
      "Registering model test\n"
     ]
    }
   ],
   "source": [
    "exp=Experiment(ws,\"automl_test\")\n",
    "automl_model=exp.submit(automl_config,show_output=True)\n",
    "### YOUR CODE HERE ###\n",
    "import joblib\n",
    "from azureml.widgets import RunDetails\n",
    "RunDetails(automl_model).show()\n",
    "best_run, fitted_model = automl_model.get_output()\n",
    "print(best_run)\n",
    "print(fitted_model)\n",
    "from azureml.core.model import Model\n",
    "import joblib\n",
    "joblib.dump(fitted_model,\"automl_best_model.pkl\")\n",
    "model = Model.register(workspace=ws, model_path=\"automl_best_model.pkl\", model_name=\"test\")"
   ]
  },
  {
   "cell_type": "code",
   "execution_count": 15,
   "metadata": {},
   "outputs": [
    {
     "name": "stdout",
     "output_type": "stream",
     "text": [
      "Tips: You can try get_logs(): https://aka.ms/debugimage#dockerlog or local deployment: https://aka.ms/debugimage#debug-locally to debug if deployment takes longer than 10 minutes.\n",
      "Running...\n",
      "Succeeded\n",
      "ACI service creation operation finished, operation \"Succeeded\"\n"
     ]
    }
   ],
   "source": [
    "from azureml.core.model import InferenceConfig\n",
    "from azureml.core.webservice import AciWebservice\n",
    "\n",
    "\n",
    "service_name = 'custom-env-service'\n",
    "\n",
    "inference_config = InferenceConfig(entry_script='score.py', environment=best_run.get_environment())\n",
    "aci_config = AciWebservice.deploy_configuration(cpu_cores=1, memory_gb=1)\n",
    "\n",
    "service = Model.deploy(workspace=ws,\n",
    "                       name=service_name,\n",
    "                       models=[model],\n",
    "                       inference_config=inference_config,\n",
    "                       deployment_config=aci_config,\n",
    "                       overwrite=True)\n",
    "service.wait_for_deployment(show_output=True)"
   ]
  },
  {
   "cell_type": "code",
   "execution_count": 13,
   "metadata": {},
   "outputs": [
    {
     "data": {
      "text/plain": [
       "'2020-11-23T04:05:08.2373015Z stdout F 2020-11-23T04:05:08,226298800+00:00 - gunicorn/run \\n2020-11-23T04:05:08.2543037Z stdout F 2020-11-23T04:05:08,243031400+00:00 - iot-server/run \\n2020-11-23T04:05:08.2653018Z stdout F 2020-11-23T04:05:08,254408900+00:00 - rsyslog/run \\n2020-11-23T04:05:08.2942928Z stdout F 2020-11-23T04:05:08,283487500+00:00 - nginx/run \\n2020-11-23T04:05:08.3013311Z stderr F /usr/sbin/nginx: /azureml-envs/azureml_0e3a8a6dba181476a2523c12c58dfc97/lib/libcrypto.so.1.0.0: no version information available (required by /usr/sbin/nginx)\\n2020-11-23T04:05:08.3013311Z stderr F /usr/sbin/nginx: /azureml-envs/azureml_0e3a8a6dba181476a2523c12c58dfc97/lib/libcrypto.so.1.0.0: no version information available (required by /usr/sbin/nginx)\\n2020-11-23T04:05:08.3053191Z stderr F /usr/sbin/nginx: /azureml-envs/azureml_0e3a8a6dba181476a2523c12c58dfc97/lib/libssl.so.1.0.0: no version information available (required by /usr/sbin/nginx)\\n2020-11-23T04:05:08.3053191Z stderr F /usr/sbin/nginx: /azureml-envs/azureml_0e3a8a6dba181476a2523c12c58dfc97/lib/libssl.so.1.0.0: no version information available (required by /usr/sbin/nginx)\\n2020-11-23T04:05:08.3053191Z stderr F /usr/sbin/nginx: /azureml-envs/azureml_0e3a8a6dba181476a2523c12c58dfc97/lib/libssl.so.1.0.0: no version information available (required by /usr/sbin/nginx)\\n2020-11-23T04:05:08.3407436Z stderr F rsyslogd: /azureml-envs/azureml_0e3a8a6dba181476a2523c12c58dfc97/lib/libuuid.so.1: no version information available (required by rsyslogd)\\n2020-11-23T04:05:08.5052999Z stdout F EdgeHubConnectionString and IOTEDGE_IOTHUBHOSTNAME are not set. Exiting...\\n2020-11-23T04:05:08.5143001Z stdout F 2020-11-23T04:05:08,502153200+00:00 - iot-server/finish 1 0\\n2020-11-23T04:05:08.5143001Z stdout F 2020-11-23T04:05:08,503332300+00:00 - Exit code 1 is normal. Not restarting iot-server.\\n2020-11-23T04:05:08.8958609Z stdout F Starting gunicorn 19.9.0\\n2020-11-23T04:05:08.8958609Z stdout F Listening at: http://127.0.0.1:31311 (479)\\n2020-11-23T04:05:08.8958609Z stdout F Using worker: sync\\n2020-11-23T04:05:08.8958609Z stdout F worker timeout is set to 300\\n2020-11-23T04:05:08.8958609Z stdout F Booting worker with pid: 508\\n2020-11-23T04:05:09.8133195Z stderr F /azureml-envs/azureml_0e3a8a6dba181476a2523c12c58dfc97/lib/python3.6/site-packages/sklearn/externals/joblib/__init__.py:15: FutureWarning: sklearn.externals.joblib is deprecated in 0.21 and will be removed in 0.23. Please import this functionality directly from joblib, which can be installed with: pip install joblib. If this warning is raised when loading pickled models, you may need to re-serialize those models with scikit-learn 0.21+.\\n2020-11-23T04:05:09.8133195Z stderr F   warnings.warn(msg, category=FutureWarning)\\n2020-11-23T04:05:09.8173158Z stdout F SPARK_HOME not set. Skipping PySpark Initialization.\\n2020-11-23T04:05:09.8173158Z stdout F Initializing logger\\n2020-11-23T04:05:09.8173158Z stdout F 2020-11-23 04:05:09,801 | root | INFO | Starting up app insights client\\n2020-11-23T04:05:09.8173158Z stdout F Starting up app insights client\\n2020-11-23T04:05:09.8173158Z stdout F 2020-11-23 04:05:09,802 | root | INFO | Starting up request id generator\\n2020-11-23T04:05:09.8173158Z stdout F Starting up request id generator\\n2020-11-23T04:05:09.8173158Z stdout F 2020-11-23 04:05:09,802 | root | INFO | Starting up app insight hooks\\n2020-11-23T04:05:09.8173158Z stdout F Starting up app insight hooks\\n2020-11-23T04:05:09.8173158Z stdout F 2020-11-23 04:05:09,802 | root | INFO | Invoking user\\'s init function\\n2020-11-23T04:05:09.8173158Z stdout F Invoking user\\'s init function\\n2020-11-23T04:05:09.8173158Z stdout F 2020-11-23 04:05:09,802 | root | ERROR | User\\'s init function failed\\n2020-11-23T04:05:09.8173158Z stdout F User\\'s init function failed\\n2020-11-23T04:05:09.8173158Z stdout F 2020-11-23 04:05:09,802 | root | ERROR | Encountered Exception Traceback (most recent call last):\\n2020-11-23T04:05:09.8173158Z stdout F   File \"/var/azureml-server/aml_blueprint.py\", line 177, in register\\n2020-11-23T04:05:09.8173158Z stdout F     main.init()\\n2020-11-23T04:05:09.8173158Z stdout F   File \"/var/azureml-app/score.py\", line 10, in init\\n2020-11-23T04:05:09.8173158Z stdout F     model = joblib.load(\\'automl_best_model.pkl\\')\\n2020-11-23T04:05:09.8173158Z stdout F   File \"/azureml-envs/azureml_0e3a8a6dba181476a2523c12c58dfc97/lib/python3.6/site-packages/joblib/numpy_pickle.py\", line 597, in load\\n2020-11-23T04:05:09.8173158Z stdout F     with open(filename, \\'rb\\') as f:\\n2020-11-23T04:05:09.8173158Z stdout F FileNotFoundError: [Errno 2] No such file or directory: \\'automl_best_model.pkl\\'\\n2020-11-23T04:05:09.8173158Z stdout F \\n2020-11-23T04:05:09.8173158Z stdout F Encountered Exception Traceback (most recent call last):\\n2020-11-23T04:05:09.8173158Z stdout F   File \"/var/azureml-server/aml_blueprint.py\", line 177, in register\\n2020-11-23T04:05:09.8173158Z stdout F     main.init()\\n2020-11-23T04:05:09.8173158Z stdout F   File \"/var/azureml-app/score.py\", line 10, in init\\n2020-11-23T04:05:09.8173158Z stdout F     model = joblib.load(\\'automl_best_model.pkl\\')\\n2020-11-23T04:05:09.8183191Z stdout F   File \"/azureml-envs/azureml_0e3a8a6dba181476a2523c12c58dfc97/lib/python3.6/site-packages/joblib/numpy_pickle.py\", line 597, in load\\n2020-11-23T04:05:09.8183191Z stdout F     with open(filename, \\'rb\\') as f:\\n2020-11-23T04:05:09.8183191Z stdout F FileNotFoundError: [Errno 2] No such file or directory: \\'automl_best_model.pkl\\'\\n2020-11-23T04:05:09.8183191Z stdout F \\n2020-11-23T04:05:09.8183191Z stdout F Worker exiting (pid: 508)\\n2020-11-23T04:05:09.982318Z stdout F Shutting down: Master\\n2020-11-23T04:05:09.982318Z stdout F Reason: Worker failed to boot.\\n2020-11-23T04:05:10.0263155Z stdout F 2020-11-23T04:05:10,015196700+00:00 - gunicorn/finish 3 0\\n2020-11-23T04:05:10.0273239Z stdout F 2020-11-23T04:05:10,016635300+00:00 - Exit code 3 is not normal. Killing image.\\n'"
      ]
     },
     "execution_count": 13,
     "metadata": {},
     "output_type": "execute_result"
    }
   ],
   "source": [
    "service.get_logs()"
   ]
  },
  {
   "cell_type": "code",
   "execution_count": 17,
   "metadata": {},
   "outputs": [],
   "source": [
    "x_df=dataset.to_pandas_dataframe()\n",
    "input_data=x_df[0:2].to_dict(orient='records')"
   ]
  },
  {
   "cell_type": "code",
   "execution_count": 47,
   "metadata": {},
   "outputs": [
    {
     "data": {
      "text/plain": [
       "'http://e5401dfb-1add-43be-987a-87e391a83eb3.southcentralus.azurecontainer.io/score'"
      ]
     },
     "execution_count": 47,
     "metadata": {},
     "output_type": "execute_result"
    }
   ],
   "source": [
    "service.scoring_uri"
   ]
  },
  {
   "cell_type": "code",
   "execution_count": 90,
   "metadata": {},
   "outputs": [],
   "source": []
  },
  {
   "cell_type": "code",
   "execution_count": 18,
   "metadata": {},
   "outputs": [],
   "source": [
    "input_data={\"data\":[{'age': 75.0,\n",
    "  'anaemia': 0,\n",
    "  'creatinine_phosphokinase': 582,\n",
    "  'diabetes': 0,\n",
    "  'ejection_fraction': 20,\n",
    "  'high_blood_pressure': 1,\n",
    "  'platelets': 265000.0,\n",
    "  'serum_creatinine': 1.9,\n",
    "  'serum_sodium': 130,\n",
    "  'sex': 1,\n",
    "  'smoking': 0,\n",
    "  'time': 4}]}"
   ]
  },
  {
   "cell_type": "code",
   "execution_count": 20,
   "metadata": {},
   "outputs": [],
   "source": [
    "import json\n",
    "i=json.dumps(input_data)"
   ]
  },
  {
   "cell_type": "code",
   "execution_count": 21,
   "metadata": {},
   "outputs": [],
   "source": [
    "service.update(auth_enabled=True)"
   ]
  },
  {
   "cell_type": "code",
   "execution_count": 64,
   "metadata": {},
   "outputs": [],
   "source": [
    "with open(\"data.json\",\"w\") as _f:\n",
    "    _f.write(i)\n",
    "    "
   ]
  },
  {
   "cell_type": "code",
   "execution_count": 33,
   "metadata": {},
   "outputs": [],
   "source": [
    "headers={\"Content-Type\":\"application/json\"}\n",
    "key=\"nmzf01o9jlalITeEPXejCGkw7Bqs0Iv0\"\n",
    "headers[\"Authorization\"]=f'Bearer \"hL84fRidVsQHrZsgj9he798pG7tEyr6c\"'"
   ]
  },
  {
   "cell_type": "code",
   "execution_count": 29,
   "metadata": {},
   "outputs": [
    {
     "name": "stdout",
     "output_type": "stream",
     "text": [
      "\u001b[33mTo sign in, use a web browser to open the page https://microsoft.com/devicelogin and enter the code RWJDCH8LX to authenticate.\u001b[0m\n",
      "[\n",
      "  {\n",
      "    \"cloudName\": \"AzureCloud\",\n",
      "    \"homeTenantId\": \"660b3398-b80e-49d2-bc5b-ac1dc93b5254\",\n",
      "    \"id\": \"dafd62fe-51d3-4671-af50-6bac2f001b5d\",\n",
      "    \"isDefault\": true,\n",
      "    \"managedByTenants\": [],\n",
      "    \"name\": \"Azure Sponsorship - Udacity -47\",\n",
      "    \"state\": \"Enabled\",\n",
      "    \"tenantId\": \"660b3398-b80e-49d2-bc5b-ac1dc93b5254\",\n",
      "    \"user\": {\n",
      "      \"name\": \"odl_user_127468@udacitylabs.onmicrosoft.com\",\n",
      "      \"type\": \"user\"\n",
      "    }\n",
      "  }\n",
      "]\n",
      "\u001b[0m"
     ]
    }
   ],
   "source": [
    "!az login"
   ]
  },
  {
   "cell_type": "code",
   "execution_count": 34,
   "metadata": {},
   "outputs": [],
   "source": [
    "import requests\n",
    "result=requests.post('http://b16e4ef9-3001-4d9c-82f2-b0f1c7850e7d.southcentralus.azurecontainer.io/score',i,headers=headers)"
   ]
  },
  {
   "cell_type": "code",
   "execution_count": 36,
   "metadata": {},
   "outputs": [
    {
     "data": {
      "text/plain": [
       "'Unauthorized, no token matched'"
      ]
     },
     "execution_count": 36,
     "metadata": {},
     "output_type": "execute_result"
    }
   ],
   "source": [
    "result.text\n"
   ]
  },
  {
   "cell_type": "code",
   "execution_count": null,
   "metadata": {},
   "outputs": [],
   "source": [
    "\n",
    "service.delete()"
   ]
  }
 ],
 "metadata": {
  "kernel_info": {
   "name": "python3-azureml"
  },
  "kernelspec": {
   "display_name": "Python 3",
   "language": "python",
   "name": "python3"
  },
  "language_info": {
   "codemirror_mode": {
    "name": "ipython",
    "version": 3
   },
   "file_extension": ".py",
   "mimetype": "text/x-python",
   "name": "python",
   "nbconvert_exporter": "python",
   "pygments_lexer": "ipython3",
   "version": "3.6.9"
  },
  "nteract": {
   "version": "nteract-front-end@1.0.0"
  }
 },
 "nbformat": 4,
 "nbformat_minor": 2
}
