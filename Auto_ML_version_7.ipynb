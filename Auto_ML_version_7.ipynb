{
 "cells": [
  {
   "cell_type": "markdown",
   "metadata": {},
   "source": [
    "# Automated ML\n",
    "\n",
    "TODO: Import Dependencies. In the cell below, import all the dependencies that you will need to complete the project."
   ]
  },
  {
   "cell_type": "code",
   "execution_count": 1,
   "metadata": {},
   "outputs": [],
   "source": [
    "import logging\n",
    "import os\n",
    "import csv\n",
    "\n",
    "from matplotlib import pyplot as plt\n",
    "import numpy as np\n",
    "import pandas as pd\n",
    "from sklearn import datasets\n",
    "import pkg_resources\n",
    "\n",
    "import azureml.core\n",
    "from azureml.core.experiment import Experiment\n",
    "from azureml.core.workspace import Workspace\n",
    "from azureml.train.automl import AutoMLConfig\n",
    "from azureml.core.dataset import Dataset\n",
    "\n",
    "from azureml.pipeline.steps import AutoMLStep"
   ]
  },
  {
   "cell_type": "code",
   "execution_count": 2,
   "metadata": {
    "gather": {
     "logged": 1598423888013
    },
    "jupyter": {
     "outputs_hidden": false,
     "source_hidden": false
    },
    "nteract": {
     "transient": {
      "deleting": false
     }
    }
   },
   "outputs": [
    {
     "name": "stdout",
     "output_type": "stream",
     "text": [
      "Workspace name: quick-starts-ws-129417\n",
      "Azure region: southcentralus\n",
      "Subscription id: da775cb9-9ca6-4943-ad21-26dfa99526fc\n",
      "Resource group: aml-quickstarts-129417\n"
     ]
    }
   ],
   "source": [
    "from azureml.core import Workspace, Experiment\n",
    "from azureml.pipeline.steps import PythonScriptStep\n",
    "from azureml.train.sklearn import SKLearn\n",
    "\n",
    "ws = Workspace.get(name=\"quick-starts-ws-129417\")\n",
    "exp = Experiment(workspace=ws, name=\"udacity-project\")\n",
    "\n",
    "print('Workspace name: ' + ws.name, \n",
    "      'Azure region: ' + ws.location, \n",
    "      'Subscription id: ' + ws.subscription_id, \n",
    "      'Resource group: ' + ws.resource_group, sep = '\\n')\n",
    "\n",
    "run = exp.start_logging()\n",
    "from azureml.core.compute import ComputeTarget, AmlCompute\n",
    "\n",
    "# TODO: Create compute cluster\n",
    "\n",
    "# Use vm_size = \"Standard_D2_V2\" in your provisioning configuration.\n",
    "# max_nodes should be no greater than 4.\n",
    "vm_size = \"Standard_DS3_V2\"\n",
    "compute_name=\"notebook129417\"\n",
    "# create the cluster\n",
    "compute_min_nodes=0\n",
    "compute_max_nodes=4\n",
    " \n",
    "\n",
    "\n",
    "\n",
    "### YOUR CODE HERE ###\n",
    "# Checking if  compute already exist or not  if not creating a new target\n",
    "if compute_name in ws.compute_targets:\n",
    "    compute_target = ws.compute_targets[compute_name]\n",
    "    if compute_target and type(compute_target) is AmlCompute:\n",
    "        print(\"found compute target: \" + compute_name)\n",
    "else:\n",
    "    print(\"creating new compute target...\")\n",
    "    provisioning_config = AmlCompute.provisioning_configuration(vm_size = vm_size,\n",
    "                                                                min_nodes = compute_min_nodes, \n",
    "                                                                max_nodes = compute_max_nodes)\n",
    "    # if no min node count is provided it will use the scale settings for the cluster\n",
    "    compute_target.wait_for_completion(show_output=True, timeout_in_minutes=20)\n",
    "    # For a more detailed view of current AmlCompute status, use get_status()\n",
    "    print(compute_target.get_status().serialize())\n",
    "\n",
    "\n",
    "\n"
   ]
  },
  {
   "cell_type": "markdown",
   "metadata": {},
   "source": [
    "## Dataset\n",
    "\n",
    "### Overview\n",
    "TODO: In this markdown cell, give an overview of the dataset you are using. Also mention the task you will be performing.\n",
    "\n",
    "\n",
    "TODO: Get data. In the cell below, write code to access the data you will be using in this project. Remember that the dataset needs to be external."
   ]
  },
  {
   "cell_type": "code",
   "execution_count": 3,
   "metadata": {
    "gather": {
     "logged": 1598423890461
    },
    "jupyter": {
     "outputs_hidden": false,
     "source_hidden": false
    },
    "nteract": {
     "transient": {
      "deleting": false
     }
    }
   },
   "outputs": [
    {
     "name": "stdout",
     "output_type": "stream",
     "text": [
      "Uploading an estimated of 7 files\n",
      "Uploading ./automl_best_model.pkl\n",
      "Uploaded ./automl_best_model.pkl, 1 files out of an estimated total of 7\n",
      "Uploading ./Auto_ML_version_6.ipynb\n",
      "Uploaded ./Auto_ML_version_6.ipynb, 2 files out of an estimated total of 7\n",
      "Uploading ./final.ipynb\n",
      "Uploaded ./final.ipynb, 3 files out of an estimated total of 7\n",
      "Uploading ./heart_failure_clinical_records_dataset.csv\n",
      "Uploaded ./heart_failure_clinical_records_dataset.csv, 4 files out of an estimated total of 7\n",
      "Uploading ./score.py\n",
      "Uploaded ./score.py, 5 files out of an estimated total of 7\n",
      "Uploading ./.ipynb_checkpoints/Auto_ML_version_6-checkpoint.ipynb\n",
      "Uploaded ./.ipynb_checkpoints/Auto_ML_version_6-checkpoint.ipynb, 6 files out of an estimated total of 7\n",
      "Uploading ./.ipynb_checkpoints/final-checkpoint.ipynb\n",
      "Uploaded ./.ipynb_checkpoints/final-checkpoint.ipynb, 7 files out of an estimated total of 7\n",
      "Uploaded 7 files\n"
     ]
    },
    {
     "data": {
      "text/plain": [
       "$AZUREML_DATAREFERENCE_3289bcdafb624e83999cfcfcf5b1d984"
      ]
     },
     "execution_count": 3,
     "metadata": {},
     "output_type": "execute_result"
    }
   ],
   "source": [
    "#ws = Workspace.from_config()\n",
    "\n",
    "# choose a name for experiment\n",
    "#experiment_name = 'your experiment name here'\n",
    "\n",
    "#experiment=Experiment(ws, experiment_name)\n",
    "\n",
    "#workspace = Workspace(subscription_id, resource_group, workspace_name)\n",
    "\n",
    "# get the datastore to upload prepared data\n",
    "datastore = ws.get_default_datastore()\n",
    "\n",
    "# upload the local file from src_dir to the target_path in datastore\n",
    "datastore.upload(src_dir='./', target_path='data')\n",
    "\n",
    "# create a dataset referencing the cloud location\n",
    "#"
   ]
  },
  {
   "cell_type": "code",
   "execution_count": 4,
   "metadata": {},
   "outputs": [],
   "source": [
    "dataset = Dataset.Tabular.from_delimited_files(path = [(datastore, ('data/heart_failure_clinical_records_dataset.csv'))])"
   ]
  },
  {
   "cell_type": "code",
   "execution_count": 5,
   "metadata": {},
   "outputs": [],
   "source": [
    "x_df=dataset.to_pandas_dataframe()"
   ]
  },
  {
   "cell_type": "code",
   "execution_count": 6,
   "metadata": {},
   "outputs": [
    {
     "data": {
      "text/plain": [
       "Index(['age', 'anaemia', 'creatinine_phosphokinase', 'diabetes',\n",
       "       'ejection_fraction', 'high_blood_pressure', 'platelets',\n",
       "       'serum_creatinine', 'serum_sodium', 'sex', 'smoking', 'time',\n",
       "       'DEATH_EVENT'],\n",
       "      dtype='object')"
      ]
     },
     "execution_count": 6,
     "metadata": {},
     "output_type": "execute_result"
    }
   ],
   "source": [
    "x_df.columns"
   ]
  },
  {
   "cell_type": "code",
   "execution_count": 7,
   "metadata": {},
   "outputs": [],
   "source": [
    "x_df=x_df.drop(['DEATH_EVENT'],axis=1)"
   ]
  },
  {
   "cell_type": "code",
   "execution_count": null,
   "metadata": {},
   "outputs": [],
   "source": [
    "\"\"\"\n",
    "est = SKLearn(source_directory=\"./\", \n",
    "                compute_target=compute_target, \n",
    "                vm_size=vm_size,\n",
    "                entry_script='train.py'\n",
    "               )\n",
    "\n",
    "\"\"\""
   ]
  },
  {
   "cell_type": "code",
   "execution_count": 8,
   "metadata": {},
   "outputs": [
    {
     "data": {
      "text/plain": [
       "{\n",
       "  \"source\": [\n",
       "    \"('workspaceblobstore', 'data/heart_failure_clinical_records_dataset.csv')\"\n",
       "  ],\n",
       "  \"definition\": [\n",
       "    \"GetDatastoreFiles\",\n",
       "    \"ParseDelimited\",\n",
       "    \"DropColumns\",\n",
       "    \"SetColumnTypes\"\n",
       "  ]\n",
       "}"
      ]
     },
     "execution_count": 8,
     "metadata": {},
     "output_type": "execute_result"
    }
   ],
   "source": [
    "dataset"
   ]
  },
  {
   "cell_type": "markdown",
   "metadata": {},
   "source": [
    "## AutoML Configuration\n",
    "\n",
    "TODO: Explain why you chose the automl settings and cofiguration you used below."
   ]
  },
  {
   "cell_type": "code",
   "execution_count": 9,
   "metadata": {
    "gather": {
     "logged": 1598429217746
    },
    "jupyter": {
     "outputs_hidden": false,
     "source_hidden": false
    },
    "nteract": {
     "transient": {
      "deleting": false
     }
    }
   },
   "outputs": [],
   "source": [
    "# TODO: Put your automl settings here\n",
    "\n",
    "\n",
    "\n",
    "from azureml.train.automl import AutoMLConfig\n",
    "import numpy as np\n",
    "\n",
    "\n",
    "# Set parameters for AutoMLConfig\n",
    "# NOTE: DO NOT CHANGE THE experiment_timeout_minutes PARAMETER OR YOUR INSTANCE WILL TIME OUT.\n",
    "# If you wish to run the experiment longer, you will need to run this notebook in your own\n",
    "# Azure tenant, which will incur personal costs.\n",
    "automl_config = AutoMLConfig(\n",
    "    experiment_timeout_minutes=30,\n",
    "    task='classification',\n",
    "    compute_target=compute_target,\n",
    "    primary_metric=\"accuracy\",\n",
    "    training_data=dataset,\n",
    "    label_column_name='DEATH_EVENT',\n",
    "    #allowed_models=[\"LightGBM\",\"RandomForest\"],\n",
    "    n_cross_validations=3)\n"
   ]
  },
  {
   "cell_type": "code",
   "execution_count": 10,
   "metadata": {},
   "outputs": [
    {
     "name": "stdout",
     "output_type": "stream",
     "text": [
      "Running on remote.\n",
      "Running on remote compute: notebook129417\n",
      "Parent Run ID: AutoML_fa2ae81d-8651-45fa-9a21-a1547dab0b56\n",
      "\n",
      "Current status: FeaturesGeneration. Generating features for the dataset.\n",
      "Current status: DatasetCrossValidationSplit. Generating individually featurized CV splits.\n",
      "Current status: ModelSelection. Beginning model selection.\n",
      "\n",
      "****************************************************************************************************\n",
      "DATA GUARDRAILS: \n",
      "\n",
      "TYPE:         Class balancing detection\n",
      "STATUS:       PASSED\n",
      "DESCRIPTION:  Your inputs were analyzed, and all classes are balanced in your training data.\n",
      "              Learn more about imbalanced data: https://aka.ms/AutomatedMLImbalancedData\n",
      "\n",
      "****************************************************************************************************\n",
      "\n",
      "TYPE:         Missing feature values imputation\n",
      "STATUS:       PASSED\n",
      "DESCRIPTION:  No feature missing values were detected in the training data.\n",
      "              Learn more about missing value imputation: https://aka.ms/AutomatedMLFeaturization\n",
      "\n",
      "****************************************************************************************************\n",
      "\n",
      "TYPE:         High cardinality feature detection\n",
      "STATUS:       PASSED\n",
      "DESCRIPTION:  Your inputs were analyzed, and no high cardinality features were detected.\n",
      "              Learn more about high cardinality feature handling: https://aka.ms/AutomatedMLFeaturization\n",
      "\n",
      "****************************************************************************************************\n",
      "\n",
      "****************************************************************************************************\n",
      "ITERATION: The iteration being evaluated.\n",
      "PIPELINE: A summary description of the pipeline being evaluated.\n",
      "DURATION: Time taken for the current iteration.\n",
      "METRIC: The result of computing score on the fitted pipeline.\n",
      "BEST: The best observed score thus far.\n",
      "****************************************************************************************************\n",
      "\n",
      " ITERATION   PIPELINE                                       DURATION      METRIC      BEST\n",
      "         0   MaxAbsScaler LightGBM                          0:00:50       0.8259    0.8259\n",
      "         1   MaxAbsScaler XGBoostClassifier                 0:00:47       0.8260    0.8260\n",
      "         2   MinMaxScaler RandomForest                      0:00:41       0.8427    0.8427\n",
      "         3   StandardScalerWrapper SGD                      0:00:40       0.8194    0.8427\n",
      "         4   MinMaxScaler RandomForest                      0:00:44       0.8260    0.8427\n",
      "         5   StandardScalerWrapper SGD                      0:00:40       0.7857    0.8427\n",
      "         6   StandardScalerWrapper RandomForest             0:00:38       0.8060    0.8427\n",
      "         7   RobustScaler ExtremeRandomTrees                0:00:44       0.7759    0.8427\n",
      "         8   StandardScalerWrapper ExtremeRandomTrees       0:00:46       0.8126    0.8427\n",
      "         9   StandardScalerWrapper SGD                      0:00:46       0.8194    0.8427\n",
      "        10   StandardScalerWrapper SGD                      0:00:45       0.8226    0.8427\n",
      "        11   MinMaxScaler SGD                               0:00:47       0.7756    0.8427\n",
      "        12   RobustScaler ExtremeRandomTrees                0:00:44       0.8159    0.8427\n",
      "        13   MinMaxScaler SGD                               0:00:54       0.7960    0.8427\n",
      "        14   MinMaxScaler ExtremeRandomTrees                0:00:45       0.8262    0.8427\n",
      "        15   MinMaxScaler ExtremeRandomTrees                0:00:41       0.7994    0.8427\n",
      "        16   MinMaxScaler ExtremeRandomTrees                0:00:45       0.7459    0.8427\n",
      "        17   StandardScalerWrapper RandomForest             0:00:50       0.8259    0.8427\n",
      "        18   StandardScalerWrapper SGD                      0:00:43       0.7757    0.8427\n",
      "        19   RobustScaler ExtremeRandomTrees                0:00:58       0.8126    0.8427\n",
      "        20   StandardScalerWrapper RandomForest             0:00:39       0.7958    0.8427\n",
      "        21   MinMaxScaler ExtremeRandomTrees                0:00:47       0.8259    0.8427\n",
      "        22   MaxAbsScaler RandomForest                      0:00:38       0.8260    0.8427\n",
      "        23   RobustScaler ExtremeRandomTrees                0:00:49       0.8494    0.8494\n",
      "        24   MaxAbsScaler GradientBoosting                  0:00:40       0.7828    0.8494\n",
      "        25   MaxAbsScaler ExtremeRandomTrees                0:00:45       0.6790    0.8494\n",
      "        26   MaxAbsScaler LogisticRegression                0:00:43       0.8227    0.8494\n",
      "        27   MinMaxScaler LightGBM                          0:00:40       0.8394    0.8494\n",
      "        28   StandardScalerWrapper XGBoostClassifier        0:00:50       0.8393    0.8494\n",
      "        29   StandardScalerWrapper RandomForest             0:00:51       0.8259    0.8494\n",
      "        30    VotingEnsemble                                0:01:04       0.8661    0.8661\n",
      "        31    StackEnsemble                                 0:01:38       0.8326    0.8661\n"
     ]
    },
    {
     "data": {
      "application/vnd.jupyter.widget-view+json": {
       "model_id": "aecdc95af847464aa3db16a4a2ea7674",
       "version_major": 2,
       "version_minor": 0
      },
      "text/plain": [
       "_AutoMLWidget(widget_settings={'childWidgetDisplay': 'popup', 'send_telemetry': False, 'log_level': 'INFO', 's…"
      ]
     },
     "metadata": {},
     "output_type": "display_data"
    },
    {
     "data": {
      "application/aml.mini.widget.v1": "{\"status\": \"Completed\", \"workbench_run_details_uri\": \"https://ml.azure.com/experiments/automl_test/runs/AutoML_fa2ae81d-8651-45fa-9a21-a1547dab0b56?wsid=/subscriptions/da775cb9-9ca6-4943-ad21-26dfa99526fc/resourcegroups/aml-quickstarts-129417/workspaces/quick-starts-ws-129417\", \"run_id\": \"AutoML_fa2ae81d-8651-45fa-9a21-a1547dab0b56\", \"run_properties\": {\"run_id\": \"AutoML_fa2ae81d-8651-45fa-9a21-a1547dab0b56\", \"created_utc\": \"2020-12-06T02:55:55.797248Z\", \"properties\": {\"num_iterations\": \"1000\", \"training_type\": \"TrainFull\", \"acquisition_function\": \"EI\", \"primary_metric\": \"accuracy\", \"train_split\": \"0\", \"acquisition_parameter\": \"0\", \"num_cross_validation\": \"3\", \"target\": \"notebook129417\", \"AMLSettingsJsonString\": \"{\\\"path\\\":null,\\\"name\\\":\\\"automl_test\\\",\\\"subscription_id\\\":\\\"da775cb9-9ca6-4943-ad21-26dfa99526fc\\\",\\\"resource_group\\\":\\\"aml-quickstarts-129417\\\",\\\"workspace_name\\\":\\\"quick-starts-ws-129417\\\",\\\"region\\\":\\\"southcentralus\\\",\\\"compute_target\\\":\\\"notebook129417\\\",\\\"spark_service\\\":null,\\\"azure_service\\\":\\\"remote\\\",\\\"_local_managed_run_id\\\":null,\\\"many_models\\\":false,\\\"pipeline_fetch_max_batch_size\\\":1,\\\"iterations\\\":1000,\\\"primary_metric\\\":\\\"accuracy\\\",\\\"task_type\\\":\\\"classification\\\",\\\"data_script\\\":null,\\\"validation_size\\\":0.0,\\\"n_cross_validations\\\":3,\\\"y_min\\\":null,\\\"y_max\\\":null,\\\"num_classes\\\":null,\\\"featurization\\\":\\\"auto\\\",\\\"_ignore_package_version_incompatibilities\\\":false,\\\"is_timeseries\\\":false,\\\"max_cores_per_iteration\\\":1,\\\"max_concurrent_iterations\\\":1,\\\"iteration_timeout_minutes\\\":null,\\\"mem_in_mb\\\":null,\\\"enforce_time_on_windows\\\":false,\\\"experiment_timeout_minutes\\\":30,\\\"experiment_exit_score\\\":null,\\\"whitelist_models\\\":null,\\\"blacklist_algos\\\":[\\\"TensorFlowLinearClassifier\\\",\\\"TensorFlowDNN\\\"],\\\"supported_models\\\":[\\\"BernoulliNaiveBayes\\\",\\\"KNN\\\",\\\"GradientBoosting\\\",\\\"XGBoostClassifier\\\",\\\"ExtremeRandomTrees\\\",\\\"AveragedPerceptronClassifier\\\",\\\"DecisionTree\\\",\\\"RandomForest\\\",\\\"MultinomialNaiveBayes\\\",\\\"SVM\\\",\\\"TensorFlowLinearClassifier\\\",\\\"LogisticRegression\\\",\\\"LightGBM\\\",\\\"LinearSVM\\\",\\\"TensorFlowDNN\\\",\\\"SGD\\\"],\\\"auto_blacklist\\\":true,\\\"blacklist_samples_reached\\\":false,\\\"exclude_nan_labels\\\":true,\\\"verbosity\\\":20,\\\"_debug_log\\\":\\\"azureml_automl.log\\\",\\\"show_warnings\\\":false,\\\"model_explainability\\\":true,\\\"service_url\\\":null,\\\"sdk_url\\\":null,\\\"sdk_packages\\\":null,\\\"enable_onnx_compatible_models\\\":false,\\\"enable_split_onnx_featurizer_estimator_models\\\":false,\\\"vm_type\\\":\\\"STANDARD_DS3_V2\\\",\\\"telemetry_verbosity\\\":20,\\\"send_telemetry\\\":true,\\\"enable_dnn\\\":false,\\\"scenario\\\":\\\"SDK-1.13.0\\\",\\\"environment_label\\\":null,\\\"force_text_dnn\\\":false,\\\"enable_feature_sweeping\\\":true,\\\"enable_early_stopping\\\":false,\\\"early_stopping_n_iters\\\":10,\\\"metrics\\\":null,\\\"enable_ensembling\\\":true,\\\"enable_stack_ensembling\\\":true,\\\"ensemble_iterations\\\":15,\\\"enable_tf\\\":false,\\\"enable_subsampling\\\":null,\\\"subsample_seed\\\":null,\\\"enable_nimbusml\\\":false,\\\"enable_streaming\\\":false,\\\"force_streaming\\\":false,\\\"track_child_runs\\\":true,\\\"allowed_private_models\\\":[],\\\"label_column_name\\\":\\\"DEATH_EVENT\\\",\\\"weight_column_name\\\":null,\\\"cv_split_column_names\\\":null,\\\"enable_local_managed\\\":false,\\\"cost_mode\\\":1,\\\"lag_length\\\":0,\\\"metric_operation\\\":\\\"maximize\\\",\\\"preprocess\\\":true}\", \"DataPrepJsonString\": \"{\\\\\\\"training_data\\\\\\\": \\\\\\\"{\\\\\\\\\\\\\\\"blocks\\\\\\\\\\\\\\\": [{\\\\\\\\\\\\\\\"id\\\\\\\\\\\\\\\": \\\\\\\\\\\\\\\"d781f566-107a-473c-bb7b-181cea4ec27f\\\\\\\\\\\\\\\", \\\\\\\\\\\\\\\"type\\\\\\\\\\\\\\\": \\\\\\\\\\\\\\\"Microsoft.DPrep.GetDatastoreFilesBlock\\\\\\\\\\\\\\\", \\\\\\\\\\\\\\\"arguments\\\\\\\\\\\\\\\": {\\\\\\\\\\\\\\\"datastores\\\\\\\\\\\\\\\": [{\\\\\\\\\\\\\\\"datastoreName\\\\\\\\\\\\\\\": \\\\\\\\\\\\\\\"workspaceblobstore\\\\\\\\\\\\\\\", \\\\\\\\\\\\\\\"path\\\\\\\\\\\\\\\": \\\\\\\\\\\\\\\"data/heart_failure_clinical_records_dataset.csv\\\\\\\\\\\\\\\", \\\\\\\\\\\\\\\"resourceGroup\\\\\\\\\\\\\\\": \\\\\\\\\\\\\\\"aml-quickstarts-129417\\\\\\\\\\\\\\\", \\\\\\\\\\\\\\\"subscription\\\\\\\\\\\\\\\": \\\\\\\\\\\\\\\"da775cb9-9ca6-4943-ad21-26dfa99526fc\\\\\\\\\\\\\\\", \\\\\\\\\\\\\\\"workspaceName\\\\\\\\\\\\\\\": \\\\\\\\\\\\\\\"quick-starts-ws-129417\\\\\\\\\\\\\\\"}]}, \\\\\\\\\\\\\\\"localData\\\\\\\\\\\\\\\": {}, \\\\\\\\\\\\\\\"isEnabled\\\\\\\\\\\\\\\": true, \\\\\\\\\\\\\\\"name\\\\\\\\\\\\\\\": null, \\\\\\\\\\\\\\\"annotation\\\\\\\\\\\\\\\": null}, {\\\\\\\\\\\\\\\"id\\\\\\\\\\\\\\\": \\\\\\\\\\\\\\\"7f175cef-80e3-49de-be2b-f8f5bcda8904\\\\\\\\\\\\\\\", \\\\\\\\\\\\\\\"type\\\\\\\\\\\\\\\": \\\\\\\\\\\\\\\"Microsoft.DPrep.ParseDelimitedBlock\\\\\\\\\\\\\\\", \\\\\\\\\\\\\\\"arguments\\\\\\\\\\\\\\\": {\\\\\\\\\\\\\\\"columnHeadersMode\\\\\\\\\\\\\\\": 3, \\\\\\\\\\\\\\\"fileEncoding\\\\\\\\\\\\\\\": 0, \\\\\\\\\\\\\\\"handleQuotedLineBreaks\\\\\\\\\\\\\\\": false, \\\\\\\\\\\\\\\"preview\\\\\\\\\\\\\\\": false, \\\\\\\\\\\\\\\"separator\\\\\\\\\\\\\\\": \\\\\\\\\\\\\\\",\\\\\\\\\\\\\\\", \\\\\\\\\\\\\\\"skipRows\\\\\\\\\\\\\\\": 0, \\\\\\\\\\\\\\\"skipRowsMode\\\\\\\\\\\\\\\": 0}, \\\\\\\\\\\\\\\"localData\\\\\\\\\\\\\\\": {}, \\\\\\\\\\\\\\\"isEnabled\\\\\\\\\\\\\\\": true, \\\\\\\\\\\\\\\"name\\\\\\\\\\\\\\\": null, \\\\\\\\\\\\\\\"annotation\\\\\\\\\\\\\\\": null}, {\\\\\\\\\\\\\\\"id\\\\\\\\\\\\\\\": \\\\\\\\\\\\\\\"c3cb8d04-071e-45b0-a642-bf46f801c4be\\\\\\\\\\\\\\\", \\\\\\\\\\\\\\\"type\\\\\\\\\\\\\\\": \\\\\\\\\\\\\\\"Microsoft.DPrep.DropColumnsBlock\\\\\\\\\\\\\\\", \\\\\\\\\\\\\\\"arguments\\\\\\\\\\\\\\\": {\\\\\\\\\\\\\\\"columns\\\\\\\\\\\\\\\": {\\\\\\\\\\\\\\\"type\\\\\\\\\\\\\\\": 0, \\\\\\\\\\\\\\\"details\\\\\\\\\\\\\\\": {\\\\\\\\\\\\\\\"selectedColumns\\\\\\\\\\\\\\\": [\\\\\\\\\\\\\\\"Path\\\\\\\\\\\\\\\"]}}}, \\\\\\\\\\\\\\\"localData\\\\\\\\\\\\\\\": {}, \\\\\\\\\\\\\\\"isEnabled\\\\\\\\\\\\\\\": true, \\\\\\\\\\\\\\\"name\\\\\\\\\\\\\\\": null, \\\\\\\\\\\\\\\"annotation\\\\\\\\\\\\\\\": null}, {\\\\\\\\\\\\\\\"id\\\\\\\\\\\\\\\": \\\\\\\\\\\\\\\"e43530c1-0302-4ef4-9ad9-5c717f907624\\\\\\\\\\\\\\\", \\\\\\\\\\\\\\\"type\\\\\\\\\\\\\\\": \\\\\\\\\\\\\\\"Microsoft.DPrep.SetColumnTypesBlock\\\\\\\\\\\\\\\", \\\\\\\\\\\\\\\"arguments\\\\\\\\\\\\\\\": {\\\\\\\\\\\\\\\"columnConversion\\\\\\\\\\\\\\\": [{\\\\\\\\\\\\\\\"column\\\\\\\\\\\\\\\": {\\\\\\\\\\\\\\\"type\\\\\\\\\\\\\\\": 2, \\\\\\\\\\\\\\\"details\\\\\\\\\\\\\\\": {\\\\\\\\\\\\\\\"selectedColumn\\\\\\\\\\\\\\\": \\\\\\\\\\\\\\\"age\\\\\\\\\\\\\\\"}}, \\\\\\\\\\\\\\\"typeProperty\\\\\\\\\\\\\\\": 3}, {\\\\\\\\\\\\\\\"column\\\\\\\\\\\\\\\": {\\\\\\\\\\\\\\\"type\\\\\\\\\\\\\\\": 2, \\\\\\\\\\\\\\\"details\\\\\\\\\\\\\\\": {\\\\\\\\\\\\\\\"selectedColumn\\\\\\\\\\\\\\\": \\\\\\\\\\\\\\\"anaemia\\\\\\\\\\\\\\\"}}, \\\\\\\\\\\\\\\"typeProperty\\\\\\\\\\\\\\\": 2}, {\\\\\\\\\\\\\\\"column\\\\\\\\\\\\\\\": {\\\\\\\\\\\\\\\"type\\\\\\\\\\\\\\\": 2, \\\\\\\\\\\\\\\"details\\\\\\\\\\\\\\\": {\\\\\\\\\\\\\\\"selectedColumn\\\\\\\\\\\\\\\": \\\\\\\\\\\\\\\"creatinine_phosphokinase\\\\\\\\\\\\\\\"}}, \\\\\\\\\\\\\\\"typeProperty\\\\\\\\\\\\\\\": 2}, {\\\\\\\\\\\\\\\"column\\\\\\\\\\\\\\\": {\\\\\\\\\\\\\\\"type\\\\\\\\\\\\\\\": 2, \\\\\\\\\\\\\\\"details\\\\\\\\\\\\\\\": {\\\\\\\\\\\\\\\"selectedColumn\\\\\\\\\\\\\\\": \\\\\\\\\\\\\\\"diabetes\\\\\\\\\\\\\\\"}}, \\\\\\\\\\\\\\\"typeProperty\\\\\\\\\\\\\\\": 2}, {\\\\\\\\\\\\\\\"column\\\\\\\\\\\\\\\": {\\\\\\\\\\\\\\\"type\\\\\\\\\\\\\\\": 2, \\\\\\\\\\\\\\\"details\\\\\\\\\\\\\\\": {\\\\\\\\\\\\\\\"selectedColumn\\\\\\\\\\\\\\\": \\\\\\\\\\\\\\\"ejection_fraction\\\\\\\\\\\\\\\"}}, \\\\\\\\\\\\\\\"typeProperty\\\\\\\\\\\\\\\": 2}, {\\\\\\\\\\\\\\\"column\\\\\\\\\\\\\\\": {\\\\\\\\\\\\\\\"type\\\\\\\\\\\\\\\": 2, \\\\\\\\\\\\\\\"details\\\\\\\\\\\\\\\": {\\\\\\\\\\\\\\\"selectedColumn\\\\\\\\\\\\\\\": \\\\\\\\\\\\\\\"high_blood_pressure\\\\\\\\\\\\\\\"}}, \\\\\\\\\\\\\\\"typeProperty\\\\\\\\\\\\\\\": 2}, {\\\\\\\\\\\\\\\"column\\\\\\\\\\\\\\\": {\\\\\\\\\\\\\\\"type\\\\\\\\\\\\\\\": 2, \\\\\\\\\\\\\\\"details\\\\\\\\\\\\\\\": {\\\\\\\\\\\\\\\"selectedColumn\\\\\\\\\\\\\\\": \\\\\\\\\\\\\\\"platelets\\\\\\\\\\\\\\\"}}, \\\\\\\\\\\\\\\"typeProperty\\\\\\\\\\\\\\\": 3}, {\\\\\\\\\\\\\\\"column\\\\\\\\\\\\\\\": {\\\\\\\\\\\\\\\"type\\\\\\\\\\\\\\\": 2, \\\\\\\\\\\\\\\"details\\\\\\\\\\\\\\\": {\\\\\\\\\\\\\\\"selectedColumn\\\\\\\\\\\\\\\": \\\\\\\\\\\\\\\"serum_creatinine\\\\\\\\\\\\\\\"}}, \\\\\\\\\\\\\\\"typeProperty\\\\\\\\\\\\\\\": 3}, {\\\\\\\\\\\\\\\"column\\\\\\\\\\\\\\\": {\\\\\\\\\\\\\\\"type\\\\\\\\\\\\\\\": 2, \\\\\\\\\\\\\\\"details\\\\\\\\\\\\\\\": {\\\\\\\\\\\\\\\"selectedColumn\\\\\\\\\\\\\\\": \\\\\\\\\\\\\\\"serum_sodium\\\\\\\\\\\\\\\"}}, \\\\\\\\\\\\\\\"typeProperty\\\\\\\\\\\\\\\": 2}, {\\\\\\\\\\\\\\\"column\\\\\\\\\\\\\\\": {\\\\\\\\\\\\\\\"type\\\\\\\\\\\\\\\": 2, \\\\\\\\\\\\\\\"details\\\\\\\\\\\\\\\": {\\\\\\\\\\\\\\\"selectedColumn\\\\\\\\\\\\\\\": \\\\\\\\\\\\\\\"sex\\\\\\\\\\\\\\\"}}, \\\\\\\\\\\\\\\"typeProperty\\\\\\\\\\\\\\\": 2}, {\\\\\\\\\\\\\\\"column\\\\\\\\\\\\\\\": {\\\\\\\\\\\\\\\"type\\\\\\\\\\\\\\\": 2, \\\\\\\\\\\\\\\"details\\\\\\\\\\\\\\\": {\\\\\\\\\\\\\\\"selectedColumn\\\\\\\\\\\\\\\": \\\\\\\\\\\\\\\"smoking\\\\\\\\\\\\\\\"}}, \\\\\\\\\\\\\\\"typeProperty\\\\\\\\\\\\\\\": 2}, {\\\\\\\\\\\\\\\"column\\\\\\\\\\\\\\\": {\\\\\\\\\\\\\\\"type\\\\\\\\\\\\\\\": 2, \\\\\\\\\\\\\\\"details\\\\\\\\\\\\\\\": {\\\\\\\\\\\\\\\"selectedColumn\\\\\\\\\\\\\\\": \\\\\\\\\\\\\\\"time\\\\\\\\\\\\\\\"}}, \\\\\\\\\\\\\\\"typeProperty\\\\\\\\\\\\\\\": 2}, {\\\\\\\\\\\\\\\"column\\\\\\\\\\\\\\\": {\\\\\\\\\\\\\\\"type\\\\\\\\\\\\\\\": 2, \\\\\\\\\\\\\\\"details\\\\\\\\\\\\\\\": {\\\\\\\\\\\\\\\"selectedColumn\\\\\\\\\\\\\\\": \\\\\\\\\\\\\\\"DEATH_EVENT\\\\\\\\\\\\\\\"}}, \\\\\\\\\\\\\\\"typeProperty\\\\\\\\\\\\\\\": 2}]}, \\\\\\\\\\\\\\\"localData\\\\\\\\\\\\\\\": {}, \\\\\\\\\\\\\\\"isEnabled\\\\\\\\\\\\\\\": true, \\\\\\\\\\\\\\\"name\\\\\\\\\\\\\\\": null, \\\\\\\\\\\\\\\"annotation\\\\\\\\\\\\\\\": null}], \\\\\\\\\\\\\\\"inspectors\\\\\\\\\\\\\\\": [], \\\\\\\\\\\\\\\"meta\\\\\\\\\\\\\\\": {\\\\\\\\\\\\\\\"savedDatasetId\\\\\\\\\\\\\\\": \\\\\\\\\\\\\\\"922b75d8-03fe-4736-9925-42a2a2c28bd2\\\\\\\\\\\\\\\", \\\\\\\\\\\\\\\"datasetType\\\\\\\\\\\\\\\": \\\\\\\\\\\\\\\"tabular\\\\\\\\\\\\\\\", \\\\\\\\\\\\\\\"subscriptionId\\\\\\\\\\\\\\\": \\\\\\\\\\\\\\\"da775cb9-9ca6-4943-ad21-26dfa99526fc\\\\\\\\\\\\\\\", \\\\\\\\\\\\\\\"workspaceId\\\\\\\\\\\\\\\": \\\\\\\\\\\\\\\"ace6c1de-d555-46b1-8062-d0f1f30a544d\\\\\\\\\\\\\\\", \\\\\\\\\\\\\\\"workspaceLocation\\\\\\\\\\\\\\\": \\\\\\\\\\\\\\\"southcentralus\\\\\\\\\\\\\\\"}}\\\\\\\", \\\\\\\"activities\\\\\\\": 0}\", \"EnableSubsampling\": null, \"runTemplate\": \"AutoML\", \"azureml.runsource\": \"automl\", \"display_task_type\": \"classification\", \"dependencies_versions\": \"{\\\"azureml-widgets\\\": \\\"1.18.0\\\", \\\"azureml-train\\\": \\\"1.18.0\\\", \\\"azureml-train-restclients-hyperdrive\\\": \\\"1.18.0\\\", \\\"azureml-train-core\\\": \\\"1.18.0\\\", \\\"azureml-train-automl\\\": \\\"1.18.0\\\", \\\"azureml-train-automl-runtime\\\": \\\"1.18.0\\\", \\\"azureml-train-automl-client\\\": \\\"1.18.0\\\", \\\"azureml-tensorboard\\\": \\\"1.18.0\\\", \\\"azureml-telemetry\\\": \\\"1.18.0\\\", \\\"azureml-sdk\\\": \\\"1.18.0\\\", \\\"azureml-samples\\\": \\\"0+unknown\\\", \\\"azureml-pipeline\\\": \\\"1.18.0\\\", \\\"azureml-pipeline-steps\\\": \\\"1.18.0\\\", \\\"azureml-pipeline-core\\\": \\\"1.18.0\\\", \\\"azureml-opendatasets\\\": \\\"1.18.0\\\", \\\"azureml-model-management-sdk\\\": \\\"1.0.1b6.post1\\\", \\\"azureml-mlflow\\\": \\\"1.18.0\\\", \\\"azureml-interpret\\\": \\\"1.18.0\\\", \\\"azureml-explain-model\\\": \\\"1.18.0\\\", \\\"azureml-defaults\\\": \\\"1.18.0\\\", \\\"azureml-dataset-runtime\\\": \\\"1.18.0\\\", \\\"azureml-dataprep\\\": \\\"2.4.2\\\", \\\"azureml-dataprep-rslex\\\": \\\"1.2.2\\\", \\\"azureml-dataprep-native\\\": \\\"24.0.0\\\", \\\"azureml-datadrift\\\": \\\"1.18.0\\\", \\\"azureml-core\\\": \\\"1.18.0\\\", \\\"azureml-contrib-services\\\": \\\"1.18.0\\\", \\\"azureml-contrib-server\\\": \\\"1.18.0\\\", \\\"azureml-contrib-reinforcementlearning\\\": \\\"1.18.0\\\", \\\"azureml-contrib-pipeline-steps\\\": \\\"1.18.0\\\", \\\"azureml-contrib-notebook\\\": \\\"1.18.0\\\", \\\"azureml-contrib-interpret\\\": \\\"1.18.0\\\", \\\"azureml-contrib-gbdt\\\": \\\"1.18.0\\\", \\\"azureml-contrib-fairness\\\": \\\"1.18.0\\\", \\\"azureml-contrib-dataset\\\": \\\"1.18.0\\\", \\\"azureml-cli-common\\\": \\\"1.18.0\\\", \\\"azureml-automl-runtime\\\": \\\"1.18.0\\\", \\\"azureml-automl-core\\\": \\\"1.18.0\\\", \\\"azureml-accel-models\\\": \\\"1.18.0\\\"}\", \"_aml_system_scenario_identification\": \"Remote.Parent\", \"ClientType\": \"SDK\", \"environment_cpu_name\": \"AzureML-AutoML\", \"environment_cpu_version\": \"48\", \"environment_gpu_name\": \"AzureML-AutoML-GPU\", \"environment_gpu_version\": \"36\", \"root_attribution\": \"automl\", \"attribution\": \"AutoML\", \"Orchestrator\": \"AutoML\", \"CancelUri\": \"https://southcentralus.experiments.azureml.net/jasmine/v1.0/subscriptions/da775cb9-9ca6-4943-ad21-26dfa99526fc/resourceGroups/aml-quickstarts-129417/providers/Microsoft.MachineLearningServices/workspaces/quick-starts-ws-129417/experimentids/4c82d3c8-6282-4394-bd7e-0f72f44e85c8/cancel/AutoML_fa2ae81d-8651-45fa-9a21-a1547dab0b56\", \"ClientSdkVersion\": \"1.18.0.post1\", \"snapshotId\": \"00000000-0000-0000-0000-000000000000\", \"SetupRunId\": \"AutoML_fa2ae81d-8651-45fa-9a21-a1547dab0b56_setup\", \"SetupRunContainerId\": \"dcid.AutoML_fa2ae81d-8651-45fa-9a21-a1547dab0b56_setup\", \"FeaturizationRunJsonPath\": \"featurizer_container.json\", \"FeaturizationRunId\": \"AutoML_fa2ae81d-8651-45fa-9a21-a1547dab0b56_featurize\", \"ProblemInfoJsonString\": \"{\\\"dataset_num_categorical\\\": 0, \\\"is_sparse\\\": false, \\\"subsampling\\\": false, \\\"dataset_classes\\\": 2, \\\"dataset_features\\\": 12, \\\"dataset_samples\\\": 299, \\\"single_frequency_class_detected\\\": false}\", \"ModelExplainRunId\": \"AutoML_fa2ae81d-8651-45fa-9a21-a1547dab0b56_ModelExplain\"}, \"tags\": {\"model_explain_run\": \"best_run\", \"_aml_system_azureml.automlComponent\": \"AutoML\", \"pipeline_id\": \"\", \"score\": \"\", \"predicted_cost\": \"\", \"fit_time\": \"\", \"training_percent\": \"\", \"iteration\": \"\", \"run_preprocessor\": \"\", \"run_algorithm\": \"\", \"dynamic_whitelisting_iterations\": \"<25>;\", \"automl_best_child_run_id\": \"AutoML_fa2ae81d-8651-45fa-9a21-a1547dab0b56_30\", \"model_explain_best_run_child_id\": \"AutoML_fa2ae81d-8651-45fa-9a21-a1547dab0b56_30\"}, \"end_time_utc\": \"2020-12-06T03:34:29.59361Z\", \"status\": \"Completed\", \"log_files\": {}, \"log_groups\": [], \"run_duration\": \"0:38:33\"}, \"child_runs\": [{\"run_id\": \"AutoML_fa2ae81d-8651-45fa-9a21-a1547dab0b56_0\", \"run_number\": 5, \"metric\": null, \"status\": \"Completed\", \"run_type\": \"azureml.scriptrun\", \"training_percent\": \"100\", \"start_time\": \"2020-12-06T03:00:41.18781Z\", \"end_time\": \"2020-12-06T03:01:31.607559Z\", \"created_time\": \"2020-12-06T03:00:26.053253Z\", \"created_time_dt\": \"2020-12-06T03:00:26.053253Z\", \"duration\": \"0:01:05\", \"iteration\": \"0\", \"goal\": \"accuracy_max\", \"run_name\": \"MaxAbsScaler, LightGBM\", \"run_properties\": \"copy=True\", \"primary_metric\": 0.82592593, \"best_metric\": 0.82592593}, {\"run_id\": \"AutoML_fa2ae81d-8651-45fa-9a21-a1547dab0b56_1\", \"run_number\": 6, \"metric\": null, \"status\": \"Completed\", \"run_type\": \"azureml.scriptrun\", \"training_percent\": \"100\", \"start_time\": \"2020-12-06T03:01:50.158893Z\", \"end_time\": \"2020-12-06T03:02:37.256841Z\", \"created_time\": \"2020-12-06T03:01:33.442538Z\", \"created_time_dt\": \"2020-12-06T03:01:33.442538Z\", \"duration\": \"0:01:03\", \"iteration\": \"1\", \"goal\": \"accuracy_max\", \"run_name\": \"MaxAbsScaler, XGBoostClassifier\", \"run_properties\": \"copy=True\", \"primary_metric\": 0.82599327, \"best_metric\": 0.82599327}, {\"run_id\": \"AutoML_fa2ae81d-8651-45fa-9a21-a1547dab0b56_2\", \"run_number\": 7, \"metric\": null, \"status\": \"Completed\", \"run_type\": \"azureml.scriptrun\", \"training_percent\": \"100\", \"start_time\": \"2020-12-06T03:02:53.63103Z\", \"end_time\": \"2020-12-06T03:03:34.577642Z\", \"created_time\": \"2020-12-06T03:02:39.736404Z\", \"created_time_dt\": \"2020-12-06T03:02:39.736404Z\", \"duration\": \"0:00:54\", \"iteration\": \"2\", \"goal\": \"accuracy_max\", \"run_name\": \"MinMaxScaler, RandomForest\", \"run_properties\": \"copy=True, feature_range=(0, 1\", \"primary_metric\": 0.8426936, \"best_metric\": 0.8426936}, {\"run_id\": \"AutoML_fa2ae81d-8651-45fa-9a21-a1547dab0b56_3\", \"run_number\": 8, \"metric\": null, \"status\": \"Completed\", \"run_type\": \"azureml.scriptrun\", \"training_percent\": \"100\", \"start_time\": \"2020-12-06T03:03:51.285344Z\", \"end_time\": \"2020-12-06T03:04:31.512633Z\", \"created_time\": \"2020-12-06T03:03:37.670318Z\", \"created_time_dt\": \"2020-12-06T03:03:37.670318Z\", \"duration\": \"0:00:53\", \"iteration\": \"3\", \"goal\": \"accuracy_max\", \"run_name\": \"StandardScalerWrapper, SGD\", \"run_properties\": \"<azureml.automl.runtime.shared.model_wrappers.StandardScalerWrapper object at 0x7f62e108c048\", \"primary_metric\": 0.81936027, \"best_metric\": 0.8426936}, {\"run_id\": \"AutoML_fa2ae81d-8651-45fa-9a21-a1547dab0b56_4\", \"run_number\": 9, \"metric\": null, \"status\": \"Completed\", \"run_type\": \"azureml.scriptrun\", \"training_percent\": \"100\", \"start_time\": \"2020-12-06T03:04:46.945623Z\", \"end_time\": \"2020-12-06T03:05:30.459181Z\", \"created_time\": \"2020-12-06T03:04:34.239968Z\", \"created_time_dt\": \"2020-12-06T03:04:34.239968Z\", \"duration\": \"0:00:56\", \"iteration\": \"4\", \"goal\": \"accuracy_max\", \"run_name\": \"MinMaxScaler, RandomForest\", \"run_properties\": \"copy=True, feature_range=(0, 1\", \"primary_metric\": 0.82599327, \"best_metric\": 0.8426936}, {\"run_id\": \"AutoML_fa2ae81d-8651-45fa-9a21-a1547dab0b56_5\", \"run_number\": 10, \"metric\": null, \"status\": \"Completed\", \"run_type\": \"azureml.scriptrun\", \"training_percent\": \"100\", \"start_time\": \"2020-12-06T03:05:47.261354Z\", \"end_time\": \"2020-12-06T03:06:27.585861Z\", \"created_time\": \"2020-12-06T03:05:33.264769Z\", \"created_time_dt\": \"2020-12-06T03:05:33.264769Z\", \"duration\": \"0:00:54\", \"iteration\": \"5\", \"goal\": \"accuracy_max\", \"run_name\": \"StandardScalerWrapper, SGD\", \"run_properties\": \"<azureml.automl.runtime.shared.model_wrappers.StandardScalerWrapper object at 0x7fcc857c7e10\", \"primary_metric\": 0.78565657, \"best_metric\": 0.8426936}, {\"run_id\": \"AutoML_fa2ae81d-8651-45fa-9a21-a1547dab0b56_6\", \"run_number\": 11, \"metric\": null, \"status\": \"Completed\", \"run_type\": \"azureml.scriptrun\", \"training_percent\": \"100\", \"start_time\": \"2020-12-06T03:06:46.03843Z\", \"end_time\": \"2020-12-06T03:07:24.031597Z\", \"created_time\": \"2020-12-06T03:06:30.360523Z\", \"created_time_dt\": \"2020-12-06T03:06:30.360523Z\", \"duration\": \"0:00:53\", \"iteration\": \"6\", \"goal\": \"accuracy_max\", \"run_name\": \"StandardScalerWrapper, RandomForest\", \"run_properties\": \"<azureml.automl.runtime.shared.model_wrappers.StandardScalerWrapper object at 0x7f6ffad6d4e0\", \"primary_metric\": 0.8059596, \"best_metric\": 0.8426936}, {\"run_id\": \"AutoML_fa2ae81d-8651-45fa-9a21-a1547dab0b56_7\", \"run_number\": 12, \"metric\": null, \"status\": \"Completed\", \"run_type\": \"azureml.scriptrun\", \"training_percent\": \"100\", \"start_time\": \"2020-12-06T03:07:42.086419Z\", \"end_time\": \"2020-12-06T03:08:25.832488Z\", \"created_time\": \"2020-12-06T03:07:26.524013Z\", \"created_time_dt\": \"2020-12-06T03:07:26.524013Z\", \"duration\": \"0:00:59\", \"iteration\": \"7\", \"goal\": \"accuracy_max\", \"run_name\": \"RobustScaler, ExtremeRandomTrees\", \"run_properties\": \"copy=True, quantile_range=[10, 90], with_centering=False,\\n             with_scaling=False\", \"primary_metric\": 0.77592593, \"best_metric\": 0.8426936}, {\"run_id\": \"AutoML_fa2ae81d-8651-45fa-9a21-a1547dab0b56_8\", \"run_number\": 13, \"metric\": null, \"status\": \"Completed\", \"run_type\": \"azureml.scriptrun\", \"training_percent\": \"100\", \"start_time\": \"2020-12-06T03:08:41.74449Z\", \"end_time\": \"2020-12-06T03:09:27.679954Z\", \"created_time\": \"2020-12-06T03:08:28.495631Z\", \"created_time_dt\": \"2020-12-06T03:08:28.495631Z\", \"duration\": \"0:00:59\", \"iteration\": \"8\", \"goal\": \"accuracy_max\", \"run_name\": \"StandardScalerWrapper, ExtremeRandomTrees\", \"run_properties\": \"<azureml.automl.runtime.shared.model_wrappers.StandardScalerWrapper object at 0x7f662d3796d8\", \"primary_metric\": 0.81259259, \"best_metric\": 0.8426936}, {\"run_id\": \"AutoML_fa2ae81d-8651-45fa-9a21-a1547dab0b56_9\", \"run_number\": 14, \"metric\": null, \"status\": \"Completed\", \"run_type\": \"azureml.scriptrun\", \"training_percent\": \"100\", \"start_time\": \"2020-12-06T03:09:44.939524Z\", \"end_time\": \"2020-12-06T03:10:31.27142Z\", \"created_time\": \"2020-12-06T03:09:30.154902Z\", \"created_time_dt\": \"2020-12-06T03:09:30.154902Z\", \"duration\": \"0:01:01\", \"iteration\": \"9\", \"goal\": \"accuracy_max\", \"run_name\": \"StandardScalerWrapper, SGD\", \"run_properties\": \"<azureml.automl.runtime.shared.model_wrappers.StandardScalerWrapper object at 0x7f708ca91ac8\", \"primary_metric\": 0.81936027, \"best_metric\": 0.8426936}, {\"run_id\": \"AutoML_fa2ae81d-8651-45fa-9a21-a1547dab0b56_10\", \"run_number\": 15, \"metric\": null, \"status\": \"Completed\", \"run_type\": \"azureml.scriptrun\", \"training_percent\": \"100\", \"start_time\": \"2020-12-06T03:10:54.163243Z\", \"end_time\": \"2020-12-06T03:11:38.913968Z\", \"created_time\": \"2020-12-06T03:10:33.803298Z\", \"created_time_dt\": \"2020-12-06T03:10:33.803298Z\", \"duration\": \"0:01:05\", \"iteration\": \"10\", \"goal\": \"accuracy_max\", \"run_name\": \"StandardScalerWrapper, SGD\", \"run_properties\": \"<azureml.automl.runtime.shared.model_wrappers.StandardScalerWrapper object at 0x7f791d2273c8\", \"primary_metric\": 0.82259259, \"best_metric\": 0.8426936}, {\"run_id\": \"AutoML_fa2ae81d-8651-45fa-9a21-a1547dab0b56_11\", \"run_number\": 16, \"metric\": null, \"status\": \"Completed\", \"run_type\": \"azureml.scriptrun\", \"training_percent\": \"100\", \"start_time\": \"2020-12-06T03:11:58.285482Z\", \"end_time\": \"2020-12-06T03:12:45.551289Z\", \"created_time\": \"2020-12-06T03:11:41.574271Z\", \"created_time_dt\": \"2020-12-06T03:11:41.574271Z\", \"duration\": \"0:01:03\", \"iteration\": \"11\", \"goal\": \"accuracy_max\", \"run_name\": \"MinMaxScaler, SGD\", \"run_properties\": \"copy=True, feature_range=(0, 1\", \"primary_metric\": 0.7756229, \"best_metric\": 0.8426936}, {\"run_id\": \"AutoML_fa2ae81d-8651-45fa-9a21-a1547dab0b56_12\", \"run_number\": 17, \"metric\": null, \"status\": \"Completed\", \"run_type\": \"azureml.scriptrun\", \"training_percent\": \"100\", \"start_time\": \"2020-12-06T03:13:05.045748Z\", \"end_time\": \"2020-12-06T03:13:48.977591Z\", \"created_time\": \"2020-12-06T03:12:48.431669Z\", \"created_time_dt\": \"2020-12-06T03:12:48.431669Z\", \"duration\": \"0:01:00\", \"iteration\": \"12\", \"goal\": \"accuracy_max\", \"run_name\": \"RobustScaler, ExtremeRandomTrees\", \"run_properties\": \"copy=True, quantile_range=[10, 90], with_centering=False,\\n             with_scaling=False\", \"primary_metric\": 0.81589226, \"best_metric\": 0.8426936}, {\"run_id\": \"AutoML_fa2ae81d-8651-45fa-9a21-a1547dab0b56_13\", \"run_number\": 18, \"metric\": null, \"status\": \"Completed\", \"run_type\": \"azureml.scriptrun\", \"training_percent\": \"100\", \"start_time\": \"2020-12-06T03:14:04.225999Z\", \"end_time\": \"2020-12-06T03:14:58.576015Z\", \"created_time\": \"2020-12-06T03:13:51.575272Z\", \"created_time_dt\": \"2020-12-06T03:13:51.575272Z\", \"duration\": \"0:01:07\", \"iteration\": \"13\", \"goal\": \"accuracy_max\", \"run_name\": \"MinMaxScaler, SGD\", \"run_properties\": \"copy=True, feature_range=(0, 1\", \"primary_metric\": 0.7959596, \"best_metric\": 0.8426936}, {\"run_id\": \"AutoML_fa2ae81d-8651-45fa-9a21-a1547dab0b56_14\", \"run_number\": 19, \"metric\": null, \"status\": \"Completed\", \"run_type\": \"azureml.scriptrun\", \"training_percent\": \"100\", \"start_time\": \"2020-12-06T03:15:14.100163Z\", \"end_time\": \"2020-12-06T03:15:58.728505Z\", \"created_time\": \"2020-12-06T03:15:01.784269Z\", \"created_time_dt\": \"2020-12-06T03:15:01.784269Z\", \"duration\": \"0:00:56\", \"iteration\": \"14\", \"goal\": \"accuracy_max\", \"run_name\": \"MinMaxScaler, ExtremeRandomTrees\", \"run_properties\": \"copy=True, feature_range=(0, 1\", \"primary_metric\": 0.82616162, \"best_metric\": 0.8426936}, {\"run_id\": \"AutoML_fa2ae81d-8651-45fa-9a21-a1547dab0b56_15\", \"run_number\": 20, \"metric\": null, \"status\": \"Completed\", \"run_type\": \"azureml.scriptrun\", \"training_percent\": \"100\", \"start_time\": \"2020-12-06T03:16:16.860352Z\", \"end_time\": \"2020-12-06T03:16:57.56948Z\", \"created_time\": \"2020-12-06T03:16:00.499688Z\", \"created_time_dt\": \"2020-12-06T03:16:00.499688Z\", \"duration\": \"0:00:57\", \"iteration\": \"15\", \"goal\": \"accuracy_max\", \"run_name\": \"MinMaxScaler, ExtremeRandomTrees\", \"run_properties\": \"copy=True, feature_range=(0, 1\", \"primary_metric\": 0.79936027, \"best_metric\": 0.8426936}, {\"run_id\": \"AutoML_fa2ae81d-8651-45fa-9a21-a1547dab0b56_16\", \"run_number\": 21, \"metric\": null, \"status\": \"Completed\", \"run_type\": \"azureml.scriptrun\", \"training_percent\": \"100\", \"start_time\": \"2020-12-06T03:17:12.298217Z\", \"end_time\": \"2020-12-06T03:17:57.167705Z\", \"created_time\": \"2020-12-06T03:16:59.992185Z\", \"created_time_dt\": \"2020-12-06T03:16:59.992185Z\", \"duration\": \"0:00:57\", \"iteration\": \"16\", \"goal\": \"accuracy_max\", \"run_name\": \"MinMaxScaler, ExtremeRandomTrees\", \"run_properties\": \"copy=True, feature_range=(0, 1\", \"primary_metric\": 0.74592593, \"best_metric\": 0.8426936}, {\"run_id\": \"AutoML_fa2ae81d-8651-45fa-9a21-a1547dab0b56_17\", \"run_number\": 22, \"metric\": null, \"status\": \"Completed\", \"run_type\": \"azureml.scriptrun\", \"training_percent\": \"100\", \"start_time\": \"2020-12-06T03:18:17.113713Z\", \"end_time\": \"2020-12-06T03:19:07.1383Z\", \"created_time\": \"2020-12-06T03:17:59.545532Z\", \"created_time_dt\": \"2020-12-06T03:17:59.545532Z\", \"duration\": \"0:01:07\", \"iteration\": \"17\", \"goal\": \"accuracy_max\", \"run_name\": \"StandardScalerWrapper, RandomForest\", \"run_properties\": \"<azureml.automl.runtime.shared.model_wrappers.StandardScalerWrapper object at 0x7fd4b4c5af60\", \"primary_metric\": 0.82585859, \"best_metric\": 0.8426936}, {\"run_id\": \"AutoML_fa2ae81d-8651-45fa-9a21-a1547dab0b56_18\", \"run_number\": 23, \"metric\": null, \"status\": \"Completed\", \"run_type\": \"azureml.scriptrun\", \"training_percent\": \"100\", \"start_time\": \"2020-12-06T03:19:22.28488Z\", \"end_time\": \"2020-12-06T03:20:05.333145Z\", \"created_time\": \"2020-12-06T03:19:09.413157Z\", \"created_time_dt\": \"2020-12-06T03:19:09.413157Z\", \"duration\": \"0:00:55\", \"iteration\": \"18\", \"goal\": \"accuracy_max\", \"run_name\": \"StandardScalerWrapper, SGD\", \"run_properties\": \"<azureml.automl.runtime.shared.model_wrappers.StandardScalerWrapper object at 0x7f36bfddd240\", \"primary_metric\": 0.77569024, \"best_metric\": 0.8426936}, {\"run_id\": \"AutoML_fa2ae81d-8651-45fa-9a21-a1547dab0b56_19\", \"run_number\": 24, \"metric\": null, \"status\": \"Completed\", \"run_type\": \"azureml.scriptrun\", \"training_percent\": \"100\", \"start_time\": \"2020-12-06T03:20:19.957149Z\", \"end_time\": \"2020-12-06T03:21:17.785628Z\", \"created_time\": \"2020-12-06T03:20:07.390335Z\", \"created_time_dt\": \"2020-12-06T03:20:07.390335Z\", \"duration\": \"0:01:10\", \"iteration\": \"19\", \"goal\": \"accuracy_max\", \"run_name\": \"RobustScaler, ExtremeRandomTrees\", \"run_properties\": \"copy=True, quantile_range=[25, 75], with_centering=True,\\n             with_scaling=False\", \"primary_metric\": 0.81259259, \"best_metric\": 0.8426936}, {\"run_id\": \"AutoML_fa2ae81d-8651-45fa-9a21-a1547dab0b56_20\", \"run_number\": 25, \"metric\": null, \"status\": \"Completed\", \"run_type\": \"azureml.scriptrun\", \"training_percent\": \"100\", \"start_time\": \"2020-12-06T03:21:31.585493Z\", \"end_time\": \"2020-12-06T03:22:10.986014Z\", \"created_time\": \"2020-12-06T03:21:19.763202Z\", \"created_time_dt\": \"2020-12-06T03:21:19.763202Z\", \"duration\": \"0:00:51\", \"iteration\": \"20\", \"goal\": \"accuracy_max\", \"run_name\": \"StandardScalerWrapper, RandomForest\", \"run_properties\": \"<azureml.automl.runtime.shared.model_wrappers.StandardScalerWrapper object at 0x7f312da491d0\", \"primary_metric\": 0.79575758, \"best_metric\": 0.8426936}, {\"run_id\": \"AutoML_fa2ae81d-8651-45fa-9a21-a1547dab0b56_21\", \"run_number\": 26, \"metric\": null, \"status\": \"Completed\", \"run_type\": \"azureml.scriptrun\", \"training_percent\": \"100\", \"start_time\": \"2020-12-06T03:22:26.188094Z\", \"end_time\": \"2020-12-06T03:23:13.395372Z\", \"created_time\": \"2020-12-06T03:22:13.128577Z\", \"created_time_dt\": \"2020-12-06T03:22:13.128577Z\", \"duration\": \"0:01:00\", \"iteration\": \"21\", \"goal\": \"accuracy_max\", \"run_name\": \"MinMaxScaler, ExtremeRandomTrees\", \"run_properties\": \"copy=True, feature_range=(0, 1\", \"primary_metric\": 0.82585859, \"best_metric\": 0.8426936}, {\"run_id\": \"AutoML_fa2ae81d-8651-45fa-9a21-a1547dab0b56_22\", \"run_number\": 27, \"metric\": null, \"status\": \"Completed\", \"run_type\": \"azureml.scriptrun\", \"training_percent\": \"100\", \"start_time\": \"2020-12-06T03:23:32.082196Z\", \"end_time\": \"2020-12-06T03:24:10.235609Z\", \"created_time\": \"2020-12-06T03:23:15.357034Z\", \"created_time_dt\": \"2020-12-06T03:23:15.357034Z\", \"duration\": \"0:00:54\", \"iteration\": \"22\", \"goal\": \"accuracy_max\", \"run_name\": \"MaxAbsScaler, RandomForest\", \"run_properties\": \"copy=True\", \"primary_metric\": 0.82602694, \"best_metric\": 0.8426936}, {\"run_id\": \"AutoML_fa2ae81d-8651-45fa-9a21-a1547dab0b56_23\", \"run_number\": 28, \"metric\": null, \"status\": \"Completed\", \"run_type\": \"azureml.scriptrun\", \"training_percent\": \"100\", \"start_time\": \"2020-12-06T03:24:23.691331Z\", \"end_time\": \"2020-12-06T03:25:12.583489Z\", \"created_time\": \"2020-12-06T03:24:12.014418Z\", \"created_time_dt\": \"2020-12-06T03:24:12.014418Z\", \"duration\": \"0:01:00\", \"iteration\": \"23\", \"goal\": \"accuracy_max\", \"run_name\": \"RobustScaler, ExtremeRandomTrees\", \"run_properties\": \"copy=True, quantile_range=[25, 75], with_centering=True,\\n             with_scaling=False\", \"primary_metric\": 0.84942761, \"best_metric\": 0.84942761}, {\"run_id\": \"AutoML_fa2ae81d-8651-45fa-9a21-a1547dab0b56_24\", \"run_number\": 29, \"metric\": null, \"status\": \"Completed\", \"run_type\": \"azureml.scriptrun\", \"training_percent\": \"100\", \"start_time\": \"2020-12-06T03:25:25.641986Z\", \"end_time\": \"2020-12-06T03:26:05.40718Z\", \"created_time\": \"2020-12-06T03:25:14.56117Z\", \"created_time_dt\": \"2020-12-06T03:25:14.56117Z\", \"duration\": \"0:00:50\", \"iteration\": \"24\", \"goal\": \"accuracy_max\", \"run_name\": \"MaxAbsScaler, GradientBoosting\", \"run_properties\": \"copy=True\", \"primary_metric\": 0.78276094, \"best_metric\": 0.84942761}, {\"run_id\": \"AutoML_fa2ae81d-8651-45fa-9a21-a1547dab0b56_25\", \"run_number\": 30, \"metric\": null, \"status\": \"Completed\", \"run_type\": \"azureml.scriptrun\", \"training_percent\": \"100\", \"start_time\": \"2020-12-06T03:26:19.637484Z\", \"end_time\": \"2020-12-06T03:27:04.506638Z\", \"created_time\": \"2020-12-06T03:26:09.411187Z\", \"created_time_dt\": \"2020-12-06T03:26:09.411187Z\", \"duration\": \"0:00:55\", \"iteration\": \"25\", \"goal\": \"accuracy_max\", \"run_name\": \"MaxAbsScaler, ExtremeRandomTrees\", \"run_properties\": \"copy=True\", \"primary_metric\": 0.6789899, \"best_metric\": 0.84942761}, {\"run_id\": \"AutoML_fa2ae81d-8651-45fa-9a21-a1547dab0b56_26\", \"run_number\": 31, \"metric\": null, \"status\": \"Completed\", \"run_type\": \"azureml.scriptrun\", \"training_percent\": \"100\", \"start_time\": \"2020-12-06T03:27:16.641887Z\", \"end_time\": \"2020-12-06T03:27:59.478506Z\", \"created_time\": \"2020-12-06T03:27:06.3486Z\", \"created_time_dt\": \"2020-12-06T03:27:06.3486Z\", \"duration\": \"0:00:53\", \"iteration\": \"26\", \"goal\": \"accuracy_max\", \"run_name\": \"MaxAbsScaler, LogisticRegression\", \"run_properties\": \"copy=True\", \"primary_metric\": 0.82265993, \"best_metric\": 0.84942761}, {\"run_id\": \"AutoML_fa2ae81d-8651-45fa-9a21-a1547dab0b56_27\", \"run_number\": 32, \"metric\": null, \"status\": \"Completed\", \"run_type\": \"azureml.scriptrun\", \"training_percent\": \"100\", \"start_time\": \"2020-12-06T03:28:13.979679Z\", \"end_time\": \"2020-12-06T03:28:54.175257Z\", \"created_time\": \"2020-12-06T03:28:01.733882Z\", \"created_time_dt\": \"2020-12-06T03:28:01.733882Z\", \"duration\": \"0:00:52\", \"iteration\": \"27\", \"goal\": \"accuracy_max\", \"run_name\": \"MinMaxScaler, LightGBM\", \"run_properties\": \"copy=True, feature_range=(0, 1\", \"primary_metric\": 0.83936027, \"best_metric\": 0.84942761}, {\"run_id\": \"AutoML_fa2ae81d-8651-45fa-9a21-a1547dab0b56_28\", \"run_number\": 33, \"metric\": null, \"status\": \"Completed\", \"run_type\": \"azureml.scriptrun\", \"training_percent\": \"100\", \"start_time\": \"2020-12-06T03:29:12.301681Z\", \"end_time\": \"2020-12-06T03:30:02.320088Z\", \"created_time\": \"2020-12-06T03:28:56.090211Z\", \"created_time_dt\": \"2020-12-06T03:28:56.090211Z\", \"duration\": \"0:01:06\", \"iteration\": \"28\", \"goal\": \"accuracy_max\", \"run_name\": \"StandardScalerWrapper, XGBoostClassifier\", \"run_properties\": \"<azureml.automl.runtime.shared.model_wrappers.StandardScalerWrapper object at 0x7ff78c3140b8\", \"primary_metric\": 0.83929293, \"best_metric\": 0.84942761}, {\"run_id\": \"AutoML_fa2ae81d-8651-45fa-9a21-a1547dab0b56_29\", \"run_number\": 34, \"metric\": null, \"status\": \"Canceled\", \"run_type\": \"azureml.scriptrun\", \"training_percent\": \"100\", \"start_time\": \"2020-12-06T03:30:18.380007Z\", \"end_time\": \"2020-12-06T03:31:09.258963Z\", \"created_time\": \"2020-12-06T03:30:06.179868Z\", \"created_time_dt\": \"2020-12-06T03:30:06.179868Z\", \"duration\": \"0:01:03\", \"iteration\": \"29\", \"goal\": \"accuracy_max\", \"run_name\": \"StandardScalerWrapper, RandomForest\", \"run_properties\": \"<azureml.automl.runtime.shared.model_wrappers.StandardScalerWrapper object at 0x7f264c315c18\", \"primary_metric\": 0.82585859, \"best_metric\": 0.84942761}, {\"run_id\": \"AutoML_fa2ae81d-8651-45fa-9a21-a1547dab0b56_30\", \"run_number\": 35, \"metric\": null, \"status\": \"Completed\", \"run_type\": \"azureml.scriptrun\", \"training_percent\": \"100\", \"start_time\": \"2020-12-06T03:31:26.326319Z\", \"end_time\": \"2020-12-06T03:32:30.323865Z\", \"created_time\": \"2020-12-06T03:31:10.454701Z\", \"created_time_dt\": \"2020-12-06T03:31:10.454701Z\", \"duration\": \"0:01:19\", \"iteration\": \"30\", \"goal\": \"accuracy_max\", \"run_name\": \"VotingEnsemble\", \"run_properties\": \"classification_labels=None,\\n                              estimators=[('23',\\n                                           Pipeline(memory=None,\\n                                                    steps=[('robustscaler',\\n                                                            RobustScaler(copy=True,\\n                                                                         quantile_range=[25,\\n                                                                                         75],\\n                                                                         with_centering=True,\\n                                                                         with_scaling=False\", \"primary_metric\": 0.86612795, \"best_metric\": 0.86612795}, {\"run_id\": \"AutoML_fa2ae81d-8651-45fa-9a21-a1547dab0b56_31\", \"run_number\": 36, \"metric\": null, \"status\": \"Completed\", \"run_type\": \"azureml.scriptrun\", \"training_percent\": \"100\", \"start_time\": \"2020-12-06T03:32:42.229953Z\", \"end_time\": \"2020-12-06T03:34:20.205883Z\", \"created_time\": \"2020-12-06T03:32:31.383174Z\", \"created_time_dt\": \"2020-12-06T03:32:31.383174Z\", \"duration\": \"0:01:48\", \"iteration\": \"31\", \"goal\": \"accuracy_max\", \"run_name\": \"StackEnsemble\", \"run_properties\": \"base_learners=[('23',\\n                                        Pipeline(memory=None,\\n                                                 steps=[('robustscaler',\\n                                                         RobustScaler(copy=True,\\n                                                                      quantile_range=[25,\\n                                                                                      75],\\n                                                                      with_centering=True,\\n                                                                      with_scaling=False\", \"primary_metric\": 0.83262626, \"best_metric\": 0.86612795}], \"children_metrics\": {\"categories\": [0], \"series\": {\"matthews_correlation\": [{\"categories\": [\"0\", \"1\", \"2\", \"3\", \"4\", \"5\", \"6\", \"7\", \"8\", \"9\", \"10\", \"11\", \"12\", \"13\", \"14\", \"15\", \"16\", \"17\", \"18\", \"19\", \"20\", \"21\", \"22\", \"23\", \"24\", \"25\", \"26\", \"27\", \"28\", \"29\", \"30\", \"31\"], \"mode\": \"markers\", \"name\": \"matthews_correlation\", \"stepped\": false, \"type\": \"scatter\", \"data\": [0.6061286118162602, 0.6030401714674086, 0.6361598071335969, 0.5892349503306011, 0.604342605205971, 0.5693318113278757, 0.5528781985321378, 0.4802020615539894, 0.5825473486996442, 0.5857969211925645, 0.5952885935512081, 0.5310942192196899, 0.6003563911276412, 0.5165422249918549, 0.5906271919210299, 0.5367903534822414, 0.3802386184660909, 0.617688094996572, 0.5626680528649679, 0.5621492956984234, 0.5557921812093501, 0.6122520205174271, 0.6058584843615593, 0.6568123343795101, 0.5033305818257298, 0.0, 0.5941514875493622, 0.6294193685576882, 0.635890571730437, 0.6176338893034985, 0.6959586342508604, 0.6291827530989657]}, {\"categories\": [\"0\", \"1\", \"2\", \"3\", \"4\", \"5\", \"6\", \"7\", \"8\", \"9\", \"10\", \"11\", \"12\", \"13\", \"14\", \"15\", \"16\", \"17\", \"18\", \"19\", \"20\", \"21\", \"22\", \"23\", \"24\", \"25\", \"26\", \"27\", \"28\", \"29\", \"30\", \"31\"], \"mode\": \"lines\", \"name\": \"matthews_correlation_max\", \"stepped\": true, \"type\": \"scatter\", \"data\": [0.6061286118162602, 0.6061286118162602, 0.6361598071335969, 0.6361598071335969, 0.6361598071335969, 0.6361598071335969, 0.6361598071335969, 0.6361598071335969, 0.6361598071335969, 0.6361598071335969, 0.6361598071335969, 0.6361598071335969, 0.6361598071335969, 0.6361598071335969, 0.6361598071335969, 0.6361598071335969, 0.6361598071335969, 0.6361598071335969, 0.6361598071335969, 0.6361598071335969, 0.6361598071335969, 0.6361598071335969, 0.6361598071335969, 0.6568123343795101, 0.6568123343795101, 0.6568123343795101, 0.6568123343795101, 0.6568123343795101, 0.6568123343795101, 0.6568123343795101, 0.6959586342508604, 0.6959586342508604]}], \"norm_macro_recall\": [{\"categories\": [\"0\", \"1\", \"2\", \"3\", \"4\", \"5\", \"6\", \"7\", \"8\", \"9\", \"10\", \"11\", \"12\", \"13\", \"14\", \"15\", \"16\", \"17\", \"18\", \"19\", \"20\", \"21\", \"22\", \"23\", \"24\", \"25\", \"26\", \"27\", \"28\", \"29\", \"30\", \"31\"], \"mode\": \"markers\", \"name\": \"norm_macro_recall\", \"stepped\": false, \"type\": \"scatter\", \"data\": [0.5848985786836498, 0.5678239301184463, 0.6141338797323123, 0.5716252374019687, 0.5788667014157246, 0.5981313793978028, 0.5247087769330162, 0.3977625600869126, 0.5867957973610688, 0.5653450441652537, 0.5869299207362008, 0.5545140823552672, 0.618413366005436, 0.4515637675168203, 0.5329954686429694, 0.4436986977091584, 0.27453173647432866, 0.6311177014496748, 0.5941290867588116, 0.5451025197061108, 0.5664551767109417, 0.6225552939390854, 0.5631213441095354, 0.6048570395799757, 0.3924378461175917, 0.0, 0.5779795619621635, 0.587079261802198, 0.6151268640173505, 0.6323229745193547, 0.6526147867226645, 0.6026665308657507]}, {\"categories\": [\"0\", \"1\", \"2\", \"3\", \"4\", \"5\", \"6\", \"7\", \"8\", \"9\", \"10\", \"11\", \"12\", \"13\", \"14\", \"15\", \"16\", \"17\", \"18\", \"19\", \"20\", \"21\", \"22\", \"23\", \"24\", \"25\", \"26\", \"27\", \"28\", \"29\", \"30\", \"31\"], \"mode\": \"lines\", \"name\": \"norm_macro_recall_max\", \"stepped\": true, \"type\": \"scatter\", \"data\": [0.5848985786836498, 0.5848985786836498, 0.6141338797323123, 0.6141338797323123, 0.6141338797323123, 0.6141338797323123, 0.6141338797323123, 0.6141338797323123, 0.6141338797323123, 0.6141338797323123, 0.6141338797323123, 0.6141338797323123, 0.618413366005436, 0.618413366005436, 0.618413366005436, 0.618413366005436, 0.618413366005436, 0.6311177014496748, 0.6311177014496748, 0.6311177014496748, 0.6311177014496748, 0.6311177014496748, 0.6311177014496748, 0.6311177014496748, 0.6311177014496748, 0.6311177014496748, 0.6311177014496748, 0.6311177014496748, 0.6311177014496748, 0.6323229745193547, 0.6526147867226645, 0.6526147867226645]}], \"recall_score_micro\": [{\"categories\": [\"0\", \"1\", \"2\", \"3\", \"4\", \"5\", \"6\", \"7\", \"8\", \"9\", \"10\", \"11\", \"12\", \"13\", \"14\", \"15\", \"16\", \"17\", \"18\", \"19\", \"20\", \"21\", \"22\", \"23\", \"24\", \"25\", \"26\", \"27\", \"28\", \"29\", \"30\", \"31\"], \"mode\": \"markers\", \"name\": \"recall_score_micro\", \"stepped\": false, \"type\": \"scatter\", \"data\": [0.825925925925926, 0.8259932659932661, 0.8426936026936027, 0.8193602693602693, 0.8259932659932661, 0.7856565656565658, 0.805959595959596, 0.775925925925926, 0.8125925925925926, 0.8193602693602693, 0.8225925925925925, 0.7756228956228957, 0.815892255892256, 0.7959595959595959, 0.8261616161616162, 0.7993602693602693, 0.7459259259259259, 0.8258585858585858, 0.7756902356902358, 0.8125925925925926, 0.7957575757575759, 0.8258585858585858, 0.826026936026936, 0.8494276094276095, 0.7827609427609428, 0.678989898989899, 0.8226599326599326, 0.8393602693602693, 0.8392929292929292, 0.8258585858585858, 0.8661279461279462, 0.8326262626262627]}, {\"categories\": [\"0\", \"1\", \"2\", \"3\", \"4\", \"5\", \"6\", \"7\", \"8\", \"9\", \"10\", \"11\", \"12\", \"13\", \"14\", \"15\", \"16\", \"17\", \"18\", \"19\", \"20\", \"21\", \"22\", \"23\", \"24\", \"25\", \"26\", \"27\", \"28\", \"29\", \"30\", \"31\"], \"mode\": \"lines\", \"name\": \"recall_score_micro_max\", \"stepped\": true, \"type\": \"scatter\", \"data\": [0.825925925925926, 0.8259932659932661, 0.8426936026936027, 0.8426936026936027, 0.8426936026936027, 0.8426936026936027, 0.8426936026936027, 0.8426936026936027, 0.8426936026936027, 0.8426936026936027, 0.8426936026936027, 0.8426936026936027, 0.8426936026936027, 0.8426936026936027, 0.8426936026936027, 0.8426936026936027, 0.8426936026936027, 0.8426936026936027, 0.8426936026936027, 0.8426936026936027, 0.8426936026936027, 0.8426936026936027, 0.8426936026936027, 0.8494276094276095, 0.8494276094276095, 0.8494276094276095, 0.8494276094276095, 0.8494276094276095, 0.8494276094276095, 0.8494276094276095, 0.8661279461279462, 0.8661279461279462]}], \"f1_score_weighted\": [{\"categories\": [\"0\", \"1\", \"2\", \"3\", \"4\", \"5\", \"6\", \"7\", \"8\", \"9\", \"10\", \"11\", \"12\", \"13\", \"14\", \"15\", \"16\", \"17\", \"18\", \"19\", \"20\", \"21\", \"22\", \"23\", \"24\", \"25\", \"26\", \"27\", \"28\", \"29\", \"30\", \"31\"], \"mode\": \"markers\", \"name\": \"f1_score_weighted\", \"stepped\": false, \"type\": \"scatter\", \"data\": [0.8211819354480298, 0.8188619012721535, 0.8390917938882776, 0.8157893138981119, 0.8215850729549125, 0.7913135493160351, 0.7975205337934104, 0.7485686243544595, 0.8128976314427367, 0.8153436690080227, 0.8223740653277574, 0.7810090296373318, 0.818181525560762, 0.7827290776476991, 0.8163810993741386, 0.7760370699593734, 0.701444991204298, 0.8283349714087418, 0.7814225295642526, 0.8097944078947368, 0.7975683484214295, 0.8274112679477806, 0.8178344097483188, 0.8428638536317618, 0.7427821060352118, 0.5510765335293636, 0.8201331535576543, 0.8324442573198553, 0.8360963167763081, 0.828449546841007, 0.8610760656579018, 0.8278225892337815]}, {\"categories\": [\"0\", \"1\", \"2\", \"3\", \"4\", \"5\", \"6\", \"7\", \"8\", \"9\", \"10\", \"11\", \"12\", \"13\", \"14\", \"15\", \"16\", \"17\", \"18\", \"19\", \"20\", \"21\", \"22\", \"23\", \"24\", \"25\", \"26\", \"27\", \"28\", \"29\", \"30\", \"31\"], \"mode\": \"lines\", \"name\": \"f1_score_weighted_max\", \"stepped\": true, \"type\": \"scatter\", \"data\": [0.8211819354480298, 0.8211819354480298, 0.8390917938882776, 0.8390917938882776, 0.8390917938882776, 0.8390917938882776, 0.8390917938882776, 0.8390917938882776, 0.8390917938882776, 0.8390917938882776, 0.8390917938882776, 0.8390917938882776, 0.8390917938882776, 0.8390917938882776, 0.8390917938882776, 0.8390917938882776, 0.8390917938882776, 0.8390917938882776, 0.8390917938882776, 0.8390917938882776, 0.8390917938882776, 0.8390917938882776, 0.8390917938882776, 0.8428638536317618, 0.8428638536317618, 0.8428638536317618, 0.8428638536317618, 0.8428638536317618, 0.8428638536317618, 0.8428638536317618, 0.8610760656579018, 0.8610760656579018]}], \"precision_score_macro\": [{\"categories\": [\"0\", \"1\", \"2\", \"3\", \"4\", \"5\", \"6\", \"7\", \"8\", \"9\", \"10\", \"11\", \"12\", \"13\", \"14\", \"15\", \"16\", \"17\", \"18\", \"19\", \"20\", \"21\", \"22\", \"23\", \"24\", \"25\", \"26\", \"27\", \"28\", \"29\", \"30\", \"31\"], \"mode\": \"markers\", \"name\": \"precision_score_macro\", \"stepped\": false, \"type\": \"scatter\", \"data\": [0.8147546772260731, 0.8218409751026504, 0.8296760419567436, 0.8048107585471715, 0.8168846011172208, 0.771165652679683, 0.7927738927738929, 0.7977192429850118, 0.7896880239250373, 0.8044252065991196, 0.8025212045726385, 0.7545396971403405, 0.7923878205128205, 0.7970238095238096, 0.8276146765134179, 0.8284750108803381, 0.7719251645694399, 0.8025911376068097, 0.7666152244398972, 0.7900300338589258, 0.7735036315280966, 0.8012504513646066, 0.8283271513593853, 0.8572530864197531, 0.844638557177257, 0.3394949494949495, 0.8063148023091192, 0.8381891094934574, 0.8296860544678383, 0.8020431183301945, 0.8714758440785838, 0.8308003108003108]}, {\"categories\": [\"0\", \"1\", \"2\", \"3\", \"4\", \"5\", \"6\", \"7\", \"8\", \"9\", \"10\", \"11\", \"12\", \"13\", \"14\", \"15\", \"16\", \"17\", \"18\", \"19\", \"20\", \"21\", \"22\", \"23\", \"24\", \"25\", \"26\", \"27\", \"28\", \"29\", \"30\", \"31\"], \"mode\": \"lines\", \"name\": \"precision_score_macro_max\", \"stepped\": true, \"type\": \"scatter\", \"data\": [0.8147546772260731, 0.8218409751026504, 0.8296760419567436, 0.8296760419567436, 0.8296760419567436, 0.8296760419567436, 0.8296760419567436, 0.8296760419567436, 0.8296760419567436, 0.8296760419567436, 0.8296760419567436, 0.8296760419567436, 0.8296760419567436, 0.8296760419567436, 0.8296760419567436, 0.8296760419567436, 0.8296760419567436, 0.8296760419567436, 0.8296760419567436, 0.8296760419567436, 0.8296760419567436, 0.8296760419567436, 0.8296760419567436, 0.8572530864197531, 0.8572530864197531, 0.8572530864197531, 0.8572530864197531, 0.8572530864197531, 0.8572530864197531, 0.8572530864197531, 0.8714758440785838, 0.8714758440785838]}], \"log_loss\": [{\"categories\": [\"0\", \"1\", \"2\", \"3\", \"4\", \"5\", \"6\", \"7\", \"8\", \"9\", \"10\", \"11\", \"12\", \"13\", \"14\", \"15\", \"16\", \"17\", \"18\", \"19\", \"20\", \"21\", \"22\", \"23\", \"24\", \"25\", \"26\", \"27\", \"28\", \"29\", \"30\", \"31\"], \"mode\": \"markers\", \"name\": \"log_loss\", \"stepped\": false, \"type\": \"scatter\", \"data\": [0.4951966892314486, 0.4286740704307772, 0.38043315192789534, 0.4423330883825584, 0.41233778350804, 0.5153102932020789, 0.49674335994467195, 0.4660404648555801, 0.48852488045121917, 0.644570124587614, 0.48439899412346693, 0.5312305623851651, 0.5728475286765218, 0.4849101393014039, 0.43157858153275375, 0.46790470483130936, 0.5025405121101845, 0.4266914259313872, 0.5909955477648462, 0.46808992893036994, 0.4836831559985442, 0.5273264387408485, 0.42338764618332214, 0.4049840275813557, 0.491514169944802, 0.6397028184938366, 0.4622846193372057, 0.4437135020216178, 0.38062750290157493, 0.3945599653609512, 0.40940189115985737, 0.4119157123024024]}, {\"categories\": [\"0\", \"1\", \"2\", \"3\", \"4\", \"5\", \"6\", \"7\", \"8\", \"9\", \"10\", \"11\", \"12\", \"13\", \"14\", \"15\", \"16\", \"17\", \"18\", \"19\", \"20\", \"21\", \"22\", \"23\", \"24\", \"25\", \"26\", \"27\", \"28\", \"29\", \"30\", \"31\"], \"mode\": \"lines\", \"name\": \"log_loss_min\", \"stepped\": true, \"type\": \"scatter\", \"data\": [0.4951966892314486, 0.4286740704307772, 0.38043315192789534, 0.38043315192789534, 0.38043315192789534, 0.38043315192789534, 0.38043315192789534, 0.38043315192789534, 0.38043315192789534, 0.38043315192789534, 0.38043315192789534, 0.38043315192789534, 0.38043315192789534, 0.38043315192789534, 0.38043315192789534, 0.38043315192789534, 0.38043315192789534, 0.38043315192789534, 0.38043315192789534, 0.38043315192789534, 0.38043315192789534, 0.38043315192789534, 0.38043315192789534, 0.38043315192789534, 0.38043315192789534, 0.38043315192789534, 0.38043315192789534, 0.38043315192789534, 0.38043315192789534, 0.38043315192789534, 0.38043315192789534, 0.38043315192789534]}], \"precision_score_weighted\": [{\"categories\": [\"0\", \"1\", \"2\", \"3\", \"4\", \"5\", \"6\", \"7\", \"8\", \"9\", \"10\", \"11\", \"12\", \"13\", \"14\", \"15\", \"16\", \"17\", \"18\", \"19\", \"20\", \"21\", \"22\", \"23\", \"24\", \"25\", \"26\", \"27\", \"28\", \"29\", \"30\", \"31\"], \"mode\": \"markers\", \"name\": \"precision_score_weighted\", \"stepped\": false, \"type\": \"scatter\", \"data\": [0.8296778559936454, 0.8358295096304733, 0.8432725338880309, 0.8275932605552171, 0.8364166706340704, 0.8226780543493463, 0.8114361564361564, 0.799445966874032, 0.8211745443931374, 0.825805223255816, 0.8300208543854636, 0.8008020340569942, 0.8325401402791108, 0.8060618085618086, 0.8325531776575827, 0.8224074497983356, 0.7695489598833537, 0.8370953048942368, 0.823003078620666, 0.8130272335321423, 0.812017366799692, 0.8320074863453858, 0.840573064658147, 0.8580728582117471, 0.8296046295179421, 0.465455586164677, 0.8309118264544705, 0.8463842470364208, 0.8476328575095179, 0.8382048504108885, 0.8725634840703332, 0.8482824751006569]}, {\"categories\": [\"0\", \"1\", \"2\", \"3\", \"4\", \"5\", \"6\", \"7\", \"8\", \"9\", \"10\", \"11\", \"12\", \"13\", \"14\", \"15\", \"16\", \"17\", \"18\", \"19\", \"20\", \"21\", \"22\", \"23\", \"24\", \"25\", \"26\", \"27\", \"28\", \"29\", \"30\", \"31\"], \"mode\": \"lines\", \"name\": \"precision_score_weighted_max\", \"stepped\": true, \"type\": \"scatter\", \"data\": [0.8296778559936454, 0.8358295096304733, 0.8432725338880309, 0.8432725338880309, 0.8432725338880309, 0.8432725338880309, 0.8432725338880309, 0.8432725338880309, 0.8432725338880309, 0.8432725338880309, 0.8432725338880309, 0.8432725338880309, 0.8432725338880309, 0.8432725338880309, 0.8432725338880309, 0.8432725338880309, 0.8432725338880309, 0.8432725338880309, 0.8432725338880309, 0.8432725338880309, 0.8432725338880309, 0.8432725338880309, 0.8432725338880309, 0.8580728582117471, 0.8580728582117471, 0.8580728582117471, 0.8580728582117471, 0.8580728582117471, 0.8580728582117471, 0.8580728582117471, 0.8725634840703332, 0.8725634840703332]}], \"average_precision_score_macro\": [{\"categories\": [\"0\", \"1\", \"2\", \"3\", \"4\", \"5\", \"6\", \"7\", \"8\", \"9\", \"10\", \"11\", \"12\", \"13\", \"14\", \"15\", \"16\", \"17\", \"18\", \"19\", \"20\", \"21\", \"22\", \"23\", \"24\", \"25\", \"26\", \"27\", \"28\", \"29\", \"30\", \"31\"], \"mode\": \"markers\", \"name\": \"average_precision_score_macro\", \"stepped\": false, \"type\": \"scatter\", \"data\": [0.8731198723526422, 0.8816256331225544, 0.8899837817279471, 0.8518269923652132, 0.8749447580475963, 0.8576619547687323, 0.8670917200161887, 0.8722807036403668, 0.8587667342722911, 0.8499650267787083, 0.8393291700730822, 0.8339298486496528, 0.8447276524480515, 0.8402193755143403, 0.8651750922167579, 0.8680145759732202, 0.8297860463425306, 0.8764919453334254, 0.8572314092855183, 0.8430172123796479, 0.8577114505255362, 0.8506245321968545, 0.8807577801333366, 0.8871374638262105, 0.901715648415461, 0.5, 0.8476981748197904, 0.8799611647839738, 0.8888035010980838, 0.8967922967554817, 0.893388016055111, 0.89609281541363]}, {\"categories\": [\"0\", \"1\", \"2\", \"3\", \"4\", \"5\", \"6\", \"7\", \"8\", \"9\", \"10\", \"11\", \"12\", \"13\", \"14\", \"15\", \"16\", \"17\", \"18\", \"19\", \"20\", \"21\", \"22\", \"23\", \"24\", \"25\", \"26\", \"27\", \"28\", \"29\", \"30\", \"31\"], \"mode\": \"lines\", \"name\": \"average_precision_score_macro_max\", \"stepped\": true, \"type\": \"scatter\", \"data\": [0.8731198723526422, 0.8816256331225544, 0.8899837817279471, 0.8899837817279471, 0.8899837817279471, 0.8899837817279471, 0.8899837817279471, 0.8899837817279471, 0.8899837817279471, 0.8899837817279471, 0.8899837817279471, 0.8899837817279471, 0.8899837817279471, 0.8899837817279471, 0.8899837817279471, 0.8899837817279471, 0.8899837817279471, 0.8899837817279471, 0.8899837817279471, 0.8899837817279471, 0.8899837817279471, 0.8899837817279471, 0.8899837817279471, 0.8899837817279471, 0.901715648415461, 0.901715648415461, 0.901715648415461, 0.901715648415461, 0.901715648415461, 0.901715648415461, 0.901715648415461, 0.901715648415461]}], \"AUC_macro\": [{\"categories\": [\"0\", \"1\", \"2\", \"3\", \"4\", \"5\", \"6\", \"7\", \"8\", \"9\", \"10\", \"11\", \"12\", \"13\", \"14\", \"15\", \"16\", \"17\", \"18\", \"19\", \"20\", \"21\", \"22\", \"23\", \"24\", \"25\", \"26\", \"27\", \"28\", \"29\", \"30\", \"31\"], \"mode\": \"markers\", \"name\": \"AUC_macro\", \"stepped\": false, \"type\": \"scatter\", \"data\": [0.8852144920879325, 0.8951796527623838, 0.9035416873530071, 0.8715443836668776, 0.8973526122704115, 0.8753567925421332, 0.8886487032676763, 0.8931196039938784, 0.869302256758259, 0.8764010033291195, 0.8630796431098676, 0.8530569470489596, 0.8622393789371449, 0.8563266890738177, 0.889068670928419, 0.8873429754646356, 0.8580424984972032, 0.8994088341158527, 0.8754762456904844, 0.8659290951465152, 0.8724765930479251, 0.8598793901473772, 0.9049681407057254, 0.9010959735694138, 0.911585904663763, 0.5, 0.8699387822785131, 0.901038147941784, 0.904447070993923, 0.9110288019097336, 0.9062301721676023, 0.9091800316735666]}, {\"categories\": [\"0\", \"1\", \"2\", \"3\", \"4\", \"5\", \"6\", \"7\", \"8\", \"9\", \"10\", \"11\", \"12\", \"13\", \"14\", \"15\", \"16\", \"17\", \"18\", \"19\", \"20\", \"21\", \"22\", \"23\", \"24\", \"25\", \"26\", \"27\", \"28\", \"29\", \"30\", \"31\"], \"mode\": \"lines\", \"name\": \"AUC_macro_max\", \"stepped\": true, \"type\": \"scatter\", \"data\": [0.8852144920879325, 0.8951796527623838, 0.9035416873530071, 0.9035416873530071, 0.9035416873530071, 0.9035416873530071, 0.9035416873530071, 0.9035416873530071, 0.9035416873530071, 0.9035416873530071, 0.9035416873530071, 0.9035416873530071, 0.9035416873530071, 0.9035416873530071, 0.9035416873530071, 0.9035416873530071, 0.9035416873530071, 0.9035416873530071, 0.9035416873530071, 0.9035416873530071, 0.9035416873530071, 0.9035416873530071, 0.9049681407057254, 0.9049681407057254, 0.911585904663763, 0.911585904663763, 0.911585904663763, 0.911585904663763, 0.911585904663763, 0.911585904663763, 0.911585904663763, 0.911585904663763]}], \"accuracy\": [{\"categories\": [\"0\", \"1\", \"2\", \"3\", \"4\", \"5\", \"6\", \"7\", \"8\", \"9\", \"10\", \"11\", \"12\", \"13\", \"14\", \"15\", \"16\", \"17\", \"18\", \"19\", \"20\", \"21\", \"22\", \"23\", \"24\", \"25\", \"26\", \"27\", \"28\", \"29\", \"30\", \"31\"], \"mode\": \"markers\", \"name\": \"accuracy\", \"stepped\": false, \"type\": \"scatter\", \"data\": [0.825925925925926, 0.8259932659932661, 0.8426936026936027, 0.8193602693602693, 0.8259932659932661, 0.7856565656565658, 0.805959595959596, 0.775925925925926, 0.8125925925925926, 0.8193602693602693, 0.8225925925925925, 0.7756228956228957, 0.815892255892256, 0.7959595959595959, 0.8261616161616162, 0.7993602693602693, 0.7459259259259259, 0.8258585858585858, 0.7756902356902358, 0.8125925925925926, 0.7957575757575759, 0.8258585858585858, 0.826026936026936, 0.8494276094276095, 0.7827609427609428, 0.678989898989899, 0.8226599326599326, 0.8393602693602693, 0.8392929292929292, 0.8258585858585858, 0.8661279461279462, 0.8326262626262627]}, {\"categories\": [\"0\", \"1\", \"2\", \"3\", \"4\", \"5\", \"6\", \"7\", \"8\", \"9\", \"10\", \"11\", \"12\", \"13\", \"14\", \"15\", \"16\", \"17\", \"18\", \"19\", \"20\", \"21\", \"22\", \"23\", \"24\", \"25\", \"26\", \"27\", \"28\", \"29\", \"30\", \"31\"], \"mode\": \"lines\", \"name\": \"accuracy_max\", \"stepped\": true, \"type\": \"scatter\", \"data\": [0.825925925925926, 0.8259932659932661, 0.8426936026936027, 0.8426936026936027, 0.8426936026936027, 0.8426936026936027, 0.8426936026936027, 0.8426936026936027, 0.8426936026936027, 0.8426936026936027, 0.8426936026936027, 0.8426936026936027, 0.8426936026936027, 0.8426936026936027, 0.8426936026936027, 0.8426936026936027, 0.8426936026936027, 0.8426936026936027, 0.8426936026936027, 0.8426936026936027, 0.8426936026936027, 0.8426936026936027, 0.8426936026936027, 0.8494276094276095, 0.8494276094276095, 0.8494276094276095, 0.8494276094276095, 0.8494276094276095, 0.8494276094276095, 0.8494276094276095, 0.8661279461279462, 0.8661279461279462]}], \"recall_score_macro\": [{\"categories\": [\"0\", \"1\", \"2\", \"3\", \"4\", \"5\", \"6\", \"7\", \"8\", \"9\", \"10\", \"11\", \"12\", \"13\", \"14\", \"15\", \"16\", \"17\", \"18\", \"19\", \"20\", \"21\", \"22\", \"23\", \"24\", \"25\", \"26\", \"27\", \"28\", \"29\", \"30\", \"31\"], \"mode\": \"markers\", \"name\": \"recall_score_macro\", \"stepped\": false, \"type\": \"scatter\", \"data\": [0.7924492893418248, 0.7839119650592231, 0.8070669398661562, 0.7858126187009843, 0.7894333507078622, 0.7990656896989016, 0.762354388466508, 0.6988812800434564, 0.7933978986805345, 0.7826725220826267, 0.7934649603681003, 0.7772570411776337, 0.809206683002718, 0.7257818837584101, 0.7664977343214847, 0.7218493488545792, 0.6372658682371642, 0.8155588507248375, 0.7970645433794058, 0.7725512598530554, 0.7832275883554708, 0.8112776469695427, 0.7815606720547676, 0.8024285197899879, 0.696218923058796, 0.5, 0.7889897809810819, 0.793539630901099, 0.8075634320086754, 0.8161614872596773, 0.8263073933613323, 0.8013332654328753]}, {\"categories\": [\"0\", \"1\", \"2\", \"3\", \"4\", \"5\", \"6\", \"7\", \"8\", \"9\", \"10\", \"11\", \"12\", \"13\", \"14\", \"15\", \"16\", \"17\", \"18\", \"19\", \"20\", \"21\", \"22\", \"23\", \"24\", \"25\", \"26\", \"27\", \"28\", \"29\", \"30\", \"31\"], \"mode\": \"lines\", \"name\": \"recall_score_macro_max\", \"stepped\": true, \"type\": \"scatter\", \"data\": [0.7924492893418248, 0.7924492893418248, 0.8070669398661562, 0.8070669398661562, 0.8070669398661562, 0.8070669398661562, 0.8070669398661562, 0.8070669398661562, 0.8070669398661562, 0.8070669398661562, 0.8070669398661562, 0.8070669398661562, 0.809206683002718, 0.809206683002718, 0.809206683002718, 0.809206683002718, 0.809206683002718, 0.8155588507248375, 0.8155588507248375, 0.8155588507248375, 0.8155588507248375, 0.8155588507248375, 0.8155588507248375, 0.8155588507248375, 0.8155588507248375, 0.8155588507248375, 0.8155588507248375, 0.8155588507248375, 0.8155588507248375, 0.8161614872596773, 0.8263073933613323, 0.8263073933613323]}], \"f1_score_macro\": [{\"categories\": [\"0\", \"1\", \"2\", \"3\", \"4\", \"5\", \"6\", \"7\", \"8\", \"9\", \"10\", \"11\", \"12\", \"13\", \"14\", \"15\", \"16\", \"17\", \"18\", \"19\", \"20\", \"21\", \"22\", \"23\", \"24\", \"25\", \"26\", \"27\", \"28\", \"29\", \"30\", \"31\"], \"mode\": \"markers\", \"name\": \"f1_score_macro\", \"stepped\": false, \"type\": \"scatter\", \"data\": [0.796275898533339, 0.7893460959638977, 0.8140224648840161, 0.7866119805829154, 0.792398429106541, 0.770381137453564, 0.765054064991126, 0.7016026380692325, 0.7869261976306011, 0.7854181127223808, 0.7932627279936417, 0.757363234968766, 0.7932520924767051, 0.738792885882646, 0.7815504018912142, 0.7329692440115759, 0.6330669661959777, 0.8052428971486348, 0.7616859423665775, 0.7779225199169422, 0.7708792210104348, 0.8043834273342471, 0.7874393068280346, 0.8169729475946287, 0.6932742464574763, 0.4034516322252171, 0.7902024387336622, 0.8039579329053014, 0.8104467446070786, 0.804712525410951, 0.8393512847088015, 0.801859962151933]}, {\"categories\": [\"0\", \"1\", \"2\", \"3\", \"4\", \"5\", \"6\", \"7\", \"8\", \"9\", \"10\", \"11\", \"12\", \"13\", \"14\", \"15\", \"16\", \"17\", \"18\", \"19\", \"20\", \"21\", \"22\", \"23\", \"24\", \"25\", \"26\", \"27\", \"28\", \"29\", \"30\", \"31\"], \"mode\": \"lines\", \"name\": \"f1_score_macro_max\", \"stepped\": true, \"type\": \"scatter\", \"data\": [0.796275898533339, 0.796275898533339, 0.8140224648840161, 0.8140224648840161, 0.8140224648840161, 0.8140224648840161, 0.8140224648840161, 0.8140224648840161, 0.8140224648840161, 0.8140224648840161, 0.8140224648840161, 0.8140224648840161, 0.8140224648840161, 0.8140224648840161, 0.8140224648840161, 0.8140224648840161, 0.8140224648840161, 0.8140224648840161, 0.8140224648840161, 0.8140224648840161, 0.8140224648840161, 0.8140224648840161, 0.8140224648840161, 0.8169729475946287, 0.8169729475946287, 0.8169729475946287, 0.8169729475946287, 0.8169729475946287, 0.8169729475946287, 0.8169729475946287, 0.8393512847088015, 0.8393512847088015]}], \"f1_score_micro\": [{\"categories\": [\"0\", \"1\", \"2\", \"3\", \"4\", \"5\", \"6\", \"7\", \"8\", \"9\", \"10\", \"11\", \"12\", \"13\", \"14\", \"15\", \"16\", \"17\", \"18\", \"19\", \"20\", \"21\", \"22\", \"23\", \"24\", \"25\", \"26\", \"27\", \"28\", \"29\", \"30\", \"31\"], \"mode\": \"markers\", \"name\": \"f1_score_micro\", \"stepped\": false, \"type\": \"scatter\", \"data\": [0.825925925925926, 0.825993265993266, 0.8426936026936027, 0.8193602693602693, 0.8259932659932661, 0.7856565656565658, 0.805959595959596, 0.775925925925926, 0.8125925925925926, 0.8193602693602693, 0.8225925925925925, 0.7756228956228957, 0.815892255892256, 0.7959595959595959, 0.8261616161616162, 0.7993602693602693, 0.7459259259259259, 0.8258585858585858, 0.7756902356902357, 0.8125925925925926, 0.7957575757575759, 0.8258585858585858, 0.826026936026936, 0.8494276094276095, 0.7827609427609428, 0.678989898989899, 0.8226599326599326, 0.8393602693602693, 0.8392929292929292, 0.8258585858585858, 0.8661279461279462, 0.8326262626262627]}, {\"categories\": [\"0\", \"1\", \"2\", \"3\", \"4\", \"5\", \"6\", \"7\", \"8\", \"9\", \"10\", \"11\", \"12\", \"13\", \"14\", \"15\", \"16\", \"17\", \"18\", \"19\", \"20\", \"21\", \"22\", \"23\", \"24\", \"25\", \"26\", \"27\", \"28\", \"29\", \"30\", \"31\"], \"mode\": \"lines\", \"name\": \"f1_score_micro_max\", \"stepped\": true, \"type\": \"scatter\", \"data\": [0.825925925925926, 0.825993265993266, 0.8426936026936027, 0.8426936026936027, 0.8426936026936027, 0.8426936026936027, 0.8426936026936027, 0.8426936026936027, 0.8426936026936027, 0.8426936026936027, 0.8426936026936027, 0.8426936026936027, 0.8426936026936027, 0.8426936026936027, 0.8426936026936027, 0.8426936026936027, 0.8426936026936027, 0.8426936026936027, 0.8426936026936027, 0.8426936026936027, 0.8426936026936027, 0.8426936026936027, 0.8426936026936027, 0.8494276094276095, 0.8494276094276095, 0.8494276094276095, 0.8494276094276095, 0.8494276094276095, 0.8494276094276095, 0.8494276094276095, 0.8661279461279462, 0.8661279461279462]}], \"AUC_weighted\": [{\"categories\": [\"0\", \"1\", \"2\", \"3\", \"4\", \"5\", \"6\", \"7\", \"8\", \"9\", \"10\", \"11\", \"12\", \"13\", \"14\", \"15\", \"16\", \"17\", \"18\", \"19\", \"20\", \"21\", \"22\", \"23\", \"24\", \"25\", \"26\", \"27\", \"28\", \"29\", \"30\", \"31\"], \"mode\": \"markers\", \"name\": \"AUC_weighted\", \"stepped\": false, \"type\": \"scatter\", \"data\": [0.8852144920879325, 0.8951796527623838, 0.9035416873530071, 0.8715443836668778, 0.8973526122704115, 0.8753567925421332, 0.888553775708246, 0.8931196039938784, 0.869302256758259, 0.8764010033291195, 0.8630796431098676, 0.8530569470489596, 0.8622393789371449, 0.8563266890738177, 0.889068670928419, 0.8873429754646356, 0.8580424984972032, 0.8994088341158527, 0.8754762456904844, 0.8659290951465154, 0.8724765930479251, 0.8598793901473774, 0.9049681407057254, 0.9010959735694138, 0.911585904663763, 0.5, 0.8699387822785131, 0.901038147941784, 0.904447070993923, 0.9110288019097336, 0.9062301721676023, 0.9091800316735666]}, {\"categories\": [\"0\", \"1\", \"2\", \"3\", \"4\", \"5\", \"6\", \"7\", \"8\", \"9\", \"10\", \"11\", \"12\", \"13\", \"14\", \"15\", \"16\", \"17\", \"18\", \"19\", \"20\", \"21\", \"22\", \"23\", \"24\", \"25\", \"26\", \"27\", \"28\", \"29\", \"30\", \"31\"], \"mode\": \"lines\", \"name\": \"AUC_weighted_max\", \"stepped\": true, \"type\": \"scatter\", \"data\": [0.8852144920879325, 0.8951796527623838, 0.9035416873530071, 0.9035416873530071, 0.9035416873530071, 0.9035416873530071, 0.9035416873530071, 0.9035416873530071, 0.9035416873530071, 0.9035416873530071, 0.9035416873530071, 0.9035416873530071, 0.9035416873530071, 0.9035416873530071, 0.9035416873530071, 0.9035416873530071, 0.9035416873530071, 0.9035416873530071, 0.9035416873530071, 0.9035416873530071, 0.9035416873530071, 0.9035416873530071, 0.9049681407057254, 0.9049681407057254, 0.911585904663763, 0.911585904663763, 0.911585904663763, 0.911585904663763, 0.911585904663763, 0.911585904663763, 0.911585904663763, 0.911585904663763]}], \"precision_score_micro\": [{\"categories\": [\"0\", \"1\", \"2\", \"3\", \"4\", \"5\", \"6\", \"7\", \"8\", \"9\", \"10\", \"11\", \"12\", \"13\", \"14\", \"15\", \"16\", \"17\", \"18\", \"19\", \"20\", \"21\", \"22\", \"23\", \"24\", \"25\", \"26\", \"27\", \"28\", \"29\", \"30\", \"31\"], \"mode\": \"markers\", \"name\": \"precision_score_micro\", \"stepped\": false, \"type\": \"scatter\", \"data\": [0.825925925925926, 0.8259932659932661, 0.8426936026936027, 0.8193602693602693, 0.8259932659932661, 0.7856565656565658, 0.805959595959596, 0.775925925925926, 0.8125925925925926, 0.8193602693602693, 0.8225925925925925, 0.7756228956228957, 0.815892255892256, 0.7959595959595959, 0.8261616161616162, 0.7993602693602693, 0.7459259259259259, 0.8258585858585858, 0.7756902356902358, 0.8125925925925926, 0.7957575757575759, 0.8258585858585858, 0.826026936026936, 0.8494276094276095, 0.7827609427609428, 0.678989898989899, 0.8226599326599326, 0.8393602693602693, 0.8392929292929292, 0.8258585858585858, 0.8661279461279462, 0.8326262626262627]}, {\"categories\": [\"0\", \"1\", \"2\", \"3\", \"4\", \"5\", \"6\", \"7\", \"8\", \"9\", \"10\", \"11\", \"12\", \"13\", \"14\", \"15\", \"16\", \"17\", \"18\", \"19\", \"20\", \"21\", \"22\", \"23\", \"24\", \"25\", \"26\", \"27\", \"28\", \"29\", \"30\", \"31\"], \"mode\": \"lines\", \"name\": \"precision_score_micro_max\", \"stepped\": true, \"type\": \"scatter\", \"data\": [0.825925925925926, 0.8259932659932661, 0.8426936026936027, 0.8426936026936027, 0.8426936026936027, 0.8426936026936027, 0.8426936026936027, 0.8426936026936027, 0.8426936026936027, 0.8426936026936027, 0.8426936026936027, 0.8426936026936027, 0.8426936026936027, 0.8426936026936027, 0.8426936026936027, 0.8426936026936027, 0.8426936026936027, 0.8426936026936027, 0.8426936026936027, 0.8426936026936027, 0.8426936026936027, 0.8426936026936027, 0.8426936026936027, 0.8494276094276095, 0.8494276094276095, 0.8494276094276095, 0.8494276094276095, 0.8494276094276095, 0.8494276094276095, 0.8494276094276095, 0.8661279461279462, 0.8661279461279462]}], \"AUC_micro\": [{\"categories\": [\"0\", \"1\", \"2\", \"3\", \"4\", \"5\", \"6\", \"7\", \"8\", \"9\", \"10\", \"11\", \"12\", \"13\", \"14\", \"15\", \"16\", \"17\", \"18\", \"19\", \"20\", \"21\", \"22\", \"23\", \"24\", \"25\", \"26\", \"27\", \"28\", \"29\", \"30\", \"31\"], \"mode\": \"markers\", \"name\": \"AUC_micro\", \"stepped\": false, \"type\": \"scatter\", \"data\": [0.8911140699928578, 0.897847063224841, 0.9094492602795633, 0.8797743053429922, 0.8994927456382001, 0.8539993606094617, 0.8969447760432608, 0.8761856375199809, 0.8804490970309153, 0.882989024929429, 0.8724083222800395, 0.853660442811958, 0.8668103526851002, 0.8732783661531136, 0.9000707478828692, 0.8757952827942727, 0.8512250654695098, 0.9043523109886746, 0.8476827806686392, 0.8797590790055437, 0.8834739720436691, 0.8745834438662721, 0.9002873278236915, 0.9021152467435295, 0.878479039553787, 0.678989898989899, 0.8782384348535864, 0.8945822535115465, 0.9079482467775398, 0.9133790429548005, 0.9115194776043261, 0.8993438458660682]}, {\"categories\": [\"0\", \"1\", \"2\", \"3\", \"4\", \"5\", \"6\", \"7\", \"8\", \"9\", \"10\", \"11\", \"12\", \"13\", \"14\", \"15\", \"16\", \"17\", \"18\", \"19\", \"20\", \"21\", \"22\", \"23\", \"24\", \"25\", \"26\", \"27\", \"28\", \"29\", \"30\", \"31\"], \"mode\": \"lines\", \"name\": \"AUC_micro_max\", \"stepped\": true, \"type\": \"scatter\", \"data\": [0.8911140699928578, 0.897847063224841, 0.9094492602795633, 0.9094492602795633, 0.9094492602795633, 0.9094492602795633, 0.9094492602795633, 0.9094492602795633, 0.9094492602795633, 0.9094492602795633, 0.9094492602795633, 0.9094492602795633, 0.9094492602795633, 0.9094492602795633, 0.9094492602795633, 0.9094492602795633, 0.9094492602795633, 0.9094492602795633, 0.9094492602795633, 0.9094492602795633, 0.9094492602795633, 0.9094492602795633, 0.9094492602795633, 0.9094492602795633, 0.9094492602795633, 0.9094492602795633, 0.9094492602795633, 0.9094492602795633, 0.9094492602795633, 0.9133790429548005, 0.9133790429548005, 0.9133790429548005]}], \"weighted_accuracy\": [{\"categories\": [\"0\", \"1\", \"2\", \"3\", \"4\", \"5\", \"6\", \"7\", \"8\", \"9\", \"10\", \"11\", \"12\", \"13\", \"14\", \"15\", \"16\", \"17\", \"18\", \"19\", \"20\", \"21\", \"22\", \"23\", \"24\", \"25\", \"26\", \"27\", \"28\", \"29\", \"30\", \"31\"], \"mode\": \"markers\", \"name\": \"weighted_accuracy\", \"stepped\": false, \"type\": \"scatter\", \"data\": [0.8518765369284775, 0.8581177688845031, 0.8693220733553481, 0.8440036520327334, 0.8534867126852905, 0.7752567029276012, 0.8394364056606234, 0.8329013854659637, 0.8269946389172408, 0.8463000660938533, 0.8425570824145932, 0.7741404008105924, 0.822513310037252, 0.8457228579401016, 0.869288974823902, 0.8566624499924407, 0.8238479697647826, 0.8334399625598204, 0.7592970828019715, 0.8413235213014597, 0.8061198470389618, 0.8369086785808074, 0.8597132480841031, 0.8839717859938933, 0.846805752444333, 0.8051228382700453, 0.8473421777407921, 0.8737721746178112, 0.8636820122536101, 0.8332498553662261, 0.8959964443327482, 0.8572528331143552]}, {\"categories\": [\"0\", \"1\", \"2\", \"3\", \"4\", \"5\", \"6\", \"7\", \"8\", \"9\", \"10\", \"11\", \"12\", \"13\", \"14\", \"15\", \"16\", \"17\", \"18\", \"19\", \"20\", \"21\", \"22\", \"23\", \"24\", \"25\", \"26\", \"27\", \"28\", \"29\", \"30\", \"31\"], \"mode\": \"lines\", \"name\": \"weighted_accuracy_max\", \"stepped\": true, \"type\": \"scatter\", \"data\": [0.8518765369284775, 0.8581177688845031, 0.8693220733553481, 0.8693220733553481, 0.8693220733553481, 0.8693220733553481, 0.8693220733553481, 0.8693220733553481, 0.8693220733553481, 0.8693220733553481, 0.8693220733553481, 0.8693220733553481, 0.8693220733553481, 0.8693220733553481, 0.8693220733553481, 0.8693220733553481, 0.8693220733553481, 0.8693220733553481, 0.8693220733553481, 0.8693220733553481, 0.8693220733553481, 0.8693220733553481, 0.8693220733553481, 0.8839717859938933, 0.8839717859938933, 0.8839717859938933, 0.8839717859938933, 0.8839717859938933, 0.8839717859938933, 0.8839717859938933, 0.8959964443327482, 0.8959964443327482]}], \"average_precision_score_micro\": [{\"categories\": [\"0\", \"1\", \"2\", \"3\", \"4\", \"5\", \"6\", \"7\", \"8\", \"9\", \"10\", \"11\", \"12\", \"13\", \"14\", \"15\", \"16\", \"17\", \"18\", \"19\", \"20\", \"21\", \"22\", \"23\", \"24\", \"25\", \"26\", \"27\", \"28\", \"29\", \"30\", \"31\"], \"mode\": \"markers\", \"name\": \"average_precision_score_micro\", \"stepped\": false, \"type\": \"scatter\", \"data\": [0.8938009858636106, 0.9026455376117112, 0.911011733429265, 0.8792787350503201, 0.8986729011043559, 0.8494913199563872, 0.8954365854006868, 0.8841992408766504, 0.8771765404287694, 0.8792538694471493, 0.8660274295104783, 0.8479248080100978, 0.8618124307166678, 0.8675481575373772, 0.8909917101223911, 0.8780883356569626, 0.8538725650496972, 0.8942579660225336, 0.8426135235380906, 0.8775753408624926, 0.8828658040477269, 0.8718482127662689, 0.9035201045999827, 0.9036220370096979, 0.8819522713992548, 0.6259606366697276, 0.8765315517823485, 0.898042724996689, 0.9119755551481026, 0.9155860464674829, 0.9114297656210066, 0.8973542059989844]}, {\"categories\": [\"0\", \"1\", \"2\", \"3\", \"4\", \"5\", \"6\", \"7\", \"8\", \"9\", \"10\", \"11\", \"12\", \"13\", \"14\", \"15\", \"16\", \"17\", \"18\", \"19\", \"20\", \"21\", \"22\", \"23\", \"24\", \"25\", \"26\", \"27\", \"28\", \"29\", \"30\", \"31\"], \"mode\": \"lines\", \"name\": \"average_precision_score_micro_max\", \"stepped\": true, \"type\": \"scatter\", \"data\": [0.8938009858636106, 0.9026455376117112, 0.911011733429265, 0.911011733429265, 0.911011733429265, 0.911011733429265, 0.911011733429265, 0.911011733429265, 0.911011733429265, 0.911011733429265, 0.911011733429265, 0.911011733429265, 0.911011733429265, 0.911011733429265, 0.911011733429265, 0.911011733429265, 0.911011733429265, 0.911011733429265, 0.911011733429265, 0.911011733429265, 0.911011733429265, 0.911011733429265, 0.911011733429265, 0.911011733429265, 0.911011733429265, 0.911011733429265, 0.911011733429265, 0.911011733429265, 0.9119755551481026, 0.9155860464674829, 0.9155860464674829, 0.9155860464674829]}], \"balanced_accuracy\": [{\"categories\": [\"0\", \"1\", \"2\", \"3\", \"4\", \"5\", \"6\", \"7\", \"8\", \"9\", \"10\", \"11\", \"12\", \"13\", \"14\", \"15\", \"16\", \"17\", \"18\", \"19\", \"20\", \"21\", \"22\", \"23\", \"24\", \"25\", \"26\", \"27\", \"28\", \"29\", \"30\", \"31\"], \"mode\": \"markers\", \"name\": \"balanced_accuracy\", \"stepped\": false, \"type\": \"scatter\", \"data\": [0.7924492893418248, 0.7839119650592231, 0.8070669398661562, 0.7858126187009843, 0.7894333507078622, 0.7990656896989016, 0.762354388466508, 0.6988812800434564, 0.7933978986805345, 0.7826725220826267, 0.7934649603681003, 0.7772570411776337, 0.809206683002718, 0.7257818837584101, 0.7664977343214847, 0.7218493488545792, 0.6372658682371642, 0.8155588507248375, 0.7970645433794058, 0.7725512598530554, 0.7832275883554708, 0.8112776469695427, 0.7815606720547676, 0.8024285197899879, 0.696218923058796, 0.5, 0.7889897809810819, 0.793539630901099, 0.8075634320086754, 0.8161614872596773, 0.8263073933613323, 0.8013332654328753]}, {\"categories\": [\"0\", \"1\", \"2\", \"3\", \"4\", \"5\", \"6\", \"7\", \"8\", \"9\", \"10\", \"11\", \"12\", \"13\", \"14\", \"15\", \"16\", \"17\", \"18\", \"19\", \"20\", \"21\", \"22\", \"23\", \"24\", \"25\", \"26\", \"27\", \"28\", \"29\", \"30\", \"31\"], \"mode\": \"lines\", \"name\": \"balanced_accuracy_max\", \"stepped\": true, \"type\": \"scatter\", \"data\": [0.7924492893418248, 0.7924492893418248, 0.8070669398661562, 0.8070669398661562, 0.8070669398661562, 0.8070669398661562, 0.8070669398661562, 0.8070669398661562, 0.8070669398661562, 0.8070669398661562, 0.8070669398661562, 0.8070669398661562, 0.809206683002718, 0.809206683002718, 0.809206683002718, 0.809206683002718, 0.809206683002718, 0.8155588507248375, 0.8155588507248375, 0.8155588507248375, 0.8155588507248375, 0.8155588507248375, 0.8155588507248375, 0.8155588507248375, 0.8155588507248375, 0.8155588507248375, 0.8155588507248375, 0.8155588507248375, 0.8155588507248375, 0.8161614872596773, 0.8263073933613323, 0.8263073933613323]}], \"average_precision_score_weighted\": [{\"categories\": [\"0\", \"1\", \"2\", \"3\", \"4\", \"5\", \"6\", \"7\", \"8\", \"9\", \"10\", \"11\", \"12\", \"13\", \"14\", \"15\", \"16\", \"17\", \"18\", \"19\", \"20\", \"21\", \"22\", \"23\", \"24\", \"25\", \"26\", \"27\", \"28\", \"29\", \"30\", \"31\"], \"mode\": \"markers\", \"name\": \"average_precision_score_weighted\", \"stepped\": false, \"type\": \"scatter\", \"data\": [0.8977219335443646, 0.907002877554759, 0.9123830699669627, 0.8834172220560751, 0.9025695770615231, 0.8874015346465396, 0.8922587131590897, 0.8979048576946042, 0.8809510774116026, 0.8826698130817054, 0.8753574989577858, 0.8622829880133117, 0.8722221351516283, 0.8668781037289975, 0.888453360367938, 0.8926272915665114, 0.8625958632341041, 0.9001641314666383, 0.887241058592552, 0.8734638917733356, 0.8861089012980864, 0.8721702656423179, 0.9080591654150111, 0.9071701229333003, 0.9185540140645134, 0.5729313743495562, 0.879964988036797, 0.905345236444755, 0.9137606921597454, 0.9183760398076553, 0.913789066307881, 0.9162280483191205]}, {\"categories\": [\"0\", \"1\", \"2\", \"3\", \"4\", \"5\", \"6\", \"7\", \"8\", \"9\", \"10\", \"11\", \"12\", \"13\", \"14\", \"15\", \"16\", \"17\", \"18\", \"19\", \"20\", \"21\", \"22\", \"23\", \"24\", \"25\", \"26\", \"27\", \"28\", \"29\", \"30\", \"31\"], \"mode\": \"lines\", \"name\": \"average_precision_score_weighted_max\", \"stepped\": true, \"type\": \"scatter\", \"data\": [0.8977219335443646, 0.907002877554759, 0.9123830699669627, 0.9123830699669627, 0.9123830699669627, 0.9123830699669627, 0.9123830699669627, 0.9123830699669627, 0.9123830699669627, 0.9123830699669627, 0.9123830699669627, 0.9123830699669627, 0.9123830699669627, 0.9123830699669627, 0.9123830699669627, 0.9123830699669627, 0.9123830699669627, 0.9123830699669627, 0.9123830699669627, 0.9123830699669627, 0.9123830699669627, 0.9123830699669627, 0.9123830699669627, 0.9123830699669627, 0.9185540140645134, 0.9185540140645134, 0.9185540140645134, 0.9185540140645134, 0.9185540140645134, 0.9185540140645134, 0.9185540140645134, 0.9185540140645134]}], \"recall_score_weighted\": [{\"categories\": [\"0\", \"1\", \"2\", \"3\", \"4\", \"5\", \"6\", \"7\", \"8\", \"9\", \"10\", \"11\", \"12\", \"13\", \"14\", \"15\", \"16\", \"17\", \"18\", \"19\", \"20\", \"21\", \"22\", \"23\", \"24\", \"25\", \"26\", \"27\", \"28\", \"29\", \"30\", \"31\"], \"mode\": \"markers\", \"name\": \"recall_score_weighted\", \"stepped\": false, \"type\": \"scatter\", \"data\": [0.825925925925926, 0.8259932659932661, 0.8426936026936027, 0.8193602693602693, 0.8259932659932661, 0.7856565656565658, 0.805959595959596, 0.775925925925926, 0.8125925925925926, 0.8193602693602693, 0.8225925925925925, 0.7756228956228957, 0.815892255892256, 0.7959595959595959, 0.8261616161616162, 0.7993602693602693, 0.7459259259259259, 0.8258585858585858, 0.7756902356902358, 0.8125925925925926, 0.7957575757575759, 0.8258585858585858, 0.826026936026936, 0.8494276094276095, 0.7827609427609428, 0.678989898989899, 0.8226599326599326, 0.8393602693602693, 0.8392929292929292, 0.8258585858585858, 0.8661279461279462, 0.8326262626262627]}, {\"categories\": [\"0\", \"1\", \"2\", \"3\", \"4\", \"5\", \"6\", \"7\", \"8\", \"9\", \"10\", \"11\", \"12\", \"13\", \"14\", \"15\", \"16\", \"17\", \"18\", \"19\", \"20\", \"21\", \"22\", \"23\", \"24\", \"25\", \"26\", \"27\", \"28\", \"29\", \"30\", \"31\"], \"mode\": \"lines\", \"name\": \"recall_score_weighted_max\", \"stepped\": true, \"type\": \"scatter\", \"data\": [0.825925925925926, 0.8259932659932661, 0.8426936026936027, 0.8426936026936027, 0.8426936026936027, 0.8426936026936027, 0.8426936026936027, 0.8426936026936027, 0.8426936026936027, 0.8426936026936027, 0.8426936026936027, 0.8426936026936027, 0.8426936026936027, 0.8426936026936027, 0.8426936026936027, 0.8426936026936027, 0.8426936026936027, 0.8426936026936027, 0.8426936026936027, 0.8426936026936027, 0.8426936026936027, 0.8426936026936027, 0.8426936026936027, 0.8494276094276095, 0.8494276094276095, 0.8494276094276095, 0.8494276094276095, 0.8494276094276095, 0.8494276094276095, 0.8494276094276095, 0.8661279461279462, 0.8661279461279462]}]}, \"metricName\": null, \"primaryMetricName\": \"accuracy\", \"showLegend\": false}, \"run_metrics\": [{\"name\": \"experiment_status\", \"run_id\": \"AutoML_fa2ae81d-8651-45fa-9a21-a1547dab0b56\", \"categories\": [0, 1, 2, 3, 4, 5, 6, 7, 8, 9, 10, 11, 12, 13], \"series\": [{\"data\": [\"DatasetEvaluation\", \"FeaturesGeneration\", \"DatasetFeaturization\", \"DatasetFeaturizationCompleted\", \"DatasetCrossValidationSplit\", \"ModelSelection\", \"BestRunExplainModel\", \"ModelExplanationDataSetSetup\", \"PickSurrogateModel\", \"EngineeredFeatureExplanations\", \"EngineeredFeatureExplanations\", \"RawFeaturesExplanations\", \"RawFeaturesExplanations\", \"BestRunExplainModel\"]}]}, {\"name\": \"experiment_status_description\", \"run_id\": \"AutoML_fa2ae81d-8651-45fa-9a21-a1547dab0b56\", \"categories\": [0, 1, 2, 3, 4, 5, 6, 7, 8, 9, 10, 11, 12, 13], \"series\": [{\"data\": [\"Gathering dataset statistics.\", \"Generating features for the dataset.\", \"Beginning to fit featurizers and featurize the dataset.\", \"Completed fit featurizers and featurizing the dataset.\", \"Generating individually featurized CV splits.\", \"Beginning model selection.\", \"Best run model explanations started\", \"Model explanations data setup completed\", \"Choosing LightGBM as the surrogate model for explanations\", \"Computation of engineered features started\", \"Computation of engineered features completed\", \"Computation of raw features started\", \"Computation of raw features completed\", \"Best run model explanations completed\"]}]}, {\"name\": \"f1_score_micro\", \"run_id\": \"AutoML_fa2ae81d-8651-45fa-9a21-a1547dab0b56\", \"categories\": [0], \"series\": [{\"data\": [0.8661279461279462]}]}, {\"name\": \"norm_macro_recall\", \"run_id\": \"AutoML_fa2ae81d-8651-45fa-9a21-a1547dab0b56\", \"categories\": [0], \"series\": [{\"data\": [0.6526147867226645]}]}, {\"name\": \"recall_score_micro\", \"run_id\": \"AutoML_fa2ae81d-8651-45fa-9a21-a1547dab0b56\", \"categories\": [0], \"series\": [{\"data\": [0.8661279461279462]}]}, {\"name\": \"precision_score_weighted\", \"run_id\": \"AutoML_fa2ae81d-8651-45fa-9a21-a1547dab0b56\", \"categories\": [0], \"series\": [{\"data\": [0.8725634840703332]}]}, {\"name\": \"matthews_correlation\", \"run_id\": \"AutoML_fa2ae81d-8651-45fa-9a21-a1547dab0b56\", \"categories\": [0], \"series\": [{\"data\": [0.6959586342508604]}]}, {\"name\": \"AUC_micro\", \"run_id\": \"AutoML_fa2ae81d-8651-45fa-9a21-a1547dab0b56\", \"categories\": [0], \"series\": [{\"data\": [0.9115194776043261]}]}, {\"name\": \"log_loss\", \"run_id\": \"AutoML_fa2ae81d-8651-45fa-9a21-a1547dab0b56\", \"categories\": [0], \"series\": [{\"data\": [0.40940189115985737]}]}, {\"name\": \"precision_score_macro\", \"run_id\": \"AutoML_fa2ae81d-8651-45fa-9a21-a1547dab0b56\", \"categories\": [0], \"series\": [{\"data\": [0.8714758440785838]}]}, {\"name\": \"precision_score_micro\", \"run_id\": \"AutoML_fa2ae81d-8651-45fa-9a21-a1547dab0b56\", \"categories\": [0], \"series\": [{\"data\": [0.8661279461279462]}]}, {\"name\": \"recall_score_macro\", \"run_id\": \"AutoML_fa2ae81d-8651-45fa-9a21-a1547dab0b56\", \"categories\": [0], \"series\": [{\"data\": [0.8263073933613323]}]}, {\"name\": \"f1_score_macro\", \"run_id\": \"AutoML_fa2ae81d-8651-45fa-9a21-a1547dab0b56\", \"categories\": [0], \"series\": [{\"data\": [0.8393512847088015]}]}, {\"name\": \"f1_score_weighted\", \"run_id\": \"AutoML_fa2ae81d-8651-45fa-9a21-a1547dab0b56\", \"categories\": [0], \"series\": [{\"data\": [0.8610760656579018]}]}, {\"name\": \"average_precision_score_macro\", \"run_id\": \"AutoML_fa2ae81d-8651-45fa-9a21-a1547dab0b56\", \"categories\": [0], \"series\": [{\"data\": [0.893388016055111]}]}, {\"name\": \"balanced_accuracy\", \"run_id\": \"AutoML_fa2ae81d-8651-45fa-9a21-a1547dab0b56\", \"categories\": [0], \"series\": [{\"data\": [0.8263073933613323]}]}, {\"name\": \"accuracy\", \"run_id\": \"AutoML_fa2ae81d-8651-45fa-9a21-a1547dab0b56\", \"categories\": [0], \"series\": [{\"data\": [0.8661279461279462]}]}, {\"name\": \"average_precision_score_micro\", \"run_id\": \"AutoML_fa2ae81d-8651-45fa-9a21-a1547dab0b56\", \"categories\": [0], \"series\": [{\"data\": [0.9114297656210066]}]}, {\"name\": \"AUC_macro\", \"run_id\": \"AutoML_fa2ae81d-8651-45fa-9a21-a1547dab0b56\", \"categories\": [0], \"series\": [{\"data\": [0.9062301721676023]}]}, {\"name\": \"average_precision_score_weighted\", \"run_id\": \"AutoML_fa2ae81d-8651-45fa-9a21-a1547dab0b56\", \"categories\": [0], \"series\": [{\"data\": [0.913789066307881]}]}, {\"name\": \"weighted_accuracy\", \"run_id\": \"AutoML_fa2ae81d-8651-45fa-9a21-a1547dab0b56\", \"categories\": [0], \"series\": [{\"data\": [0.8959964443327482]}]}, {\"name\": \"AUC_weighted\", \"run_id\": \"AutoML_fa2ae81d-8651-45fa-9a21-a1547dab0b56\", \"categories\": [0], \"series\": [{\"data\": [0.9062301721676023]}]}, {\"name\": \"recall_score_weighted\", \"run_id\": \"AutoML_fa2ae81d-8651-45fa-9a21-a1547dab0b56\", \"categories\": [0], \"series\": [{\"data\": [0.8661279461279462]}]}], \"run_logs\": \"\\nRun is completed.\", \"graph\": {}, \"widget_settings\": {\"childWidgetDisplay\": \"popup\", \"send_telemetry\": false, \"log_level\": \"INFO\", \"sdk_version\": \"1.18.0\"}, \"loading\": false}"
     },
     "metadata": {},
     "output_type": "display_data"
    },
    {
     "name": "stdout",
     "output_type": "stream",
     "text": [
      "Run(Experiment: automl_test,\n",
      "Id: AutoML_fa2ae81d-8651-45fa-9a21-a1547dab0b56_30,\n",
      "Type: azureml.scriptrun,\n",
      "Status: Completed)\n",
      "Pipeline(memory=None,\n",
      "         steps=[('datatransformer',\n",
      "                 DataTransformer(enable_dnn=None, enable_feature_sweeping=None,\n",
      "                                 feature_sweeping_config=None,\n",
      "                                 feature_sweeping_timeout=None,\n",
      "                                 featurization_config=None, force_text_dnn=None,\n",
      "                                 is_cross_validation=None,\n",
      "                                 is_onnx_compatible=None, logger=None,\n",
      "                                 observer=None, task=None, working_dir=None)),\n",
      "                ('prefittedsoftvotingclassifier',...\n",
      "                                                                                                  learning_rate='constant',\n",
      "                                                                                                  loss='squared_hinge',\n",
      "                                                                                                  max_iter=1000,\n",
      "                                                                                                  n_jobs=1,\n",
      "                                                                                                  penalty='none',\n",
      "                                                                                                  power_t=0.3333333333333333,\n",
      "                                                                                                  random_state=None,\n",
      "                                                                                                  tol=0.001))],\n",
      "                                                                     verbose=False))],\n",
      "                                               flatten_transform=None,\n",
      "                                               weights=[0.18181818181818182,\n",
      "                                                        0.18181818181818182,\n",
      "                                                        0.09090909090909091,\n",
      "                                                        0.09090909090909091,\n",
      "                                                        0.09090909090909091,\n",
      "                                                        0.18181818181818182,\n",
      "                                                        0.09090909090909091,\n",
      "                                                        0.09090909090909091]))],\n",
      "         verbose=False)\n"
     ]
    },
    {
     "data": {
      "text/plain": [
       "['automl_best_model.pkl']"
      ]
     },
     "execution_count": 10,
     "metadata": {},
     "output_type": "execute_result"
    }
   ],
   "source": [
    "exp=Experiment(ws,\"automl_test\")\n",
    "automl_model=exp.submit(automl_config,show_output=True)\n",
    "### YOUR CODE HERE ###\n",
    "import joblib\n",
    "from azureml.widgets import RunDetails\n",
    "RunDetails(automl_model).show()\n",
    "best_run, fitted_model = automl_model.get_output()\n",
    "print(best_run)\n",
    "print(fitted_model)\n",
    "from azureml.core.model import Model\n",
    "import joblib\n",
    "joblib.dump(fitted_model,\"automl_best_model.pkl\")\n"
   ]
  },
  {
   "cell_type": "code",
   "execution_count": 16,
   "metadata": {},
   "outputs": [],
   "source": [
    "input_data={\"data\":[{'age': 75.0,\n",
    "  'anaemia': 0,\n",
    "  'creatinine_phosphokinase': 582,\n",
    "  'diabetes': 0,\n",
    "  'ejection_fraction': 20,\n",
    "  'high_blood_pressure': 1,\n",
    "  'platelets': 265000.0,\n",
    "  'serum_creatinine': 1.9,\n",
    "  'serum_sodium': 130,\n",
    "  'sex': 1,\n",
    "  'smoking': 0,\n",
    "  'time': 4}]}"
   ]
  },
  {
   "cell_type": "code",
   "execution_count": 12,
   "metadata": {},
   "outputs": [],
   "source": [
    "input_data=x_df[0:2].to_dict(orient='records')\n",
    "import json\n",
    "import joblib\n",
    "i=json.dumps(input_data)\n",
    "data = json.loads(i)\n",
    "model2=joblib.load(\"automl_best_model.pkl\")\n",
    "result = model2.predict(pd.DataFrame(data))"
   ]
  },
  {
   "cell_type": "code",
   "execution_count": 14,
   "metadata": {},
   "outputs": [
    {
     "name": "stdout",
     "output_type": "stream",
     "text": [
      "Registering model test\n"
     ]
    }
   ],
   "source": [
    "from azureml.core.model import Model\n",
    "import joblib\n",
    "model = Model.register(workspace=ws, model_path=\"automl_best_model.pkl\", model_name=\"test\")"
   ]
  },
  {
   "cell_type": "code",
   "execution_count": 16,
   "metadata": {},
   "outputs": [
    {
     "name": "stdout",
     "output_type": "stream",
     "text": [
      "Downloading model test:1 to /tmp/azureml_gtgpl2cc/test/1\n",
      "Generating Docker build context.\n",
      "Package creation Succeeded\n",
      "Logging into Docker registry viennaglobal.azurecr.io\n",
      "Logging into Docker registry viennaglobal.azurecr.io\n",
      "Building Docker image from Dockerfile...\n",
      "Step 1/5 : FROM viennaglobal.azurecr.io/azureml/azureml_9cc1a26fb8a5f7bac5f3a2cd8086e190\n",
      " ---> 614b72a6c7ae\n",
      "Step 2/5 : COPY azureml-app /var/azureml-app\n",
      " ---> 561595297591\n",
      "Step 3/5 : RUN mkdir -p '/var/azureml-app' && echo eyJhY2NvdW50Q29udGV4dCI6eyJzdWJzY3JpcHRpb25JZCI6ImRhNzc1Y2I5LTljYTYtNDk0My1hZDIxLTI2ZGZhOTk1MjZmYyIsInJlc291cmNlR3JvdXBOYW1lIjoiYW1sLXF1aWNrc3RhcnRzLTEyOTQxNyIsImFjY291bnROYW1lIjoicXVpY2stc3RhcnRzLXdzLTEyOTQxNyIsIndvcmtzcGFjZUlkIjoiYWNlNmMxZGUtZDU1NS00NmIxLTgwNjItZDBmMWYzMGE1NDRkIn0sIm1vZGVscyI6e30sIm1vZGVsc0luZm8iOnt9fQ== | base64 --decode > /var/azureml-app/model_config_map.json\n",
      " ---> Running in 53c8e44ef072\n",
      " ---> 9370659dca44\n",
      "Step 4/5 : RUN mv '/var/azureml-app/tmpoohal_t_.py' /var/azureml-app/main.py\n",
      " ---> Running in 592f0d8fbde8\n",
      " ---> 4b3027f306b0\n",
      "Step 5/5 : CMD [\"runsvdir\",\"/var/runit\"]\n",
      " ---> Running in 136acf602d77\n",
      " ---> 55dfa8d9f6a5\n",
      "Successfully built 55dfa8d9f6a5\n",
      "Successfully tagged test:latest\n",
      "Container (name:great_rubin, id:5010741fbc9ed45f6dd29503153835b5722b1b87245a3b7858b7ef50dea17373) cannot be killed.\n",
      "Container has been successfully cleaned up.\n",
      "Image sha256:e1425262eb069da575f0e99a536eecc7d08a2c63985b1ee334c1c46034deef9b successfully removed.\n",
      "Starting Docker container...\n",
      "Docker container running.\n",
      "Checking container health...\n",
      "Local webservice is running at http://localhost:9000\n"
     ]
    }
   ],
   "source": [
    "from azureml.core.webservice import LocalWebservice\n",
    "from azureml.core.model import InferenceConfig\n",
    "local_config = LocalWebservice.deploy_configuration(port=9000)\n",
    "inference_config = InferenceConfig(entry_script='score.py', environment=best_run.get_environment())\n",
    "\n",
    "local_service = Model.deploy(ws, \"test\", [model], inference_config, local_config)\n",
    "\n",
    "local_service.wait_for_deployment(show_output=True)"
   ]
  },
  {
   "cell_type": "code",
   "execution_count": 61,
   "metadata": {},
   "outputs": [],
   "source": [
    "import json\n",
    "try:\n",
    "    i=json.dumps(input_data)\n",
    "    data = json.loads(i)\n",
    "except Eception as e:\n",
    "    print(e)\n",
    "#data = json.loads(i)"
   ]
  },
  {
   "cell_type": "code",
   "execution_count": 42,
   "metadata": {},
   "outputs": [
    {
     "data": {
      "text/plain": [
       "'{\"data\": [{\"age\": 75.0, \"anaemia\": 0, \"creatinine_phosphokinase\": 582, \"diabetes\": 0, \"ejection_fraction\": 20, \"high_blood_pressure\": 1, \"platelets\": 265000.0, \"serum_creatinine\": 1.9, \"serum_sodium\": 130, \"sex\": 1, \"smoking\": 0, \"time\": 4}]}'"
      ]
     },
     "execution_count": 42,
     "metadata": {},
     "output_type": "execute_result"
    }
   ],
   "source": [
    "i"
   ]
  },
  {
   "cell_type": "code",
   "execution_count": 19,
   "metadata": {},
   "outputs": [
    {
     "name": "stdout",
     "output_type": "stream",
     "text": [
      "Tips: You can try get_logs(): https://aka.ms/debugimage#dockerlog or local deployment: https://aka.ms/debugimage#debug-locally to debug if deployment takes longer than 10 minutes.\n",
      "Running...............\n",
      "Succeeded\n",
      "ACI service creation operation finished, operation \"Succeeded\"\n"
     ]
    }
   ],
   "source": [
    "from azureml.core.model import InferenceConfig\n",
    "from azureml.core.webservice import AciWebservice\n",
    "\n",
    "\n",
    "service_name = 'custom-env-service'\n",
    "\n",
    "aci_config = AciWebservice.deploy_configuration(cpu_cores=1, memory_gb=1)\n",
    "\n",
    "service = Model.deploy(workspace=ws,\n",
    "                       name=service_name,\n",
    "                       models=[model],\n",
    "                       inference_config=inference_config,\n",
    "                       deployment_config=aci_config,\n",
    "                       overwrite=True)\n",
    "service.wait_for_deployment(show_output=True)"
   ]
  },
  {
   "cell_type": "code",
   "execution_count": 20,
   "metadata": {},
   "outputs": [
    {
     "data": {
      "text/plain": [
       "'2020-12-06T03:49:23.9642703Z stdout F 2020-12-06T03:49:24,206367800+00:00 - gunicorn/run \\n2020-12-06T03:49:23.9692836Z stdout F 2020-12-06T03:49:24,209210700+00:00 - iot-server/run \\n2020-12-06T03:49:23.9722702Z stdout F 2020-12-06T03:49:24,214625300+00:00 - rsyslog/run \\n2020-12-06T03:49:24.0032773Z stdout F 2020-12-06T03:49:24,245805800+00:00 - nginx/run \\n2020-12-06T03:49:24.0092728Z stderr F /usr/sbin/nginx: /azureml-envs/azureml_7cf2b5eebfc9a832d561ce064cfbc38b/lib/libcrypto.so.1.0.0: no version information available (required by /usr/sbin/nginx)\\n2020-12-06T03:49:24.0092728Z stderr F /usr/sbin/nginx: /azureml-envs/azureml_7cf2b5eebfc9a832d561ce064cfbc38b/lib/libcrypto.so.1.0.0: no version information available (required by /usr/sbin/nginx)\\n2020-12-06T03:49:24.0142819Z stderr F /usr/sbin/nginx: /azureml-envs/azureml_7cf2b5eebfc9a832d561ce064cfbc38b/lib/libssl.so.1.0.0: no version information available (required by /usr/sbin/nginx)\\n2020-12-06T03:49:24.0142819Z stderr F /usr/sbin/nginx: /azureml-envs/azureml_7cf2b5eebfc9a832d561ce064cfbc38b/lib/libssl.so.1.0.0: no version information available (required by /usr/sbin/nginx)\\n2020-12-06T03:49:24.0142819Z stderr F /usr/sbin/nginx: /azureml-envs/azureml_7cf2b5eebfc9a832d561ce064cfbc38b/lib/libssl.so.1.0.0: no version information available (required by /usr/sbin/nginx)\\n2020-12-06T03:49:24.0782752Z stderr F rsyslogd: /azureml-envs/azureml_7cf2b5eebfc9a832d561ce064cfbc38b/lib/libuuid.so.1: no version information available (required by rsyslogd)\\n2020-12-06T03:49:25.6426041Z stdout F EdgeHubConnectionString and IOTEDGE_IOTHUBHOSTNAME are not set. Exiting...\\n2020-12-06T03:49:25.6656506Z stdout F 2020-12-06T03:49:25,908456500+00:00 - iot-server/finish 1 0\\n2020-12-06T03:49:25.6716516Z stdout F 2020-12-06T03:49:25,914457000+00:00 - Exit code 1 is normal. Not restarting iot-server.\\n2020-12-06T03:49:25.8899606Z stdout F Starting gunicorn 19.9.0\\n2020-12-06T03:49:25.8919582Z stdout F Listening at: http://127.0.0.1:31311 (65)\\n2020-12-06T03:49:25.8919582Z stdout F Using worker: sync\\n2020-12-06T03:49:25.8939635Z stdout F worker timeout is set to 300\\n2020-12-06T03:49:25.901967Z stdout F Booting worker with pid: 94\\n2020-12-06T03:49:31.5418464Z stdout F SPARK_HOME not set. Skipping PySpark Initialization.\\n2020-12-06T03:49:31.5418464Z stdout F Generating new fontManager, this may take some time...\\n2020-12-06T03:49:33.0269964Z stdout F Initializing logger\\n2020-12-06T03:49:33.0269964Z stdout F 2020-12-06 03:49:33,268 | root | INFO | Starting up app insights client\\n2020-12-06T03:49:33.0269964Z stdout F Starting up app insights client\\n2020-12-06T03:49:33.0280021Z stdout F 2020-12-06 03:49:33,269 | root | INFO | Starting up request id generator\\n2020-12-06T03:49:33.0280021Z stdout F Starting up request id generator\\n2020-12-06T03:49:33.0280021Z stdout F 2020-12-06 03:49:33,270 | root | INFO | Starting up app insight hooks\\n2020-12-06T03:49:33.0280021Z stdout F Starting up app insight hooks\\n2020-12-06T03:49:33.0289976Z stdout F 2020-12-06 03:49:33,271 | root | INFO | Invoking user\\'s init function\\n2020-12-06T03:49:33.0289976Z stdout F Invoking user\\'s init function\\n2020-12-06T03:49:39.821998Z stderr F /azureml-envs/azureml_7cf2b5eebfc9a832d561ce064cfbc38b/lib/python3.6/site-packages/sklearn/externals/joblib/__init__.py:15: FutureWarning: sklearn.externals.joblib is deprecated in 0.21 and will be removed in 0.23. Please import this functionality directly from joblib, which can be installed with: pip install joblib. If this warning is raised when loading pickled models, you may need to re-serialize those models with scikit-learn 0.21+.\\n2020-12-06T03:49:39.821998Z stderr F   warnings.warn(msg, category=FutureWarning)\\n2020-12-06T03:49:39.821998Z stdout F 2020-12-06 03:49:40,063 | root | INFO | Users\\'s init has completed successfully\\n2020-12-06T03:49:39.821998Z stdout F Users\\'s init has completed successfully\\n2020-12-06T03:49:39.8280149Z stdout F 2020-12-06 03:49:40,070 | root | INFO | Skipping middleware: dbg_model_info as it\\'s not enabled.\\n2020-12-06T03:49:39.8280149Z stdout F Skipping middleware: dbg_model_info as it\\'s not enabled.\\n2020-12-06T03:49:39.8290124Z stdout F 2020-12-06 03:49:40,070 | root | INFO | Skipping middleware: dbg_resource_usage as it\\'s not enabled.\\n2020-12-06T03:49:39.8290124Z stdout F Skipping middleware: dbg_resource_usage as it\\'s not enabled.\\n2020-12-06T03:49:39.8320123Z stdout F 2020-12-06 03:49:40,073 | root | INFO | Scoring timeout is found from os.environ: 60000 ms\\n2020-12-06T03:49:39.8320123Z stdout F Scoring timeout is found from os.environ: 60000 ms\\n2020-12-06T03:49:39.8740621Z stdout F 2020-12-06 03:49:40,123 | root | INFO | Swagger file not present\\n2020-12-06T03:49:39.8740621Z stdout F Swagger file not present\\n2020-12-06T03:49:39.8740621Z stdout F 2020-12-06 03:49:40,124 | root | INFO | 404\\n2020-12-06T03:49:39.8740621Z stdout F 404\\n2020-12-06T03:49:39.8740621Z stdout F 127.0.0.1 - - [06/Dec/2020:03:49:40 +0000] \"GET /swagger.json HTTP/1.0\" 404 19 \"-\" \"Go-http-client/1.1\"\\n2020-12-06T03:49:42.5265542Z stdout F 2020-12-06 03:49:42,768 | root | INFO | Swagger file not present\\n2020-12-06T03:49:42.5265542Z stdout F Swagger file not present\\n2020-12-06T03:49:42.527563Z stdout F 2020-12-06 03:49:42,769 | root | INFO | 404\\n2020-12-06T03:49:42.527563Z stdout F 404\\n2020-12-06T03:49:42.528554Z stdout F 127.0.0.1 - - [06/Dec/2020:03:49:42 +0000] \"GET /swagger.json HTTP/1.0\" 404 19 \"-\" \"Go-http-client/1.1\"\\n'"
      ]
     },
     "execution_count": 20,
     "metadata": {},
     "output_type": "execute_result"
    }
   ],
   "source": [
    "service.get_logs()"
   ]
  },
  {
   "cell_type": "code",
   "execution_count": 21,
   "metadata": {},
   "outputs": [
    {
     "data": {
      "text/plain": [
       "'http://3aca9197-7e92-4032-9f35-6ba286844d32.southcentralus.azurecontainer.io/score'"
      ]
     },
     "execution_count": 21,
     "metadata": {},
     "output_type": "execute_result"
    }
   ],
   "source": [
    "service.scoring_uri"
   ]
  },
  {
   "cell_type": "code",
   "execution_count": 22,
   "metadata": {},
   "outputs": [
    {
     "name": "stdout",
     "output_type": "stream",
     "text": [
      "\u001b[33mTo sign in, use a web browser to open the page https://microsoft.com/devicelogin and enter the code F4BTNW4T2 to authenticate.\u001b[0m\n",
      "[\n",
      "  {\n",
      "    \"cloudName\": \"AzureCloud\",\n",
      "    \"homeTenantId\": \"660b3398-b80e-49d2-bc5b-ac1dc93b5254\",\n",
      "    \"id\": \"da775cb9-9ca6-4943-ad21-26dfa99526fc\",\n",
      "    \"isDefault\": true,\n",
      "    \"managedByTenants\": [],\n",
      "    \"name\": \"Azure Sponsorship - Udacity -46\",\n",
      "    \"state\": \"Enabled\",\n",
      "    \"tenantId\": \"660b3398-b80e-49d2-bc5b-ac1dc93b5254\",\n",
      "    \"user\": {\n",
      "      \"name\": \"odl_user_129417@udacitylabs.onmicrosoft.com\",\n",
      "      \"type\": \"user\"\n",
      "    }\n",
      "  }\n",
      "]\n",
      "\u001b[0m"
     ]
    }
   ],
   "source": [
    "!az login\n",
    "service.update(auth_enabled=True)"
   ]
  },
  {
   "cell_type": "code",
   "execution_count": 90,
   "metadata": {},
   "outputs": [],
   "source": [
    "\n",
    "\n",
    "headers={\"Content-Type\":\"application/json\"}\n",
    "key=\"nmzf01o9jlalITeEPXejCGkw7Bqs0Iv0\"\n",
    "headers[\"Authorization\"]=f'Bearer \"hL84fRidVsQHrZsgj9he798pG7tEyr6c\"'\n",
    "import requests\n",
    "result=requests.post('http://3aca9197-7e92-4032-9f35-6ba286844d32.southcentralus.azurecontainer.io/score',i,headers=headers)"
   ]
  },
  {
   "cell_type": "code",
   "execution_count": 13,
   "metadata": {},
   "outputs": [
    {
     "data": {
      "text/plain": [
       "array([1, 1])"
      ]
     },
     "execution_count": 13,
     "metadata": {},
     "output_type": "execute_result"
    }
   ],
   "source": [
    "result"
   ]
  },
  {
   "cell_type": "code",
   "execution_count": 23,
   "metadata": {},
   "outputs": [],
   "source": [
    "\n",
    "service.delete()"
   ]
  }
 ],
 "metadata": {
  "kernel_info": {
   "name": "python3-azureml"
  },
  "kernelspec": {
   "display_name": "Python 3",
   "language": "python",
   "name": "python3"
  },
  "language_info": {
   "codemirror_mode": {
    "name": "ipython",
    "version": 3
   },
   "file_extension": ".py",
   "mimetype": "text/x-python",
   "name": "python",
   "nbconvert_exporter": "python",
   "pygments_lexer": "ipython3",
   "version": "3.6.9"
  },
  "nteract": {
   "version": "nteract-front-end@1.0.0"
  }
 },
 "nbformat": 4,
 "nbformat_minor": 2
}
