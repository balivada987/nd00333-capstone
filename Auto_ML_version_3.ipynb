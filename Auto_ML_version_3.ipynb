{
 "cells": [
  {
   "cell_type": "markdown",
   "metadata": {},
   "source": [
    "# Automated ML\n",
    "\n",
    "TODO: Import Dependencies. In the cell below, import all the dependencies that you will need to complete the project."
   ]
  },
  {
   "cell_type": "code",
   "execution_count": 1,
   "metadata": {},
   "outputs": [],
   "source": [
    "import logging\n",
    "import os\n",
    "import csv\n",
    "\n",
    "from matplotlib import pyplot as plt\n",
    "import numpy as np\n",
    "import pandas as pd\n",
    "from sklearn import datasets\n",
    "import pkg_resources\n",
    "\n",
    "import azureml.core\n",
    "from azureml.core.experiment import Experiment\n",
    "from azureml.core.workspace import Workspace\n",
    "from azureml.train.automl import AutoMLConfig\n",
    "from azureml.core.dataset import Dataset\n",
    "\n",
    "from azureml.pipeline.steps import AutoMLStep"
   ]
  },
  {
   "cell_type": "code",
   "execution_count": 2,
   "metadata": {
    "gather": {
     "logged": 1598423888013
    },
    "jupyter": {
     "outputs_hidden": false,
     "source_hidden": false
    },
    "nteract": {
     "transient": {
      "deleting": false
     }
    }
   },
   "outputs": [
    {
     "name": "stdout",
     "output_type": "stream",
     "text": [
      "Workspace name: quick-starts-ws-127323\n",
      "Azure region: southcentralus\n",
      "Subscription id: c1dcf523-8ab0-429f-8dba-143a6c49ec84\n",
      "Resource group: aml-quickstarts-127323\n"
     ]
    }
   ],
   "source": [
    "from azureml.core import Workspace, Experiment\n",
    "from azureml.pipeline.steps import PythonScriptStep\n",
    "from azureml.train.sklearn import SKLearn\n",
    "\n",
    "ws = Workspace.get(name=\"quick-starts-ws-127323\")\n",
    "exp = Experiment(workspace=ws, name=\"udacity-project\")\n",
    "\n",
    "print('Workspace name: ' + ws.name, \n",
    "      'Azure region: ' + ws.location, \n",
    "      'Subscription id: ' + ws.subscription_id, \n",
    "      'Resource group: ' + ws.resource_group, sep = '\\n')\n",
    "\n",
    "run = exp.start_logging()\n",
    "from azureml.core.compute import ComputeTarget, AmlCompute\n",
    "\n",
    "# TODO: Create compute cluster\n",
    "\n",
    "# Use vm_size = \"Standard_D2_V2\" in your provisioning configuration.\n",
    "# max_nodes should be no greater than 4.\n",
    "vm_size = \"Standard_DS3_V2\"\n",
    "compute_name=\"notebook127323\"\n",
    "# create the cluster\n",
    "compute_min_nodes=0\n",
    "compute_max_nodes=4\n",
    " \n",
    "\n",
    "\n",
    "\n",
    "### YOUR CODE HERE ###\n",
    "# Checking if  compute already exist or not  if not creating a new target\n",
    "if compute_name in ws.compute_targets:\n",
    "    compute_target = ws.compute_targets[compute_name]\n",
    "    if compute_target and type(compute_target) is AmlCompute:\n",
    "        print(\"found compute target: \" + compute_name)\n",
    "else:\n",
    "    print(\"creating new compute target...\")\n",
    "    provisioning_config = AmlCompute.provisioning_configuration(vm_size = vm_size,\n",
    "                                                                min_nodes = compute_min_nodes, \n",
    "                                                                max_nodes = compute_max_nodes)\n",
    "    # if no min node count is provided it will use the scale settings for the cluster\n",
    "    compute_target.wait_for_completion(show_output=True, timeout_in_minutes=20)\n",
    "    # For a more detailed view of current AmlCompute status, use get_status()\n",
    "    print(compute_target.get_status().serialize())\n",
    "\n",
    "\n",
    "\n"
   ]
  },
  {
   "cell_type": "markdown",
   "metadata": {},
   "source": [
    "## Dataset\n",
    "\n",
    "### Overview\n",
    "TODO: In this markdown cell, give an overview of the dataset you are using. Also mention the task you will be performing.\n",
    "\n",
    "\n",
    "TODO: Get data. In the cell below, write code to access the data you will be using in this project. Remember that the dataset needs to be external."
   ]
  },
  {
   "cell_type": "code",
   "execution_count": 4,
   "metadata": {
    "gather": {
     "logged": 1598423890461
    },
    "jupyter": {
     "outputs_hidden": false,
     "source_hidden": false
    },
    "nteract": {
     "transient": {
      "deleting": false
     }
    }
   },
   "outputs": [
    {
     "name": "stdout",
     "output_type": "stream",
     "text": [
      "Uploading an estimated of 3 files\n",
      "Target already exists. Skipping upload for data/Auto_ML_version_1.ipynb\n",
      "Target already exists. Skipping upload for data/.ipynb_checkpoints/Auto_ML_version_1-checkpoint.ipynb\n",
      "Uploading ./heart_failure_clinical_records_dataset.csv\n",
      "Uploaded ./heart_failure_clinical_records_dataset.csv, 1 files out of an estimated total of 2\n",
      "Uploaded 1 files\n"
     ]
    },
    {
     "data": {
      "text/plain": [
       "$AZUREML_DATAREFERENCE_09a9cdd1b95e4b5cb62a54939bbb2137"
      ]
     },
     "execution_count": 4,
     "metadata": {},
     "output_type": "execute_result"
    }
   ],
   "source": [
    "#ws = Workspace.from_config()\n",
    "\n",
    "# choose a name for experiment\n",
    "#experiment_name = 'your experiment name here'\n",
    "\n",
    "#experiment=Experiment(ws, experiment_name)\n",
    "\n",
    "#workspace = Workspace(subscription_id, resource_group, workspace_name)\n",
    "\n",
    "# get the datastore to upload prepared data\n",
    "datastore = ws.get_default_datastore()\n",
    "\n",
    "# upload the local file from src_dir to the target_path in datastore\n",
    "datastore.upload(src_dir='./', target_path='data')\n",
    "\n",
    "# create a dataset referencing the cloud location\n",
    "#"
   ]
  },
  {
   "cell_type": "code",
   "execution_count": 5,
   "metadata": {},
   "outputs": [],
   "source": [
    "dataset = Dataset.Tabular.from_delimited_files(path = [(datastore, ('data/heart_failure_clinical_records_dataset.csv'))])"
   ]
  },
  {
   "cell_type": "code",
   "execution_count": 16,
   "metadata": {},
   "outputs": [
    {
     "data": {
      "text/html": [
       "<div>\n",
       "<style scoped>\n",
       "    .dataframe tbody tr th:only-of-type {\n",
       "        vertical-align: middle;\n",
       "    }\n",
       "\n",
       "    .dataframe tbody tr th {\n",
       "        vertical-align: top;\n",
       "    }\n",
       "\n",
       "    .dataframe thead th {\n",
       "        text-align: right;\n",
       "    }\n",
       "</style>\n",
       "<table border=\"1\" class=\"dataframe\">\n",
       "  <thead>\n",
       "    <tr style=\"text-align: right;\">\n",
       "      <th></th>\n",
       "      <th>age</th>\n",
       "      <th>anaemia</th>\n",
       "      <th>creatinine_phosphokinase</th>\n",
       "      <th>diabetes</th>\n",
       "      <th>ejection_fraction</th>\n",
       "      <th>high_blood_pressure</th>\n",
       "      <th>platelets</th>\n",
       "      <th>serum_creatinine</th>\n",
       "      <th>serum_sodium</th>\n",
       "      <th>sex</th>\n",
       "      <th>smoking</th>\n",
       "      <th>time</th>\n",
       "      <th>DEATH_EVENT</th>\n",
       "    </tr>\n",
       "  </thead>\n",
       "  <tbody>\n",
       "    <tr>\n",
       "      <th>0</th>\n",
       "      <td>75.00</td>\n",
       "      <td>0</td>\n",
       "      <td>582</td>\n",
       "      <td>0</td>\n",
       "      <td>20</td>\n",
       "      <td>1</td>\n",
       "      <td>265000.00</td>\n",
       "      <td>1.90</td>\n",
       "      <td>130</td>\n",
       "      <td>1</td>\n",
       "      <td>0</td>\n",
       "      <td>4</td>\n",
       "      <td>1</td>\n",
       "    </tr>\n",
       "    <tr>\n",
       "      <th>1</th>\n",
       "      <td>55.00</td>\n",
       "      <td>0</td>\n",
       "      <td>7861</td>\n",
       "      <td>0</td>\n",
       "      <td>38</td>\n",
       "      <td>0</td>\n",
       "      <td>263358.03</td>\n",
       "      <td>1.10</td>\n",
       "      <td>136</td>\n",
       "      <td>1</td>\n",
       "      <td>0</td>\n",
       "      <td>6</td>\n",
       "      <td>1</td>\n",
       "    </tr>\n",
       "    <tr>\n",
       "      <th>2</th>\n",
       "      <td>65.00</td>\n",
       "      <td>0</td>\n",
       "      <td>146</td>\n",
       "      <td>0</td>\n",
       "      <td>20</td>\n",
       "      <td>0</td>\n",
       "      <td>162000.00</td>\n",
       "      <td>1.30</td>\n",
       "      <td>129</td>\n",
       "      <td>1</td>\n",
       "      <td>1</td>\n",
       "      <td>7</td>\n",
       "      <td>1</td>\n",
       "    </tr>\n",
       "    <tr>\n",
       "      <th>3</th>\n",
       "      <td>50.00</td>\n",
       "      <td>1</td>\n",
       "      <td>111</td>\n",
       "      <td>0</td>\n",
       "      <td>20</td>\n",
       "      <td>0</td>\n",
       "      <td>210000.00</td>\n",
       "      <td>1.90</td>\n",
       "      <td>137</td>\n",
       "      <td>1</td>\n",
       "      <td>0</td>\n",
       "      <td>7</td>\n",
       "      <td>1</td>\n",
       "    </tr>\n",
       "    <tr>\n",
       "      <th>4</th>\n",
       "      <td>65.00</td>\n",
       "      <td>1</td>\n",
       "      <td>160</td>\n",
       "      <td>1</td>\n",
       "      <td>20</td>\n",
       "      <td>0</td>\n",
       "      <td>327000.00</td>\n",
       "      <td>2.70</td>\n",
       "      <td>116</td>\n",
       "      <td>0</td>\n",
       "      <td>0</td>\n",
       "      <td>8</td>\n",
       "      <td>1</td>\n",
       "    </tr>\n",
       "    <tr>\n",
       "      <th>...</th>\n",
       "      <td>...</td>\n",
       "      <td>...</td>\n",
       "      <td>...</td>\n",
       "      <td>...</td>\n",
       "      <td>...</td>\n",
       "      <td>...</td>\n",
       "      <td>...</td>\n",
       "      <td>...</td>\n",
       "      <td>...</td>\n",
       "      <td>...</td>\n",
       "      <td>...</td>\n",
       "      <td>...</td>\n",
       "      <td>...</td>\n",
       "    </tr>\n",
       "    <tr>\n",
       "      <th>294</th>\n",
       "      <td>62.00</td>\n",
       "      <td>0</td>\n",
       "      <td>61</td>\n",
       "      <td>1</td>\n",
       "      <td>38</td>\n",
       "      <td>1</td>\n",
       "      <td>155000.00</td>\n",
       "      <td>1.10</td>\n",
       "      <td>143</td>\n",
       "      <td>1</td>\n",
       "      <td>1</td>\n",
       "      <td>270</td>\n",
       "      <td>0</td>\n",
       "    </tr>\n",
       "    <tr>\n",
       "      <th>295</th>\n",
       "      <td>55.00</td>\n",
       "      <td>0</td>\n",
       "      <td>1820</td>\n",
       "      <td>0</td>\n",
       "      <td>38</td>\n",
       "      <td>0</td>\n",
       "      <td>270000.00</td>\n",
       "      <td>1.20</td>\n",
       "      <td>139</td>\n",
       "      <td>0</td>\n",
       "      <td>0</td>\n",
       "      <td>271</td>\n",
       "      <td>0</td>\n",
       "    </tr>\n",
       "    <tr>\n",
       "      <th>296</th>\n",
       "      <td>45.00</td>\n",
       "      <td>0</td>\n",
       "      <td>2060</td>\n",
       "      <td>1</td>\n",
       "      <td>60</td>\n",
       "      <td>0</td>\n",
       "      <td>742000.00</td>\n",
       "      <td>0.80</td>\n",
       "      <td>138</td>\n",
       "      <td>0</td>\n",
       "      <td>0</td>\n",
       "      <td>278</td>\n",
       "      <td>0</td>\n",
       "    </tr>\n",
       "    <tr>\n",
       "      <th>297</th>\n",
       "      <td>45.00</td>\n",
       "      <td>0</td>\n",
       "      <td>2413</td>\n",
       "      <td>0</td>\n",
       "      <td>38</td>\n",
       "      <td>0</td>\n",
       "      <td>140000.00</td>\n",
       "      <td>1.40</td>\n",
       "      <td>140</td>\n",
       "      <td>1</td>\n",
       "      <td>1</td>\n",
       "      <td>280</td>\n",
       "      <td>0</td>\n",
       "    </tr>\n",
       "    <tr>\n",
       "      <th>298</th>\n",
       "      <td>50.00</td>\n",
       "      <td>0</td>\n",
       "      <td>196</td>\n",
       "      <td>0</td>\n",
       "      <td>45</td>\n",
       "      <td>0</td>\n",
       "      <td>395000.00</td>\n",
       "      <td>1.60</td>\n",
       "      <td>136</td>\n",
       "      <td>1</td>\n",
       "      <td>1</td>\n",
       "      <td>285</td>\n",
       "      <td>0</td>\n",
       "    </tr>\n",
       "  </tbody>\n",
       "</table>\n",
       "<p>299 rows × 13 columns</p>\n",
       "</div>"
      ],
      "text/plain": [
       "      age  anaemia  creatinine_phosphokinase  diabetes  ejection_fraction  \\\n",
       "0   75.00        0                       582         0                 20   \n",
       "1   55.00        0                      7861         0                 38   \n",
       "2   65.00        0                       146         0                 20   \n",
       "3   50.00        1                       111         0                 20   \n",
       "4   65.00        1                       160         1                 20   \n",
       "..    ...      ...                       ...       ...                ...   \n",
       "294 62.00        0                        61         1                 38   \n",
       "295 55.00        0                      1820         0                 38   \n",
       "296 45.00        0                      2060         1                 60   \n",
       "297 45.00        0                      2413         0                 38   \n",
       "298 50.00        0                       196         0                 45   \n",
       "\n",
       "     high_blood_pressure  platelets  serum_creatinine  serum_sodium  sex  \\\n",
       "0                      1  265000.00              1.90           130    1   \n",
       "1                      0  263358.03              1.10           136    1   \n",
       "2                      0  162000.00              1.30           129    1   \n",
       "3                      0  210000.00              1.90           137    1   \n",
       "4                      0  327000.00              2.70           116    0   \n",
       "..                   ...        ...               ...           ...  ...   \n",
       "294                    1  155000.00              1.10           143    1   \n",
       "295                    0  270000.00              1.20           139    0   \n",
       "296                    0  742000.00              0.80           138    0   \n",
       "297                    0  140000.00              1.40           140    1   \n",
       "298                    0  395000.00              1.60           136    1   \n",
       "\n",
       "     smoking  time  DEATH_EVENT  \n",
       "0          0     4            1  \n",
       "1          0     6            1  \n",
       "2          1     7            1  \n",
       "3          0     7            1  \n",
       "4          0     8            1  \n",
       "..       ...   ...          ...  \n",
       "294        1   270            0  \n",
       "295        0   271            0  \n",
       "296        0   278            0  \n",
       "297        1   280            0  \n",
       "298        1   285            0  \n",
       "\n",
       "[299 rows x 13 columns]"
      ]
     },
     "execution_count": 16,
     "metadata": {},
     "output_type": "execute_result"
    }
   ],
   "source": [
    "dataset.to_pandas_dataframe()"
   ]
  },
  {
   "cell_type": "code",
   "execution_count": null,
   "metadata": {},
   "outputs": [],
   "source": [
    "\"\"\"\n",
    "est = SKLearn(source_directory=\"./\", \n",
    "                compute_target=compute_target, \n",
    "                vm_size=vm_size,\n",
    "                entry_script='train.py'\n",
    "               )\n",
    "\n",
    "\"\"\""
   ]
  },
  {
   "cell_type": "code",
   "execution_count": null,
   "metadata": {},
   "outputs": [],
   "source": [
    "dataset"
   ]
  },
  {
   "cell_type": "markdown",
   "metadata": {},
   "source": [
    "## AutoML Configuration\n",
    "\n",
    "TODO: Explain why you chose the automl settings and cofiguration you used below."
   ]
  },
  {
   "cell_type": "code",
   "execution_count": 7,
   "metadata": {
    "gather": {
     "logged": 1598429217746
    },
    "jupyter": {
     "outputs_hidden": false,
     "source_hidden": false
    },
    "nteract": {
     "transient": {
      "deleting": false
     }
    }
   },
   "outputs": [],
   "source": [
    "# TODO: Put your automl settings here\n",
    "\n",
    "\n",
    "\n",
    "from azureml.train.automl import AutoMLConfig\n",
    "import numpy as np\n",
    "\n",
    "\n",
    "# Set parameters for AutoMLConfig\n",
    "# NOTE: DO NOT CHANGE THE experiment_timeout_minutes PARAMETER OR YOUR INSTANCE WILL TIME OUT.\n",
    "# If you wish to run the experiment longer, you will need to run this notebook in your own\n",
    "# Azure tenant, which will incur personal costs.\n",
    "automl_config = AutoMLConfig(\n",
    "    experiment_timeout_minutes=30,\n",
    "    task='classification',\n",
    "    compute_target=compute_target,\n",
    "    primary_metric=\"accuracy\",\n",
    "    training_data=dataset,\n",
    "    label_column_name='DEATH_EVENT',\n",
    "    #allowed_models=[\"LightGBM\",\"RandomForest\"],\n",
    "    n_cross_validations=3)\n"
   ]
  },
  {
   "cell_type": "code",
   "execution_count": 8,
   "metadata": {},
   "outputs": [
    {
     "name": "stdout",
     "output_type": "stream",
     "text": [
      "Running on remote.\n",
      "Running on remote compute: notebook127323\n",
      "Parent Run ID: AutoML_a47fe669-af73-4a01-aeb1-3cb05b9c9f72\n",
      "\n",
      "Current status: FeaturesGeneration. Generating features for the dataset.\n",
      "Current status: DatasetCrossValidationSplit. Generating individually featurized CV splits.\n",
      "Current status: ModelSelection. Beginning model selection.\n",
      "\n",
      "****************************************************************************************************\n",
      "DATA GUARDRAILS: \n",
      "\n",
      "TYPE:         Class balancing detection\n",
      "STATUS:       PASSED\n",
      "DESCRIPTION:  Your inputs were analyzed, and all classes are balanced in your training data.\n",
      "              Learn more about imbalanced data: https://aka.ms/AutomatedMLImbalancedData\n",
      "\n",
      "****************************************************************************************************\n",
      "\n",
      "TYPE:         Missing feature values imputation\n",
      "STATUS:       PASSED\n",
      "DESCRIPTION:  No feature missing values were detected in the training data.\n",
      "              Learn more about missing value imputation: https://aka.ms/AutomatedMLFeaturization\n",
      "\n",
      "****************************************************************************************************\n",
      "\n",
      "TYPE:         High cardinality feature detection\n",
      "STATUS:       PASSED\n",
      "DESCRIPTION:  Your inputs were analyzed, and no high cardinality features were detected.\n",
      "              Learn more about high cardinality feature handling: https://aka.ms/AutomatedMLFeaturization\n",
      "\n",
      "****************************************************************************************************\n",
      "\n",
      "****************************************************************************************************\n",
      "ITERATION: The iteration being evaluated.\n",
      "PIPELINE: A summary description of the pipeline being evaluated.\n",
      "DURATION: Time taken for the current iteration.\n",
      "METRIC: The result of computing score on the fitted pipeline.\n",
      "BEST: The best observed score thus far.\n",
      "****************************************************************************************************\n",
      "\n",
      " ITERATION   PIPELINE                                       DURATION      METRIC      BEST\n",
      "         0   MaxAbsScaler LightGBM                          0:00:31       0.8259    0.8259\n",
      "         1   MaxAbsScaler XGBoostClassifier                 0:00:30       0.8260    0.8260\n",
      "         2   MinMaxScaler RandomForest                      0:00:37       0.8293    0.8293\n",
      "         3   StandardScalerWrapper SGD                      0:00:31       0.8260    0.8293\n",
      "         4   MinMaxScaler RandomForest                      0:00:40       0.8527    0.8527\n",
      "         5   StandardScalerWrapper SGD                      0:00:43       0.7823    0.8527\n",
      "         6   StandardScalerWrapper RandomForest             0:00:32       0.8461    0.8527\n",
      "         7   RobustScaler ExtremeRandomTrees                0:00:29       0.7860    0.8527\n",
      "         8   StandardScalerWrapper ExtremeRandomTrees       0:00:31       0.8293    0.8527\n",
      "         9   StandardScalerWrapper SGD                      0:00:37       0.8194    0.8527\n",
      "        10   StandardScalerWrapper SGD                      0:00:41       0.8160    0.8527\n",
      "        11   MinMaxScaler SGD                               0:00:32       0.7756    0.8527\n",
      "        12   RobustScaler ExtremeRandomTrees                0:00:34       0.8192    0.8527\n",
      "        13   MinMaxScaler SGD                               0:00:31       0.7825    0.8527\n",
      "        14   MinMaxScaler ExtremeRandomTrees                0:00:31       0.8361    0.8527\n",
      "        15   MinMaxScaler ExtremeRandomTrees                0:00:36       0.7860    0.8527\n",
      "        16   MinMaxScaler ExtremeRandomTrees                0:00:37       0.7560    0.8527\n",
      "        17   StandardScalerWrapper RandomForest             0:00:35       0.8393    0.8527\n",
      "        18   StandardScalerWrapper SGD                      0:00:31       0.7757    0.8527\n",
      "        19   RobustScaler ExtremeRandomTrees                0:00:28       0.7991    0.8527\n",
      "        20   StandardScalerWrapper RandomForest             0:00:34       0.7724    0.8527\n",
      "        21   MinMaxScaler ExtremeRandomTrees                0:00:37       0.8125    0.8527\n",
      "        22   MaxAbsScaler RandomForest                      0:00:33       0.8327    0.8527\n",
      "        23   RobustScaler ExtremeRandomTrees                0:00:31       0.8495    0.8527\n",
      "        24   StandardScalerWrapper XGBoostClassifier        0:00:26       0.8460    0.8527\n",
      "        25   MaxAbsScaler RandomForest                      0:00:38       0.6790    0.8527\n",
      "        26   MaxAbsScaler GradientBoosting                  0:00:35       0.7827    0.8527\n",
      "        27   MinMaxScaler LightGBM                          0:00:39       0.8394    0.8527\n",
      "        28   StandardScalerWrapper XGBoostClassifier        0:00:32       0.8393    0.8527\n",
      "        29   StandardScalerWrapper RandomForest             0:00:27       0.8360    0.8527\n",
      "        30   MaxAbsScaler RandomForest                      0:00:32       0.7288    0.8527\n",
      "        31   StandardScalerWrapper KNN                      0:00:33       0.6323    0.8527\n",
      "        32   MaxAbsScaler LightGBM                          0:00:41       0.8227    0.8527\n",
      "        33    VotingEnsemble                                0:00:52       0.8629    0.8629\n",
      "        34    StackEnsemble                                 0:00:59       0.8294    0.8629\n"
     ]
    },
    {
     "data": {
      "application/vnd.jupyter.widget-view+json": {
       "model_id": "4a804de7a0444709b10dcd8d1812e4ec",
       "version_major": 2,
       "version_minor": 0
      },
      "text/plain": [
       "_AutoMLWidget(widget_settings={'childWidgetDisplay': 'popup', 'send_telemetry': False, 'log_level': 'INFO', 's…"
      ]
     },
     "metadata": {},
     "output_type": "display_data"
    },
    {
     "data": {
      "application/aml.mini.widget.v1": "{\"status\": \"Completed\", \"workbench_run_details_uri\": \"https://ml.azure.com/experiments/automl_test/runs/AutoML_a47fe669-af73-4a01-aeb1-3cb05b9c9f72?wsid=/subscriptions/c1dcf523-8ab0-429f-8dba-143a6c49ec84/resourcegroups/aml-quickstarts-127323/workspaces/quick-starts-ws-127323\", \"run_id\": \"AutoML_a47fe669-af73-4a01-aeb1-3cb05b9c9f72\", \"run_properties\": {\"run_id\": \"AutoML_a47fe669-af73-4a01-aeb1-3cb05b9c9f72\", \"created_utc\": \"2020-11-22T11:57:11.192684Z\", \"properties\": {\"num_iterations\": \"1000\", \"training_type\": \"TrainFull\", \"acquisition_function\": \"EI\", \"primary_metric\": \"accuracy\", \"train_split\": \"0\", \"acquisition_parameter\": \"0\", \"num_cross_validation\": \"3\", \"target\": \"notebook127323\", \"AMLSettingsJsonString\": \"{\\\"path\\\":null,\\\"name\\\":\\\"automl_test\\\",\\\"subscription_id\\\":\\\"c1dcf523-8ab0-429f-8dba-143a6c49ec84\\\",\\\"resource_group\\\":\\\"aml-quickstarts-127323\\\",\\\"workspace_name\\\":\\\"quick-starts-ws-127323\\\",\\\"region\\\":\\\"southcentralus\\\",\\\"compute_target\\\":\\\"notebook127323\\\",\\\"spark_service\\\":null,\\\"azure_service\\\":\\\"remote\\\",\\\"_local_managed_run_id\\\":null,\\\"many_models\\\":false,\\\"pipeline_fetch_max_batch_size\\\":1,\\\"iterations\\\":1000,\\\"primary_metric\\\":\\\"accuracy\\\",\\\"task_type\\\":\\\"classification\\\",\\\"data_script\\\":null,\\\"validation_size\\\":0.0,\\\"n_cross_validations\\\":3,\\\"y_min\\\":null,\\\"y_max\\\":null,\\\"num_classes\\\":null,\\\"featurization\\\":\\\"auto\\\",\\\"_ignore_package_version_incompatibilities\\\":false,\\\"is_timeseries\\\":false,\\\"max_cores_per_iteration\\\":1,\\\"max_concurrent_iterations\\\":1,\\\"iteration_timeout_minutes\\\":null,\\\"mem_in_mb\\\":null,\\\"enforce_time_on_windows\\\":false,\\\"experiment_timeout_minutes\\\":30,\\\"experiment_exit_score\\\":null,\\\"whitelist_models\\\":null,\\\"blacklist_algos\\\":[\\\"TensorFlowLinearClassifier\\\",\\\"TensorFlowDNN\\\"],\\\"supported_models\\\":[\\\"BernoulliNaiveBayes\\\",\\\"ExtremeRandomTrees\\\",\\\"RandomForest\\\",\\\"MultinomialNaiveBayes\\\",\\\"TensorFlowLinearClassifier\\\",\\\"SGD\\\",\\\"KNN\\\",\\\"XGBoostClassifier\\\",\\\"LightGBM\\\",\\\"TensorFlowDNN\\\",\\\"LogisticRegression\\\",\\\"SVM\\\",\\\"AveragedPerceptronClassifier\\\",\\\"GradientBoosting\\\",\\\"DecisionTree\\\",\\\"LinearSVM\\\"],\\\"auto_blacklist\\\":true,\\\"blacklist_samples_reached\\\":false,\\\"exclude_nan_labels\\\":true,\\\"verbosity\\\":20,\\\"_debug_log\\\":\\\"azureml_automl.log\\\",\\\"show_warnings\\\":false,\\\"model_explainability\\\":true,\\\"service_url\\\":null,\\\"sdk_url\\\":null,\\\"sdk_packages\\\":null,\\\"enable_onnx_compatible_models\\\":false,\\\"enable_split_onnx_featurizer_estimator_models\\\":false,\\\"vm_type\\\":\\\"STANDARD_DS3_V2\\\",\\\"telemetry_verbosity\\\":20,\\\"send_telemetry\\\":true,\\\"enable_dnn\\\":false,\\\"scenario\\\":\\\"SDK-1.13.0\\\",\\\"environment_label\\\":null,\\\"force_text_dnn\\\":false,\\\"enable_feature_sweeping\\\":true,\\\"enable_early_stopping\\\":false,\\\"early_stopping_n_iters\\\":10,\\\"metrics\\\":null,\\\"enable_ensembling\\\":true,\\\"enable_stack_ensembling\\\":true,\\\"ensemble_iterations\\\":15,\\\"enable_tf\\\":false,\\\"enable_subsampling\\\":null,\\\"subsample_seed\\\":null,\\\"enable_nimbusml\\\":false,\\\"enable_streaming\\\":false,\\\"force_streaming\\\":false,\\\"track_child_runs\\\":true,\\\"allowed_private_models\\\":[],\\\"label_column_name\\\":\\\"DEATH_EVENT\\\",\\\"weight_column_name\\\":null,\\\"cv_split_column_names\\\":null,\\\"enable_local_managed\\\":false,\\\"cost_mode\\\":1,\\\"lag_length\\\":0,\\\"metric_operation\\\":\\\"maximize\\\",\\\"preprocess\\\":true}\", \"DataPrepJsonString\": \"{\\\\\\\"training_data\\\\\\\": \\\\\\\"{\\\\\\\\\\\\\\\"blocks\\\\\\\\\\\\\\\": [{\\\\\\\\\\\\\\\"id\\\\\\\\\\\\\\\": \\\\\\\\\\\\\\\"629b9a5b-8f5c-461d-869d-d3cdecb199cb\\\\\\\\\\\\\\\", \\\\\\\\\\\\\\\"type\\\\\\\\\\\\\\\": \\\\\\\\\\\\\\\"Microsoft.DPrep.GetDatastoreFilesBlock\\\\\\\\\\\\\\\", \\\\\\\\\\\\\\\"arguments\\\\\\\\\\\\\\\": {\\\\\\\\\\\\\\\"datastores\\\\\\\\\\\\\\\": [{\\\\\\\\\\\\\\\"datastoreName\\\\\\\\\\\\\\\": \\\\\\\\\\\\\\\"workspaceblobstore\\\\\\\\\\\\\\\", \\\\\\\\\\\\\\\"path\\\\\\\\\\\\\\\": \\\\\\\\\\\\\\\"data/heart_failure_clinical_records_dataset.csv\\\\\\\\\\\\\\\", \\\\\\\\\\\\\\\"resourceGroup\\\\\\\\\\\\\\\": \\\\\\\\\\\\\\\"aml-quickstarts-127323\\\\\\\\\\\\\\\", \\\\\\\\\\\\\\\"subscription\\\\\\\\\\\\\\\": \\\\\\\\\\\\\\\"c1dcf523-8ab0-429f-8dba-143a6c49ec84\\\\\\\\\\\\\\\", \\\\\\\\\\\\\\\"workspaceName\\\\\\\\\\\\\\\": \\\\\\\\\\\\\\\"quick-starts-ws-127323\\\\\\\\\\\\\\\"}]}, \\\\\\\\\\\\\\\"localData\\\\\\\\\\\\\\\": {}, \\\\\\\\\\\\\\\"isEnabled\\\\\\\\\\\\\\\": true, \\\\\\\\\\\\\\\"name\\\\\\\\\\\\\\\": null, \\\\\\\\\\\\\\\"annotation\\\\\\\\\\\\\\\": null}, {\\\\\\\\\\\\\\\"id\\\\\\\\\\\\\\\": \\\\\\\\\\\\\\\"173637e9-881f-4eb3-af93-8c0c660b125b\\\\\\\\\\\\\\\", \\\\\\\\\\\\\\\"type\\\\\\\\\\\\\\\": \\\\\\\\\\\\\\\"Microsoft.DPrep.ParseDelimitedBlock\\\\\\\\\\\\\\\", \\\\\\\\\\\\\\\"arguments\\\\\\\\\\\\\\\": {\\\\\\\\\\\\\\\"columnHeadersMode\\\\\\\\\\\\\\\": 3, \\\\\\\\\\\\\\\"fileEncoding\\\\\\\\\\\\\\\": 0, \\\\\\\\\\\\\\\"handleQuotedLineBreaks\\\\\\\\\\\\\\\": false, \\\\\\\\\\\\\\\"preview\\\\\\\\\\\\\\\": false, \\\\\\\\\\\\\\\"separator\\\\\\\\\\\\\\\": \\\\\\\\\\\\\\\",\\\\\\\\\\\\\\\", \\\\\\\\\\\\\\\"skipRows\\\\\\\\\\\\\\\": 0, \\\\\\\\\\\\\\\"skipRowsMode\\\\\\\\\\\\\\\": 0}, \\\\\\\\\\\\\\\"localData\\\\\\\\\\\\\\\": {}, \\\\\\\\\\\\\\\"isEnabled\\\\\\\\\\\\\\\": true, \\\\\\\\\\\\\\\"name\\\\\\\\\\\\\\\": null, \\\\\\\\\\\\\\\"annotation\\\\\\\\\\\\\\\": null}, {\\\\\\\\\\\\\\\"id\\\\\\\\\\\\\\\": \\\\\\\\\\\\\\\"775e6cf1-57a5-4134-a7f6-a1457d042daa\\\\\\\\\\\\\\\", \\\\\\\\\\\\\\\"type\\\\\\\\\\\\\\\": \\\\\\\\\\\\\\\"Microsoft.DPrep.DropColumnsBlock\\\\\\\\\\\\\\\", \\\\\\\\\\\\\\\"arguments\\\\\\\\\\\\\\\": {\\\\\\\\\\\\\\\"columns\\\\\\\\\\\\\\\": {\\\\\\\\\\\\\\\"type\\\\\\\\\\\\\\\": 0, \\\\\\\\\\\\\\\"details\\\\\\\\\\\\\\\": {\\\\\\\\\\\\\\\"selectedColumns\\\\\\\\\\\\\\\": [\\\\\\\\\\\\\\\"Path\\\\\\\\\\\\\\\"]}}}, \\\\\\\\\\\\\\\"localData\\\\\\\\\\\\\\\": {}, \\\\\\\\\\\\\\\"isEnabled\\\\\\\\\\\\\\\": true, \\\\\\\\\\\\\\\"name\\\\\\\\\\\\\\\": null, \\\\\\\\\\\\\\\"annotation\\\\\\\\\\\\\\\": null}, {\\\\\\\\\\\\\\\"id\\\\\\\\\\\\\\\": \\\\\\\\\\\\\\\"90437af7-a478-4f1d-a802-32c79d70d81e\\\\\\\\\\\\\\\", \\\\\\\\\\\\\\\"type\\\\\\\\\\\\\\\": \\\\\\\\\\\\\\\"Microsoft.DPrep.SetColumnTypesBlock\\\\\\\\\\\\\\\", \\\\\\\\\\\\\\\"arguments\\\\\\\\\\\\\\\": {\\\\\\\\\\\\\\\"columnConversion\\\\\\\\\\\\\\\": [{\\\\\\\\\\\\\\\"column\\\\\\\\\\\\\\\": {\\\\\\\\\\\\\\\"type\\\\\\\\\\\\\\\": 2, \\\\\\\\\\\\\\\"details\\\\\\\\\\\\\\\": {\\\\\\\\\\\\\\\"selectedColumn\\\\\\\\\\\\\\\": \\\\\\\\\\\\\\\"age\\\\\\\\\\\\\\\"}}, \\\\\\\\\\\\\\\"typeProperty\\\\\\\\\\\\\\\": 3}, {\\\\\\\\\\\\\\\"column\\\\\\\\\\\\\\\": {\\\\\\\\\\\\\\\"type\\\\\\\\\\\\\\\": 2, \\\\\\\\\\\\\\\"details\\\\\\\\\\\\\\\": {\\\\\\\\\\\\\\\"selectedColumn\\\\\\\\\\\\\\\": \\\\\\\\\\\\\\\"anaemia\\\\\\\\\\\\\\\"}}, \\\\\\\\\\\\\\\"typeProperty\\\\\\\\\\\\\\\": 2}, {\\\\\\\\\\\\\\\"column\\\\\\\\\\\\\\\": {\\\\\\\\\\\\\\\"type\\\\\\\\\\\\\\\": 2, \\\\\\\\\\\\\\\"details\\\\\\\\\\\\\\\": {\\\\\\\\\\\\\\\"selectedColumn\\\\\\\\\\\\\\\": \\\\\\\\\\\\\\\"creatinine_phosphokinase\\\\\\\\\\\\\\\"}}, \\\\\\\\\\\\\\\"typeProperty\\\\\\\\\\\\\\\": 2}, {\\\\\\\\\\\\\\\"column\\\\\\\\\\\\\\\": {\\\\\\\\\\\\\\\"type\\\\\\\\\\\\\\\": 2, \\\\\\\\\\\\\\\"details\\\\\\\\\\\\\\\": {\\\\\\\\\\\\\\\"selectedColumn\\\\\\\\\\\\\\\": \\\\\\\\\\\\\\\"diabetes\\\\\\\\\\\\\\\"}}, \\\\\\\\\\\\\\\"typeProperty\\\\\\\\\\\\\\\": 2}, {\\\\\\\\\\\\\\\"column\\\\\\\\\\\\\\\": {\\\\\\\\\\\\\\\"type\\\\\\\\\\\\\\\": 2, \\\\\\\\\\\\\\\"details\\\\\\\\\\\\\\\": {\\\\\\\\\\\\\\\"selectedColumn\\\\\\\\\\\\\\\": \\\\\\\\\\\\\\\"ejection_fraction\\\\\\\\\\\\\\\"}}, \\\\\\\\\\\\\\\"typeProperty\\\\\\\\\\\\\\\": 2}, {\\\\\\\\\\\\\\\"column\\\\\\\\\\\\\\\": {\\\\\\\\\\\\\\\"type\\\\\\\\\\\\\\\": 2, \\\\\\\\\\\\\\\"details\\\\\\\\\\\\\\\": {\\\\\\\\\\\\\\\"selectedColumn\\\\\\\\\\\\\\\": \\\\\\\\\\\\\\\"high_blood_pressure\\\\\\\\\\\\\\\"}}, \\\\\\\\\\\\\\\"typeProperty\\\\\\\\\\\\\\\": 2}, {\\\\\\\\\\\\\\\"column\\\\\\\\\\\\\\\": {\\\\\\\\\\\\\\\"type\\\\\\\\\\\\\\\": 2, \\\\\\\\\\\\\\\"details\\\\\\\\\\\\\\\": {\\\\\\\\\\\\\\\"selectedColumn\\\\\\\\\\\\\\\": \\\\\\\\\\\\\\\"platelets\\\\\\\\\\\\\\\"}}, \\\\\\\\\\\\\\\"typeProperty\\\\\\\\\\\\\\\": 3}, {\\\\\\\\\\\\\\\"column\\\\\\\\\\\\\\\": {\\\\\\\\\\\\\\\"type\\\\\\\\\\\\\\\": 2, \\\\\\\\\\\\\\\"details\\\\\\\\\\\\\\\": {\\\\\\\\\\\\\\\"selectedColumn\\\\\\\\\\\\\\\": \\\\\\\\\\\\\\\"serum_creatinine\\\\\\\\\\\\\\\"}}, \\\\\\\\\\\\\\\"typeProperty\\\\\\\\\\\\\\\": 3}, {\\\\\\\\\\\\\\\"column\\\\\\\\\\\\\\\": {\\\\\\\\\\\\\\\"type\\\\\\\\\\\\\\\": 2, \\\\\\\\\\\\\\\"details\\\\\\\\\\\\\\\": {\\\\\\\\\\\\\\\"selectedColumn\\\\\\\\\\\\\\\": \\\\\\\\\\\\\\\"serum_sodium\\\\\\\\\\\\\\\"}}, \\\\\\\\\\\\\\\"typeProperty\\\\\\\\\\\\\\\": 2}, {\\\\\\\\\\\\\\\"column\\\\\\\\\\\\\\\": {\\\\\\\\\\\\\\\"type\\\\\\\\\\\\\\\": 2, \\\\\\\\\\\\\\\"details\\\\\\\\\\\\\\\": {\\\\\\\\\\\\\\\"selectedColumn\\\\\\\\\\\\\\\": \\\\\\\\\\\\\\\"sex\\\\\\\\\\\\\\\"}}, \\\\\\\\\\\\\\\"typeProperty\\\\\\\\\\\\\\\": 2}, {\\\\\\\\\\\\\\\"column\\\\\\\\\\\\\\\": {\\\\\\\\\\\\\\\"type\\\\\\\\\\\\\\\": 2, \\\\\\\\\\\\\\\"details\\\\\\\\\\\\\\\": {\\\\\\\\\\\\\\\"selectedColumn\\\\\\\\\\\\\\\": \\\\\\\\\\\\\\\"smoking\\\\\\\\\\\\\\\"}}, \\\\\\\\\\\\\\\"typeProperty\\\\\\\\\\\\\\\": 2}, {\\\\\\\\\\\\\\\"column\\\\\\\\\\\\\\\": {\\\\\\\\\\\\\\\"type\\\\\\\\\\\\\\\": 2, \\\\\\\\\\\\\\\"details\\\\\\\\\\\\\\\": {\\\\\\\\\\\\\\\"selectedColumn\\\\\\\\\\\\\\\": \\\\\\\\\\\\\\\"time\\\\\\\\\\\\\\\"}}, \\\\\\\\\\\\\\\"typeProperty\\\\\\\\\\\\\\\": 2}, {\\\\\\\\\\\\\\\"column\\\\\\\\\\\\\\\": {\\\\\\\\\\\\\\\"type\\\\\\\\\\\\\\\": 2, \\\\\\\\\\\\\\\"details\\\\\\\\\\\\\\\": {\\\\\\\\\\\\\\\"selectedColumn\\\\\\\\\\\\\\\": \\\\\\\\\\\\\\\"DEATH_EVENT\\\\\\\\\\\\\\\"}}, \\\\\\\\\\\\\\\"typeProperty\\\\\\\\\\\\\\\": 2}]}, \\\\\\\\\\\\\\\"localData\\\\\\\\\\\\\\\": {}, \\\\\\\\\\\\\\\"isEnabled\\\\\\\\\\\\\\\": true, \\\\\\\\\\\\\\\"name\\\\\\\\\\\\\\\": null, \\\\\\\\\\\\\\\"annotation\\\\\\\\\\\\\\\": null}], \\\\\\\\\\\\\\\"inspectors\\\\\\\\\\\\\\\": [], \\\\\\\\\\\\\\\"meta\\\\\\\\\\\\\\\": {\\\\\\\\\\\\\\\"savedDatasetId\\\\\\\\\\\\\\\": \\\\\\\\\\\\\\\"2d51c4b1-1aab-4983-8557-1575992ab383\\\\\\\\\\\\\\\", \\\\\\\\\\\\\\\"datasetType\\\\\\\\\\\\\\\": \\\\\\\\\\\\\\\"tabular\\\\\\\\\\\\\\\", \\\\\\\\\\\\\\\"subscriptionId\\\\\\\\\\\\\\\": \\\\\\\\\\\\\\\"c1dcf523-8ab0-429f-8dba-143a6c49ec84\\\\\\\\\\\\\\\", \\\\\\\\\\\\\\\"workspaceId\\\\\\\\\\\\\\\": \\\\\\\\\\\\\\\"c57e7895-0949-4647-9b72-7c8e2919281f\\\\\\\\\\\\\\\", \\\\\\\\\\\\\\\"workspaceLocation\\\\\\\\\\\\\\\": \\\\\\\\\\\\\\\"southcentralus\\\\\\\\\\\\\\\"}}\\\\\\\", \\\\\\\"activities\\\\\\\": 0}\", \"EnableSubsampling\": null, \"runTemplate\": \"AutoML\", \"azureml.runsource\": \"automl\", \"display_task_type\": \"classification\", \"dependencies_versions\": \"{\\\"azureml-widgets\\\": \\\"1.18.0\\\", \\\"azureml-train\\\": \\\"1.18.0\\\", \\\"azureml-train-restclients-hyperdrive\\\": \\\"1.18.0\\\", \\\"azureml-train-core\\\": \\\"1.18.0\\\", \\\"azureml-train-automl\\\": \\\"1.18.0\\\", \\\"azureml-train-automl-runtime\\\": \\\"1.18.0\\\", \\\"azureml-train-automl-client\\\": \\\"1.18.0\\\", \\\"azureml-tensorboard\\\": \\\"1.18.0\\\", \\\"azureml-telemetry\\\": \\\"1.18.0\\\", \\\"azureml-sdk\\\": \\\"1.18.0\\\", \\\"azureml-samples\\\": \\\"0+unknown\\\", \\\"azureml-pipeline\\\": \\\"1.18.0\\\", \\\"azureml-pipeline-steps\\\": \\\"1.18.0\\\", \\\"azureml-pipeline-core\\\": \\\"1.18.0\\\", \\\"azureml-opendatasets\\\": \\\"1.18.0\\\", \\\"azureml-model-management-sdk\\\": \\\"1.0.1b6.post1\\\", \\\"azureml-mlflow\\\": \\\"1.18.0\\\", \\\"azureml-interpret\\\": \\\"1.18.0\\\", \\\"azureml-explain-model\\\": \\\"1.18.0\\\", \\\"azureml-defaults\\\": \\\"1.18.0\\\", \\\"azureml-dataset-runtime\\\": \\\"1.18.0\\\", \\\"azureml-dataprep\\\": \\\"2.4.2\\\", \\\"azureml-dataprep-rslex\\\": \\\"1.2.2\\\", \\\"azureml-dataprep-native\\\": \\\"24.0.0\\\", \\\"azureml-datadrift\\\": \\\"1.18.0\\\", \\\"azureml-core\\\": \\\"1.18.0\\\", \\\"azureml-contrib-services\\\": \\\"1.18.0\\\", \\\"azureml-contrib-server\\\": \\\"1.18.0\\\", \\\"azureml-contrib-reinforcementlearning\\\": \\\"1.18.0\\\", \\\"azureml-contrib-pipeline-steps\\\": \\\"1.18.0\\\", \\\"azureml-contrib-notebook\\\": \\\"1.18.0\\\", \\\"azureml-contrib-interpret\\\": \\\"1.18.0\\\", \\\"azureml-contrib-gbdt\\\": \\\"1.18.0\\\", \\\"azureml-contrib-fairness\\\": \\\"1.18.0\\\", \\\"azureml-contrib-dataset\\\": \\\"1.18.0\\\", \\\"azureml-cli-common\\\": \\\"1.18.0\\\", \\\"azureml-automl-runtime\\\": \\\"1.18.0\\\", \\\"azureml-automl-core\\\": \\\"1.18.0\\\", \\\"azureml-accel-models\\\": \\\"1.18.0\\\"}\", \"_aml_system_scenario_identification\": \"Remote.Parent\", \"ClientType\": \"SDK\", \"environment_cpu_name\": \"AzureML-AutoML\", \"environment_cpu_version\": \"44\", \"environment_gpu_name\": \"AzureML-AutoML-GPU\", \"environment_gpu_version\": \"32\", \"root_attribution\": \"automl\", \"attribution\": \"AutoML\", \"Orchestrator\": \"AutoML\", \"CancelUri\": \"https://southcentralus.experiments.azureml.net/jasmine/v1.0/subscriptions/c1dcf523-8ab0-429f-8dba-143a6c49ec84/resourceGroups/aml-quickstarts-127323/providers/Microsoft.MachineLearningServices/workspaces/quick-starts-ws-127323/experimentids/57c1709a-1282-4f74-a68c-54189aed0f6f/cancel/AutoML_a47fe669-af73-4a01-aeb1-3cb05b9c9f72\", \"ClientSdkVersion\": \"1.17.0\", \"snapshotId\": \"00000000-0000-0000-0000-000000000000\", \"SetupRunId\": \"AutoML_a47fe669-af73-4a01-aeb1-3cb05b9c9f72_setup\", \"SetupRunContainerId\": \"dcid.AutoML_a47fe669-af73-4a01-aeb1-3cb05b9c9f72_setup\", \"FeaturizationRunJsonPath\": \"featurizer_container.json\", \"FeaturizationRunId\": \"AutoML_a47fe669-af73-4a01-aeb1-3cb05b9c9f72_featurize\", \"ProblemInfoJsonString\": \"{\\\"dataset_num_categorical\\\": 0, \\\"is_sparse\\\": false, \\\"subsampling\\\": false, \\\"dataset_classes\\\": 2, \\\"dataset_features\\\": 12, \\\"dataset_samples\\\": 299, \\\"single_frequency_class_detected\\\": false}\", \"ModelExplainRunId\": \"AutoML_a47fe669-af73-4a01-aeb1-3cb05b9c9f72_ModelExplain\"}, \"tags\": {\"model_explain_run\": \"best_run\", \"_aml_system_azureml.automlComponent\": \"AutoML\", \"pipeline_id\": \"<5dfac790c5c209f98a1da2dc1c7fb76f0397324f>;<c7af0367625be6ac5c2fecbfc72ed444cb7a2111>;<cf1dc9b7ea4a50d759bce352343ec6737501695a>;<f873311e8cfb2bcdbeb6c20367cf912f4ee6733e>;<b19eeb61727e9c4fbb5aa45fb6e9fe3fab5b1f04>;<47dd667bb7c34b68c9fffa6fd580565b1f85400f>;<713f188a27b176644f73e8664c667c674a2d3d62>;<62c0e30b2e9113b3ecd95bcf5b31423c72074070>;<9e3f4780268658ad403e896559a8d3406152018c>;<e81d621ed176e5fac9def492d4ac54f304146b7c>;<59e4a1b86a57dfaeac5f3a051de6155ffc74f55b>;<a2983da01504b121cc4056d933a1191b51be87bc>;<52ac74da744a165756acc49238b34b81115532fd>;<a91f8b94ae9bf0dfc66e93d29d1ef41b7e2687f2>;<8de8c085d2a4b23d3f4cc392a2f2660d23d38c14>;<4d4be808b8b6dd0f67e8354c79eddd3d712440a5>;<d8d1a28b70a271fc16185d8e06b7faeee4bdd817>;<80d7fafc6227885ab86e843212a0c5ea47a69004>;<19bb9b610818186383462e6b1f9b568bc04b93e9>;<9fd7f177a78effac65f3f97ae40ca91e296c3f10>;<f86e0c37319548491774cfe027df9161ae6eecd2>;<9845a0ba1345a7474c237d10111bcf5bccbb1f0e>;<c7429113d717a6044b165823048687f69481b4cc>;<e3212a7716ff2c5c66a7d794a69a0a43af3b7761>;<b384b61ec2b0b4940646d842fa38644621f4b6d6>;<1795d058c32d79bbd92ab215c30e241b88e87125>;<296bee2ea21560bb503612b58a050e88ca516572>;<aace38a944055425e9c094cf13b784a3f0a84d51>;<3c50d8ecbf8e5c10c90806fd3fcba330b98cb3a3>;<24791d4888f9f387093d1a9ba4e2e29fed286f9a>;<c6d790e5d693341b59bab0904768cfb22073b9a7>;<9916b322473a21af270784d392b4446c505ad75d>;<ddc16e88391ed6af3880d06e7625ec1ab6b12212>;<__AutoML_Ensemble__>;<__AutoML_Stack_Ensemble__>;\", \"score\": \"<0.825925925925926>;<0.8259932659932661>;<0.8292592592592593>;<0.826026936026936>;<0.8527272727272727>;<0.7823232323232322>;<0.8460606060606062>;<0.7859595959595959>;<0.8292929292929294>;<0.8193602693602693>;<0.816026936026936>;<0.7756228956228957>;<0.8192255892255892>;<0.7825252525252525>;<0.8360606060606061>;<0.785993265993266>;<0.7560269360269359>;<0.8393265993265994>;<0.7756565656565657>;<0.7990909090909092>;<0.7723905723905724>;<0.8124579124579125>;<0.8327272727272729>;<0.8494949494949496>;<0.846026936026936>;<0.678989898989899>;<0.7827272727272727>;<0.8393602693602693>;<0.8392929292929292>;<0.835993265993266>;<0.7287542087542088>;<0.6322895622895622>;<0.8227272727272728>;<0.8628619528619529>;<0.8293602693602694>;\", \"predicted_cost\": \"<0>;<0>;<0.5>;<0.017189333333333334>;<0.010531002339971358>;<0.006116853185991124>;<0.012627329467061556>;<0.020290745343816658>;<0.020948135155264537>;<0.00534742306901746>;<0.0077125038107023446>;<0.004429561450054722>;<0.0300157281373019>;<0.007608440974505714>;<0.021136765603634144>;<0.0226144093064389>;<0.02934537476417074>;<0.023440052527241823>;<0.005112000079453965>;<0.026690077474780777>;<0.026340156568936086>;<0.02639767095823893>;<0.04978530466118086>;<0.04366356081671184>;<0.023619194988541703>;<0.10604380736182384>;<0.012044845686316169>;<0.03585099012876922>;<0.020032670946071737>;<0.054625412257977846>;<0.08137184498992778>;<0.009607611071573196>;<0.04579126638936324>;<0>;<0>;\", \"fit_time\": \"<0.029140666666666665>;<0.033685>;<0.017189333333333334>;<0.0042383333333333335>;<0.02185266666666667>;<0.0045583333333333335>;<0.02313866666666667>;<0.06339366666666667>;<0.041611333333333334>;<0.0041526666666666665>;<0.016067666666666668>;<0.004274666666666666>;<0.06275633333333334>;<0.020255000000000002>;<0.026836>;<0.05419566666666667>;<0.050132333333333334>;<0.018685000000000004>;<0.0043626666666666675>;<0.03631466666666666>;<0.020972>;<0.05028000000000001>;<0.24432566666666666>;<0.11767699999999999>;<0.014968333333333333>;<0.5618403333333333>;<0.025193333333333335>;<0.015892666666666666>;<0.012555000000000002>;<0.10226166666666665>;<0.16712966666666665>;<0.0075126666666666675>;<0.017393000000000002>;<24>;<23>;\", \"training_percent\": \"<100>;<100>;<100>;<100>;<100>;<100>;<100>;<100>;<100>;<100>;<100>;<100>;<100>;<100>;<100>;<100>;<100>;<100>;<100>;<100>;<100>;<100>;<100>;<100>;<100>;<100>;<100>;<100>;<100>;<100>;<100>;<100>;<100>;<100>;<100>;\", \"iteration\": \"<0>;<1>;<2>;<3>;<4>;<5>;<6>;<7>;<8>;<9>;<10>;<11>;<12>;<13>;<14>;<15>;<16>;<17>;<18>;<19>;<20>;<21>;<22>;<23>;<24>;<25>;<26>;<27>;<28>;<29>;<30>;<31>;<32>;<33>;<34>;\", \"run_preprocessor\": \"<MaxAbsScaler>;<MaxAbsScaler>;<MinMaxScaler>;<StandardScalerWrapper>;<MinMaxScaler>;<StandardScalerWrapper>;<StandardScalerWrapper>;<RobustScaler>;<StandardScalerWrapper>;<StandardScalerWrapper>;<StandardScalerWrapper>;<MinMaxScaler>;<RobustScaler>;<MinMaxScaler>;<MinMaxScaler>;<MinMaxScaler>;<MinMaxScaler>;<StandardScalerWrapper>;<StandardScalerWrapper>;<RobustScaler>;<StandardScalerWrapper>;<MinMaxScaler>;<MaxAbsScaler>;<RobustScaler>;<StandardScalerWrapper>;<MaxAbsScaler>;<MaxAbsScaler>;<MinMaxScaler>;<StandardScalerWrapper>;<StandardScalerWrapper>;<MaxAbsScaler>;<StandardScalerWrapper>;<MaxAbsScaler>;<>;<>;\", \"run_algorithm\": \"<LightGBM>;<XGBoostClassifier>;<RandomForest>;<SGD>;<RandomForest>;<SGD>;<RandomForest>;<ExtremeRandomTrees>;<ExtremeRandomTrees>;<SGD>;<SGD>;<SGD>;<ExtremeRandomTrees>;<SGD>;<ExtremeRandomTrees>;<ExtremeRandomTrees>;<ExtremeRandomTrees>;<RandomForest>;<SGD>;<ExtremeRandomTrees>;<RandomForest>;<ExtremeRandomTrees>;<RandomForest>;<ExtremeRandomTrees>;<XGBoostClassifier>;<RandomForest>;<GradientBoosting>;<LightGBM>;<XGBoostClassifier>;<RandomForest>;<RandomForest>;<KNN>;<LightGBM>;<VotingEnsemble>;<StackEnsemble>;\", \"dynamic_whitelisting_iterations\": \"<25>;<30>;\", \"automl_best_child_run_id\": \"AutoML_a47fe669-af73-4a01-aeb1-3cb05b9c9f72_33\", \"model_explain_best_run_child_id\": \"AutoML_a47fe669-af73-4a01-aeb1-3cb05b9c9f72_33\"}, \"end_time_utc\": \"2020-11-22T12:34:36.160395Z\", \"status\": \"Completed\", \"log_files\": {}, \"log_groups\": [], \"run_duration\": \"0:37:24\"}, \"child_runs\": [{\"run_id\": \"AutoML_a47fe669-af73-4a01-aeb1-3cb05b9c9f72_0\", \"run_number\": 5, \"metric\": null, \"status\": \"Completed\", \"run_type\": \"azureml.scriptrun\", \"training_percent\": \"100\", \"start_time\": \"2020-11-22T12:02:17.964797Z\", \"end_time\": \"2020-11-22T12:02:48.730362Z\", \"created_time\": \"2020-11-22T12:02:07.271788Z\", \"created_time_dt\": \"2020-11-22T12:02:07.271788Z\", \"duration\": \"0:00:41\", \"iteration\": \"0\", \"goal\": \"accuracy_max\", \"run_name\": \"MaxAbsScaler, LightGBM\", \"run_properties\": \"copy=True\", \"primary_metric\": 0.82592593, \"best_metric\": 0.82592593}, {\"run_id\": \"AutoML_a47fe669-af73-4a01-aeb1-3cb05b9c9f72_1\", \"run_number\": 6, \"metric\": null, \"status\": \"Completed\", \"run_type\": \"azureml.scriptrun\", \"training_percent\": \"100\", \"start_time\": \"2020-11-22T12:03:09.032485Z\", \"end_time\": \"2020-11-22T12:03:39.413874Z\", \"created_time\": \"2020-11-22T12:02:56.483787Z\", \"created_time_dt\": \"2020-11-22T12:02:56.483787Z\", \"duration\": \"0:00:42\", \"iteration\": \"1\", \"goal\": \"accuracy_max\", \"run_name\": \"MaxAbsScaler, XGBoostClassifier\", \"run_properties\": \"copy=True\", \"primary_metric\": 0.82599327, \"best_metric\": 0.82599327}, {\"run_id\": \"AutoML_a47fe669-af73-4a01-aeb1-3cb05b9c9f72_2\", \"run_number\": 7, \"metric\": null, \"status\": \"Completed\", \"run_type\": \"azureml.scriptrun\", \"training_percent\": \"100\", \"start_time\": \"2020-11-22T12:03:55.049662Z\", \"end_time\": \"2020-11-22T12:04:32.468207Z\", \"created_time\": \"2020-11-22T12:03:41.105234Z\", \"created_time_dt\": \"2020-11-22T12:03:41.105234Z\", \"duration\": \"0:00:51\", \"iteration\": \"2\", \"goal\": \"accuracy_max\", \"run_name\": \"MinMaxScaler, RandomForest\", \"run_properties\": \"copy=True, feature_range=(0, 1\", \"primary_metric\": 0.82925926, \"best_metric\": 0.82925926}, {\"run_id\": \"AutoML_a47fe669-af73-4a01-aeb1-3cb05b9c9f72_3\", \"run_number\": 8, \"metric\": null, \"status\": \"Completed\", \"run_type\": \"azureml.scriptrun\", \"training_percent\": \"100\", \"start_time\": \"2020-11-22T12:04:54.152542Z\", \"end_time\": \"2020-11-22T12:05:24.805854Z\", \"created_time\": \"2020-11-22T12:04:38.238969Z\", \"created_time_dt\": \"2020-11-22T12:04:38.238969Z\", \"duration\": \"0:00:46\", \"iteration\": \"3\", \"goal\": \"accuracy_max\", \"run_name\": \"StandardScalerWrapper, SGD\", \"run_properties\": \"<azureml.automl.runtime.shared.model_wrappers.StandardScalerWrapper object at 0x7f29905d4ef0\", \"primary_metric\": 0.82602694, \"best_metric\": 0.82925926}, {\"run_id\": \"AutoML_a47fe669-af73-4a01-aeb1-3cb05b9c9f72_4\", \"run_number\": 9, \"metric\": null, \"status\": \"Completed\", \"run_type\": \"azureml.scriptrun\", \"training_percent\": \"100\", \"start_time\": \"2020-11-22T12:05:46.484701Z\", \"end_time\": \"2020-11-22T12:06:26.301703Z\", \"created_time\": \"2020-11-22T12:05:35.347978Z\", \"created_time_dt\": \"2020-11-22T12:05:35.347978Z\", \"duration\": \"0:00:50\", \"iteration\": \"4\", \"goal\": \"accuracy_max\", \"run_name\": \"MinMaxScaler, RandomForest\", \"run_properties\": \"copy=True, feature_range=(0, 1\", \"primary_metric\": 0.85272727, \"best_metric\": 0.85272727}, {\"run_id\": \"AutoML_a47fe669-af73-4a01-aeb1-3cb05b9c9f72_5\", \"run_number\": 10, \"metric\": null, \"status\": \"Completed\", \"run_type\": \"azureml.scriptrun\", \"training_percent\": \"100\", \"start_time\": \"2020-11-22T12:06:43.44879Z\", \"end_time\": \"2020-11-22T12:07:26.511998Z\", \"created_time\": \"2020-11-22T12:06:31.514842Z\", \"created_time_dt\": \"2020-11-22T12:06:31.514842Z\", \"duration\": \"0:00:54\", \"iteration\": \"5\", \"goal\": \"accuracy_max\", \"run_name\": \"StandardScalerWrapper, SGD\", \"run_properties\": \"<azureml.automl.runtime.shared.model_wrappers.StandardScalerWrapper object at 0x7f00989c1a90\", \"primary_metric\": 0.78232323, \"best_metric\": 0.85272727}, {\"run_id\": \"AutoML_a47fe669-af73-4a01-aeb1-3cb05b9c9f72_6\", \"run_number\": 11, \"metric\": null, \"status\": \"Completed\", \"run_type\": \"azureml.scriptrun\", \"training_percent\": \"100\", \"start_time\": \"2020-11-22T12:07:43.450122Z\", \"end_time\": \"2020-11-22T12:08:15.76277Z\", \"created_time\": \"2020-11-22T12:07:28.456281Z\", \"created_time_dt\": \"2020-11-22T12:07:28.456281Z\", \"duration\": \"0:00:47\", \"iteration\": \"6\", \"goal\": \"accuracy_max\", \"run_name\": \"StandardScalerWrapper, RandomForest\", \"run_properties\": \"<azureml.automl.runtime.shared.model_wrappers.StandardScalerWrapper object at 0x7fe970d54898\", \"primary_metric\": 0.84606061, \"best_metric\": 0.85272727}, {\"run_id\": \"AutoML_a47fe669-af73-4a01-aeb1-3cb05b9c9f72_7\", \"run_number\": 12, \"metric\": null, \"status\": \"Completed\", \"run_type\": \"azureml.scriptrun\", \"training_percent\": \"100\", \"start_time\": \"2020-11-22T12:08:35.450613Z\", \"end_time\": \"2020-11-22T12:09:04.152675Z\", \"created_time\": \"2020-11-22T12:08:24.077705Z\", \"created_time_dt\": \"2020-11-22T12:08:24.077705Z\", \"duration\": \"0:00:40\", \"iteration\": \"7\", \"goal\": \"accuracy_max\", \"run_name\": \"RobustScaler, ExtremeRandomTrees\", \"run_properties\": \"copy=True, quantile_range=[10, 90], with_centering=False,\\n             with_scaling=False\", \"primary_metric\": 0.7859596, \"best_metric\": 0.85272727}, {\"run_id\": \"AutoML_a47fe669-af73-4a01-aeb1-3cb05b9c9f72_8\", \"run_number\": 13, \"metric\": null, \"status\": \"Completed\", \"run_type\": \"azureml.scriptrun\", \"training_percent\": \"100\", \"start_time\": \"2020-11-22T12:09:26.158761Z\", \"end_time\": \"2020-11-22T12:09:57.380927Z\", \"created_time\": \"2020-11-22T12:09:10.736594Z\", \"created_time_dt\": \"2020-11-22T12:09:10.736594Z\", \"duration\": \"0:00:46\", \"iteration\": \"8\", \"goal\": \"accuracy_max\", \"run_name\": \"StandardScalerWrapper, ExtremeRandomTrees\", \"run_properties\": \"<azureml.automl.runtime.shared.model_wrappers.StandardScalerWrapper object at 0x7f71972e5c88\", \"primary_metric\": 0.82929293, \"best_metric\": 0.85272727}, {\"run_id\": \"AutoML_a47fe669-af73-4a01-aeb1-3cb05b9c9f72_9\", \"run_number\": 14, \"metric\": null, \"status\": \"Completed\", \"run_type\": \"azureml.scriptrun\", \"training_percent\": \"100\", \"start_time\": \"2020-11-22T12:10:13.005067Z\", \"end_time\": \"2020-11-22T12:10:49.795274Z\", \"created_time\": \"2020-11-22T12:09:59.912733Z\", \"created_time_dt\": \"2020-11-22T12:09:59.912733Z\", \"duration\": \"0:00:49\", \"iteration\": \"9\", \"goal\": \"accuracy_max\", \"run_name\": \"StandardScalerWrapper, SGD\", \"run_properties\": \"<azureml.automl.runtime.shared.model_wrappers.StandardScalerWrapper object at 0x7f8e93d837f0\", \"primary_metric\": 0.81936027, \"best_metric\": 0.85272727}, {\"run_id\": \"AutoML_a47fe669-af73-4a01-aeb1-3cb05b9c9f72_10\", \"run_number\": 15, \"metric\": null, \"status\": \"Completed\", \"run_type\": \"azureml.scriptrun\", \"training_percent\": \"100\", \"start_time\": \"2020-11-22T12:11:09.885755Z\", \"end_time\": \"2020-11-22T12:11:51.376874Z\", \"created_time\": \"2020-11-22T12:10:53.164664Z\", \"created_time_dt\": \"2020-11-22T12:10:53.164664Z\", \"duration\": \"0:00:58\", \"iteration\": \"10\", \"goal\": \"accuracy_max\", \"run_name\": \"StandardScalerWrapper, SGD\", \"run_properties\": \"<azureml.automl.runtime.shared.model_wrappers.StandardScalerWrapper object at 0x7f7c7d520e10\", \"primary_metric\": 0.81602694, \"best_metric\": 0.85272727}, {\"run_id\": \"AutoML_a47fe669-af73-4a01-aeb1-3cb05b9c9f72_11\", \"run_number\": 16, \"metric\": null, \"status\": \"Completed\", \"run_type\": \"azureml.scriptrun\", \"training_percent\": \"100\", \"start_time\": \"2020-11-22T12:12:12.270096Z\", \"end_time\": \"2020-11-22T12:12:44.226232Z\", \"created_time\": \"2020-11-22T12:12:00.06317Z\", \"created_time_dt\": \"2020-11-22T12:12:00.06317Z\", \"duration\": \"0:00:44\", \"iteration\": \"11\", \"goal\": \"accuracy_max\", \"run_name\": \"MinMaxScaler, SGD\", \"run_properties\": \"copy=True, feature_range=(0, 1\", \"primary_metric\": 0.7756229, \"best_metric\": 0.85272727}, {\"run_id\": \"AutoML_a47fe669-af73-4a01-aeb1-3cb05b9c9f72_12\", \"run_number\": 17, \"metric\": null, \"status\": \"Completed\", \"run_type\": \"azureml.scriptrun\", \"training_percent\": \"100\", \"start_time\": \"2020-11-22T12:13:09.229117Z\", \"end_time\": \"2020-11-22T12:13:42.976223Z\", \"created_time\": \"2020-11-22T12:12:56.158041Z\", \"created_time_dt\": \"2020-11-22T12:12:56.158041Z\", \"duration\": \"0:00:46\", \"iteration\": \"12\", \"goal\": \"accuracy_max\", \"run_name\": \"RobustScaler, ExtremeRandomTrees\", \"run_properties\": \"copy=True, quantile_range=[10, 90], with_centering=False,\\n             with_scaling=False\", \"primary_metric\": 0.81922559, \"best_metric\": 0.85272727}, {\"run_id\": \"AutoML_a47fe669-af73-4a01-aeb1-3cb05b9c9f72_13\", \"run_number\": 18, \"metric\": null, \"status\": \"Completed\", \"run_type\": \"azureml.scriptrun\", \"training_percent\": \"100\", \"start_time\": \"2020-11-22T12:14:10.159939Z\", \"end_time\": \"2020-11-22T12:14:41.158496Z\", \"created_time\": \"2020-11-22T12:13:58.205167Z\", \"created_time_dt\": \"2020-11-22T12:13:58.205167Z\", \"duration\": \"0:00:42\", \"iteration\": \"13\", \"goal\": \"accuracy_max\", \"run_name\": \"MinMaxScaler, SGD\", \"run_properties\": \"copy=True, feature_range=(0, 1\", \"primary_metric\": 0.78252525, \"best_metric\": 0.85272727}, {\"run_id\": \"AutoML_a47fe669-af73-4a01-aeb1-3cb05b9c9f72_14\", \"run_number\": 19, \"metric\": null, \"status\": \"Completed\", \"run_type\": \"azureml.scriptrun\", \"training_percent\": \"100\", \"start_time\": \"2020-11-22T12:14:56.573408Z\", \"end_time\": \"2020-11-22T12:15:27.63824Z\", \"created_time\": \"2020-11-22T12:14:44.361709Z\", \"created_time_dt\": \"2020-11-22T12:14:44.361709Z\", \"duration\": \"0:00:43\", \"iteration\": \"14\", \"goal\": \"accuracy_max\", \"run_name\": \"MinMaxScaler, ExtremeRandomTrees\", \"run_properties\": \"copy=True, feature_range=(0, 1\", \"primary_metric\": 0.83606061, \"best_metric\": 0.85272727}, {\"run_id\": \"AutoML_a47fe669-af73-4a01-aeb1-3cb05b9c9f72_15\", \"run_number\": 20, \"metric\": null, \"status\": \"Completed\", \"run_type\": \"azureml.scriptrun\", \"training_percent\": \"100\", \"start_time\": \"2020-11-22T12:15:52.174228Z\", \"end_time\": \"2020-11-22T12:16:28.064682Z\", \"created_time\": \"2020-11-22T12:15:38.47934Z\", \"created_time_dt\": \"2020-11-22T12:15:38.47934Z\", \"duration\": \"0:00:49\", \"iteration\": \"15\", \"goal\": \"accuracy_max\", \"run_name\": \"MinMaxScaler, ExtremeRandomTrees\", \"run_properties\": \"copy=True, feature_range=(0, 1\", \"primary_metric\": 0.78599327, \"best_metric\": 0.85272727}, {\"run_id\": \"AutoML_a47fe669-af73-4a01-aeb1-3cb05b9c9f72_16\", \"run_number\": 21, \"metric\": null, \"status\": \"Completed\", \"run_type\": \"azureml.scriptrun\", \"training_percent\": \"100\", \"start_time\": \"2020-11-22T12:16:52.539263Z\", \"end_time\": \"2020-11-22T12:17:29.711902Z\", \"created_time\": \"2020-11-22T12:16:35.61386Z\", \"created_time_dt\": \"2020-11-22T12:16:35.61386Z\", \"duration\": \"0:00:54\", \"iteration\": \"16\", \"goal\": \"accuracy_max\", \"run_name\": \"MinMaxScaler, ExtremeRandomTrees\", \"run_properties\": \"copy=True, feature_range=(0, 1\", \"primary_metric\": 0.75602694, \"best_metric\": 0.85272727}, {\"run_id\": \"AutoML_a47fe669-af73-4a01-aeb1-3cb05b9c9f72_17\", \"run_number\": 22, \"metric\": null, \"status\": \"Completed\", \"run_type\": \"azureml.scriptrun\", \"training_percent\": \"100\", \"start_time\": \"2020-11-22T12:17:50.104593Z\", \"end_time\": \"2020-11-22T12:18:25.133647Z\", \"created_time\": \"2020-11-22T12:17:32.398265Z\", \"created_time_dt\": \"2020-11-22T12:17:32.398265Z\", \"duration\": \"0:00:52\", \"iteration\": \"17\", \"goal\": \"accuracy_max\", \"run_name\": \"StandardScalerWrapper, RandomForest\", \"run_properties\": \"<azureml.automl.runtime.shared.model_wrappers.StandardScalerWrapper object at 0x7fc4181e3dd8\", \"primary_metric\": 0.8393266, \"best_metric\": 0.85272727}, {\"run_id\": \"AutoML_a47fe669-af73-4a01-aeb1-3cb05b9c9f72_18\", \"run_number\": 23, \"metric\": null, \"status\": \"Completed\", \"run_type\": \"azureml.scriptrun\", \"training_percent\": \"100\", \"start_time\": \"2020-11-22T12:18:41.942452Z\", \"end_time\": \"2020-11-22T12:19:12.463739Z\", \"created_time\": \"2020-11-22T12:18:30.13434Z\", \"created_time_dt\": \"2020-11-22T12:18:30.13434Z\", \"duration\": \"0:00:42\", \"iteration\": \"18\", \"goal\": \"accuracy_max\", \"run_name\": \"StandardScalerWrapper, SGD\", \"run_properties\": \"<azureml.automl.runtime.shared.model_wrappers.StandardScalerWrapper object at 0x7efe400b6860\", \"primary_metric\": 0.77565657, \"best_metric\": 0.85272727}, {\"run_id\": \"AutoML_a47fe669-af73-4a01-aeb1-3cb05b9c9f72_19\", \"run_number\": 24, \"metric\": null, \"status\": \"Completed\", \"run_type\": \"azureml.scriptrun\", \"training_percent\": \"100\", \"start_time\": \"2020-11-22T12:19:32.521633Z\", \"end_time\": \"2020-11-22T12:20:00.59886Z\", \"created_time\": \"2020-11-22T12:19:16.845887Z\", \"created_time_dt\": \"2020-11-22T12:19:16.845887Z\", \"duration\": \"0:00:43\", \"iteration\": \"19\", \"goal\": \"accuracy_max\", \"run_name\": \"RobustScaler, ExtremeRandomTrees\", \"run_properties\": \"copy=True, quantile_range=[25, 75], with_centering=True,\\n             with_scaling=False\", \"primary_metric\": 0.79909091, \"best_metric\": 0.85272727}, {\"run_id\": \"AutoML_a47fe669-af73-4a01-aeb1-3cb05b9c9f72_20\", \"run_number\": 25, \"metric\": null, \"status\": \"Completed\", \"run_type\": \"azureml.scriptrun\", \"training_percent\": \"100\", \"start_time\": \"2020-11-22T12:20:17.379838Z\", \"end_time\": \"2020-11-22T12:20:50.898795Z\", \"created_time\": \"2020-11-22T12:20:05.090542Z\", \"created_time_dt\": \"2020-11-22T12:20:05.090542Z\", \"duration\": \"0:00:45\", \"iteration\": \"20\", \"goal\": \"accuracy_max\", \"run_name\": \"StandardScalerWrapper, RandomForest\", \"run_properties\": \"<azureml.automl.runtime.shared.model_wrappers.StandardScalerWrapper object at 0x7f26eca11828\", \"primary_metric\": 0.77239057, \"best_metric\": 0.85272727}, {\"run_id\": \"AutoML_a47fe669-af73-4a01-aeb1-3cb05b9c9f72_21\", \"run_number\": 26, \"metric\": null, \"status\": \"Completed\", \"run_type\": \"azureml.scriptrun\", \"training_percent\": \"100\", \"start_time\": \"2020-11-22T12:21:15.534182Z\", \"end_time\": \"2020-11-22T12:21:52.112235Z\", \"created_time\": \"2020-11-22T12:21:01.582482Z\", \"created_time_dt\": \"2020-11-22T12:21:01.582482Z\", \"duration\": \"0:00:50\", \"iteration\": \"21\", \"goal\": \"accuracy_max\", \"run_name\": \"MinMaxScaler, ExtremeRandomTrees\", \"run_properties\": \"copy=True, feature_range=(0, 1\", \"primary_metric\": 0.81245791, \"best_metric\": 0.85272727}, {\"run_id\": \"AutoML_a47fe669-af73-4a01-aeb1-3cb05b9c9f72_22\", \"run_number\": 27, \"metric\": null, \"status\": \"Completed\", \"run_type\": \"azureml.scriptrun\", \"training_percent\": \"100\", \"start_time\": \"2020-11-22T12:22:09.010298Z\", \"end_time\": \"2020-11-22T12:22:42.008314Z\", \"created_time\": \"2020-11-22T12:21:57.381979Z\", \"created_time_dt\": \"2020-11-22T12:21:57.381979Z\", \"duration\": \"0:00:44\", \"iteration\": \"22\", \"goal\": \"accuracy_max\", \"run_name\": \"MaxAbsScaler, RandomForest\", \"run_properties\": \"copy=True\", \"primary_metric\": 0.83272727, \"best_metric\": 0.85272727}, {\"run_id\": \"AutoML_a47fe669-af73-4a01-aeb1-3cb05b9c9f72_23\", \"run_number\": 28, \"metric\": null, \"status\": \"Completed\", \"run_type\": \"azureml.scriptrun\", \"training_percent\": \"100\", \"start_time\": \"2020-11-22T12:23:06.398619Z\", \"end_time\": \"2020-11-22T12:23:37.225489Z\", \"created_time\": \"2020-11-22T12:22:44.457248Z\", \"created_time_dt\": \"2020-11-22T12:22:44.457248Z\", \"duration\": \"0:00:52\", \"iteration\": \"23\", \"goal\": \"accuracy_max\", \"run_name\": \"RobustScaler, ExtremeRandomTrees\", \"run_properties\": \"copy=True, quantile_range=[25, 75], with_centering=True,\\n             with_scaling=False\", \"primary_metric\": 0.84949495, \"best_metric\": 0.85272727}, {\"run_id\": \"AutoML_a47fe669-af73-4a01-aeb1-3cb05b9c9f72_24\", \"run_number\": 29, \"metric\": null, \"status\": \"Completed\", \"run_type\": \"azureml.scriptrun\", \"training_percent\": \"100\", \"start_time\": \"2020-11-22T12:23:58.577601Z\", \"end_time\": \"2020-11-22T12:24:24.093755Z\", \"created_time\": \"2020-11-22T12:23:44.230746Z\", \"created_time_dt\": \"2020-11-22T12:23:44.230746Z\", \"duration\": \"0:00:39\", \"iteration\": \"24\", \"goal\": \"accuracy_max\", \"run_name\": \"StandardScalerWrapper, XGBoostClassifier\", \"run_properties\": \"<azureml.automl.runtime.shared.model_wrappers.StandardScalerWrapper object at 0x7fb532142eb8\", \"primary_metric\": 0.84602694, \"best_metric\": 0.85272727}, {\"run_id\": \"AutoML_a47fe669-af73-4a01-aeb1-3cb05b9c9f72_25\", \"run_number\": 30, \"metric\": null, \"status\": \"Completed\", \"run_type\": \"azureml.scriptrun\", \"training_percent\": \"100\", \"start_time\": \"2020-11-22T12:24:49.405242Z\", \"end_time\": \"2020-11-22T12:25:27.017465Z\", \"created_time\": \"2020-11-22T12:24:35.231083Z\", \"created_time_dt\": \"2020-11-22T12:24:35.231083Z\", \"duration\": \"0:00:51\", \"iteration\": \"25\", \"goal\": \"accuracy_max\", \"run_name\": \"MaxAbsScaler, RandomForest\", \"run_properties\": \"copy=True\", \"primary_metric\": 0.6789899, \"best_metric\": 0.85272727}, {\"run_id\": \"AutoML_a47fe669-af73-4a01-aeb1-3cb05b9c9f72_26\", \"run_number\": 31, \"metric\": null, \"status\": \"Completed\", \"run_type\": \"azureml.scriptrun\", \"training_percent\": \"100\", \"start_time\": \"2020-11-22T12:25:47.533401Z\", \"end_time\": \"2020-11-22T12:26:22.166557Z\", \"created_time\": \"2020-11-22T12:25:32.634662Z\", \"created_time_dt\": \"2020-11-22T12:25:32.634662Z\", \"duration\": \"0:00:49\", \"iteration\": \"26\", \"goal\": \"accuracy_max\", \"run_name\": \"MaxAbsScaler, GradientBoosting\", \"run_properties\": \"copy=True\", \"primary_metric\": 0.78272727, \"best_metric\": 0.85272727}, {\"run_id\": \"AutoML_a47fe669-af73-4a01-aeb1-3cb05b9c9f72_27\", \"run_number\": 32, \"metric\": null, \"status\": \"Completed\", \"run_type\": \"azureml.scriptrun\", \"training_percent\": \"100\", \"start_time\": \"2020-11-22T12:26:45.023208Z\", \"end_time\": \"2020-11-22T12:27:23.721953Z\", \"created_time\": \"2020-11-22T12:26:30.446294Z\", \"created_time_dt\": \"2020-11-22T12:26:30.446294Z\", \"duration\": \"0:00:53\", \"iteration\": \"27\", \"goal\": \"accuracy_max\", \"run_name\": \"MinMaxScaler, LightGBM\", \"run_properties\": \"copy=True, feature_range=(0, 1\", \"primary_metric\": 0.83936027, \"best_metric\": 0.85272727}, {\"run_id\": \"AutoML_a47fe669-af73-4a01-aeb1-3cb05b9c9f72_28\", \"run_number\": 33, \"metric\": null, \"status\": \"Completed\", \"run_type\": \"azureml.scriptrun\", \"training_percent\": \"100\", \"start_time\": \"2020-11-22T12:27:45.857431Z\", \"end_time\": \"2020-11-22T12:28:17.490408Z\", \"created_time\": \"2020-11-22T12:27:29.343583Z\", \"created_time_dt\": \"2020-11-22T12:27:29.343583Z\", \"duration\": \"0:00:48\", \"iteration\": \"28\", \"goal\": \"accuracy_max\", \"run_name\": \"StandardScalerWrapper, XGBoostClassifier\", \"run_properties\": \"<azureml.automl.runtime.shared.model_wrappers.StandardScalerWrapper object at 0x7f4271e50d30\", \"primary_metric\": 0.83929293, \"best_metric\": 0.85272727}, {\"run_id\": \"AutoML_a47fe669-af73-4a01-aeb1-3cb05b9c9f72_29\", \"run_number\": 34, \"metric\": null, \"status\": \"Completed\", \"run_type\": \"azureml.scriptrun\", \"training_percent\": \"100\", \"start_time\": \"2020-11-22T12:28:40.097746Z\", \"end_time\": \"2020-11-22T12:29:06.664631Z\", \"created_time\": \"2020-11-22T12:28:27.034516Z\", \"created_time_dt\": \"2020-11-22T12:28:27.034516Z\", \"duration\": \"0:00:39\", \"iteration\": \"29\", \"goal\": \"accuracy_max\", \"run_name\": \"StandardScalerWrapper, RandomForest\", \"run_properties\": \"<azureml.automl.runtime.shared.model_wrappers.StandardScalerWrapper object at 0x7f18401d9b38\", \"primary_metric\": 0.83599327, \"best_metric\": 0.85272727}, {\"run_id\": \"AutoML_a47fe669-af73-4a01-aeb1-3cb05b9c9f72_30\", \"run_number\": 35, \"metric\": null, \"status\": \"Completed\", \"run_type\": \"azureml.scriptrun\", \"training_percent\": \"100\", \"start_time\": \"2020-11-22T12:29:27.459409Z\", \"end_time\": \"2020-11-22T12:29:59.665282Z\", \"created_time\": \"2020-11-22T12:29:15.217722Z\", \"created_time_dt\": \"2020-11-22T12:29:15.217722Z\", \"duration\": \"0:00:44\", \"iteration\": \"30\", \"goal\": \"accuracy_max\", \"run_name\": \"MaxAbsScaler, RandomForest\", \"run_properties\": \"copy=True\", \"primary_metric\": 0.72875421, \"best_metric\": 0.85272727}, {\"run_id\": \"AutoML_a47fe669-af73-4a01-aeb1-3cb05b9c9f72_31\", \"run_number\": 36, \"metric\": null, \"status\": \"Completed\", \"run_type\": \"azureml.scriptrun\", \"training_percent\": \"100\", \"start_time\": \"2020-11-22T12:30:27.871496Z\", \"end_time\": \"2020-11-22T12:31:01.335054Z\", \"created_time\": \"2020-11-22T12:30:12.68583Z\", \"created_time_dt\": \"2020-11-22T12:30:12.68583Z\", \"duration\": \"0:00:48\", \"iteration\": \"31\", \"goal\": \"accuracy_max\", \"run_name\": \"StandardScalerWrapper, KNN\", \"run_properties\": \"<azureml.automl.runtime.shared.model_wrappers.StandardScalerWrapper object at 0x7efef9b1bf60\", \"primary_metric\": 0.63228956, \"best_metric\": 0.85272727}, {\"run_id\": \"AutoML_a47fe669-af73-4a01-aeb1-3cb05b9c9f72_32\", \"run_number\": 37, \"metric\": null, \"status\": \"Completed\", \"run_type\": \"azureml.scriptrun\", \"training_percent\": \"100\", \"start_time\": \"2020-11-22T12:31:24.638402Z\", \"end_time\": \"2020-11-22T12:32:05.52533Z\", \"created_time\": \"2020-11-22T12:31:10.311315Z\", \"created_time_dt\": \"2020-11-22T12:31:10.311315Z\", \"duration\": \"0:00:55\", \"iteration\": \"32\", \"goal\": \"accuracy_max\", \"run_name\": \"MaxAbsScaler, LightGBM\", \"run_properties\": \"copy=True\", \"primary_metric\": 0.82272727, \"best_metric\": 0.85272727}, {\"run_id\": \"AutoML_a47fe669-af73-4a01-aeb1-3cb05b9c9f72_33\", \"run_number\": 38, \"metric\": null, \"status\": \"Completed\", \"run_type\": \"azureml.scriptrun\", \"training_percent\": \"100\", \"start_time\": \"2020-11-22T12:32:23.059446Z\", \"end_time\": \"2020-11-22T12:33:15.337613Z\", \"created_time\": \"2020-11-22T12:32:11.656473Z\", \"created_time_dt\": \"2020-11-22T12:32:11.656473Z\", \"duration\": \"0:01:03\", \"iteration\": \"33\", \"goal\": \"accuracy_max\", \"run_name\": \"VotingEnsemble\", \"run_properties\": \"classification_labels=None,\\n                              estimators=[('4',\\n                                           Pipeline(memory=None,\\n                                                    steps=[('minmaxscaler',\\n                                                            MinMaxScaler(copy=True,\\n                                                                         feature_range=(0,\\n                                                                                        1\", \"primary_metric\": 0.86286195, \"best_metric\": 0.86286195}, {\"run_id\": \"AutoML_a47fe669-af73-4a01-aeb1-3cb05b9c9f72_34\", \"run_number\": 39, \"metric\": null, \"status\": \"Completed\", \"run_type\": \"azureml.scriptrun\", \"training_percent\": \"100\", \"start_time\": \"2020-11-22T12:33:32.306082Z\", \"end_time\": \"2020-11-22T12:34:31.41483Z\", \"created_time\": \"2020-11-22T12:33:18.359999Z\", \"created_time_dt\": \"2020-11-22T12:33:18.359999Z\", \"duration\": \"0:01:13\", \"iteration\": \"34\", \"goal\": \"accuracy_max\", \"run_name\": \"StackEnsemble\", \"run_properties\": \"base_learners=[('4',\\n                                        Pipeline(memory=None,\\n                                                 steps=[('minmaxscaler',\\n                                                         MinMaxScaler(copy=True,\\n                                                                      feature_range=(0,\\n                                                                                     1\", \"primary_metric\": 0.82936027, \"best_metric\": 0.86286195}], \"children_metrics\": {\"categories\": [0], \"series\": {\"weighted_accuracy\": [{\"categories\": [\"0\", \"1\", \"2\", \"3\", \"4\", \"5\", \"6\", \"7\", \"8\", \"9\", \"10\", \"11\", \"12\", \"13\", \"14\", \"15\", \"16\", \"17\", \"18\", \"19\", \"20\", \"21\", \"22\", \"23\", \"24\", \"25\", \"26\", \"27\", \"28\", \"29\", \"30\", \"31\", \"32\", \"33\", \"34\"], \"mode\": \"markers\", \"name\": \"weighted_accuracy\", \"stepped\": false, \"type\": \"scatter\", \"data\": [0.8518765369284775, 0.8581177688845031, 0.8462724382198367, 0.8492987572890941, 0.8750976979669004, 0.7712567029276012, 0.8758615192442482, 0.8448495876508731, 0.8472227587343024, 0.8463000660938533, 0.8591675766292081, 0.7792836269503316, 0.8197859087521553, 0.8231670882314271, 0.8778350610336388, 0.8377393972133813, 0.8303579168657457, 0.8460808748671639, 0.7613405032536695, 0.8261332013235744, 0.7824080991901945, 0.8292047407162842, 0.8667939397336576, 0.886764225492215, 0.8807899798515383, 0.8051228382700453, 0.8457224431852598, 0.8737721746178112, 0.8638721194472042, 0.8464835957958096, 0.7698077945301774, 0.7110180809156582, 0.8634540717529983, 0.8974937785747094, 0.8652175745725441]}, {\"categories\": [\"0\", \"1\", \"2\", \"3\", \"4\", \"5\", \"6\", \"7\", \"8\", \"9\", \"10\", \"11\", \"12\", \"13\", \"14\", \"15\", \"16\", \"17\", \"18\", \"19\", \"20\", \"21\", \"22\", \"23\", \"24\", \"25\", \"26\", \"27\", \"28\", \"29\", \"30\", \"31\", \"32\", \"33\", \"34\"], \"mode\": \"lines\", \"name\": \"weighted_accuracy_max\", \"stepped\": true, \"type\": \"scatter\", \"data\": [0.8518765369284775, 0.8581177688845031, 0.8581177688845031, 0.8581177688845031, 0.8750976979669004, 0.8750976979669004, 0.8758615192442482, 0.8758615192442482, 0.8758615192442482, 0.8758615192442482, 0.8758615192442482, 0.8758615192442482, 0.8758615192442482, 0.8758615192442482, 0.8778350610336388, 0.8778350610336388, 0.8778350610336388, 0.8778350610336388, 0.8778350610336388, 0.8778350610336388, 0.8778350610336388, 0.8778350610336388, 0.8778350610336388, 0.886764225492215, 0.886764225492215, 0.886764225492215, 0.886764225492215, 0.886764225492215, 0.886764225492215, 0.886764225492215, 0.886764225492215, 0.886764225492215, 0.886764225492215, 0.8974937785747094, 0.8974937785747094]}], \"recall_score_macro\": [{\"categories\": [\"0\", \"1\", \"2\", \"3\", \"4\", \"5\", \"6\", \"7\", \"8\", \"9\", \"10\", \"11\", \"12\", \"13\", \"14\", \"15\", \"16\", \"17\", \"18\", \"19\", \"20\", \"21\", \"22\", \"23\", \"24\", \"25\", \"26\", \"27\", \"28\", \"29\", \"30\", \"31\", \"32\", \"33\", \"34\"], \"mode\": \"markers\", \"name\": \"recall_score_macro\", \"stepped\": false, \"type\": \"scatter\", \"data\": [0.7924492893418248, 0.7839119650592231, 0.8076783635190811, 0.7939427000017973, 0.8240139355704535, 0.7968434674766792, 0.8056405908937497, 0.7034647606608712, 0.8052548563805461, 0.7826725220826267, 0.750968739827413, 0.7689707888235846, 0.8195868257135039, 0.7230677826306634, 0.7781773120605192, 0.7159993249895652, 0.6535502353549695, 0.8309624091082473, 0.7943338465809123, 0.760697197907867, 0.7591283777981479, 0.7900374650761982, 0.7867368238162854, 0.7983705487754952, 0.7985225459476407, 0.5, 0.6958053493578414, 0.793539630901099, 0.8069607954738354, 0.82306263018415, 0.6748515875726185, 0.5230903695182861, 0.7683605833847579, 0.8163415632682488, 0.7805786317258899]}, {\"categories\": [\"0\", \"1\", \"2\", \"3\", \"4\", \"5\", \"6\", \"7\", \"8\", \"9\", \"10\", \"11\", \"12\", \"13\", \"14\", \"15\", \"16\", \"17\", \"18\", \"19\", \"20\", \"21\", \"22\", \"23\", \"24\", \"25\", \"26\", \"27\", \"28\", \"29\", \"30\", \"31\", \"32\", \"33\", \"34\"], \"mode\": \"lines\", \"name\": \"recall_score_macro_max\", \"stepped\": true, \"type\": \"scatter\", \"data\": [0.7924492893418248, 0.7924492893418248, 0.8076783635190811, 0.8076783635190811, 0.8240139355704535, 0.8240139355704535, 0.8240139355704535, 0.8240139355704535, 0.8240139355704535, 0.8240139355704535, 0.8240139355704535, 0.8240139355704535, 0.8240139355704535, 0.8240139355704535, 0.8240139355704535, 0.8240139355704535, 0.8240139355704535, 0.8309624091082473, 0.8309624091082473, 0.8309624091082473, 0.8309624091082473, 0.8309624091082473, 0.8309624091082473, 0.8309624091082473, 0.8309624091082473, 0.8309624091082473, 0.8309624091082473, 0.8309624091082473, 0.8309624091082473, 0.8309624091082473, 0.8309624091082473, 0.8309624091082473, 0.8309624091082473, 0.8309624091082473, 0.8309624091082473]}], \"f1_score_micro\": [{\"categories\": [\"0\", \"1\", \"2\", \"3\", \"4\", \"5\", \"6\", \"7\", \"8\", \"9\", \"10\", \"11\", \"12\", \"13\", \"14\", \"15\", \"16\", \"17\", \"18\", \"19\", \"20\", \"21\", \"22\", \"23\", \"24\", \"25\", \"26\", \"27\", \"28\", \"29\", \"30\", \"31\", \"32\", \"33\", \"34\"], \"mode\": \"markers\", \"name\": \"f1_score_micro\", \"stepped\": false, \"type\": \"scatter\", \"data\": [0.825925925925926, 0.825993265993266, 0.8292592592592593, 0.826026936026936, 0.8527272727272729, 0.7823232323232322, 0.8460606060606062, 0.7859595959595959, 0.8292929292929294, 0.8193602693602693, 0.816026936026936, 0.7756228956228955, 0.8192255892255892, 0.7825252525252525, 0.8360606060606061, 0.785993265993266, 0.7560269360269359, 0.8393265993265994, 0.7756565656565657, 0.7990909090909092, 0.7723905723905724, 0.8124579124579125, 0.8327272727272729, 0.8494949494949496, 0.8460269360269361, 0.678989898989899, 0.7827272727272727, 0.8393602693602693, 0.8392929292929293, 0.835993265993266, 0.7287542087542088, 0.6322895622895622, 0.8227272727272728, 0.8628619528619529, 0.8293602693602694]}, {\"categories\": [\"0\", \"1\", \"2\", \"3\", \"4\", \"5\", \"6\", \"7\", \"8\", \"9\", \"10\", \"11\", \"12\", \"13\", \"14\", \"15\", \"16\", \"17\", \"18\", \"19\", \"20\", \"21\", \"22\", \"23\", \"24\", \"25\", \"26\", \"27\", \"28\", \"29\", \"30\", \"31\", \"32\", \"33\", \"34\"], \"mode\": \"lines\", \"name\": \"f1_score_micro_max\", \"stepped\": true, \"type\": \"scatter\", \"data\": [0.825925925925926, 0.825993265993266, 0.8292592592592593, 0.8292592592592593, 0.8527272727272729, 0.8527272727272729, 0.8527272727272729, 0.8527272727272729, 0.8527272727272729, 0.8527272727272729, 0.8527272727272729, 0.8527272727272729, 0.8527272727272729, 0.8527272727272729, 0.8527272727272729, 0.8527272727272729, 0.8527272727272729, 0.8527272727272729, 0.8527272727272729, 0.8527272727272729, 0.8527272727272729, 0.8527272727272729, 0.8527272727272729, 0.8527272727272729, 0.8527272727272729, 0.8527272727272729, 0.8527272727272729, 0.8527272727272729, 0.8527272727272729, 0.8527272727272729, 0.8527272727272729, 0.8527272727272729, 0.8527272727272729, 0.8628619528619529, 0.8628619528619529]}], \"AUC_micro\": [{\"categories\": [\"0\", \"1\", \"2\", \"3\", \"4\", \"5\", \"6\", \"7\", \"8\", \"9\", \"10\", \"11\", \"12\", \"13\", \"14\", \"15\", \"16\", \"17\", \"18\", \"19\", \"20\", \"21\", \"22\", \"23\", \"24\", \"25\", \"26\", \"27\", \"28\", \"29\", \"30\", \"31\", \"32\", \"33\", \"34\"], \"mode\": \"markers\", \"name\": \"AUC_micro\", \"stepped\": false, \"type\": \"scatter\", \"data\": [0.8911140699928578, 0.897847063224841, 0.9018868244736931, 0.8803743053429921, 0.9022081420263239, 0.8538313403394211, 0.8978627146889773, 0.8781556881950822, 0.9020384314525729, 0.8826829337142469, 0.8796597558072304, 0.8542455531748461, 0.8646954630479883, 0.8651998605584463, 0.9119443492160664, 0.8625621195116144, 0.8429599224568921, 0.9012203312587151, 0.8455244056728906, 0.8773763391490665, 0.8568139101452233, 0.8686738019929939, 0.9032582253511546, 0.9011995102540556, 0.8781230350644492, 0.8262291330816582, 0.8717287861782812, 0.8945822535115465, 0.8947768424990646, 0.9219846240179573, 0.762237639016427, 0.6563367717579839, 0.8990644866170118, 0.905540288405945, 0.8958803931571607]}, {\"categories\": [\"0\", \"1\", \"2\", \"3\", \"4\", \"5\", \"6\", \"7\", \"8\", \"9\", \"10\", \"11\", \"12\", \"13\", \"14\", \"15\", \"16\", \"17\", \"18\", \"19\", \"20\", \"21\", \"22\", \"23\", \"24\", \"25\", \"26\", \"27\", \"28\", \"29\", \"30\", \"31\", \"32\", \"33\", \"34\"], \"mode\": \"lines\", \"name\": \"AUC_micro_max\", \"stepped\": true, \"type\": \"scatter\", \"data\": [0.8911140699928578, 0.897847063224841, 0.9018868244736931, 0.9018868244736931, 0.9022081420263239, 0.9022081420263239, 0.9022081420263239, 0.9022081420263239, 0.9022081420263239, 0.9022081420263239, 0.9022081420263239, 0.9022081420263239, 0.9022081420263239, 0.9022081420263239, 0.9119443492160664, 0.9119443492160664, 0.9119443492160664, 0.9119443492160664, 0.9119443492160664, 0.9119443492160664, 0.9119443492160664, 0.9119443492160664, 0.9119443492160664, 0.9119443492160664, 0.9119443492160664, 0.9119443492160664, 0.9119443492160664, 0.9119443492160664, 0.9119443492160664, 0.9219846240179573, 0.9219846240179573, 0.9219846240179573, 0.9219846240179573, 0.9219846240179573, 0.9219846240179573]}], \"balanced_accuracy\": [{\"categories\": [\"0\", \"1\", \"2\", \"3\", \"4\", \"5\", \"6\", \"7\", \"8\", \"9\", \"10\", \"11\", \"12\", \"13\", \"14\", \"15\", \"16\", \"17\", \"18\", \"19\", \"20\", \"21\", \"22\", \"23\", \"24\", \"25\", \"26\", \"27\", \"28\", \"29\", \"30\", \"31\", \"32\", \"33\", \"34\"], \"mode\": \"markers\", \"name\": \"balanced_accuracy\", \"stepped\": false, \"type\": \"scatter\", \"data\": [0.7924492893418248, 0.7839119650592231, 0.8076783635190811, 0.7939427000017973, 0.8240139355704535, 0.7968434674766792, 0.8056405908937497, 0.7034647606608712, 0.8052548563805461, 0.7826725220826267, 0.750968739827413, 0.7689707888235846, 0.8195868257135039, 0.7230677826306634, 0.7781773120605192, 0.7159993249895652, 0.6535502353549695, 0.8309624091082473, 0.7943338465809123, 0.760697197907867, 0.7591283777981479, 0.7900374650761982, 0.7867368238162854, 0.7983705487754952, 0.7985225459476407, 0.5, 0.6958053493578414, 0.793539630901099, 0.8069607954738354, 0.82306263018415, 0.6748515875726185, 0.5230903695182861, 0.7683605833847579, 0.8163415632682488, 0.7805786317258899]}, {\"categories\": [\"0\", \"1\", \"2\", \"3\", \"4\", \"5\", \"6\", \"7\", \"8\", \"9\", \"10\", \"11\", \"12\", \"13\", \"14\", \"15\", \"16\", \"17\", \"18\", \"19\", \"20\", \"21\", \"22\", \"23\", \"24\", \"25\", \"26\", \"27\", \"28\", \"29\", \"30\", \"31\", \"32\", \"33\", \"34\"], \"mode\": \"lines\", \"name\": \"balanced_accuracy_max\", \"stepped\": true, \"type\": \"scatter\", \"data\": [0.7924492893418248, 0.7924492893418248, 0.8076783635190811, 0.8076783635190811, 0.8240139355704535, 0.8240139355704535, 0.8240139355704535, 0.8240139355704535, 0.8240139355704535, 0.8240139355704535, 0.8240139355704535, 0.8240139355704535, 0.8240139355704535, 0.8240139355704535, 0.8240139355704535, 0.8240139355704535, 0.8240139355704535, 0.8309624091082473, 0.8309624091082473, 0.8309624091082473, 0.8309624091082473, 0.8309624091082473, 0.8309624091082473, 0.8309624091082473, 0.8309624091082473, 0.8309624091082473, 0.8309624091082473, 0.8309624091082473, 0.8309624091082473, 0.8309624091082473, 0.8309624091082473, 0.8309624091082473, 0.8309624091082473, 0.8309624091082473, 0.8309624091082473]}], \"average_precision_score_micro\": [{\"categories\": [\"0\", \"1\", \"2\", \"3\", \"4\", \"5\", \"6\", \"7\", \"8\", \"9\", \"10\", \"11\", \"12\", \"13\", \"14\", \"15\", \"16\", \"17\", \"18\", \"19\", \"20\", \"21\", \"22\", \"23\", \"24\", \"25\", \"26\", \"27\", \"28\", \"29\", \"30\", \"31\", \"32\", \"33\", \"34\"], \"mode\": \"markers\", \"name\": \"average_precision_score_micro\", \"stepped\": false, \"type\": \"scatter\", \"data\": [0.8938009858636106, 0.9026455376117112, 0.9051121494106779, 0.8796927792736362, 0.9040018870967031, 0.8492809645840659, 0.8952637817981377, 0.8811519471033825, 0.8991593373330669, 0.8768702450942624, 0.8794916347066716, 0.8484781517314821, 0.8606126972721896, 0.8600968229231652, 0.914250106814587, 0.856894162535692, 0.8462482984541886, 0.9011126868554501, 0.8401168112093559, 0.8793534226258073, 0.852341634040959, 0.8694409155128658, 0.9058512976507079, 0.9027099592466885, 0.8577338450689546, 0.834823931211365, 0.8788266880279015, 0.898042724996689, 0.8870846427288498, 0.9247498735362858, 0.7623743971309223, 0.6400401785993387, 0.9029285382843005, 0.906880924184088, 0.8963886944789164]}, {\"categories\": [\"0\", \"1\", \"2\", \"3\", \"4\", \"5\", \"6\", \"7\", \"8\", \"9\", \"10\", \"11\", \"12\", \"13\", \"14\", \"15\", \"16\", \"17\", \"18\", \"19\", \"20\", \"21\", \"22\", \"23\", \"24\", \"25\", \"26\", \"27\", \"28\", \"29\", \"30\", \"31\", \"32\", \"33\", \"34\"], \"mode\": \"lines\", \"name\": \"average_precision_score_micro_max\", \"stepped\": true, \"type\": \"scatter\", \"data\": [0.8938009858636106, 0.9026455376117112, 0.9051121494106779, 0.9051121494106779, 0.9051121494106779, 0.9051121494106779, 0.9051121494106779, 0.9051121494106779, 0.9051121494106779, 0.9051121494106779, 0.9051121494106779, 0.9051121494106779, 0.9051121494106779, 0.9051121494106779, 0.914250106814587, 0.914250106814587, 0.914250106814587, 0.914250106814587, 0.914250106814587, 0.914250106814587, 0.914250106814587, 0.914250106814587, 0.914250106814587, 0.914250106814587, 0.914250106814587, 0.914250106814587, 0.914250106814587, 0.914250106814587, 0.914250106814587, 0.9247498735362858, 0.9247498735362858, 0.9247498735362858, 0.9247498735362858, 0.9247498735362858, 0.9247498735362858]}], \"norm_macro_recall\": [{\"categories\": [\"0\", \"1\", \"2\", \"3\", \"4\", \"5\", \"6\", \"7\", \"8\", \"9\", \"10\", \"11\", \"12\", \"13\", \"14\", \"15\", \"16\", \"17\", \"18\", \"19\", \"20\", \"21\", \"22\", \"23\", \"24\", \"25\", \"26\", \"27\", \"28\", \"29\", \"30\", \"31\", \"32\", \"33\", \"34\"], \"mode\": \"markers\", \"name\": \"norm_macro_recall\", \"stepped\": false, \"type\": \"scatter\", \"data\": [0.5848985786836498, 0.5678239301184463, 0.6153567270381621, 0.5878854000035947, 0.6480278711409074, 0.5936869349533583, 0.6112811817874995, 0.40692952132174226, 0.6105097127610922, 0.5653450441652537, 0.5019374796548259, 0.5379415776471692, 0.639173651427008, 0.44613556526132686, 0.5563546241210385, 0.43199864997913057, 0.3071004707099392, 0.6619248182164946, 0.5886676931618248, 0.521394395815734, 0.5182567555962958, 0.5800749301523965, 0.5734736476325707, 0.5967410975509903, 0.5970450918952815, 0.0, 0.3916106987156828, 0.587079261802198, 0.6139215909476706, 0.6461252603683001, 0.34970317514523713, 0.06946859903381641, 0.5367211667695159, 0.6326831265364975, 0.5611572634517797]}, {\"categories\": [\"0\", \"1\", \"2\", \"3\", \"4\", \"5\", \"6\", \"7\", \"8\", \"9\", \"10\", \"11\", \"12\", \"13\", \"14\", \"15\", \"16\", \"17\", \"18\", \"19\", \"20\", \"21\", \"22\", \"23\", \"24\", \"25\", \"26\", \"27\", \"28\", \"29\", \"30\", \"31\", \"32\", \"33\", \"34\"], \"mode\": \"lines\", \"name\": \"norm_macro_recall_max\", \"stepped\": true, \"type\": \"scatter\", \"data\": [0.5848985786836498, 0.5848985786836498, 0.6153567270381621, 0.6153567270381621, 0.6480278711409074, 0.6480278711409074, 0.6480278711409074, 0.6480278711409074, 0.6480278711409074, 0.6480278711409074, 0.6480278711409074, 0.6480278711409074, 0.6480278711409074, 0.6480278711409074, 0.6480278711409074, 0.6480278711409074, 0.6480278711409074, 0.6619248182164946, 0.6619248182164946, 0.6619248182164946, 0.6619248182164946, 0.6619248182164946, 0.6619248182164946, 0.6619248182164946, 0.6619248182164946, 0.6619248182164946, 0.6619248182164946, 0.6619248182164946, 0.6619248182164946, 0.6619248182164946, 0.6619248182164946, 0.6619248182164946, 0.6619248182164946, 0.6619248182164946, 0.6619248182164946]}], \"matthews_correlation\": [{\"categories\": [\"0\", \"1\", \"2\", \"3\", \"4\", \"5\", \"6\", \"7\", \"8\", \"9\", \"10\", \"11\", \"12\", \"13\", \"14\", \"15\", \"16\", \"17\", \"18\", \"19\", \"20\", \"21\", \"22\", \"23\", \"24\", \"25\", \"26\", \"27\", \"28\", \"29\", \"30\", \"31\", \"32\", \"33\", \"34\"], \"mode\": \"markers\", \"name\": \"matthews_correlation\", \"stepped\": false, \"type\": \"scatter\", \"data\": [0.6061286118162602, 0.6030401714674086, 0.6259087057251209, 0.6030016848913808, 0.6672409259453845, 0.5630937495916523, 0.6416296586819388, 0.4905486604152416, 0.6085938721438663, 0.5857969211925645, 0.5472620457352643, 0.5233523337258275, 0.6146384375535441, 0.4945711286055196, 0.6167372286209317, 0.4994618967766045, 0.4044623005737093, 0.6463195534437186, 0.5577358206391304, 0.5370959942787907, 0.5060422871302827, 0.5752266168479505, 0.6203489974458916, 0.6526655282660333, 0.6469538136208305, 0.0, 0.5015941809587291, 0.6294193685576882, 0.6353060986364144, 0.6322125224427756, 0.3920858571972286, 0.03954453424603532, 0.5923654985696835, 0.689321555805989, 0.6103221168631987]}, {\"categories\": [\"0\", \"1\", \"2\", \"3\", \"4\", \"5\", \"6\", \"7\", \"8\", \"9\", \"10\", \"11\", \"12\", \"13\", \"14\", \"15\", \"16\", \"17\", \"18\", \"19\", \"20\", \"21\", \"22\", \"23\", \"24\", \"25\", \"26\", \"27\", \"28\", \"29\", \"30\", \"31\", \"32\", \"33\", \"34\"], \"mode\": \"lines\", \"name\": \"matthews_correlation_max\", \"stepped\": true, \"type\": \"scatter\", \"data\": [0.6061286118162602, 0.6061286118162602, 0.6259087057251209, 0.6259087057251209, 0.6672409259453845, 0.6672409259453845, 0.6672409259453845, 0.6672409259453845, 0.6672409259453845, 0.6672409259453845, 0.6672409259453845, 0.6672409259453845, 0.6672409259453845, 0.6672409259453845, 0.6672409259453845, 0.6672409259453845, 0.6672409259453845, 0.6672409259453845, 0.6672409259453845, 0.6672409259453845, 0.6672409259453845, 0.6672409259453845, 0.6672409259453845, 0.6672409259453845, 0.6672409259453845, 0.6672409259453845, 0.6672409259453845, 0.6672409259453845, 0.6672409259453845, 0.6672409259453845, 0.6672409259453845, 0.6672409259453845, 0.6672409259453845, 0.689321555805989, 0.689321555805989]}], \"average_precision_score_weighted\": [{\"categories\": [\"0\", \"1\", \"2\", \"3\", \"4\", \"5\", \"6\", \"7\", \"8\", \"9\", \"10\", \"11\", \"12\", \"13\", \"14\", \"15\", \"16\", \"17\", \"18\", \"19\", \"20\", \"21\", \"22\", \"23\", \"24\", \"25\", \"26\", \"27\", \"28\", \"29\", \"30\", \"31\", \"32\", \"33\", \"34\"], \"mode\": \"markers\", \"name\": \"average_precision_score_weighted\", \"stepped\": false, \"type\": \"scatter\", \"data\": [0.8977219335443646, 0.907002877554759, 0.9094540612375526, 0.8832038383207527, 0.9110864213227788, 0.8874015346465396, 0.8957987662375119, 0.8916053942220765, 0.896562460515186, 0.8805061190615783, 0.874662439907573, 0.8601457446610222, 0.8730236344692082, 0.8643971543551148, 0.9119833039050557, 0.8664156911425409, 0.8528319879682411, 0.9110137148324494, 0.8855320511236947, 0.8781200425988508, 0.8645122236167341, 0.8691588183210555, 0.9137471408837428, 0.9062540346091675, 0.853276231984283, 0.8580235647029664, 0.906422141976889, 0.905345236444755, 0.8887202638049129, 0.9314776434917555, 0.8060692594127653, 0.6053582735509174, 0.9141833884078202, 0.9169714824575598, 0.9118764889383724]}, {\"categories\": [\"0\", \"1\", \"2\", \"3\", \"4\", \"5\", \"6\", \"7\", \"8\", \"9\", \"10\", \"11\", \"12\", \"13\", \"14\", \"15\", \"16\", \"17\", \"18\", \"19\", \"20\", \"21\", \"22\", \"23\", \"24\", \"25\", \"26\", \"27\", \"28\", \"29\", \"30\", \"31\", \"32\", \"33\", \"34\"], \"mode\": \"lines\", \"name\": \"average_precision_score_weighted_max\", \"stepped\": true, \"type\": \"scatter\", \"data\": [0.8977219335443646, 0.907002877554759, 0.9094540612375526, 0.9094540612375526, 0.9110864213227788, 0.9110864213227788, 0.9110864213227788, 0.9110864213227788, 0.9110864213227788, 0.9110864213227788, 0.9110864213227788, 0.9110864213227788, 0.9110864213227788, 0.9110864213227788, 0.9119833039050557, 0.9119833039050557, 0.9119833039050557, 0.9119833039050557, 0.9119833039050557, 0.9119833039050557, 0.9119833039050557, 0.9119833039050557, 0.9137471408837428, 0.9137471408837428, 0.9137471408837428, 0.9137471408837428, 0.9137471408837428, 0.9137471408837428, 0.9137471408837428, 0.9314776434917555, 0.9314776434917555, 0.9314776434917555, 0.9314776434917555, 0.9314776434917555, 0.9314776434917555]}], \"precision_score_macro\": [{\"categories\": [\"0\", \"1\", \"2\", \"3\", \"4\", \"5\", \"6\", \"7\", \"8\", \"9\", \"10\", \"11\", \"12\", \"13\", \"14\", \"15\", \"16\", \"17\", \"18\", \"19\", \"20\", \"21\", \"22\", \"23\", \"24\", \"25\", \"26\", \"27\", \"28\", \"29\", \"30\", \"31\", \"32\", \"33\", \"34\"], \"mode\": \"markers\", \"name\": \"precision_score_macro\", \"stepped\": false, \"type\": \"scatter\", \"data\": [0.8147546772260731, 0.8218409751026504, 0.8197579779288149, 0.8100832013196143, 0.8442628989919042, 0.7672641855944851, 0.8369052174266343, 0.7977461102671427, 0.8035142873371669, 0.8044252065991196, 0.8016587635000677, 0.7548441681787242, 0.7959822363892132, 0.7779268933568909, 0.8421063461121939, 0.7918349779566456, 0.7741117189040017, 0.8158869110389819, 0.7644059199721892, 0.7770772810153069, 0.747894385026738, 0.7854293362351381, 0.8374431078613798, 0.8573385885885886, 0.8509876543209877, 0.3394949494949495, 0.8341593305911147, 0.8381891094934574, 0.8294138440676537, 0.8097356891474538, 0.7260100347768645, 0.5112225006961849, 0.8281354229455494, 0.8759594133011855, 0.8331930282361317]}, {\"categories\": [\"0\", \"1\", \"2\", \"3\", \"4\", \"5\", \"6\", \"7\", \"8\", \"9\", \"10\", \"11\", \"12\", \"13\", \"14\", \"15\", \"16\", \"17\", \"18\", \"19\", \"20\", \"21\", \"22\", \"23\", \"24\", \"25\", \"26\", \"27\", \"28\", \"29\", \"30\", \"31\", \"32\", \"33\", \"34\"], \"mode\": \"lines\", \"name\": \"precision_score_macro_max\", \"stepped\": true, \"type\": \"scatter\", \"data\": [0.8147546772260731, 0.8218409751026504, 0.8218409751026504, 0.8218409751026504, 0.8442628989919042, 0.8442628989919042, 0.8442628989919042, 0.8442628989919042, 0.8442628989919042, 0.8442628989919042, 0.8442628989919042, 0.8442628989919042, 0.8442628989919042, 0.8442628989919042, 0.8442628989919042, 0.8442628989919042, 0.8442628989919042, 0.8442628989919042, 0.8442628989919042, 0.8442628989919042, 0.8442628989919042, 0.8442628989919042, 0.8442628989919042, 0.8573385885885886, 0.8573385885885886, 0.8573385885885886, 0.8573385885885886, 0.8573385885885886, 0.8573385885885886, 0.8573385885885886, 0.8573385885885886, 0.8573385885885886, 0.8573385885885886, 0.8759594133011855, 0.8759594133011855]}], \"recall_score_weighted\": [{\"categories\": [\"0\", \"1\", \"2\", \"3\", \"4\", \"5\", \"6\", \"7\", \"8\", \"9\", \"10\", \"11\", \"12\", \"13\", \"14\", \"15\", \"16\", \"17\", \"18\", \"19\", \"20\", \"21\", \"22\", \"23\", \"24\", \"25\", \"26\", \"27\", \"28\", \"29\", \"30\", \"31\", \"32\", \"33\", \"34\"], \"mode\": \"markers\", \"name\": \"recall_score_weighted\", \"stepped\": false, \"type\": \"scatter\", \"data\": [0.825925925925926, 0.8259932659932661, 0.8292592592592593, 0.826026936026936, 0.8527272727272727, 0.7823232323232322, 0.8460606060606062, 0.7859595959595959, 0.8292929292929294, 0.8193602693602693, 0.816026936026936, 0.7756228956228957, 0.8192255892255892, 0.7825252525252525, 0.8360606060606061, 0.785993265993266, 0.7560269360269359, 0.8393265993265994, 0.7756565656565657, 0.7990909090909092, 0.7723905723905724, 0.8124579124579125, 0.8327272727272729, 0.8494949494949496, 0.846026936026936, 0.678989898989899, 0.7827272727272727, 0.8393602693602693, 0.8392929292929292, 0.835993265993266, 0.7287542087542088, 0.6322895622895622, 0.8227272727272728, 0.8628619528619529, 0.8293602693602694]}, {\"categories\": [\"0\", \"1\", \"2\", \"3\", \"4\", \"5\", \"6\", \"7\", \"8\", \"9\", \"10\", \"11\", \"12\", \"13\", \"14\", \"15\", \"16\", \"17\", \"18\", \"19\", \"20\", \"21\", \"22\", \"23\", \"24\", \"25\", \"26\", \"27\", \"28\", \"29\", \"30\", \"31\", \"32\", \"33\", \"34\"], \"mode\": \"lines\", \"name\": \"recall_score_weighted_max\", \"stepped\": true, \"type\": \"scatter\", \"data\": [0.825925925925926, 0.8259932659932661, 0.8292592592592593, 0.8292592592592593, 0.8527272727272727, 0.8527272727272727, 0.8527272727272727, 0.8527272727272727, 0.8527272727272727, 0.8527272727272727, 0.8527272727272727, 0.8527272727272727, 0.8527272727272727, 0.8527272727272727, 0.8527272727272727, 0.8527272727272727, 0.8527272727272727, 0.8527272727272727, 0.8527272727272727, 0.8527272727272727, 0.8527272727272727, 0.8527272727272727, 0.8527272727272727, 0.8527272727272727, 0.8527272727272727, 0.8527272727272727, 0.8527272727272727, 0.8527272727272727, 0.8527272727272727, 0.8527272727272727, 0.8527272727272727, 0.8527272727272727, 0.8527272727272727, 0.8628619528619529, 0.8628619528619529]}], \"AUC_macro\": [{\"categories\": [\"0\", \"1\", \"2\", \"3\", \"4\", \"5\", \"6\", \"7\", \"8\", \"9\", \"10\", \"11\", \"12\", \"13\", \"14\", \"15\", \"16\", \"17\", \"18\", \"19\", \"20\", \"21\", \"22\", \"23\", \"24\", \"25\", \"26\", \"27\", \"28\", \"29\", \"30\", \"31\", \"32\", \"33\", \"34\"], \"mode\": \"markers\", \"name\": \"AUC_macro\", \"stepped\": false, \"type\": \"scatter\", \"data\": [0.8852144920879325, 0.8951796527623838, 0.9004878464171524, 0.8709980794821458, 0.9001030590487679, 0.8753567925421332, 0.8891269924956681, 0.8782979879496658, 0.8917443838000159, 0.8763210437498627, 0.8625333389251356, 0.8511992096919249, 0.8608222527108591, 0.8542802427641077, 0.9072454352585776, 0.857760625323276, 0.8420686106168357, 0.8994216659710198, 0.8723724662311718, 0.8624196575819848, 0.8540424228747323, 0.8566689957855118, 0.9060872275910183, 0.9017222815352692, 0.8673395841696073, 0.8478929862155414, 0.8967841869153155, 0.901038147941784, 0.8898627665176185, 0.9204323256772238, 0.7954888251157137, 0.5100060213060986, 0.9046064975412711, 0.9121726242661591, 0.9042882126802109]}, {\"categories\": [\"0\", \"1\", \"2\", \"3\", \"4\", \"5\", \"6\", \"7\", \"8\", \"9\", \"10\", \"11\", \"12\", \"13\", \"14\", \"15\", \"16\", \"17\", \"18\", \"19\", \"20\", \"21\", \"22\", \"23\", \"24\", \"25\", \"26\", \"27\", \"28\", \"29\", \"30\", \"31\", \"32\", \"33\", \"34\"], \"mode\": \"lines\", \"name\": \"AUC_macro_max\", \"stepped\": true, \"type\": \"scatter\", \"data\": [0.8852144920879325, 0.8951796527623838, 0.9004878464171524, 0.9004878464171524, 0.9004878464171524, 0.9004878464171524, 0.9004878464171524, 0.9004878464171524, 0.9004878464171524, 0.9004878464171524, 0.9004878464171524, 0.9004878464171524, 0.9004878464171524, 0.9004878464171524, 0.9072454352585776, 0.9072454352585776, 0.9072454352585776, 0.9072454352585776, 0.9072454352585776, 0.9072454352585776, 0.9072454352585776, 0.9072454352585776, 0.9072454352585776, 0.9072454352585776, 0.9072454352585776, 0.9072454352585776, 0.9072454352585776, 0.9072454352585776, 0.9072454352585776, 0.9204323256772238, 0.9204323256772238, 0.9204323256772238, 0.9204323256772238, 0.9204323256772238, 0.9204323256772238]}], \"AUC_weighted\": [{\"categories\": [\"0\", \"1\", \"2\", \"3\", \"4\", \"5\", \"6\", \"7\", \"8\", \"9\", \"10\", \"11\", \"12\", \"13\", \"14\", \"15\", \"16\", \"17\", \"18\", \"19\", \"20\", \"21\", \"22\", \"23\", \"24\", \"25\", \"26\", \"27\", \"28\", \"29\", \"30\", \"31\", \"32\", \"33\", \"34\"], \"mode\": \"markers\", \"name\": \"AUC_weighted\", \"stepped\": false, \"type\": \"scatter\", \"data\": [0.8852144920879325, 0.8951796527623838, 0.9004878464171524, 0.8709980794821458, 0.9001030590487678, 0.8753567925421332, 0.8890984071250537, 0.8782979879496658, 0.8917443838000159, 0.8763210437498627, 0.8625333389251358, 0.851199209691925, 0.8608222527108592, 0.8542802427641077, 0.9072454352585776, 0.857760625323276, 0.8420686106168357, 0.8994216659710198, 0.8723724662311718, 0.8624196575819848, 0.8540424228747323, 0.8566689957855118, 0.9060872275910183, 0.9017222815352693, 0.8673395841696073, 0.8478929862155414, 0.8967841869153155, 0.901038147941784, 0.8898627665176186, 0.9204323256772239, 0.7954888251157137, 0.5100060213060985, 0.9046064975412712, 0.9121726242661592, 0.9042882126802109]}, {\"categories\": [\"0\", \"1\", \"2\", \"3\", \"4\", \"5\", \"6\", \"7\", \"8\", \"9\", \"10\", \"11\", \"12\", \"13\", \"14\", \"15\", \"16\", \"17\", \"18\", \"19\", \"20\", \"21\", \"22\", \"23\", \"24\", \"25\", \"26\", \"27\", \"28\", \"29\", \"30\", \"31\", \"32\", \"33\", \"34\"], \"mode\": \"lines\", \"name\": \"AUC_weighted_max\", \"stepped\": true, \"type\": \"scatter\", \"data\": [0.8852144920879325, 0.8951796527623838, 0.9004878464171524, 0.9004878464171524, 0.9004878464171524, 0.9004878464171524, 0.9004878464171524, 0.9004878464171524, 0.9004878464171524, 0.9004878464171524, 0.9004878464171524, 0.9004878464171524, 0.9004878464171524, 0.9004878464171524, 0.9072454352585776, 0.9072454352585776, 0.9072454352585776, 0.9072454352585776, 0.9072454352585776, 0.9072454352585776, 0.9072454352585776, 0.9072454352585776, 0.9072454352585776, 0.9072454352585776, 0.9072454352585776, 0.9072454352585776, 0.9072454352585776, 0.9072454352585776, 0.9072454352585776, 0.9204323256772239, 0.9204323256772239, 0.9204323256772239, 0.9204323256772239, 0.9204323256772239, 0.9204323256772239]}], \"precision_score_weighted\": [{\"categories\": [\"0\", \"1\", \"2\", \"3\", \"4\", \"5\", \"6\", \"7\", \"8\", \"9\", \"10\", \"11\", \"12\", \"13\", \"14\", \"15\", \"16\", \"17\", \"18\", \"19\", \"20\", \"21\", \"22\", \"23\", \"24\", \"25\", \"26\", \"27\", \"28\", \"29\", \"30\", \"31\", \"32\", \"33\", \"34\"], \"mode\": \"markers\", \"name\": \"precision_score_weighted\", \"stepped\": false, \"type\": \"scatter\", \"data\": [0.8296778559936454, 0.8358295096304733, 0.8431938133793183, 0.8331554023673587, 0.8584096674507634, 0.8205892945817647, 0.8475242074648044, 0.8021447671191075, 0.8311087095470137, 0.825805223255816, 0.8167954255954565, 0.7980934553495082, 0.8370271812132278, 0.7969835426524536, 0.8435569141709492, 0.7956807111713521, 0.7625149334862522, 0.8482114031871366, 0.8196675163636945, 0.8045163447468847, 0.7948815359477125, 0.8172366655041917, 0.8465508612344056, 0.8576390595140594, 0.8535272540216985, 0.465455586164677, 0.8232657010655512, 0.8463842470364208, 0.8454336915225004, 0.8430829758476818, 0.7568988737700488, 0.5775615965418597, 0.8311519078670978, 0.871841957854616, 0.839881710722228]}, {\"categories\": [\"0\", \"1\", \"2\", \"3\", \"4\", \"5\", \"6\", \"7\", \"8\", \"9\", \"10\", \"11\", \"12\", \"13\", \"14\", \"15\", \"16\", \"17\", \"18\", \"19\", \"20\", \"21\", \"22\", \"23\", \"24\", \"25\", \"26\", \"27\", \"28\", \"29\", \"30\", \"31\", \"32\", \"33\", \"34\"], \"mode\": \"lines\", \"name\": \"precision_score_weighted_max\", \"stepped\": true, \"type\": \"scatter\", \"data\": [0.8296778559936454, 0.8358295096304733, 0.8431938133793183, 0.8431938133793183, 0.8584096674507634, 0.8584096674507634, 0.8584096674507634, 0.8584096674507634, 0.8584096674507634, 0.8584096674507634, 0.8584096674507634, 0.8584096674507634, 0.8584096674507634, 0.8584096674507634, 0.8584096674507634, 0.8584096674507634, 0.8584096674507634, 0.8584096674507634, 0.8584096674507634, 0.8584096674507634, 0.8584096674507634, 0.8584096674507634, 0.8584096674507634, 0.8584096674507634, 0.8584096674507634, 0.8584096674507634, 0.8584096674507634, 0.8584096674507634, 0.8584096674507634, 0.8584096674507634, 0.8584096674507634, 0.8584096674507634, 0.8584096674507634, 0.871841957854616, 0.871841957854616]}], \"log_loss\": [{\"categories\": [\"0\", \"1\", \"2\", \"3\", \"4\", \"5\", \"6\", \"7\", \"8\", \"9\", \"10\", \"11\", \"12\", \"13\", \"14\", \"15\", \"16\", \"17\", \"18\", \"19\", \"20\", \"21\", \"22\", \"23\", \"24\", \"25\", \"26\", \"27\", \"28\", \"29\", \"30\", \"31\", \"32\", \"33\", \"34\"], \"mode\": \"markers\", \"name\": \"log_loss\", \"stepped\": false, \"type\": \"scatter\", \"data\": [0.4951966892314486, 0.4286740704307772, 0.39207772943698, 0.44286610659387543, 0.41115677055772437, 0.5152882713066295, 0.49469913094657336, 0.4692184941338707, 0.4712617355713147, 0.7422288296526302, 0.4459865981581235, 0.5359875763278333, 0.566156908568847, 0.5157156601439337, 0.3918885267323898, 0.48234142461532087, 0.5081829949324009, 0.4089865832205591, 0.5930553714382859, 0.4672139609722337, 0.5144896758361522, 0.5432306140595705, 0.4155743068571067, 0.40458436855196384, 0.5023335929844098, 0.6287969906103067, 0.4925856186096988, 0.4437135020216178, 0.47668579333681443, 0.38607869209053053, 0.6819992185176244, 0.7456521484105111, 0.4214832415174891, 0.44452722700432573, 0.39870784845606594]}, {\"categories\": [\"0\", \"1\", \"2\", \"3\", \"4\", \"5\", \"6\", \"7\", \"8\", \"9\", \"10\", \"11\", \"12\", \"13\", \"14\", \"15\", \"16\", \"17\", \"18\", \"19\", \"20\", \"21\", \"22\", \"23\", \"24\", \"25\", \"26\", \"27\", \"28\", \"29\", \"30\", \"31\", \"32\", \"33\", \"34\"], \"mode\": \"lines\", \"name\": \"log_loss_min\", \"stepped\": true, \"type\": \"scatter\", \"data\": [0.4951966892314486, 0.4286740704307772, 0.39207772943698, 0.39207772943698, 0.39207772943698, 0.39207772943698, 0.39207772943698, 0.39207772943698, 0.39207772943698, 0.39207772943698, 0.39207772943698, 0.39207772943698, 0.39207772943698, 0.39207772943698, 0.3918885267323898, 0.3918885267323898, 0.3918885267323898, 0.3918885267323898, 0.3918885267323898, 0.3918885267323898, 0.3918885267323898, 0.3918885267323898, 0.3918885267323898, 0.3918885267323898, 0.3918885267323898, 0.3918885267323898, 0.3918885267323898, 0.3918885267323898, 0.3918885267323898, 0.38607869209053053, 0.38607869209053053, 0.38607869209053053, 0.38607869209053053, 0.38607869209053053, 0.38607869209053053]}], \"precision_score_micro\": [{\"categories\": [\"0\", \"1\", \"2\", \"3\", \"4\", \"5\", \"6\", \"7\", \"8\", \"9\", \"10\", \"11\", \"12\", \"13\", \"14\", \"15\", \"16\", \"17\", \"18\", \"19\", \"20\", \"21\", \"22\", \"23\", \"24\", \"25\", \"26\", \"27\", \"28\", \"29\", \"30\", \"31\", \"32\", \"33\", \"34\"], \"mode\": \"markers\", \"name\": \"precision_score_micro\", \"stepped\": false, \"type\": \"scatter\", \"data\": [0.825925925925926, 0.8259932659932661, 0.8292592592592593, 0.826026936026936, 0.8527272727272727, 0.7823232323232322, 0.8460606060606062, 0.7859595959595959, 0.8292929292929294, 0.8193602693602693, 0.816026936026936, 0.7756228956228957, 0.8192255892255892, 0.7825252525252525, 0.8360606060606061, 0.785993265993266, 0.7560269360269359, 0.8393265993265994, 0.7756565656565657, 0.7990909090909092, 0.7723905723905724, 0.8124579124579125, 0.8327272727272729, 0.8494949494949496, 0.846026936026936, 0.678989898989899, 0.7827272727272727, 0.8393602693602693, 0.8392929292929292, 0.835993265993266, 0.7287542087542088, 0.6322895622895622, 0.8227272727272728, 0.8628619528619529, 0.8293602693602694]}, {\"categories\": [\"0\", \"1\", \"2\", \"3\", \"4\", \"5\", \"6\", \"7\", \"8\", \"9\", \"10\", \"11\", \"12\", \"13\", \"14\", \"15\", \"16\", \"17\", \"18\", \"19\", \"20\", \"21\", \"22\", \"23\", \"24\", \"25\", \"26\", \"27\", \"28\", \"29\", \"30\", \"31\", \"32\", \"33\", \"34\"], \"mode\": \"lines\", \"name\": \"precision_score_micro_max\", \"stepped\": true, \"type\": \"scatter\", \"data\": [0.825925925925926, 0.8259932659932661, 0.8292592592592593, 0.8292592592592593, 0.8527272727272727, 0.8527272727272727, 0.8527272727272727, 0.8527272727272727, 0.8527272727272727, 0.8527272727272727, 0.8527272727272727, 0.8527272727272727, 0.8527272727272727, 0.8527272727272727, 0.8527272727272727, 0.8527272727272727, 0.8527272727272727, 0.8527272727272727, 0.8527272727272727, 0.8527272727272727, 0.8527272727272727, 0.8527272727272727, 0.8527272727272727, 0.8527272727272727, 0.8527272727272727, 0.8527272727272727, 0.8527272727272727, 0.8527272727272727, 0.8527272727272727, 0.8527272727272727, 0.8527272727272727, 0.8527272727272727, 0.8527272727272727, 0.8628619528619529, 0.8628619528619529]}], \"f1_score_weighted\": [{\"categories\": [\"0\", \"1\", \"2\", \"3\", \"4\", \"5\", \"6\", \"7\", \"8\", \"9\", \"10\", \"11\", \"12\", \"13\", \"14\", \"15\", \"16\", \"17\", \"18\", \"19\", \"20\", \"21\", \"22\", \"23\", \"24\", \"25\", \"26\", \"27\", \"28\", \"29\", \"30\", \"31\", \"32\", \"33\", \"34\"], \"mode\": \"markers\", \"name\": \"f1_score_weighted\", \"stepped\": false, \"type\": \"scatter\", \"data\": [0.8211819354480298, 0.8188619012721535, 0.8274489029805329, 0.823593841390538, 0.8493998811645871, 0.7882854232275643, 0.8417322307870861, 0.7661272742598291, 0.8290115651379238, 0.8153436690080227, 0.8072434484131255, 0.7802264023743466, 0.8225120688250233, 0.7727807490179613, 0.8275780885780887, 0.7647293621633929, 0.7075360061992146, 0.8409896976575116, 0.781579279508759, 0.7978949900040613, 0.7759386240517577, 0.8132841290663174, 0.8251969504704428, 0.84215298636413, 0.8400033380651909, 0.5510765335293636, 0.7499619208551307, 0.8324442573198553, 0.8361262163360612, 0.8372102420749168, 0.7161320867826868, 0.5873785823203693, 0.8111165535517514, 0.8558689514100143, 0.8216209031288749]}, {\"categories\": [\"0\", \"1\", \"2\", \"3\", \"4\", \"5\", \"6\", \"7\", \"8\", \"9\", \"10\", \"11\", \"12\", \"13\", \"14\", \"15\", \"16\", \"17\", \"18\", \"19\", \"20\", \"21\", \"22\", \"23\", \"24\", \"25\", \"26\", \"27\", \"28\", \"29\", \"30\", \"31\", \"32\", \"33\", \"34\"], \"mode\": \"lines\", \"name\": \"f1_score_weighted_max\", \"stepped\": true, \"type\": \"scatter\", \"data\": [0.8211819354480298, 0.8211819354480298, 0.8274489029805329, 0.8274489029805329, 0.8493998811645871, 0.8493998811645871, 0.8493998811645871, 0.8493998811645871, 0.8493998811645871, 0.8493998811645871, 0.8493998811645871, 0.8493998811645871, 0.8493998811645871, 0.8493998811645871, 0.8493998811645871, 0.8493998811645871, 0.8493998811645871, 0.8493998811645871, 0.8493998811645871, 0.8493998811645871, 0.8493998811645871, 0.8493998811645871, 0.8493998811645871, 0.8493998811645871, 0.8493998811645871, 0.8493998811645871, 0.8493998811645871, 0.8493998811645871, 0.8493998811645871, 0.8493998811645871, 0.8493998811645871, 0.8493998811645871, 0.8493998811645871, 0.8558689514100143, 0.8558689514100143]}], \"accuracy\": [{\"categories\": [\"0\", \"1\", \"2\", \"3\", \"4\", \"5\", \"6\", \"7\", \"8\", \"9\", \"10\", \"11\", \"12\", \"13\", \"14\", \"15\", \"16\", \"17\", \"18\", \"19\", \"20\", \"21\", \"22\", \"23\", \"24\", \"25\", \"26\", \"27\", \"28\", \"29\", \"30\", \"31\", \"32\", \"33\", \"34\"], \"mode\": \"markers\", \"name\": \"accuracy\", \"stepped\": false, \"type\": \"scatter\", \"data\": [0.825925925925926, 0.8259932659932661, 0.8292592592592593, 0.826026936026936, 0.8527272727272727, 0.7823232323232322, 0.8460606060606062, 0.7859595959595959, 0.8292929292929294, 0.8193602693602693, 0.816026936026936, 0.7756228956228957, 0.8192255892255892, 0.7825252525252525, 0.8360606060606061, 0.785993265993266, 0.7560269360269359, 0.8393265993265994, 0.7756565656565657, 0.7990909090909092, 0.7723905723905724, 0.8124579124579125, 0.8327272727272729, 0.8494949494949496, 0.846026936026936, 0.678989898989899, 0.7827272727272727, 0.8393602693602693, 0.8392929292929292, 0.835993265993266, 0.7287542087542088, 0.6322895622895622, 0.8227272727272728, 0.8628619528619529, 0.8293602693602694]}, {\"categories\": [\"0\", \"1\", \"2\", \"3\", \"4\", \"5\", \"6\", \"7\", \"8\", \"9\", \"10\", \"11\", \"12\", \"13\", \"14\", \"15\", \"16\", \"17\", \"18\", \"19\", \"20\", \"21\", \"22\", \"23\", \"24\", \"25\", \"26\", \"27\", \"28\", \"29\", \"30\", \"31\", \"32\", \"33\", \"34\"], \"mode\": \"lines\", \"name\": \"accuracy_max\", \"stepped\": true, \"type\": \"scatter\", \"data\": [0.825925925925926, 0.8259932659932661, 0.8292592592592593, 0.8292592592592593, 0.8527272727272727, 0.8527272727272727, 0.8527272727272727, 0.8527272727272727, 0.8527272727272727, 0.8527272727272727, 0.8527272727272727, 0.8527272727272727, 0.8527272727272727, 0.8527272727272727, 0.8527272727272727, 0.8527272727272727, 0.8527272727272727, 0.8527272727272727, 0.8527272727272727, 0.8527272727272727, 0.8527272727272727, 0.8527272727272727, 0.8527272727272727, 0.8527272727272727, 0.8527272727272727, 0.8527272727272727, 0.8527272727272727, 0.8527272727272727, 0.8527272727272727, 0.8527272727272727, 0.8527272727272727, 0.8527272727272727, 0.8527272727272727, 0.8628619528619529, 0.8628619528619529]}], \"average_precision_score_macro\": [{\"categories\": [\"0\", \"1\", \"2\", \"3\", \"4\", \"5\", \"6\", \"7\", \"8\", \"9\", \"10\", \"11\", \"12\", \"13\", \"14\", \"15\", \"16\", \"17\", \"18\", \"19\", \"20\", \"21\", \"22\", \"23\", \"24\", \"25\", \"26\", \"27\", \"28\", \"29\", \"30\", \"31\", \"32\", \"33\", \"34\"], \"mode\": \"markers\", \"name\": \"average_precision_score_macro\", \"stepped\": false, \"type\": \"scatter\", \"data\": [0.8731198723526422, 0.8816256331225544, 0.8822899491220672, 0.8517230811399376, 0.8880480872520046, 0.8576619547687323, 0.8739400229671199, 0.8652543577513635, 0.8704725104438881, 0.8459885412162063, 0.838571745777298, 0.8298877761407063, 0.8515827632412186, 0.836867589162293, 0.8884744468938628, 0.8438294632050747, 0.8218511902057077, 0.8909559353645893, 0.8546114021635866, 0.8487284994687636, 0.8309359931277548, 0.842315372068172, 0.8887755400555065, 0.8849980066093571, 0.8270804364228996, 0.8279011295887893, 0.8811338226182445, 0.8799611647839738, 0.8637496069793124, 0.9153240520976679, 0.7697454427963555, 0.5510512803433236, 0.8919625970247326, 0.8972650016892336, 0.8895282903455181]}, {\"categories\": [\"0\", \"1\", \"2\", \"3\", \"4\", \"5\", \"6\", \"7\", \"8\", \"9\", \"10\", \"11\", \"12\", \"13\", \"14\", \"15\", \"16\", \"17\", \"18\", \"19\", \"20\", \"21\", \"22\", \"23\", \"24\", \"25\", \"26\", \"27\", \"28\", \"29\", \"30\", \"31\", \"32\", \"33\", \"34\"], \"mode\": \"lines\", \"name\": \"average_precision_score_macro_max\", \"stepped\": true, \"type\": \"scatter\", \"data\": [0.8731198723526422, 0.8816256331225544, 0.8822899491220672, 0.8822899491220672, 0.8880480872520046, 0.8880480872520046, 0.8880480872520046, 0.8880480872520046, 0.8880480872520046, 0.8880480872520046, 0.8880480872520046, 0.8880480872520046, 0.8880480872520046, 0.8880480872520046, 0.8884744468938628, 0.8884744468938628, 0.8884744468938628, 0.8909559353645893, 0.8909559353645893, 0.8909559353645893, 0.8909559353645893, 0.8909559353645893, 0.8909559353645893, 0.8909559353645893, 0.8909559353645893, 0.8909559353645893, 0.8909559353645893, 0.8909559353645893, 0.8909559353645893, 0.9153240520976679, 0.9153240520976679, 0.9153240520976679, 0.9153240520976679, 0.9153240520976679, 0.9153240520976679]}], \"recall_score_micro\": [{\"categories\": [\"0\", \"1\", \"2\", \"3\", \"4\", \"5\", \"6\", \"7\", \"8\", \"9\", \"10\", \"11\", \"12\", \"13\", \"14\", \"15\", \"16\", \"17\", \"18\", \"19\", \"20\", \"21\", \"22\", \"23\", \"24\", \"25\", \"26\", \"27\", \"28\", \"29\", \"30\", \"31\", \"32\", \"33\", \"34\"], \"mode\": \"markers\", \"name\": \"recall_score_micro\", \"stepped\": false, \"type\": \"scatter\", \"data\": [0.825925925925926, 0.8259932659932661, 0.8292592592592593, 0.826026936026936, 0.8527272727272727, 0.7823232323232322, 0.8460606060606062, 0.7859595959595959, 0.8292929292929294, 0.8193602693602693, 0.816026936026936, 0.7756228956228957, 0.8192255892255892, 0.7825252525252525, 0.8360606060606061, 0.785993265993266, 0.7560269360269359, 0.8393265993265994, 0.7756565656565657, 0.7990909090909092, 0.7723905723905724, 0.8124579124579125, 0.8327272727272729, 0.8494949494949496, 0.846026936026936, 0.678989898989899, 0.7827272727272727, 0.8393602693602693, 0.8392929292929292, 0.835993265993266, 0.7287542087542088, 0.6322895622895622, 0.8227272727272728, 0.8628619528619529, 0.8293602693602694]}, {\"categories\": [\"0\", \"1\", \"2\", \"3\", \"4\", \"5\", \"6\", \"7\", \"8\", \"9\", \"10\", \"11\", \"12\", \"13\", \"14\", \"15\", \"16\", \"17\", \"18\", \"19\", \"20\", \"21\", \"22\", \"23\", \"24\", \"25\", \"26\", \"27\", \"28\", \"29\", \"30\", \"31\", \"32\", \"33\", \"34\"], \"mode\": \"lines\", \"name\": \"recall_score_micro_max\", \"stepped\": true, \"type\": \"scatter\", \"data\": [0.825925925925926, 0.8259932659932661, 0.8292592592592593, 0.8292592592592593, 0.8527272727272727, 0.8527272727272727, 0.8527272727272727, 0.8527272727272727, 0.8527272727272727, 0.8527272727272727, 0.8527272727272727, 0.8527272727272727, 0.8527272727272727, 0.8527272727272727, 0.8527272727272727, 0.8527272727272727, 0.8527272727272727, 0.8527272727272727, 0.8527272727272727, 0.8527272727272727, 0.8527272727272727, 0.8527272727272727, 0.8527272727272727, 0.8527272727272727, 0.8527272727272727, 0.8527272727272727, 0.8527272727272727, 0.8527272727272727, 0.8527272727272727, 0.8527272727272727, 0.8527272727272727, 0.8527272727272727, 0.8527272727272727, 0.8628619528619529, 0.8628619528619529]}], \"f1_score_macro\": [{\"categories\": [\"0\", \"1\", \"2\", \"3\", \"4\", \"5\", \"6\", \"7\", \"8\", \"9\", \"10\", \"11\", \"12\", \"13\", \"14\", \"15\", \"16\", \"17\", \"18\", \"19\", \"20\", \"21\", \"22\", \"23\", \"24\", \"25\", \"26\", \"27\", \"28\", \"29\", \"30\", \"31\", \"32\", \"33\", \"34\"], \"mode\": \"markers\", \"name\": \"f1_score_macro\", \"stepped\": false, \"type\": \"scatter\", \"data\": [0.796275898533339, 0.7893460959638977, 0.8037631521680318, 0.7952057711359508, 0.8273220698028881, 0.7668472352127651, 0.8154920300027787, 0.7160750998935432, 0.8030215926987397, 0.7854181127223808, 0.7624030228566078, 0.7542273895078431, 0.8007874592073388, 0.7282475587782494, 0.7952764827764828, 0.7228794810147168, 0.6468613166261173, 0.8199625995126155, 0.7611404753997894, 0.7643361705163875, 0.7443834297016965, 0.7858994453434973, 0.7954966414293203, 0.8142801046026853, 0.8131523355608831, 0.4034516322252171, 0.6991355711393249, 0.8039579329053014, 0.811267579343338, 0.8133968006842435, 0.6699734695751228, 0.4977316702823151, 0.7798230026840226, 0.8325817030527176, 0.7917080602209453]}, {\"categories\": [\"0\", \"1\", \"2\", \"3\", \"4\", \"5\", \"6\", \"7\", \"8\", \"9\", \"10\", \"11\", \"12\", \"13\", \"14\", \"15\", \"16\", \"17\", \"18\", \"19\", \"20\", \"21\", \"22\", \"23\", \"24\", \"25\", \"26\", \"27\", \"28\", \"29\", \"30\", \"31\", \"32\", \"33\", \"34\"], \"mode\": \"lines\", \"name\": \"f1_score_macro_max\", \"stepped\": true, \"type\": \"scatter\", \"data\": [0.796275898533339, 0.796275898533339, 0.8037631521680318, 0.8037631521680318, 0.8273220698028881, 0.8273220698028881, 0.8273220698028881, 0.8273220698028881, 0.8273220698028881, 0.8273220698028881, 0.8273220698028881, 0.8273220698028881, 0.8273220698028881, 0.8273220698028881, 0.8273220698028881, 0.8273220698028881, 0.8273220698028881, 0.8273220698028881, 0.8273220698028881, 0.8273220698028881, 0.8273220698028881, 0.8273220698028881, 0.8273220698028881, 0.8273220698028881, 0.8273220698028881, 0.8273220698028881, 0.8273220698028881, 0.8273220698028881, 0.8273220698028881, 0.8273220698028881, 0.8273220698028881, 0.8273220698028881, 0.8273220698028881, 0.8325817030527176, 0.8325817030527176]}]}, \"metricName\": null, \"primaryMetricName\": \"accuracy\", \"showLegend\": false}, \"run_metrics\": [{\"name\": \"experiment_status\", \"run_id\": \"AutoML_a47fe669-af73-4a01-aeb1-3cb05b9c9f72\", \"categories\": [0, 1, 2, 3, 4, 5, 6, 7, 8, 9, 10, 11, 12, 13], \"series\": [{\"data\": [\"DatasetEvaluation\", \"FeaturesGeneration\", \"DatasetFeaturization\", \"DatasetFeaturizationCompleted\", \"DatasetCrossValidationSplit\", \"ModelSelection\", \"BestRunExplainModel\", \"ModelExplanationDataSetSetup\", \"PickSurrogateModel\", \"EngineeredFeatureExplanations\", \"EngineeredFeatureExplanations\", \"RawFeaturesExplanations\", \"RawFeaturesExplanations\", \"BestRunExplainModel\"]}]}, {\"name\": \"experiment_status_description\", \"run_id\": \"AutoML_a47fe669-af73-4a01-aeb1-3cb05b9c9f72\", \"categories\": [0, 1, 2, 3, 4, 5, 6, 7, 8, 9, 10, 11, 12, 13], \"series\": [{\"data\": [\"Gathering dataset statistics.\", \"Generating features for the dataset.\", \"Beginning to fit featurizers and featurize the dataset.\", \"Completed fit featurizers and featurizing the dataset.\", \"Generating individually featurized CV splits.\", \"Beginning model selection.\", \"Best run model explanations started\", \"Model explanations data setup completed\", \"Choosing LightGBM as the surrogate model for explanations\", \"Computation of engineered features started\", \"Computation of engineered features completed\", \"Computation of raw features started\", \"Computation of raw features completed\", \"Best run model explanations completed\"]}]}, {\"name\": \"average_precision_score_weighted\", \"run_id\": \"AutoML_a47fe669-af73-4a01-aeb1-3cb05b9c9f72\", \"categories\": [0], \"series\": [{\"data\": [0.9169714824575598]}]}, {\"name\": \"f1_score_micro\", \"run_id\": \"AutoML_a47fe669-af73-4a01-aeb1-3cb05b9c9f72\", \"categories\": [0], \"series\": [{\"data\": [0.8628619528619529]}]}, {\"name\": \"f1_score_weighted\", \"run_id\": \"AutoML_a47fe669-af73-4a01-aeb1-3cb05b9c9f72\", \"categories\": [0], \"series\": [{\"data\": [0.8558689514100143]}]}, {\"name\": \"balanced_accuracy\", \"run_id\": \"AutoML_a47fe669-af73-4a01-aeb1-3cb05b9c9f72\", \"categories\": [0], \"series\": [{\"data\": [0.8163415632682488]}]}, {\"name\": \"weighted_accuracy\", \"run_id\": \"AutoML_a47fe669-af73-4a01-aeb1-3cb05b9c9f72\", \"categories\": [0], \"series\": [{\"data\": [0.8974937785747094]}]}, {\"name\": \"recall_score_macro\", \"run_id\": \"AutoML_a47fe669-af73-4a01-aeb1-3cb05b9c9f72\", \"categories\": [0], \"series\": [{\"data\": [0.8163415632682488]}]}, {\"name\": \"precision_score_macro\", \"run_id\": \"AutoML_a47fe669-af73-4a01-aeb1-3cb05b9c9f72\", \"categories\": [0], \"series\": [{\"data\": [0.8759594133011855]}]}, {\"name\": \"AUC_weighted\", \"run_id\": \"AutoML_a47fe669-af73-4a01-aeb1-3cb05b9c9f72\", \"categories\": [0], \"series\": [{\"data\": [0.9121726242661592]}]}, {\"name\": \"average_precision_score_micro\", \"run_id\": \"AutoML_a47fe669-af73-4a01-aeb1-3cb05b9c9f72\", \"categories\": [0], \"series\": [{\"data\": [0.906880924184088]}]}, {\"name\": \"AUC_macro\", \"run_id\": \"AutoML_a47fe669-af73-4a01-aeb1-3cb05b9c9f72\", \"categories\": [0], \"series\": [{\"data\": [0.9121726242661591]}]}, {\"name\": \"AUC_micro\", \"run_id\": \"AutoML_a47fe669-af73-4a01-aeb1-3cb05b9c9f72\", \"categories\": [0], \"series\": [{\"data\": [0.905540288405945]}]}, {\"name\": \"precision_score_micro\", \"run_id\": \"AutoML_a47fe669-af73-4a01-aeb1-3cb05b9c9f72\", \"categories\": [0], \"series\": [{\"data\": [0.8628619528619529]}]}, {\"name\": \"f1_score_macro\", \"run_id\": \"AutoML_a47fe669-af73-4a01-aeb1-3cb05b9c9f72\", \"categories\": [0], \"series\": [{\"data\": [0.8325817030527176]}]}, {\"name\": \"norm_macro_recall\", \"run_id\": \"AutoML_a47fe669-af73-4a01-aeb1-3cb05b9c9f72\", \"categories\": [0], \"series\": [{\"data\": [0.6326831265364975]}]}, {\"name\": \"recall_score_micro\", \"run_id\": \"AutoML_a47fe669-af73-4a01-aeb1-3cb05b9c9f72\", \"categories\": [0], \"series\": [{\"data\": [0.8628619528619529]}]}, {\"name\": \"recall_score_weighted\", \"run_id\": \"AutoML_a47fe669-af73-4a01-aeb1-3cb05b9c9f72\", \"categories\": [0], \"series\": [{\"data\": [0.8628619528619529]}]}, {\"name\": \"log_loss\", \"run_id\": \"AutoML_a47fe669-af73-4a01-aeb1-3cb05b9c9f72\", \"categories\": [0], \"series\": [{\"data\": [0.44452722700432573]}]}, {\"name\": \"accuracy\", \"run_id\": \"AutoML_a47fe669-af73-4a01-aeb1-3cb05b9c9f72\", \"categories\": [0], \"series\": [{\"data\": [0.8628619528619529]}]}, {\"name\": \"average_precision_score_macro\", \"run_id\": \"AutoML_a47fe669-af73-4a01-aeb1-3cb05b9c9f72\", \"categories\": [0], \"series\": [{\"data\": [0.8972650016892336]}]}, {\"name\": \"matthews_correlation\", \"run_id\": \"AutoML_a47fe669-af73-4a01-aeb1-3cb05b9c9f72\", \"categories\": [0], \"series\": [{\"data\": [0.689321555805989]}]}, {\"name\": \"precision_score_weighted\", \"run_id\": \"AutoML_a47fe669-af73-4a01-aeb1-3cb05b9c9f72\", \"categories\": [0], \"series\": [{\"data\": [0.871841957854616]}]}], \"run_logs\": \"\\nRun is completed.\", \"graph\": {}, \"widget_settings\": {\"childWidgetDisplay\": \"popup\", \"send_telemetry\": false, \"log_level\": \"INFO\", \"sdk_version\": \"1.18.0\"}, \"loading\": false}"
     },
     "metadata": {},
     "output_type": "display_data"
    },
    {
     "name": "stdout",
     "output_type": "stream",
     "text": [
      "Run(Experiment: automl_test,\n",
      "Id: AutoML_a47fe669-af73-4a01-aeb1-3cb05b9c9f72_33,\n",
      "Type: azureml.scriptrun,\n",
      "Status: Completed)\n",
      "Pipeline(memory=None,\n",
      "         steps=[('datatransformer',\n",
      "                 DataTransformer(enable_dnn=None, enable_feature_sweeping=None,\n",
      "                                 feature_sweeping_config=None,\n",
      "                                 feature_sweeping_timeout=None,\n",
      "                                 featurization_config=None, force_text_dnn=None,\n",
      "                                 is_cross_validation=None,\n",
      "                                 is_onnx_compatible=None, logger=None,\n",
      "                                 observer=None, task=None, working_dir=None)),\n",
      "                ('prefittedsoftvotingclassifier',...\n",
      "                                                                                                    min_impurity_decrease=0.0,\n",
      "                                                                                                    min_impurity_split=None,\n",
      "                                                                                                    min_samples_leaf=0.24210526315789474,\n",
      "                                                                                                    min_samples_split=0.6657894736842105,\n",
      "                                                                                                    min_weight_fraction_leaf=0.0,\n",
      "                                                                                                    n_estimators=400,\n",
      "                                                                                                    n_jobs=1,\n",
      "                                                                                                    oob_score=False,\n",
      "                                                                                                    random_state=None,\n",
      "                                                                                                    verbose=0,\n",
      "                                                                                                    warm_start=False))],\n",
      "                                                                     verbose=False))],\n",
      "                                               flatten_transform=None,\n",
      "                                               weights=[0.125, 0.125, 0.125,\n",
      "                                                        0.125, 0.125, 0.125,\n",
      "                                                        0.125, 0.125]))],\n",
      "         verbose=False)\n",
      "Registering model test\n"
     ]
    }
   ],
   "source": [
    "exp=Experiment(ws,\"automl_test\")\n",
    "automl_model=exp.submit(automl_config,show_output=True)\n",
    "### YOUR CODE HERE ###\n",
    "import joblib\n",
    "from azureml.widgets import RunDetails\n",
    "RunDetails(automl_model).show()\n",
    "best_run, fitted_model = automl_model.get_output()\n",
    "print(best_run)\n",
    "print(fitted_model)\n",
    "from azureml.core.model import Model\n",
    "import joblib\n",
    "joblib.dump(fitted_model,\"automl_best_model.pkl\")\n",
    "model = Model.register(workspace=ws, model_path=\"automl_best_model.pkl\", model_name=\"test\")"
   ]
  },
  {
   "cell_type": "code",
   "execution_count": 17,
   "metadata": {},
   "outputs": [
    {
     "data": {
      "text/plain": [
       "{\n",
       "    \"databricks\": {\n",
       "        \"eggLibraries\": [],\n",
       "        \"jarLibraries\": [],\n",
       "        \"mavenLibraries\": [],\n",
       "        \"pypiLibraries\": [],\n",
       "        \"rcranLibraries\": []\n",
       "    },\n",
       "    \"docker\": {\n",
       "        \"arguments\": [],\n",
       "        \"baseDockerfile\": null,\n",
       "        \"baseImage\": \"mcr.microsoft.com/azureml/intelmpi2018.3-ubuntu16.04:20200821.v1\",\n",
       "        \"baseImageRegistry\": {\n",
       "            \"address\": null,\n",
       "            \"password\": null,\n",
       "            \"registryIdentity\": null,\n",
       "            \"username\": null\n",
       "        },\n",
       "        \"enabled\": true,\n",
       "        \"platform\": {\n",
       "            \"architecture\": \"amd64\",\n",
       "            \"os\": \"Linux\"\n",
       "        },\n",
       "        \"sharedVolumes\": true,\n",
       "        \"shmSize\": null\n",
       "    },\n",
       "    \"environmentVariables\": {\n",
       "        \"EXAMPLE_ENV_VAR\": \"EXAMPLE_VALUE\"\n",
       "    },\n",
       "    \"inferencingStackVersion\": null,\n",
       "    \"name\": \"AutoML-AzureML-AutoML\",\n",
       "    \"python\": {\n",
       "        \"baseCondaEnvironment\": null,\n",
       "        \"condaDependencies\": {\n",
       "            \"channels\": [\n",
       "                \"anaconda\",\n",
       "                \"conda-forge\",\n",
       "                \"pytorch\"\n",
       "            ],\n",
       "            \"dependencies\": [\n",
       "                \"python=3.6.2\",\n",
       "                {\n",
       "                    \"pip\": [\n",
       "                        \"azureml-core==1.17.0\",\n",
       "                        \"azureml-pipeline-core==1.17.0\",\n",
       "                        \"azureml-telemetry==1.17.0\",\n",
       "                        \"azureml-defaults==1.17.0\",\n",
       "                        \"azureml-interpret==1.17.0\",\n",
       "                        \"azureml-automl-core==1.17.0\",\n",
       "                        \"azureml-automl-runtime==1.17.0\",\n",
       "                        \"azureml-train-automl-client==1.17.0\",\n",
       "                        \"azureml-train-automl-runtime==1.17.0\",\n",
       "                        \"azureml-dataset-runtime==1.17.0\",\n",
       "                        \"inference-schema\",\n",
       "                        \"py-cpuinfo==5.0.0\",\n",
       "                        \"boto3==1.15.18\",\n",
       "                        \"botocore==1.18.18\"\n",
       "                    ]\n",
       "                },\n",
       "                \"numpy~=1.18.0\",\n",
       "                \"scikit-learn==0.22.1\",\n",
       "                \"pandas~=0.25.0\",\n",
       "                \"py-xgboost<=0.90\",\n",
       "                \"fbprophet==0.5\",\n",
       "                \"holidays==0.9.11\",\n",
       "                \"setuptools-git\",\n",
       "                \"psutil>5.0.0,<6.0.0\"\n",
       "            ],\n",
       "            \"name\": \"azureml_0e3a8a6dba181476a2523c12c58dfc97\"\n",
       "        },\n",
       "        \"condaDependenciesFile\": null,\n",
       "        \"interpreterPath\": \"python\",\n",
       "        \"userManagedDependencies\": false\n",
       "    },\n",
       "    \"r\": null,\n",
       "    \"spark\": {\n",
       "        \"packages\": [],\n",
       "        \"precachePackages\": true,\n",
       "        \"repositories\": []\n",
       "    },\n",
       "    \"version\": \"Autosave_2020-11-22T11:57:37Z_66ad38ae\"\n",
       "}"
      ]
     },
     "execution_count": 17,
     "metadata": {},
     "output_type": "execute_result"
    }
   ],
   "source": []
  },
  {
   "cell_type": "code",
   "execution_count": 18,
   "metadata": {},
   "outputs": [
    {
     "name": "stdout",
     "output_type": "stream",
     "text": [
      "Tips: You can try get_logs(): https://aka.ms/debugimage#dockerlog or local deployment: https://aka.ms/debugimage#debug-locally to debug if deployment takes longer than 10 minutes.\n",
      "Running..........................................................\n",
      "Succeeded\n",
      "ACI service creation operation finished, operation \"Succeeded\"\n"
     ]
    }
   ],
   "source": [
    "from azureml.core.model import InferenceConfig\n",
    "from azureml.core.webservice import AciWebservice\n",
    "\n",
    "\n",
    "service_name = 'my-custom-env-service'\n",
    "\n",
    "inference_config = InferenceConfig(entry_script='score.py', environment=best_run.get_environment())\n",
    "aci_config = AciWebservice.deploy_configuration(cpu_cores=1, memory_gb=1)\n",
    "\n",
    "service = Model.deploy(workspace=ws,\n",
    "                       name=service_name,\n",
    "                       models=[model],\n",
    "                       inference_config=inference_config,\n",
    "                       deployment_config=aci_config,\n",
    "                       overwrite=True)\n",
    "service.wait_for_deployment(show_output=True)"
   ]
  },
  {
   "cell_type": "code",
   "execution_count": 43,
   "metadata": {},
   "outputs": [],
   "source": [
    "input_data=x_df[0:2].to_dict(orient='records')"
   ]
  },
  {
   "cell_type": "code",
   "execution_count": 47,
   "metadata": {},
   "outputs": [
    {
     "data": {
      "text/plain": [
       "'http://e5401dfb-1add-43be-987a-87e391a83eb3.southcentralus.azurecontainer.io/score'"
      ]
     },
     "execution_count": 47,
     "metadata": {},
     "output_type": "execute_result"
    }
   ],
   "source": [
    "service.scoring_uri"
   ]
  },
  {
   "cell_type": "code",
   "execution_count": 90,
   "metadata": {},
   "outputs": [],
   "source": []
  },
  {
   "cell_type": "code",
   "execution_count": 52,
   "metadata": {},
   "outputs": [],
   "source": [
    "input_data={\"data\":[{'age': 75.0,\n",
    "  'anaemia': 0,\n",
    "  'creatinine_phosphokinase': 582,\n",
    "  'diabetes': 0,\n",
    "  'ejection_fraction': 20,\n",
    "  'high_blood_pressure': 1,\n",
    "  'platelets': 265000.0,\n",
    "  'serum_creatinine': 1.9,\n",
    "  'serum_sodium': 130,\n",
    "  'sex': 1,\n",
    "  'smoking': 0,\n",
    "  'time': 4}]}"
   ]
  },
  {
   "cell_type": "code",
   "execution_count": 59,
   "metadata": {},
   "outputs": [],
   "source": [
    "i=json.dumps(input_data)"
   ]
  },
  {
   "cell_type": "code",
   "execution_count": 64,
   "metadata": {},
   "outputs": [],
   "source": [
    "with open(\"data.json\",\"w\") as _f:\n",
    "    _f.write(i)\n",
    "    "
   ]
  },
  {
   "cell_type": "code",
   "execution_count": 105,
   "metadata": {},
   "outputs": [],
   "source": [
    "headers={\"Content-Type\":\"application/json\"}\n",
    "key=\"nmzf01o9jlalITeEPXejCGkw7Bqs0Iv0\"\n",
    "headers[\"Authorization\"]=f'Bearer \"R7PFVjyegEIU16PFDI0odluGw14bLdvY\"'"
   ]
  },
  {
   "cell_type": "code",
   "execution_count": 108,
   "metadata": {},
   "outputs": [],
   "source": [
    "import requests\n",
    "result=requests.post('http://e5401dfb-1add-43be-987a-87e391a83eb3.southcentralus.azurecontainer.io/score',i,headers=headers)"
   ]
  },
  {
   "cell_type": "code",
   "execution_count": 109,
   "metadata": {},
   "outputs": [
    {
     "data": {
      "text/plain": [
       "b'Unauthorized, no token matched'"
      ]
     },
     "execution_count": 109,
     "metadata": {},
     "output_type": "execute_result"
    }
   ],
   "source": [
    "result.content\n"
   ]
  },
  {
   "cell_type": "code",
   "execution_count": null,
   "metadata": {},
   "outputs": [],
   "source": [
    "\n",
    "service.delete()"
   ]
  }
 ],
 "metadata": {
  "kernel_info": {
   "name": "python3-azureml"
  },
  "kernelspec": {
   "display_name": "Python 3",
   "language": "python",
   "name": "python3"
  },
  "language_info": {
   "codemirror_mode": {
    "name": "ipython",
    "version": 3
   },
   "file_extension": ".py",
   "mimetype": "text/x-python",
   "name": "python",
   "nbconvert_exporter": "python",
   "pygments_lexer": "ipython3",
   "version": "3.6.9"
  },
  "nteract": {
   "version": "nteract-front-end@1.0.0"
  }
 },
 "nbformat": 4,
 "nbformat_minor": 2
}
