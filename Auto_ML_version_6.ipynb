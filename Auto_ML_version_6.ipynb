{
 "cells": [
  {
   "cell_type": "markdown",
   "metadata": {},
   "source": [
    "# Automated ML\n",
    "\n",
    "TODO: Import Dependencies. In the cell below, import all the dependencies that you will need to complete the project."
   ]
  },
  {
   "cell_type": "code",
   "execution_count": 1,
   "metadata": {},
   "outputs": [],
   "source": [
    "import logging\n",
    "import os\n",
    "import csv\n",
    "\n",
    "from matplotlib import pyplot as plt\n",
    "import numpy as np\n",
    "import pandas as pd\n",
    "from sklearn import datasets\n",
    "import pkg_resources\n",
    "\n",
    "import azureml.core\n",
    "from azureml.core.experiment import Experiment\n",
    "from azureml.core.workspace import Workspace\n",
    "from azureml.train.automl import AutoMLConfig\n",
    "from azureml.core.dataset import Dataset\n",
    "\n",
    "from azureml.pipeline.steps import AutoMLStep"
   ]
  },
  {
   "cell_type": "code",
   "execution_count": 3,
   "metadata": {
    "gather": {
     "logged": 1598423888013
    },
    "jupyter": {
     "outputs_hidden": false,
     "source_hidden": false
    },
    "nteract": {
     "transient": {
      "deleting": false
     }
    }
   },
   "outputs": [
    {
     "name": "stdout",
     "output_type": "stream",
     "text": [
      "Workspace name: quick-starts-ws-127634\n",
      "Azure region: southcentralus\n",
      "Subscription id: 422c78cb-7b9f-41e7-a94c-e144f7afde5e\n",
      "Resource group: aml-quickstarts-127634\n"
     ]
    }
   ],
   "source": [
    "from azureml.core import Workspace, Experiment\n",
    "from azureml.pipeline.steps import PythonScriptStep\n",
    "from azureml.train.sklearn import SKLearn\n",
    "\n",
    "ws = Workspace.get(name=\"quick-starts-ws-127634\")\n",
    "exp = Experiment(workspace=ws, name=\"udacity-project\")\n",
    "\n",
    "print('Workspace name: ' + ws.name, \n",
    "      'Azure region: ' + ws.location, \n",
    "      'Subscription id: ' + ws.subscription_id, \n",
    "      'Resource group: ' + ws.resource_group, sep = '\\n')\n",
    "\n",
    "run = exp.start_logging()\n",
    "from azureml.core.compute import ComputeTarget, AmlCompute\n",
    "\n",
    "# TODO: Create compute cluster\n",
    "\n",
    "# Use vm_size = \"Standard_D2_V2\" in your provisioning configuration.\n",
    "# max_nodes should be no greater than 4.\n",
    "vm_size = \"Standard_DS3_V2\"\n",
    "compute_name=\"notebook127634\"\n",
    "# create the cluster\n",
    "compute_min_nodes=0\n",
    "compute_max_nodes=4\n",
    " \n",
    "\n",
    "\n",
    "\n",
    "### YOUR CODE HERE ###\n",
    "# Checking if  compute already exist or not  if not creating a new target\n",
    "if compute_name in ws.compute_targets:\n",
    "    compute_target = ws.compute_targets[compute_name]\n",
    "    if compute_target and type(compute_target) is AmlCompute:\n",
    "        print(\"found compute target: \" + compute_name)\n",
    "else:\n",
    "    print(\"creating new compute target...\")\n",
    "    provisioning_config = AmlCompute.provisioning_configuration(vm_size = vm_size,\n",
    "                                                                min_nodes = compute_min_nodes, \n",
    "                                                                max_nodes = compute_max_nodes)\n",
    "    # if no min node count is provided it will use the scale settings for the cluster\n",
    "    compute_target.wait_for_completion(show_output=True, timeout_in_minutes=20)\n",
    "    # For a more detailed view of current AmlCompute status, use get_status()\n",
    "    print(compute_target.get_status().serialize())\n",
    "\n",
    "\n",
    "\n"
   ]
  },
  {
   "cell_type": "markdown",
   "metadata": {},
   "source": [
    "## Dataset\n",
    "\n",
    "### Overview\n",
    "TODO: In this markdown cell, give an overview of the dataset you are using. Also mention the task you will be performing.\n",
    "\n",
    "\n",
    "TODO: Get data. In the cell below, write code to access the data you will be using in this project. Remember that the dataset needs to be external."
   ]
  },
  {
   "cell_type": "code",
   "execution_count": 4,
   "metadata": {
    "gather": {
     "logged": 1598423890461
    },
    "jupyter": {
     "outputs_hidden": false,
     "source_hidden": false
    },
    "nteract": {
     "transient": {
      "deleting": false
     }
    }
   },
   "outputs": [
    {
     "name": "stdout",
     "output_type": "stream",
     "text": [
      "Uploading an estimated of 5 files\n",
      "Uploading ./a.txt\n",
      "Uploaded ./a.txt, 1 files out of an estimated total of 5\n",
      "Uploading ./Auto_ML_version_5.ipynb\n",
      "Uploaded ./Auto_ML_version_5.ipynb, 2 files out of an estimated total of 5\n",
      "Uploading ./heart_failure_clinical_records_dataset.csv\n",
      "Uploaded ./heart_failure_clinical_records_dataset.csv, 3 files out of an estimated total of 5\n",
      "Uploading ./score.py\n",
      "Uploaded ./score.py, 4 files out of an estimated total of 5\n",
      "Uploading ./.ipynb_checkpoints/Auto_ML_version_5-checkpoint.ipynb\n",
      "Uploaded ./.ipynb_checkpoints/Auto_ML_version_5-checkpoint.ipynb, 5 files out of an estimated total of 5\n",
      "Uploaded 5 files\n"
     ]
    },
    {
     "data": {
      "text/plain": [
       "$AZUREML_DATAREFERENCE_e71d581504b24c3fa3624ebfa1b525a6"
      ]
     },
     "execution_count": 4,
     "metadata": {},
     "output_type": "execute_result"
    }
   ],
   "source": [
    "#ws = Workspace.from_config()\n",
    "\n",
    "# choose a name for experiment\n",
    "#experiment_name = 'your experiment name here'\n",
    "\n",
    "#experiment=Experiment(ws, experiment_name)\n",
    "\n",
    "#workspace = Workspace(subscription_id, resource_group, workspace_name)\n",
    "\n",
    "# get the datastore to upload prepared data\n",
    "datastore = ws.get_default_datastore()\n",
    "\n",
    "# upload the local file from src_dir to the target_path in datastore\n",
    "datastore.upload(src_dir='./', target_path='data')\n",
    "\n",
    "# create a dataset referencing the cloud location\n",
    "#"
   ]
  },
  {
   "cell_type": "code",
   "execution_count": 5,
   "metadata": {},
   "outputs": [],
   "source": [
    "dataset = Dataset.Tabular.from_delimited_files(path = [(datastore, ('data/heart_failure_clinical_records_dataset.csv'))])"
   ]
  },
  {
   "cell_type": "code",
   "execution_count": 6,
   "metadata": {},
   "outputs": [],
   "source": [
    "x_df=dataset.to_pandas_dataframe()"
   ]
  },
  {
   "cell_type": "code",
   "execution_count": 7,
   "metadata": {},
   "outputs": [
    {
     "data": {
      "text/plain": [
       "Index(['age', 'anaemia', 'creatinine_phosphokinase', 'diabetes',\n",
       "       'ejection_fraction', 'high_blood_pressure', 'platelets',\n",
       "       'serum_creatinine', 'serum_sodium', 'sex', 'smoking', 'time',\n",
       "       'DEATH_EVENT'],\n",
       "      dtype='object')"
      ]
     },
     "execution_count": 7,
     "metadata": {},
     "output_type": "execute_result"
    }
   ],
   "source": [
    "x_df.columns"
   ]
  },
  {
   "cell_type": "code",
   "execution_count": 8,
   "metadata": {},
   "outputs": [],
   "source": [
    "x_df=x_df.drop(['DEATH_EVENT'],axis=1)"
   ]
  },
  {
   "cell_type": "code",
   "execution_count": null,
   "metadata": {},
   "outputs": [],
   "source": [
    "\"\"\"\n",
    "est = SKLearn(source_directory=\"./\", \n",
    "                compute_target=compute_target, \n",
    "                vm_size=vm_size,\n",
    "                entry_script='train.py'\n",
    "               )\n",
    "\n",
    "\"\"\""
   ]
  },
  {
   "cell_type": "code",
   "execution_count": 6,
   "metadata": {},
   "outputs": [
    {
     "data": {
      "text/plain": [
       "{\n",
       "  \"source\": [\n",
       "    \"('workspaceblobstore', 'data/heart_failure_clinical_records_dataset.csv')\"\n",
       "  ],\n",
       "  \"definition\": [\n",
       "    \"GetDatastoreFiles\",\n",
       "    \"ParseDelimited\",\n",
       "    \"DropColumns\",\n",
       "    \"SetColumnTypes\"\n",
       "  ]\n",
       "}"
      ]
     },
     "execution_count": 6,
     "metadata": {},
     "output_type": "execute_result"
    }
   ],
   "source": [
    "dataset"
   ]
  },
  {
   "cell_type": "markdown",
   "metadata": {},
   "source": [
    "## AutoML Configuration\n",
    "\n",
    "TODO: Explain why you chose the automl settings and cofiguration you used below."
   ]
  },
  {
   "cell_type": "code",
   "execution_count": 9,
   "metadata": {
    "gather": {
     "logged": 1598429217746
    },
    "jupyter": {
     "outputs_hidden": false,
     "source_hidden": false
    },
    "nteract": {
     "transient": {
      "deleting": false
     }
    }
   },
   "outputs": [],
   "source": [
    "# TODO: Put your automl settings here\n",
    "\n",
    "\n",
    "\n",
    "from azureml.train.automl import AutoMLConfig\n",
    "import numpy as np\n",
    "\n",
    "\n",
    "# Set parameters for AutoMLConfig\n",
    "# NOTE: DO NOT CHANGE THE experiment_timeout_minutes PARAMETER OR YOUR INSTANCE WILL TIME OUT.\n",
    "# If you wish to run the experiment longer, you will need to run this notebook in your own\n",
    "# Azure tenant, which will incur personal costs.\n",
    "automl_config = AutoMLConfig(\n",
    "    experiment_timeout_minutes=30,\n",
    "    task='classification',\n",
    "    compute_target=compute_target,\n",
    "    primary_metric=\"accuracy\",\n",
    "    training_data=dataset,\n",
    "    label_column_name='DEATH_EVENT',\n",
    "    #allowed_models=[\"LightGBM\",\"RandomForest\"],\n",
    "    n_cross_validations=3)\n"
   ]
  },
  {
   "cell_type": "code",
   "execution_count": 10,
   "metadata": {},
   "outputs": [
    {
     "name": "stdout",
     "output_type": "stream",
     "text": [
      "Running on remote.\n",
      "Running on remote compute: notebook127634\n",
      "Parent Run ID: AutoML_5196779e-7eba-482f-b878-8b06fd78c6bf\n",
      "\n",
      "Current status: FeaturesGeneration. Generating features for the dataset.\n",
      "Current status: ModelSelection. Beginning model selection.\n",
      "\n",
      "****************************************************************************************************\n",
      "DATA GUARDRAILS: \n",
      "\n",
      "TYPE:         Class balancing detection\n",
      "STATUS:       PASSED\n",
      "DESCRIPTION:  Your inputs were analyzed, and all classes are balanced in your training data.\n",
      "              Learn more about imbalanced data: https://aka.ms/AutomatedMLImbalancedData\n",
      "\n",
      "****************************************************************************************************\n",
      "\n",
      "TYPE:         Missing feature values imputation\n",
      "STATUS:       PASSED\n",
      "DESCRIPTION:  No feature missing values were detected in the training data.\n",
      "              Learn more about missing value imputation: https://aka.ms/AutomatedMLFeaturization\n",
      "\n",
      "****************************************************************************************************\n",
      "\n",
      "TYPE:         High cardinality feature detection\n",
      "STATUS:       PASSED\n",
      "DESCRIPTION:  Your inputs were analyzed, and no high cardinality features were detected.\n",
      "              Learn more about high cardinality feature handling: https://aka.ms/AutomatedMLFeaturization\n",
      "\n",
      "****************************************************************************************************\n",
      "\n",
      "****************************************************************************************************\n",
      "ITERATION: The iteration being evaluated.\n",
      "PIPELINE: A summary description of the pipeline being evaluated.\n",
      "DURATION: Time taken for the current iteration.\n",
      "METRIC: The result of computing score on the fitted pipeline.\n",
      "BEST: The best observed score thus far.\n",
      "****************************************************************************************************\n",
      "\n",
      " ITERATION   PIPELINE                                       DURATION      METRIC      BEST\n",
      "         0   MaxAbsScaler LightGBM                          0:00:43       0.8259    0.8259\n",
      "         1   MaxAbsScaler XGBoostClassifier                 0:00:33       0.8260    0.8260\n",
      "         2   MinMaxScaler RandomForest                      0:00:33       0.8561    0.8561\n",
      "         3   StandardScalerWrapper SGD                      0:00:36       0.8193    0.8561\n",
      "         4   MinMaxScaler RandomForest                      0:00:33       0.8260    0.8561\n",
      "         5   StandardScalerWrapper SGD                      0:00:38       0.7857    0.8561\n",
      "         6   StandardScalerWrapper RandomForest             0:00:31       0.8060    0.8561\n",
      "         7   RobustScaler ExtremeRandomTrees                0:00:34       0.7826    0.8561\n",
      "         8   StandardScalerWrapper ExtremeRandomTrees       0:00:33       0.8359    0.8561\n",
      "         9   StandardScalerWrapper SGD                      0:00:38       0.8160    0.8561\n",
      "        10   StandardScalerWrapper SGD                      0:00:27       0.8126    0.8561\n",
      "        11   MinMaxScaler SGD                               0:00:36       0.7790    0.8561\n",
      "        12   RobustScaler ExtremeRandomTrees                0:00:28       0.8060    0.8561\n",
      "        13   MinMaxScaler SGD                               0:00:38       0.7960    0.8561\n",
      "        14   MinMaxScaler ExtremeRandomTrees                0:00:37       0.8394    0.8561\n",
      "        15   MinMaxScaler ExtremeRandomTrees                0:00:38       0.7559    0.8561\n",
      "        16   MinMaxScaler ExtremeRandomTrees                0:00:33       0.7726    0.8561\n",
      "        17   StandardScalerWrapper RandomForest             0:00:39       0.8059    0.8561\n",
      "        18   StandardScalerWrapper SGD                      0:00:35       0.7724    0.8561\n",
      "        19   RobustScaler ExtremeRandomTrees                0:00:37       0.8461    0.8561\n",
      "        20   StandardScalerWrapper RandomForest             0:00:34       0.8026    0.8561\n",
      "        21   MinMaxScaler ExtremeRandomTrees                0:00:29       0.8026    0.8561\n",
      "        22   MinMaxScaler RandomForest                      0:00:29       0.8461    0.8561\n",
      "        23   SparseNormalizer XGBoostClassifier             0:00:29       0.8193    0.8561\n",
      "        24   SparseNormalizer LightGBM                      0:00:32       0.8628    0.8628\n",
      "        25   MinMaxScaler LightGBM                          0:00:36       0.6790    0.8628\n",
      "        26   MaxAbsScaler LogisticRegression                0:00:54       0.8227    0.8628\n",
      "        27   MaxAbsScaler RandomForest                      0:00:38       0.8494    0.8628\n",
      "        28   SparseNormalizer LightGBM                      0:00:35       0.8461    0.8628\n",
      "        29   SparseNormalizer XGBoostClassifier             0:00:30       0.8227    0.8628\n",
      "        30   MaxAbsScaler LightGBM                          0:00:27       0.8461    0.8628\n",
      "        31   SparseNormalizer XGBoostClassifier             0:00:31       0.8361    0.8628\n",
      "        32                                                  0:00:15          nan    0.8628\n",
      "        33    VotingEnsemble                                0:00:56       0.8729    0.8729\n",
      "        34    StackEnsemble                                 0:01:02       0.8461    0.8729\n"
     ]
    },
    {
     "data": {
      "application/vnd.jupyter.widget-view+json": {
       "model_id": "d057f56621884d44bdaaf2f8293af2b4",
       "version_major": 2,
       "version_minor": 0
      },
      "text/plain": [
       "_AutoMLWidget(widget_settings={'childWidgetDisplay': 'popup', 'send_telemetry': False, 'log_level': 'INFO', 's…"
      ]
     },
     "metadata": {},
     "output_type": "display_data"
    },
    {
     "data": {
      "application/aml.mini.widget.v1": "{\"status\": \"Completed\", \"workbench_run_details_uri\": \"https://ml.azure.com/experiments/automl_test/runs/AutoML_5196779e-7eba-482f-b878-8b06fd78c6bf?wsid=/subscriptions/422c78cb-7b9f-41e7-a94c-e144f7afde5e/resourcegroups/aml-quickstarts-127634/workspaces/quick-starts-ws-127634\", \"run_id\": \"AutoML_5196779e-7eba-482f-b878-8b06fd78c6bf\", \"run_properties\": {\"run_id\": \"AutoML_5196779e-7eba-482f-b878-8b06fd78c6bf\", \"created_utc\": \"2020-11-24T02:17:14.410533Z\", \"properties\": {\"num_iterations\": \"1000\", \"training_type\": \"TrainFull\", \"acquisition_function\": \"EI\", \"primary_metric\": \"accuracy\", \"train_split\": \"0\", \"acquisition_parameter\": \"0\", \"num_cross_validation\": \"3\", \"target\": \"notebook127634\", \"AMLSettingsJsonString\": \"{\\\"path\\\":null,\\\"name\\\":\\\"automl_test\\\",\\\"subscription_id\\\":\\\"422c78cb-7b9f-41e7-a94c-e144f7afde5e\\\",\\\"resource_group\\\":\\\"aml-quickstarts-127634\\\",\\\"workspace_name\\\":\\\"quick-starts-ws-127634\\\",\\\"region\\\":\\\"southcentralus\\\",\\\"compute_target\\\":\\\"notebook127634\\\",\\\"spark_service\\\":null,\\\"azure_service\\\":\\\"remote\\\",\\\"_local_managed_run_id\\\":null,\\\"many_models\\\":false,\\\"pipeline_fetch_max_batch_size\\\":1,\\\"iterations\\\":1000,\\\"primary_metric\\\":\\\"accuracy\\\",\\\"task_type\\\":\\\"classification\\\",\\\"data_script\\\":null,\\\"validation_size\\\":0.0,\\\"n_cross_validations\\\":3,\\\"y_min\\\":null,\\\"y_max\\\":null,\\\"num_classes\\\":null,\\\"featurization\\\":\\\"auto\\\",\\\"_ignore_package_version_incompatibilities\\\":false,\\\"is_timeseries\\\":false,\\\"max_cores_per_iteration\\\":1,\\\"max_concurrent_iterations\\\":1,\\\"iteration_timeout_minutes\\\":null,\\\"mem_in_mb\\\":null,\\\"enforce_time_on_windows\\\":false,\\\"experiment_timeout_minutes\\\":30,\\\"experiment_exit_score\\\":null,\\\"whitelist_models\\\":null,\\\"blacklist_algos\\\":[\\\"TensorFlowLinearClassifier\\\",\\\"TensorFlowDNN\\\"],\\\"supported_models\\\":[\\\"MultinomialNaiveBayes\\\",\\\"KNN\\\",\\\"BernoulliNaiveBayes\\\",\\\"TensorFlowLinearClassifier\\\",\\\"SGD\\\",\\\"TensorFlowDNN\\\",\\\"LightGBM\\\",\\\"AveragedPerceptronClassifier\\\",\\\"SVM\\\",\\\"XGBoostClassifier\\\",\\\"RandomForest\\\",\\\"LinearSVM\\\",\\\"ExtremeRandomTrees\\\",\\\"GradientBoosting\\\",\\\"DecisionTree\\\",\\\"LogisticRegression\\\"],\\\"auto_blacklist\\\":true,\\\"blacklist_samples_reached\\\":false,\\\"exclude_nan_labels\\\":true,\\\"verbosity\\\":20,\\\"_debug_log\\\":\\\"azureml_automl.log\\\",\\\"show_warnings\\\":false,\\\"model_explainability\\\":true,\\\"service_url\\\":null,\\\"sdk_url\\\":null,\\\"sdk_packages\\\":null,\\\"enable_onnx_compatible_models\\\":false,\\\"enable_split_onnx_featurizer_estimator_models\\\":false,\\\"vm_type\\\":\\\"STANDARD_DS3_V2\\\",\\\"telemetry_verbosity\\\":20,\\\"send_telemetry\\\":true,\\\"enable_dnn\\\":false,\\\"scenario\\\":\\\"SDK-1.13.0\\\",\\\"environment_label\\\":null,\\\"force_text_dnn\\\":false,\\\"enable_feature_sweeping\\\":true,\\\"enable_early_stopping\\\":false,\\\"early_stopping_n_iters\\\":10,\\\"metrics\\\":null,\\\"enable_ensembling\\\":true,\\\"enable_stack_ensembling\\\":true,\\\"ensemble_iterations\\\":15,\\\"enable_tf\\\":false,\\\"enable_subsampling\\\":null,\\\"subsample_seed\\\":null,\\\"enable_nimbusml\\\":false,\\\"enable_streaming\\\":false,\\\"force_streaming\\\":false,\\\"track_child_runs\\\":true,\\\"allowed_private_models\\\":[],\\\"label_column_name\\\":\\\"DEATH_EVENT\\\",\\\"weight_column_name\\\":null,\\\"cv_split_column_names\\\":null,\\\"enable_local_managed\\\":false,\\\"cost_mode\\\":1,\\\"lag_length\\\":0,\\\"metric_operation\\\":\\\"maximize\\\",\\\"preprocess\\\":true}\", \"DataPrepJsonString\": \"{\\\\\\\"training_data\\\\\\\": \\\\\\\"{\\\\\\\\\\\\\\\"blocks\\\\\\\\\\\\\\\": [{\\\\\\\\\\\\\\\"id\\\\\\\\\\\\\\\": \\\\\\\\\\\\\\\"c3e0c4a7-1c04-476c-9220-f0ee0d210296\\\\\\\\\\\\\\\", \\\\\\\\\\\\\\\"type\\\\\\\\\\\\\\\": \\\\\\\\\\\\\\\"Microsoft.DPrep.GetDatastoreFilesBlock\\\\\\\\\\\\\\\", \\\\\\\\\\\\\\\"arguments\\\\\\\\\\\\\\\": {\\\\\\\\\\\\\\\"datastores\\\\\\\\\\\\\\\": [{\\\\\\\\\\\\\\\"datastoreName\\\\\\\\\\\\\\\": \\\\\\\\\\\\\\\"workspaceblobstore\\\\\\\\\\\\\\\", \\\\\\\\\\\\\\\"path\\\\\\\\\\\\\\\": \\\\\\\\\\\\\\\"data/heart_failure_clinical_records_dataset.csv\\\\\\\\\\\\\\\", \\\\\\\\\\\\\\\"resourceGroup\\\\\\\\\\\\\\\": \\\\\\\\\\\\\\\"aml-quickstarts-127634\\\\\\\\\\\\\\\", \\\\\\\\\\\\\\\"subscription\\\\\\\\\\\\\\\": \\\\\\\\\\\\\\\"422c78cb-7b9f-41e7-a94c-e144f7afde5e\\\\\\\\\\\\\\\", \\\\\\\\\\\\\\\"workspaceName\\\\\\\\\\\\\\\": \\\\\\\\\\\\\\\"quick-starts-ws-127634\\\\\\\\\\\\\\\"}]}, \\\\\\\\\\\\\\\"localData\\\\\\\\\\\\\\\": {}, \\\\\\\\\\\\\\\"isEnabled\\\\\\\\\\\\\\\": true, \\\\\\\\\\\\\\\"name\\\\\\\\\\\\\\\": null, \\\\\\\\\\\\\\\"annotation\\\\\\\\\\\\\\\": null}, {\\\\\\\\\\\\\\\"id\\\\\\\\\\\\\\\": \\\\\\\\\\\\\\\"5e9336d4-2779-4962-9519-a0db71ad1b86\\\\\\\\\\\\\\\", \\\\\\\\\\\\\\\"type\\\\\\\\\\\\\\\": \\\\\\\\\\\\\\\"Microsoft.DPrep.ParseDelimitedBlock\\\\\\\\\\\\\\\", \\\\\\\\\\\\\\\"arguments\\\\\\\\\\\\\\\": {\\\\\\\\\\\\\\\"columnHeadersMode\\\\\\\\\\\\\\\": 3, \\\\\\\\\\\\\\\"fileEncoding\\\\\\\\\\\\\\\": 0, \\\\\\\\\\\\\\\"handleQuotedLineBreaks\\\\\\\\\\\\\\\": false, \\\\\\\\\\\\\\\"preview\\\\\\\\\\\\\\\": false, \\\\\\\\\\\\\\\"separator\\\\\\\\\\\\\\\": \\\\\\\\\\\\\\\",\\\\\\\\\\\\\\\", \\\\\\\\\\\\\\\"skipRows\\\\\\\\\\\\\\\": 0, \\\\\\\\\\\\\\\"skipRowsMode\\\\\\\\\\\\\\\": 0}, \\\\\\\\\\\\\\\"localData\\\\\\\\\\\\\\\": {}, \\\\\\\\\\\\\\\"isEnabled\\\\\\\\\\\\\\\": true, \\\\\\\\\\\\\\\"name\\\\\\\\\\\\\\\": null, \\\\\\\\\\\\\\\"annotation\\\\\\\\\\\\\\\": null}, {\\\\\\\\\\\\\\\"id\\\\\\\\\\\\\\\": \\\\\\\\\\\\\\\"49eebbf0-af91-4e88-b9c9-57dbcc77a7dd\\\\\\\\\\\\\\\", \\\\\\\\\\\\\\\"type\\\\\\\\\\\\\\\": \\\\\\\\\\\\\\\"Microsoft.DPrep.DropColumnsBlock\\\\\\\\\\\\\\\", \\\\\\\\\\\\\\\"arguments\\\\\\\\\\\\\\\": {\\\\\\\\\\\\\\\"columns\\\\\\\\\\\\\\\": {\\\\\\\\\\\\\\\"type\\\\\\\\\\\\\\\": 0, \\\\\\\\\\\\\\\"details\\\\\\\\\\\\\\\": {\\\\\\\\\\\\\\\"selectedColumns\\\\\\\\\\\\\\\": [\\\\\\\\\\\\\\\"Path\\\\\\\\\\\\\\\"]}}}, \\\\\\\\\\\\\\\"localData\\\\\\\\\\\\\\\": {}, \\\\\\\\\\\\\\\"isEnabled\\\\\\\\\\\\\\\": true, \\\\\\\\\\\\\\\"name\\\\\\\\\\\\\\\": null, \\\\\\\\\\\\\\\"annotation\\\\\\\\\\\\\\\": null}, {\\\\\\\\\\\\\\\"id\\\\\\\\\\\\\\\": \\\\\\\\\\\\\\\"8efde1f4-3435-4e1e-97cd-21bcbbc0d8f7\\\\\\\\\\\\\\\", \\\\\\\\\\\\\\\"type\\\\\\\\\\\\\\\": \\\\\\\\\\\\\\\"Microsoft.DPrep.SetColumnTypesBlock\\\\\\\\\\\\\\\", \\\\\\\\\\\\\\\"arguments\\\\\\\\\\\\\\\": {\\\\\\\\\\\\\\\"columnConversion\\\\\\\\\\\\\\\": [{\\\\\\\\\\\\\\\"column\\\\\\\\\\\\\\\": {\\\\\\\\\\\\\\\"type\\\\\\\\\\\\\\\": 2, \\\\\\\\\\\\\\\"details\\\\\\\\\\\\\\\": {\\\\\\\\\\\\\\\"selectedColumn\\\\\\\\\\\\\\\": \\\\\\\\\\\\\\\"age\\\\\\\\\\\\\\\"}}, \\\\\\\\\\\\\\\"typeProperty\\\\\\\\\\\\\\\": 3}, {\\\\\\\\\\\\\\\"column\\\\\\\\\\\\\\\": {\\\\\\\\\\\\\\\"type\\\\\\\\\\\\\\\": 2, \\\\\\\\\\\\\\\"details\\\\\\\\\\\\\\\": {\\\\\\\\\\\\\\\"selectedColumn\\\\\\\\\\\\\\\": \\\\\\\\\\\\\\\"anaemia\\\\\\\\\\\\\\\"}}, \\\\\\\\\\\\\\\"typeProperty\\\\\\\\\\\\\\\": 2}, {\\\\\\\\\\\\\\\"column\\\\\\\\\\\\\\\": {\\\\\\\\\\\\\\\"type\\\\\\\\\\\\\\\": 2, \\\\\\\\\\\\\\\"details\\\\\\\\\\\\\\\": {\\\\\\\\\\\\\\\"selectedColumn\\\\\\\\\\\\\\\": \\\\\\\\\\\\\\\"creatinine_phosphokinase\\\\\\\\\\\\\\\"}}, \\\\\\\\\\\\\\\"typeProperty\\\\\\\\\\\\\\\": 2}, {\\\\\\\\\\\\\\\"column\\\\\\\\\\\\\\\": {\\\\\\\\\\\\\\\"type\\\\\\\\\\\\\\\": 2, \\\\\\\\\\\\\\\"details\\\\\\\\\\\\\\\": {\\\\\\\\\\\\\\\"selectedColumn\\\\\\\\\\\\\\\": \\\\\\\\\\\\\\\"diabetes\\\\\\\\\\\\\\\"}}, \\\\\\\\\\\\\\\"typeProperty\\\\\\\\\\\\\\\": 2}, {\\\\\\\\\\\\\\\"column\\\\\\\\\\\\\\\": {\\\\\\\\\\\\\\\"type\\\\\\\\\\\\\\\": 2, \\\\\\\\\\\\\\\"details\\\\\\\\\\\\\\\": {\\\\\\\\\\\\\\\"selectedColumn\\\\\\\\\\\\\\\": \\\\\\\\\\\\\\\"ejection_fraction\\\\\\\\\\\\\\\"}}, \\\\\\\\\\\\\\\"typeProperty\\\\\\\\\\\\\\\": 2}, {\\\\\\\\\\\\\\\"column\\\\\\\\\\\\\\\": {\\\\\\\\\\\\\\\"type\\\\\\\\\\\\\\\": 2, \\\\\\\\\\\\\\\"details\\\\\\\\\\\\\\\": {\\\\\\\\\\\\\\\"selectedColumn\\\\\\\\\\\\\\\": \\\\\\\\\\\\\\\"high_blood_pressure\\\\\\\\\\\\\\\"}}, \\\\\\\\\\\\\\\"typeProperty\\\\\\\\\\\\\\\": 2}, {\\\\\\\\\\\\\\\"column\\\\\\\\\\\\\\\": {\\\\\\\\\\\\\\\"type\\\\\\\\\\\\\\\": 2, \\\\\\\\\\\\\\\"details\\\\\\\\\\\\\\\": {\\\\\\\\\\\\\\\"selectedColumn\\\\\\\\\\\\\\\": \\\\\\\\\\\\\\\"platelets\\\\\\\\\\\\\\\"}}, \\\\\\\\\\\\\\\"typeProperty\\\\\\\\\\\\\\\": 3}, {\\\\\\\\\\\\\\\"column\\\\\\\\\\\\\\\": {\\\\\\\\\\\\\\\"type\\\\\\\\\\\\\\\": 2, \\\\\\\\\\\\\\\"details\\\\\\\\\\\\\\\": {\\\\\\\\\\\\\\\"selectedColumn\\\\\\\\\\\\\\\": \\\\\\\\\\\\\\\"serum_creatinine\\\\\\\\\\\\\\\"}}, \\\\\\\\\\\\\\\"typeProperty\\\\\\\\\\\\\\\": 3}, {\\\\\\\\\\\\\\\"column\\\\\\\\\\\\\\\": {\\\\\\\\\\\\\\\"type\\\\\\\\\\\\\\\": 2, \\\\\\\\\\\\\\\"details\\\\\\\\\\\\\\\": {\\\\\\\\\\\\\\\"selectedColumn\\\\\\\\\\\\\\\": \\\\\\\\\\\\\\\"serum_sodium\\\\\\\\\\\\\\\"}}, \\\\\\\\\\\\\\\"typeProperty\\\\\\\\\\\\\\\": 2}, {\\\\\\\\\\\\\\\"column\\\\\\\\\\\\\\\": {\\\\\\\\\\\\\\\"type\\\\\\\\\\\\\\\": 2, \\\\\\\\\\\\\\\"details\\\\\\\\\\\\\\\": {\\\\\\\\\\\\\\\"selectedColumn\\\\\\\\\\\\\\\": \\\\\\\\\\\\\\\"sex\\\\\\\\\\\\\\\"}}, \\\\\\\\\\\\\\\"typeProperty\\\\\\\\\\\\\\\": 2}, {\\\\\\\\\\\\\\\"column\\\\\\\\\\\\\\\": {\\\\\\\\\\\\\\\"type\\\\\\\\\\\\\\\": 2, \\\\\\\\\\\\\\\"details\\\\\\\\\\\\\\\": {\\\\\\\\\\\\\\\"selectedColumn\\\\\\\\\\\\\\\": \\\\\\\\\\\\\\\"smoking\\\\\\\\\\\\\\\"}}, \\\\\\\\\\\\\\\"typeProperty\\\\\\\\\\\\\\\": 2}, {\\\\\\\\\\\\\\\"column\\\\\\\\\\\\\\\": {\\\\\\\\\\\\\\\"type\\\\\\\\\\\\\\\": 2, \\\\\\\\\\\\\\\"details\\\\\\\\\\\\\\\": {\\\\\\\\\\\\\\\"selectedColumn\\\\\\\\\\\\\\\": \\\\\\\\\\\\\\\"time\\\\\\\\\\\\\\\"}}, \\\\\\\\\\\\\\\"typeProperty\\\\\\\\\\\\\\\": 2}, {\\\\\\\\\\\\\\\"column\\\\\\\\\\\\\\\": {\\\\\\\\\\\\\\\"type\\\\\\\\\\\\\\\": 2, \\\\\\\\\\\\\\\"details\\\\\\\\\\\\\\\": {\\\\\\\\\\\\\\\"selectedColumn\\\\\\\\\\\\\\\": \\\\\\\\\\\\\\\"DEATH_EVENT\\\\\\\\\\\\\\\"}}, \\\\\\\\\\\\\\\"typeProperty\\\\\\\\\\\\\\\": 2}]}, \\\\\\\\\\\\\\\"localData\\\\\\\\\\\\\\\": {}, \\\\\\\\\\\\\\\"isEnabled\\\\\\\\\\\\\\\": true, \\\\\\\\\\\\\\\"name\\\\\\\\\\\\\\\": null, \\\\\\\\\\\\\\\"annotation\\\\\\\\\\\\\\\": null}], \\\\\\\\\\\\\\\"inspectors\\\\\\\\\\\\\\\": [], \\\\\\\\\\\\\\\"meta\\\\\\\\\\\\\\\": {\\\\\\\\\\\\\\\"savedDatasetId\\\\\\\\\\\\\\\": \\\\\\\\\\\\\\\"cae5879e-967c-465c-9209-00a8e10650fe\\\\\\\\\\\\\\\", \\\\\\\\\\\\\\\"datasetType\\\\\\\\\\\\\\\": \\\\\\\\\\\\\\\"tabular\\\\\\\\\\\\\\\", \\\\\\\\\\\\\\\"subscriptionId\\\\\\\\\\\\\\\": \\\\\\\\\\\\\\\"422c78cb-7b9f-41e7-a94c-e144f7afde5e\\\\\\\\\\\\\\\", \\\\\\\\\\\\\\\"workspaceId\\\\\\\\\\\\\\\": \\\\\\\\\\\\\\\"34552e35-3eb3-45dd-865e-4d37e56a2234\\\\\\\\\\\\\\\", \\\\\\\\\\\\\\\"workspaceLocation\\\\\\\\\\\\\\\": \\\\\\\\\\\\\\\"southcentralus\\\\\\\\\\\\\\\"}}\\\\\\\", \\\\\\\"activities\\\\\\\": 0}\", \"EnableSubsampling\": null, \"runTemplate\": \"AutoML\", \"azureml.runsource\": \"automl\", \"display_task_type\": \"classification\", \"dependencies_versions\": \"{\\\"azureml-widgets\\\": \\\"1.18.0\\\", \\\"azureml-train\\\": \\\"1.18.0\\\", \\\"azureml-train-restclients-hyperdrive\\\": \\\"1.18.0\\\", \\\"azureml-train-core\\\": \\\"1.18.0\\\", \\\"azureml-train-automl\\\": \\\"1.18.0\\\", \\\"azureml-train-automl-runtime\\\": \\\"1.18.0\\\", \\\"azureml-train-automl-client\\\": \\\"1.18.0\\\", \\\"azureml-tensorboard\\\": \\\"1.18.0\\\", \\\"azureml-telemetry\\\": \\\"1.18.0\\\", \\\"azureml-sdk\\\": \\\"1.18.0\\\", \\\"azureml-samples\\\": \\\"0+unknown\\\", \\\"azureml-pipeline\\\": \\\"1.18.0\\\", \\\"azureml-pipeline-steps\\\": \\\"1.18.0\\\", \\\"azureml-pipeline-core\\\": \\\"1.18.0\\\", \\\"azureml-opendatasets\\\": \\\"1.18.0\\\", \\\"azureml-model-management-sdk\\\": \\\"1.0.1b6.post1\\\", \\\"azureml-mlflow\\\": \\\"1.18.0\\\", \\\"azureml-interpret\\\": \\\"1.18.0\\\", \\\"azureml-explain-model\\\": \\\"1.18.0\\\", \\\"azureml-defaults\\\": \\\"1.18.0\\\", \\\"azureml-dataset-runtime\\\": \\\"1.18.0\\\", \\\"azureml-dataprep\\\": \\\"2.4.2\\\", \\\"azureml-dataprep-rslex\\\": \\\"1.2.2\\\", \\\"azureml-dataprep-native\\\": \\\"24.0.0\\\", \\\"azureml-datadrift\\\": \\\"1.18.0\\\", \\\"azureml-core\\\": \\\"1.18.0\\\", \\\"azureml-contrib-services\\\": \\\"1.18.0\\\", \\\"azureml-contrib-server\\\": \\\"1.18.0\\\", \\\"azureml-contrib-reinforcementlearning\\\": \\\"1.18.0\\\", \\\"azureml-contrib-pipeline-steps\\\": \\\"1.18.0\\\", \\\"azureml-contrib-notebook\\\": \\\"1.18.0\\\", \\\"azureml-contrib-interpret\\\": \\\"1.18.0\\\", \\\"azureml-contrib-gbdt\\\": \\\"1.18.0\\\", \\\"azureml-contrib-fairness\\\": \\\"1.18.0\\\", \\\"azureml-contrib-dataset\\\": \\\"1.18.0\\\", \\\"azureml-cli-common\\\": \\\"1.18.0\\\", \\\"azureml-automl-runtime\\\": \\\"1.18.0\\\", \\\"azureml-automl-core\\\": \\\"1.18.0\\\", \\\"azureml-accel-models\\\": \\\"1.18.0\\\"}\", \"_aml_system_scenario_identification\": \"Remote.Parent\", \"ClientType\": \"SDK\", \"environment_cpu_name\": \"AzureML-AutoML\", \"environment_cpu_version\": \"44\", \"environment_gpu_name\": \"AzureML-AutoML-GPU\", \"environment_gpu_version\": \"32\", \"root_attribution\": \"automl\", \"attribution\": \"AutoML\", \"Orchestrator\": \"AutoML\", \"CancelUri\": \"https://southcentralus.experiments.azureml.net/jasmine/v1.0/subscriptions/422c78cb-7b9f-41e7-a94c-e144f7afde5e/resourceGroups/aml-quickstarts-127634/providers/Microsoft.MachineLearningServices/workspaces/quick-starts-ws-127634/experimentids/3159a662-514e-4cca-8908-162a78b55b9d/cancel/AutoML_5196779e-7eba-482f-b878-8b06fd78c6bf\", \"ClientSdkVersion\": \"1.17.0\", \"snapshotId\": \"00000000-0000-0000-0000-000000000000\", \"SetupRunId\": \"AutoML_5196779e-7eba-482f-b878-8b06fd78c6bf_setup\", \"SetupRunContainerId\": \"dcid.AutoML_5196779e-7eba-482f-b878-8b06fd78c6bf_setup\", \"FeaturizationRunJsonPath\": \"featurizer_container.json\", \"FeaturizationRunId\": \"AutoML_5196779e-7eba-482f-b878-8b06fd78c6bf_featurize\", \"ProblemInfoJsonString\": \"{\\\"dataset_num_categorical\\\": 0, \\\"is_sparse\\\": false, \\\"subsampling\\\": false, \\\"dataset_classes\\\": 2, \\\"dataset_features\\\": 12, \\\"dataset_samples\\\": 299, \\\"single_frequency_class_detected\\\": false}\", \"ModelExplainRunId\": \"AutoML_5196779e-7eba-482f-b878-8b06fd78c6bf_ModelExplain\"}, \"tags\": {\"model_explain_run\": \"best_run\", \"_aml_system_azureml.automlComponent\": \"AutoML\", \"pipeline_id\": \"<5dfac790c5c209f98a1da2dc1c7fb76f0397324f>;<c7af0367625be6ac5c2fecbfc72ed444cb7a2111>;<cf1dc9b7ea4a50d759bce352343ec6737501695a>;<f873311e8cfb2bcdbeb6c20367cf912f4ee6733e>;<b19eeb61727e9c4fbb5aa45fb6e9fe3fab5b1f04>;<47dd667bb7c34b68c9fffa6fd580565b1f85400f>;<713f188a27b176644f73e8664c667c674a2d3d62>;<62c0e30b2e9113b3ecd95bcf5b31423c72074070>;<9e3f4780268658ad403e896559a8d3406152018c>;<e81d621ed176e5fac9def492d4ac54f304146b7c>;<59e4a1b86a57dfaeac5f3a051de6155ffc74f55b>;<a2983da01504b121cc4056d933a1191b51be87bc>;<52ac74da744a165756acc49238b34b81115532fd>;<a91f8b94ae9bf0dfc66e93d29d1ef41b7e2687f2>;<8de8c085d2a4b23d3f4cc392a2f2660d23d38c14>;<4d4be808b8b6dd0f67e8354c79eddd3d712440a5>;<d8d1a28b70a271fc16185d8e06b7faeee4bdd817>;<80d7fafc6227885ab86e843212a0c5ea47a69004>;<19bb9b610818186383462e6b1f9b568bc04b93e9>;<9fd7f177a78effac65f3f97ae40ca91e296c3f10>;<f86e0c37319548491774cfe027df9161ae6eecd2>;<9845a0ba1345a7474c237d10111bcf5bccbb1f0e>;<be1ef63576c9bf239084ecda182b48071c3c26e3>;<13f9a20e7c7d4629e6646f37ac38ce907be706f6>;<69428b2a6612b3703e7304dc0ac8338d61f58853>;<87e44fcdeacb7eb7a31c6bc62a00a453881d3ab5>;<ce152c415db29ceba80a5d953e17d1c1534d6ee7>;<9602d4aae4ece79c353abeaacf0892c8a66ff4e5>;<10b4a0a237f8d550cd7aef32a4ff691ec5c6e337>;<21af8469fef6ba17906c8a8da536d8c0d1a5f27a>;<6129acbd1fe8aa0350b2e01218a924ea3f70be6c>;<bc9ef65750222003882cc9d618a82d0718fa6658>;<2afb028e4a64dd129d6bdf96ee13c6963d5961f5>;<__AutoML_Ensemble__>;<__AutoML_Stack_Ensemble__>;\", \"score\": \"<0.825925925925926>;<0.8259932659932661>;<0.8560942760942761>;<0.8193265993265993>;<0.8259932659932661>;<0.7856565656565658>;<0.805959595959596>;<0.7825925925925925>;<0.8359259259259259>;<0.816026936026936>;<0.8125925925925926>;<0.778956228956229>;<0.805959595959596>;<0.7959932659932659>;<0.8393939393939395>;<0.755925925925926>;<0.7725925925925926>;<0.8058922558922559>;<0.7723569023569024>;<0.8460606060606061>;<0.8025589225589226>;<0.8025925925925925>;<0.8460606060606062>;<0.8192592592592592>;<0.8627946127946128>;<0.678989898989899>;<0.8226599326599326>;<0.8493602693602694>;<0.8460942760942761>;<0.8227272727272728>;<0.8460606060606062>;<0.8360942760942761>;<NaN>;<0.8728619528619529>;<0.8461279461279462>;\", \"predicted_cost\": \"<0>;<0>;<0.5>;<0.017040333333333327>;<0.010680097829144846>;<0.006397451674895126>;<0.013220761016453421>;<0.02064957717790975>;<0.020993572849787596>;<0.00555759972064857>;<0.007728907248755753>;<0.004673802684663227>;<0.029815451550631207>;<0.008416664998920364>;<0.021635235471048685>;<0.022532069134112844>;<0.029261027568292346>;<0.023163436773343364>;<0.005180449443057305>;<0.026172756468817886>;<0.02640349928999617>;<0.027015286156279128>;<0.026683372237474755>;<0.0310458373686478>;<0.03856851962591059>;<0.022794793127951993>;<0.013545513232333693>;<0.05989630849476423>;<0.04565645711612777>;<0.03512826537015685>;<0.0304086230216105>;<0.02917130229789021>;<0.025525048099664414>;<0>;<0>;\", \"fit_time\": \"<0.032086333333333335>;<0.033312>;<0.017040333333333334>;<0.004484>;<0.024275>;<0.004748>;<0.022022000000000003>;<0.060125000000000005>;<0.04598133333333334>;<0.0038226666666666665>;<0.022109>;<0.004792333333333333>;<0.06637266666666666>;<0.015819666666666666>;<0.022123>;<0.053826000000000006>;<0.05123833333333333>;<0.018877666666666668>;<0.004952>;<0.04124233333333333>;<0.024997333333333333>;<0.055504>;<0.11191533333333333>;<0.01848033333333333>;<0.05043966666666667>;<0.024088333333333333>;<0.011008333333333334>;<0.19332000000000002>;<0.021557000000000003>;<0.027415666666666668>;<0.014474>;<0.029105999999999996>;<NaN>;<22>;<25>;\", \"training_percent\": \"<100>;<100>;<100>;<100>;<100>;<100>;<100>;<100>;<100>;<100>;<100>;<100>;<100>;<100>;<100>;<100>;<100>;<100>;<100>;<100>;<100>;<100>;<100>;<100>;<100>;<100>;<100>;<100>;<100>;<100>;<100>;<100>;<100>;<100>;<100>;\", \"iteration\": \"<0>;<1>;<2>;<3>;<4>;<5>;<6>;<7>;<8>;<9>;<10>;<11>;<12>;<13>;<14>;<15>;<16>;<17>;<18>;<19>;<20>;<21>;<22>;<23>;<24>;<25>;<26>;<27>;<28>;<29>;<30>;<31>;<32>;<33>;<34>;\", \"run_preprocessor\": \"<MaxAbsScaler>;<MaxAbsScaler>;<MinMaxScaler>;<StandardScalerWrapper>;<MinMaxScaler>;<StandardScalerWrapper>;<StandardScalerWrapper>;<RobustScaler>;<StandardScalerWrapper>;<StandardScalerWrapper>;<StandardScalerWrapper>;<MinMaxScaler>;<RobustScaler>;<MinMaxScaler>;<MinMaxScaler>;<MinMaxScaler>;<MinMaxScaler>;<StandardScalerWrapper>;<StandardScalerWrapper>;<RobustScaler>;<StandardScalerWrapper>;<MinMaxScaler>;<MinMaxScaler>;<SparseNormalizer>;<SparseNormalizer>;<MinMaxScaler>;<MaxAbsScaler>;<MaxAbsScaler>;<SparseNormalizer>;<SparseNormalizer>;<MaxAbsScaler>;<SparseNormalizer>;<>;<>;<>;\", \"run_algorithm\": \"<LightGBM>;<XGBoostClassifier>;<RandomForest>;<SGD>;<RandomForest>;<SGD>;<RandomForest>;<ExtremeRandomTrees>;<ExtremeRandomTrees>;<SGD>;<SGD>;<SGD>;<ExtremeRandomTrees>;<SGD>;<ExtremeRandomTrees>;<ExtremeRandomTrees>;<ExtremeRandomTrees>;<RandomForest>;<SGD>;<ExtremeRandomTrees>;<RandomForest>;<ExtremeRandomTrees>;<RandomForest>;<XGBoostClassifier>;<LightGBM>;<LightGBM>;<LogisticRegression>;<RandomForest>;<LightGBM>;<XGBoostClassifier>;<LightGBM>;<XGBoostClassifier>;<>;<VotingEnsemble>;<StackEnsemble>;\", \"dynamic_whitelisting_iterations\": \"<25>;<30>;\", \"automl_best_child_run_id\": \"AutoML_5196779e-7eba-482f-b878-8b06fd78c6bf_33\", \"model_explain_best_run_child_id\": \"AutoML_5196779e-7eba-482f-b878-8b06fd78c6bf_33\"}, \"end_time_utc\": \"2020-11-24T02:55:05.048886Z\", \"status\": \"Completed\", \"log_files\": {}, \"log_groups\": [], \"run_duration\": \"0:37:50\"}, \"child_runs\": [{\"run_id\": \"AutoML_5196779e-7eba-482f-b878-8b06fd78c6bf_0\", \"run_number\": 5, \"metric\": null, \"status\": \"Completed\", \"run_type\": \"azureml.scriptrun\", \"training_percent\": \"100\", \"start_time\": \"2020-11-24T02:22:26.423765Z\", \"end_time\": \"2020-11-24T02:23:09.474789Z\", \"created_time\": \"2020-11-24T02:22:08.571787Z\", \"created_time_dt\": \"2020-11-24T02:22:08.571787Z\", \"duration\": \"0:01:00\", \"iteration\": \"0\", \"goal\": \"accuracy_max\", \"run_name\": \"MaxAbsScaler, LightGBM\", \"run_properties\": \"copy=True\", \"primary_metric\": 0.82592593, \"best_metric\": 0.82592593}, {\"run_id\": \"AutoML_5196779e-7eba-482f-b878-8b06fd78c6bf_1\", \"run_number\": 6, \"metric\": null, \"status\": \"Completed\", \"run_type\": \"azureml.scriptrun\", \"training_percent\": \"100\", \"start_time\": \"2020-11-24T02:23:32.944068Z\", \"end_time\": \"2020-11-24T02:24:05.676708Z\", \"created_time\": \"2020-11-24T02:23:17.150126Z\", \"created_time_dt\": \"2020-11-24T02:23:17.150126Z\", \"duration\": \"0:00:48\", \"iteration\": \"1\", \"goal\": \"accuracy_max\", \"run_name\": \"MaxAbsScaler, XGBoostClassifier\", \"run_properties\": \"copy=True\", \"primary_metric\": 0.82599327, \"best_metric\": 0.82599327}, {\"run_id\": \"AutoML_5196779e-7eba-482f-b878-8b06fd78c6bf_2\", \"run_number\": 7, \"metric\": null, \"status\": \"Completed\", \"run_type\": \"azureml.scriptrun\", \"training_percent\": \"100\", \"start_time\": \"2020-11-24T02:24:22.462071Z\", \"end_time\": \"2020-11-24T02:24:55.839767Z\", \"created_time\": \"2020-11-24T02:24:09.37786Z\", \"created_time_dt\": \"2020-11-24T02:24:09.37786Z\", \"duration\": \"0:00:46\", \"iteration\": \"2\", \"goal\": \"accuracy_max\", \"run_name\": \"MinMaxScaler, RandomForest\", \"run_properties\": \"copy=True, feature_range=(0, 1\", \"primary_metric\": 0.85609428, \"best_metric\": 0.85609428}, {\"run_id\": \"AutoML_5196779e-7eba-482f-b878-8b06fd78c6bf_3\", \"run_number\": 8, \"metric\": null, \"status\": \"Completed\", \"run_type\": \"azureml.scriptrun\", \"training_percent\": \"100\", \"start_time\": \"2020-11-24T02:25:27.513969Z\", \"end_time\": \"2020-11-24T02:26:03.787602Z\", \"created_time\": \"2020-11-24T02:25:07.242552Z\", \"created_time_dt\": \"2020-11-24T02:25:07.242552Z\", \"duration\": \"0:00:56\", \"iteration\": \"3\", \"goal\": \"accuracy_max\", \"run_name\": \"StandardScalerWrapper, SGD\", \"run_properties\": \"<azureml.automl.runtime.shared.model_wrappers.StandardScalerWrapper object at 0x7f721403bef0\", \"primary_metric\": 0.8193266, \"best_metric\": 0.85609428}, {\"run_id\": \"AutoML_5196779e-7eba-482f-b878-8b06fd78c6bf_4\", \"run_number\": 9, \"metric\": null, \"status\": \"Completed\", \"run_type\": \"azureml.scriptrun\", \"training_percent\": \"100\", \"start_time\": \"2020-11-24T02:26:21.098985Z\", \"end_time\": \"2020-11-24T02:26:53.698998Z\", \"created_time\": \"2020-11-24T02:26:08.062214Z\", \"created_time_dt\": \"2020-11-24T02:26:08.062214Z\", \"duration\": \"0:00:45\", \"iteration\": \"4\", \"goal\": \"accuracy_max\", \"run_name\": \"MinMaxScaler, RandomForest\", \"run_properties\": \"copy=True, feature_range=(0, 1\", \"primary_metric\": 0.82599327, \"best_metric\": 0.85609428}, {\"run_id\": \"AutoML_5196779e-7eba-482f-b878-8b06fd78c6bf_5\", \"run_number\": 10, \"metric\": null, \"status\": \"Completed\", \"run_type\": \"azureml.scriptrun\", \"training_percent\": \"100\", \"start_time\": \"2020-11-24T02:27:20.126475Z\", \"end_time\": \"2020-11-24T02:27:58.362278Z\", \"created_time\": \"2020-11-24T02:27:06.043188Z\", \"created_time_dt\": \"2020-11-24T02:27:06.043188Z\", \"duration\": \"0:00:52\", \"iteration\": \"5\", \"goal\": \"accuracy_max\", \"run_name\": \"StandardScalerWrapper, SGD\", \"run_properties\": \"<azureml.automl.runtime.shared.model_wrappers.StandardScalerWrapper object at 0x7ffaf84085c0\", \"primary_metric\": 0.78565657, \"best_metric\": 0.85609428}, {\"run_id\": \"AutoML_5196779e-7eba-482f-b878-8b06fd78c6bf_6\", \"run_number\": 11, \"metric\": null, \"status\": \"Completed\", \"run_type\": \"azureml.scriptrun\", \"training_percent\": \"100\", \"start_time\": \"2020-11-24T02:28:19.718787Z\", \"end_time\": \"2020-11-24T02:28:50.30853Z\", \"created_time\": \"2020-11-24T02:28:02.602125Z\", \"created_time_dt\": \"2020-11-24T02:28:02.602125Z\", \"duration\": \"0:00:47\", \"iteration\": \"6\", \"goal\": \"accuracy_max\", \"run_name\": \"StandardScalerWrapper, RandomForest\", \"run_properties\": \"<azureml.automl.runtime.shared.model_wrappers.StandardScalerWrapper object at 0x7f10104cbe10\", \"primary_metric\": 0.8059596, \"best_metric\": 0.85609428}, {\"run_id\": \"AutoML_5196779e-7eba-482f-b878-8b06fd78c6bf_7\", \"run_number\": 12, \"metric\": null, \"status\": \"Completed\", \"run_type\": \"azureml.scriptrun\", \"training_percent\": \"100\", \"start_time\": \"2020-11-24T02:29:13.346596Z\", \"end_time\": \"2020-11-24T02:29:46.986853Z\", \"created_time\": \"2020-11-24T02:29:00.431825Z\", \"created_time_dt\": \"2020-11-24T02:29:00.431825Z\", \"duration\": \"0:00:46\", \"iteration\": \"7\", \"goal\": \"accuracy_max\", \"run_name\": \"RobustScaler, ExtremeRandomTrees\", \"run_properties\": \"copy=True, quantile_range=[10, 90], with_centering=False,\\n             with_scaling=False\", \"primary_metric\": 0.78259259, \"best_metric\": 0.85609428}, {\"run_id\": \"AutoML_5196779e-7eba-482f-b878-8b06fd78c6bf_8\", \"run_number\": 13, \"metric\": null, \"status\": \"Completed\", \"run_type\": \"azureml.scriptrun\", \"training_percent\": \"100\", \"start_time\": \"2020-11-24T02:30:15.536712Z\", \"end_time\": \"2020-11-24T02:30:48.556415Z\", \"created_time\": \"2020-11-24T02:29:58.865171Z\", \"created_time_dt\": \"2020-11-24T02:29:58.865171Z\", \"duration\": \"0:00:49\", \"iteration\": \"8\", \"goal\": \"accuracy_max\", \"run_name\": \"StandardScalerWrapper, ExtremeRandomTrees\", \"run_properties\": \"<azureml.automl.runtime.shared.model_wrappers.StandardScalerWrapper object at 0x7fe70d8d5358\", \"primary_metric\": 0.83592593, \"best_metric\": 0.85609428}, {\"run_id\": \"AutoML_5196779e-7eba-482f-b878-8b06fd78c6bf_9\", \"run_number\": 14, \"metric\": null, \"status\": \"Completed\", \"run_type\": \"azureml.scriptrun\", \"training_percent\": \"100\", \"start_time\": \"2020-11-24T02:31:07.545591Z\", \"end_time\": \"2020-11-24T02:31:45.922048Z\", \"created_time\": \"2020-11-24T02:30:56.561222Z\", \"created_time_dt\": \"2020-11-24T02:30:56.561222Z\", \"duration\": \"0:00:49\", \"iteration\": \"9\", \"goal\": \"accuracy_max\", \"run_name\": \"StandardScalerWrapper, SGD\", \"run_properties\": \"<azureml.automl.runtime.shared.model_wrappers.StandardScalerWrapper object at 0x7fbbc5675e10\", \"primary_metric\": 0.81602694, \"best_metric\": 0.85609428}, {\"run_id\": \"AutoML_5196779e-7eba-482f-b878-8b06fd78c6bf_10\", \"run_number\": 15, \"metric\": null, \"status\": \"Completed\", \"run_type\": \"azureml.scriptrun\", \"training_percent\": \"100\", \"start_time\": \"2020-11-24T02:32:07.903392Z\", \"end_time\": \"2020-11-24T02:32:34.460253Z\", \"created_time\": \"2020-11-24T02:31:55.982259Z\", \"created_time_dt\": \"2020-11-24T02:31:55.982259Z\", \"duration\": \"0:00:38\", \"iteration\": \"10\", \"goal\": \"accuracy_max\", \"run_name\": \"StandardScalerWrapper, SGD\", \"run_properties\": \"<azureml.automl.runtime.shared.model_wrappers.StandardScalerWrapper object at 0x7f2668f40320\", \"primary_metric\": 0.81259259, \"best_metric\": 0.85609428}, {\"run_id\": \"AutoML_5196779e-7eba-482f-b878-8b06fd78c6bf_11\", \"run_number\": 16, \"metric\": null, \"status\": \"Completed\", \"run_type\": \"azureml.scriptrun\", \"training_percent\": \"100\", \"start_time\": \"2020-11-24T02:32:57.579405Z\", \"end_time\": \"2020-11-24T02:33:33.281906Z\", \"created_time\": \"2020-11-24T02:32:45.414372Z\", \"created_time_dt\": \"2020-11-24T02:32:45.414372Z\", \"duration\": \"0:00:47\", \"iteration\": \"11\", \"goal\": \"accuracy_max\", \"run_name\": \"MinMaxScaler, SGD\", \"run_properties\": \"copy=True, feature_range=(0, 1\", \"primary_metric\": 0.77895623, \"best_metric\": 0.85609428}, {\"run_id\": \"AutoML_5196779e-7eba-482f-b878-8b06fd78c6bf_12\", \"run_number\": 17, \"metric\": null, \"status\": \"Completed\", \"run_type\": \"azureml.scriptrun\", \"training_percent\": \"100\", \"start_time\": \"2020-11-24T02:33:59.949772Z\", \"end_time\": \"2020-11-24T02:34:28.346512Z\", \"created_time\": \"2020-11-24T02:33:46.253748Z\", \"created_time_dt\": \"2020-11-24T02:33:46.253748Z\", \"duration\": \"0:00:42\", \"iteration\": \"12\", \"goal\": \"accuracy_max\", \"run_name\": \"RobustScaler, ExtremeRandomTrees\", \"run_properties\": \"copy=True, quantile_range=[10, 90], with_centering=False,\\n             with_scaling=False\", \"primary_metric\": 0.8059596, \"best_metric\": 0.85609428}, {\"run_id\": \"AutoML_5196779e-7eba-482f-b878-8b06fd78c6bf_13\", \"run_number\": 18, \"metric\": null, \"status\": \"Completed\", \"run_type\": \"azureml.scriptrun\", \"training_percent\": \"100\", \"start_time\": \"2020-11-24T02:34:44.242731Z\", \"end_time\": \"2020-11-24T02:35:21.910821Z\", \"created_time\": \"2020-11-24T02:34:33.916663Z\", \"created_time_dt\": \"2020-11-24T02:34:33.916663Z\", \"duration\": \"0:00:47\", \"iteration\": \"13\", \"goal\": \"accuracy_max\", \"run_name\": \"MinMaxScaler, SGD\", \"run_properties\": \"copy=True, feature_range=(0, 1\", \"primary_metric\": 0.79599327, \"best_metric\": 0.85609428}, {\"run_id\": \"AutoML_5196779e-7eba-482f-b878-8b06fd78c6bf_14\", \"run_number\": 19, \"metric\": null, \"status\": \"Completed\", \"run_type\": \"azureml.scriptrun\", \"training_percent\": \"100\", \"start_time\": \"2020-11-24T02:35:43.531219Z\", \"end_time\": \"2020-11-24T02:36:20.69238Z\", \"created_time\": \"2020-11-24T02:35:32.813063Z\", \"created_time_dt\": \"2020-11-24T02:35:32.813063Z\", \"duration\": \"0:00:47\", \"iteration\": \"14\", \"goal\": \"accuracy_max\", \"run_name\": \"MinMaxScaler, ExtremeRandomTrees\", \"run_properties\": \"copy=True, feature_range=(0, 1\", \"primary_metric\": 0.83939394, \"best_metric\": 0.85609428}, {\"run_id\": \"AutoML_5196779e-7eba-482f-b878-8b06fd78c6bf_15\", \"run_number\": 20, \"metric\": null, \"status\": \"Completed\", \"run_type\": \"azureml.scriptrun\", \"training_percent\": \"100\", \"start_time\": \"2020-11-24T02:36:44.190273Z\", \"end_time\": \"2020-11-24T02:37:22.385904Z\", \"created_time\": \"2020-11-24T02:36:31.263684Z\", \"created_time_dt\": \"2020-11-24T02:36:31.263684Z\", \"duration\": \"0:00:51\", \"iteration\": \"15\", \"goal\": \"accuracy_max\", \"run_name\": \"MinMaxScaler, ExtremeRandomTrees\", \"run_properties\": \"copy=True, feature_range=(0, 1\", \"primary_metric\": 0.75592593, \"best_metric\": 0.85609428}, {\"run_id\": \"AutoML_5196779e-7eba-482f-b878-8b06fd78c6bf_16\", \"run_number\": 21, \"metric\": null, \"status\": \"Completed\", \"run_type\": \"azureml.scriptrun\", \"training_percent\": \"100\", \"start_time\": \"2020-11-24T02:37:50.316865Z\", \"end_time\": \"2020-11-24T02:38:23.319935Z\", \"created_time\": \"2020-11-24T02:37:35.31124Z\", \"created_time_dt\": \"2020-11-24T02:37:35.31124Z\", \"duration\": \"0:00:48\", \"iteration\": \"16\", \"goal\": \"accuracy_max\", \"run_name\": \"MinMaxScaler, ExtremeRandomTrees\", \"run_properties\": \"copy=True, feature_range=(0, 1\", \"primary_metric\": 0.77259259, \"best_metric\": 0.85609428}, {\"run_id\": \"AutoML_5196779e-7eba-482f-b878-8b06fd78c6bf_17\", \"run_number\": 22, \"metric\": null, \"status\": \"Completed\", \"run_type\": \"azureml.scriptrun\", \"training_percent\": \"100\", \"start_time\": \"2020-11-24T02:38:51.395396Z\", \"end_time\": \"2020-11-24T02:39:30.037856Z\", \"created_time\": \"2020-11-24T02:38:33.665424Z\", \"created_time_dt\": \"2020-11-24T02:38:33.665424Z\", \"duration\": \"0:00:56\", \"iteration\": \"17\", \"goal\": \"accuracy_max\", \"run_name\": \"StandardScalerWrapper, RandomForest\", \"run_properties\": \"<azureml.automl.runtime.shared.model_wrappers.StandardScalerWrapper object at 0x7f94bc358dd8\", \"primary_metric\": 0.80589226, \"best_metric\": 0.85609428}, {\"run_id\": \"AutoML_5196779e-7eba-482f-b878-8b06fd78c6bf_18\", \"run_number\": 23, \"metric\": null, \"status\": \"Completed\", \"run_type\": \"azureml.scriptrun\", \"training_percent\": \"100\", \"start_time\": \"2020-11-24T02:39:42.630354Z\", \"end_time\": \"2020-11-24T02:40:17.656008Z\", \"created_time\": \"2020-11-24T02:39:32.426895Z\", \"created_time_dt\": \"2020-11-24T02:39:32.426895Z\", \"duration\": \"0:00:45\", \"iteration\": \"18\", \"goal\": \"accuracy_max\", \"run_name\": \"StandardScalerWrapper, SGD\", \"run_properties\": \"<azureml.automl.runtime.shared.model_wrappers.StandardScalerWrapper object at 0x7f131827f710\", \"primary_metric\": 0.7723569, \"best_metric\": 0.85609428}, {\"run_id\": \"AutoML_5196779e-7eba-482f-b878-8b06fd78c6bf_19\", \"run_number\": 24, \"metric\": null, \"status\": \"Completed\", \"run_type\": \"azureml.scriptrun\", \"training_percent\": \"100\", \"start_time\": \"2020-11-24T02:40:40.893925Z\", \"end_time\": \"2020-11-24T02:41:17.52351Z\", \"created_time\": \"2020-11-24T02:40:23.847472Z\", \"created_time_dt\": \"2020-11-24T02:40:23.847472Z\", \"duration\": \"0:00:53\", \"iteration\": \"19\", \"goal\": \"accuracy_max\", \"run_name\": \"RobustScaler, ExtremeRandomTrees\", \"run_properties\": \"copy=True, quantile_range=[25, 75], with_centering=True,\\n             with_scaling=False\", \"primary_metric\": 0.84606061, \"best_metric\": 0.85609428}, {\"run_id\": \"AutoML_5196779e-7eba-482f-b878-8b06fd78c6bf_20\", \"run_number\": 25, \"metric\": null, \"status\": \"Completed\", \"run_type\": \"azureml.scriptrun\", \"training_percent\": \"100\", \"start_time\": \"2020-11-24T02:41:38.176051Z\", \"end_time\": \"2020-11-24T02:42:12.034214Z\", \"created_time\": \"2020-11-24T02:41:19.965028Z\", \"created_time_dt\": \"2020-11-24T02:41:19.965028Z\", \"duration\": \"0:00:52\", \"iteration\": \"20\", \"goal\": \"accuracy_max\", \"run_name\": \"StandardScalerWrapper, RandomForest\", \"run_properties\": \"<azureml.automl.runtime.shared.model_wrappers.StandardScalerWrapper object at 0x7f669a904198\", \"primary_metric\": 0.80255892, \"best_metric\": 0.85609428}, {\"run_id\": \"AutoML_5196779e-7eba-482f-b878-8b06fd78c6bf_21\", \"run_number\": 26, \"metric\": null, \"status\": \"Completed\", \"run_type\": \"azureml.scriptrun\", \"training_percent\": \"100\", \"start_time\": \"2020-11-24T02:42:29.783942Z\", \"end_time\": \"2020-11-24T02:42:58.983422Z\", \"created_time\": \"2020-11-24T02:42:17.395967Z\", \"created_time_dt\": \"2020-11-24T02:42:17.395967Z\", \"duration\": \"0:00:41\", \"iteration\": \"21\", \"goal\": \"accuracy_max\", \"run_name\": \"MinMaxScaler, ExtremeRandomTrees\", \"run_properties\": \"copy=True, feature_range=(0, 1\", \"primary_metric\": 0.80259259, \"best_metric\": 0.85609428}, {\"run_id\": \"AutoML_5196779e-7eba-482f-b878-8b06fd78c6bf_22\", \"run_number\": 27, \"metric\": null, \"status\": \"Completed\", \"run_type\": \"azureml.scriptrun\", \"training_percent\": \"100\", \"start_time\": \"2020-11-24T02:43:13.263643Z\", \"end_time\": \"2020-11-24T02:43:42.221307Z\", \"created_time\": \"2020-11-24T02:43:02.667506Z\", \"created_time_dt\": \"2020-11-24T02:43:02.667506Z\", \"duration\": \"0:00:39\", \"iteration\": \"22\", \"goal\": \"accuracy_max\", \"run_name\": \"MinMaxScaler, RandomForest\", \"run_properties\": \"copy=True, feature_range=(0, 1\", \"primary_metric\": 0.84606061, \"best_metric\": 0.85609428}, {\"run_id\": \"AutoML_5196779e-7eba-482f-b878-8b06fd78c6bf_23\", \"run_number\": 28, \"metric\": null, \"status\": \"Completed\", \"run_type\": \"azureml.scriptrun\", \"training_percent\": \"100\", \"start_time\": \"2020-11-24T02:44:00.539871Z\", \"end_time\": \"2020-11-24T02:44:29.167163Z\", \"created_time\": \"2020-11-24T02:43:47.74805Z\", \"created_time_dt\": \"2020-11-24T02:43:47.74805Z\", \"duration\": \"0:00:41\", \"iteration\": \"23\", \"goal\": \"accuracy_max\", \"run_name\": \"SparseNormalizer, XGBoostClassifier\", \"run_properties\": \"<azureml.automl.runtime.shared.model_wrappers.SparseNormalizer object at 0x7f00cc03eb38\", \"primary_metric\": 0.81925926, \"best_metric\": 0.85609428}, {\"run_id\": \"AutoML_5196779e-7eba-482f-b878-8b06fd78c6bf_24\", \"run_number\": 29, \"metric\": null, \"status\": \"Completed\", \"run_type\": \"azureml.scriptrun\", \"training_percent\": \"100\", \"start_time\": \"2020-11-24T02:44:46.014883Z\", \"end_time\": \"2020-11-24T02:45:18.307175Z\", \"created_time\": \"2020-11-24T02:44:34.740003Z\", \"created_time_dt\": \"2020-11-24T02:44:34.740003Z\", \"duration\": \"0:00:43\", \"iteration\": \"24\", \"goal\": \"accuracy_max\", \"run_name\": \"SparseNormalizer, LightGBM\", \"run_properties\": \"<azureml.automl.runtime.shared.model_wrappers.SparseNormalizer object at 0x7f7c2e5cf6a0\", \"primary_metric\": 0.86279461, \"best_metric\": 0.86279461}, {\"run_id\": \"AutoML_5196779e-7eba-482f-b878-8b06fd78c6bf_25\", \"run_number\": 30, \"metric\": null, \"status\": \"Completed\", \"run_type\": \"azureml.scriptrun\", \"training_percent\": \"100\", \"start_time\": \"2020-11-24T02:45:35.032Z\", \"end_time\": \"2020-11-24T02:46:10.989862Z\", \"created_time\": \"2020-11-24T02:45:22.808711Z\", \"created_time_dt\": \"2020-11-24T02:45:22.808711Z\", \"duration\": \"0:00:48\", \"iteration\": \"25\", \"goal\": \"accuracy_max\", \"run_name\": \"MinMaxScaler, LightGBM\", \"run_properties\": \"copy=True, feature_range=(0, 1\", \"primary_metric\": 0.6789899, \"best_metric\": 0.86279461}, {\"run_id\": \"AutoML_5196779e-7eba-482f-b878-8b06fd78c6bf_26\", \"run_number\": 31, \"metric\": null, \"status\": \"Completed\", \"run_type\": \"azureml.scriptrun\", \"training_percent\": \"100\", \"start_time\": \"2020-11-24T02:46:32.549028Z\", \"end_time\": \"2020-11-24T02:47:26.891528Z\", \"created_time\": \"2020-11-24T02:46:19.801849Z\", \"created_time_dt\": \"2020-11-24T02:46:19.801849Z\", \"duration\": \"0:01:07\", \"iteration\": \"26\", \"goal\": \"accuracy_max\", \"run_name\": \"MaxAbsScaler, LogisticRegression\", \"run_properties\": \"copy=True\", \"primary_metric\": 0.82265993, \"best_metric\": 0.86279461}, {\"run_id\": \"AutoML_5196779e-7eba-482f-b878-8b06fd78c6bf_27\", \"run_number\": 32, \"metric\": null, \"status\": \"Completed\", \"run_type\": \"azureml.scriptrun\", \"training_percent\": \"100\", \"start_time\": \"2020-11-24T02:47:51.92391Z\", \"end_time\": \"2020-11-24T02:48:30.209943Z\", \"created_time\": \"2020-11-24T02:47:37.820751Z\", \"created_time_dt\": \"2020-11-24T02:47:37.820751Z\", \"duration\": \"0:00:52\", \"iteration\": \"27\", \"goal\": \"accuracy_max\", \"run_name\": \"MaxAbsScaler, RandomForest\", \"run_properties\": \"copy=True\", \"primary_metric\": 0.84936027, \"best_metric\": 0.86279461}, {\"run_id\": \"AutoML_5196779e-7eba-482f-b878-8b06fd78c6bf_28\", \"run_number\": 33, \"metric\": null, \"status\": \"Completed\", \"run_type\": \"azureml.scriptrun\", \"training_percent\": \"100\", \"start_time\": \"2020-11-24T02:48:48.274135Z\", \"end_time\": \"2020-11-24T02:49:23.560293Z\", \"created_time\": \"2020-11-24T02:48:34.636085Z\", \"created_time_dt\": \"2020-11-24T02:48:34.636085Z\", \"duration\": \"0:00:48\", \"iteration\": \"28\", \"goal\": \"accuracy_max\", \"run_name\": \"SparseNormalizer, LightGBM\", \"run_properties\": \"<azureml.automl.runtime.shared.model_wrappers.SparseNormalizer object at 0x7f962e180c50\", \"primary_metric\": 0.84609428, \"best_metric\": 0.86279461}, {\"run_id\": \"AutoML_5196779e-7eba-482f-b878-8b06fd78c6bf_29\", \"run_number\": 34, \"metric\": null, \"status\": \"Completed\", \"run_type\": \"azureml.scriptrun\", \"training_percent\": \"100\", \"start_time\": \"2020-11-24T02:49:39.631403Z\", \"end_time\": \"2020-11-24T02:50:10.045029Z\", \"created_time\": \"2020-11-24T02:49:28.453053Z\", \"created_time_dt\": \"2020-11-24T02:49:28.453053Z\", \"duration\": \"0:00:41\", \"iteration\": \"29\", \"goal\": \"accuracy_max\", \"run_name\": \"SparseNormalizer, XGBoostClassifier\", \"run_properties\": \"<azureml.automl.runtime.shared.model_wrappers.SparseNormalizer object at 0x7f6da8461eb8\", \"primary_metric\": 0.82272727, \"best_metric\": 0.86279461}, {\"run_id\": \"AutoML_5196779e-7eba-482f-b878-8b06fd78c6bf_30\", \"run_number\": 35, \"metric\": null, \"status\": \"Completed\", \"run_type\": \"azureml.scriptrun\", \"training_percent\": \"100\", \"start_time\": \"2020-11-24T02:50:28.897229Z\", \"end_time\": \"2020-11-24T02:50:55.88958Z\", \"created_time\": \"2020-11-24T02:50:15.770209Z\", \"created_time_dt\": \"2020-11-24T02:50:15.770209Z\", \"duration\": \"0:00:40\", \"iteration\": \"30\", \"goal\": \"accuracy_max\", \"run_name\": \"MaxAbsScaler, LightGBM\", \"run_properties\": \"copy=True\", \"primary_metric\": 0.84606061, \"best_metric\": 0.86279461}, {\"run_id\": \"AutoML_5196779e-7eba-482f-b878-8b06fd78c6bf_31\", \"run_number\": 36, \"metric\": null, \"status\": \"Completed\", \"run_type\": \"azureml.scriptrun\", \"training_percent\": \"100\", \"start_time\": \"2020-11-24T02:51:14.845072Z\", \"end_time\": \"2020-11-24T02:51:45.388858Z\", \"created_time\": \"2020-11-24T02:51:02.425444Z\", \"created_time_dt\": \"2020-11-24T02:51:02.425444Z\", \"duration\": \"0:00:42\", \"iteration\": \"31\", \"goal\": \"accuracy_max\", \"run_name\": \"SparseNormalizer, XGBoostClassifier\", \"run_properties\": \"<azureml.automl.runtime.shared.model_wrappers.SparseNormalizer object at 0x7fcbc10970f0\", \"primary_metric\": 0.83609428, \"best_metric\": 0.86279461}, {\"run_id\": \"AutoML_5196779e-7eba-482f-b878-8b06fd78c6bf_32\", \"run_number\": 37, \"metric\": null, \"status\": \"Canceled\", \"run_type\": \"azureml.scriptrun\", \"training_percent\": \"100\", \"start_time\": \"2020-11-24T02:52:06.609988Z\", \"end_time\": \"2020-11-24T02:52:21.699117Z\", \"created_time\": \"2020-11-24T02:51:49.146005Z\", \"created_time_dt\": \"2020-11-24T02:51:49.146005Z\", \"duration\": \"0:00:32\", \"iteration\": \"32\", \"goal\": null, \"run_name\": \"Canceled\", \"run_properties\": null}, {\"run_id\": \"AutoML_5196779e-7eba-482f-b878-8b06fd78c6bf_33\", \"run_number\": 38, \"metric\": null, \"status\": \"Completed\", \"run_type\": \"azureml.scriptrun\", \"training_percent\": \"100\", \"start_time\": \"2020-11-24T02:52:38.422277Z\", \"end_time\": \"2020-11-24T02:53:34.43403Z\", \"created_time\": \"2020-11-24T02:52:25.58866Z\", \"created_time_dt\": \"2020-11-24T02:52:25.58866Z\", \"duration\": \"0:01:08\", \"iteration\": \"33\", \"goal\": \"accuracy_max\", \"run_name\": \"VotingEnsemble\", \"run_properties\": \"classification_labels=None,\\n                              estimators=[('24',\\n                                           Pipeline(memory=None,\\n                                                    steps=[('sparsenormalizer',\\n                                                            <azureml.automl.runtime.shared.model_wrappers.SparseNormalizer object at 0x7fcca01f0390>\", \"primary_metric\": 0.87286195, \"best_metric\": 0.87286195}, {\"run_id\": \"AutoML_5196779e-7eba-482f-b878-8b06fd78c6bf_34\", \"run_number\": 39, \"metric\": null, \"status\": \"Completed\", \"run_type\": \"azureml.scriptrun\", \"training_percent\": \"100\", \"start_time\": \"2020-11-24T02:53:56.934058Z\", \"end_time\": \"2020-11-24T02:54:58.590945Z\", \"created_time\": \"2020-11-24T02:53:43.455065Z\", \"created_time_dt\": \"2020-11-24T02:53:43.455065Z\", \"duration\": \"0:01:15\", \"iteration\": \"34\", \"goal\": \"accuracy_max\", \"run_name\": \"StackEnsemble\", \"run_properties\": \"base_learners=[('24',\\n                                        Pipeline(memory=None,\\n                                                 steps=[('sparsenormalizer',\\n                                                         <azureml.automl.runtime.shared.model_wrappers.SparseNormalizer object at 0x7f0110bc49e8>\", \"primary_metric\": 0.84612795, \"best_metric\": 0.87286195}], \"children_metrics\": {\"categories\": [0], \"series\": {\"average_precision_score_weighted\": [{\"categories\": [\"0\", \"1\", \"2\", \"3\", \"4\", \"5\", \"6\", \"7\", \"8\", \"9\", \"10\", \"11\", \"12\", \"13\", \"14\", \"15\", \"16\", \"17\", \"18\", \"19\", \"20\", \"21\", \"22\", \"23\", \"24\", \"25\", \"26\", \"27\", \"28\", \"29\", \"30\", \"31\", \"33\", \"34\"], \"mode\": \"markers\", \"name\": \"average_precision_score_weighted\", \"stepped\": false, \"type\": \"scatter\", \"data\": [0.8977219335443646, 0.907002877554759, 0.88643397605116, 0.8825112738009068, 0.8997422672419835, 0.887327963326169, 0.913991770223722, 0.8997849284137048, 0.9053100493213962, 0.8827720932640561, 0.8796855965223874, 0.8628904152129646, 0.8599809605361696, 0.8681449725338982, 0.9052073414988309, 0.8753069488966442, 0.8756011373887573, 0.8976795261020095, 0.8883743653216839, 0.8864653382197737, 0.8899607889102618, 0.8669071846144428, 0.9210157198290659, 0.8887462924910268, 0.9163145967622451, 0.9129579583771074, 0.8799474277732501, 0.9148405358564871, 0.9021647286514524, 0.8969426911906485, 0.9064022151958792, 0.9066152775674213, 0.9253156875513913, 0.9287895289986122]}, {\"categories\": [\"0\", \"1\", \"2\", \"3\", \"4\", \"5\", \"6\", \"7\", \"8\", \"9\", \"10\", \"11\", \"12\", \"13\", \"14\", \"15\", \"16\", \"17\", \"18\", \"19\", \"20\", \"21\", \"22\", \"23\", \"24\", \"25\", \"26\", \"27\", \"28\", \"29\", \"30\", \"31\", \"33\", \"34\"], \"mode\": \"lines\", \"name\": \"average_precision_score_weighted_max\", \"stepped\": true, \"type\": \"scatter\", \"data\": [0.8977219335443646, 0.907002877554759, 0.907002877554759, 0.907002877554759, 0.907002877554759, 0.907002877554759, 0.913991770223722, 0.913991770223722, 0.913991770223722, 0.913991770223722, 0.913991770223722, 0.913991770223722, 0.913991770223722, 0.913991770223722, 0.913991770223722, 0.913991770223722, 0.913991770223722, 0.913991770223722, 0.913991770223722, 0.913991770223722, 0.913991770223722, 0.913991770223722, 0.9210157198290659, 0.9210157198290659, 0.9210157198290659, 0.9210157198290659, 0.9210157198290659, 0.9210157198290659, 0.9210157198290659, 0.9210157198290659, 0.9210157198290659, 0.9210157198290659, 0.9253156875513913, 0.9287895289986122]}], \"weighted_accuracy\": [{\"categories\": [\"0\", \"1\", \"2\", \"3\", \"4\", \"5\", \"6\", \"7\", \"8\", \"9\", \"10\", \"11\", \"12\", \"13\", \"14\", \"15\", \"16\", \"17\", \"18\", \"19\", \"20\", \"21\", \"22\", \"23\", \"24\", \"25\", \"26\", \"27\", \"28\", \"29\", \"30\", \"31\", \"33\", \"34\"], \"mode\": \"markers\", \"name\": \"weighted_accuracy\", \"stepped\": false, \"type\": \"scatter\", \"data\": [0.8518765369284775, 0.8581177688845031, 0.8781501233211241, 0.8425883182450861, 0.8657475162789563, 0.7752567029276012, 0.8394646719559544, 0.8381964907223244, 0.8517194225928186, 0.8413560994045531, 0.8407382877099585, 0.7752836269503316, 0.8167328449766172, 0.843859582900356, 0.8783763067942935, 0.8228466609600233, 0.8419160485553357, 0.8078715171629455, 0.7552970828019715, 0.8672113490065492, 0.8061014368517615, 0.8226725761703083, 0.874945818850279, 0.8400276065203021, 0.8833845021720218, 0.8051228382700453, 0.8473421777407921, 0.8761398096138393, 0.87693486672168, 0.854613794321705, 0.8768719803058521, 0.8729348667216797, 0.9018258031032834, 0.8703268844430729]}, {\"categories\": [\"0\", \"1\", \"2\", \"3\", \"4\", \"5\", \"6\", \"7\", \"8\", \"9\", \"10\", \"11\", \"12\", \"13\", \"14\", \"15\", \"16\", \"17\", \"18\", \"19\", \"20\", \"21\", \"22\", \"23\", \"24\", \"25\", \"26\", \"27\", \"28\", \"29\", \"30\", \"31\", \"33\", \"34\"], \"mode\": \"lines\", \"name\": \"weighted_accuracy_max\", \"stepped\": true, \"type\": \"scatter\", \"data\": [0.8518765369284775, 0.8581177688845031, 0.8781501233211241, 0.8781501233211241, 0.8781501233211241, 0.8781501233211241, 0.8781501233211241, 0.8781501233211241, 0.8781501233211241, 0.8781501233211241, 0.8781501233211241, 0.8781501233211241, 0.8781501233211241, 0.8781501233211241, 0.8783763067942935, 0.8783763067942935, 0.8783763067942935, 0.8783763067942935, 0.8783763067942935, 0.8783763067942935, 0.8783763067942935, 0.8783763067942935, 0.8783763067942935, 0.8783763067942935, 0.8833845021720218, 0.8833845021720218, 0.8833845021720218, 0.8833845021720218, 0.8833845021720218, 0.8833845021720218, 0.8833845021720218, 0.8833845021720218, 0.9018258031032834, 0.9018258031032834]}], \"matthews_correlation\": [{\"categories\": [\"0\", \"1\", \"2\", \"3\", \"4\", \"5\", \"6\", \"7\", \"8\", \"9\", \"10\", \"11\", \"12\", \"13\", \"14\", \"15\", \"16\", \"17\", \"18\", \"19\", \"20\", \"21\", \"22\", \"23\", \"24\", \"25\", \"26\", \"27\", \"28\", \"29\", \"30\", \"31\", \"33\", \"34\"], \"mode\": \"markers\", \"name\": \"matthews_correlation\", \"stepped\": false, \"type\": \"scatter\", \"data\": [0.6061286118162602, 0.6030401714674086, 0.6686242536892065, 0.5903487232229286, 0.5983308762288355, 0.5693318113278757, 0.5609059829048678, 0.4963089638378129, 0.634770126242192, 0.582275186484302, 0.5610745626174859, 0.5411633116737145, 0.5676367012924727, 0.51781791970803, 0.6262837343025756, 0.41492678441679925, 0.47023413620444104, 0.5921378199952723, 0.5566593984406011, 0.6429685798971476, 0.573650119466906, 0.5530311127601036, 0.6522773531471779, 0.5980355439869578, 0.6904727142128569, 0.0, 0.5941514875493622, 0.6533920313388916, 0.6478393207648884, 0.59362989633841, 0.6484894243827685, 0.6179065457668581, 0.7126073471108848, 0.6601302102602713]}, {\"categories\": [\"0\", \"1\", \"2\", \"3\", \"4\", \"5\", \"6\", \"7\", \"8\", \"9\", \"10\", \"11\", \"12\", \"13\", \"14\", \"15\", \"16\", \"17\", \"18\", \"19\", \"20\", \"21\", \"22\", \"23\", \"24\", \"25\", \"26\", \"27\", \"28\", \"29\", \"30\", \"31\", \"33\", \"34\"], \"mode\": \"lines\", \"name\": \"matthews_correlation_max\", \"stepped\": true, \"type\": \"scatter\", \"data\": [0.6061286118162602, 0.6061286118162602, 0.6686242536892065, 0.6686242536892065, 0.6686242536892065, 0.6686242536892065, 0.6686242536892065, 0.6686242536892065, 0.6686242536892065, 0.6686242536892065, 0.6686242536892065, 0.6686242536892065, 0.6686242536892065, 0.6686242536892065, 0.6686242536892065, 0.6686242536892065, 0.6686242536892065, 0.6686242536892065, 0.6686242536892065, 0.6686242536892065, 0.6686242536892065, 0.6686242536892065, 0.6686242536892065, 0.6686242536892065, 0.6904727142128569, 0.6904727142128569, 0.6904727142128569, 0.6904727142128569, 0.6904727142128569, 0.6904727142128569, 0.6904727142128569, 0.6904727142128569, 0.7126073471108848, 0.7126073471108848]}], \"recall_score_macro\": [{\"categories\": [\"0\", \"1\", \"2\", \"3\", \"4\", \"5\", \"6\", \"7\", \"8\", \"9\", \"10\", \"11\", \"12\", \"13\", \"14\", \"15\", \"16\", \"17\", \"18\", \"19\", \"20\", \"21\", \"22\", \"23\", \"24\", \"25\", \"26\", \"27\", \"28\", \"29\", \"30\", \"31\", \"33\", \"34\"], \"mode\": \"markers\", \"name\": \"recall_score_macro\", \"stepped\": false, \"type\": \"scatter\", \"data\": [0.7924492893418248, 0.7839119650592231, 0.8263081322780804, 0.7874622004141928, 0.7718829795519767, 0.7990656896989016, 0.7630141212981769, 0.7070113613442693, 0.8144470006969783, 0.7817475780505778, 0.7756134906227471, 0.7845263443791403, 0.7916270547377545, 0.7278108692656566, 0.7847798127944433, 0.6640916017118904, 0.6784140450100153, 0.805829214371731, 0.7948423211571836, 0.8174492394150176, 0.7990483551114066, 0.7755601288511044, 0.8075976019155918, 0.793491321722355, 0.8366526272484537, 0.5, 0.7889897809810819, 0.8125534166911308, 0.8059550898382971, 0.7807718684408657, 0.8057618531233212, 0.7859550898382971, 0.8342784078540859, 0.8156257127051743]}, {\"categories\": [\"0\", \"1\", \"2\", \"3\", \"4\", \"5\", \"6\", \"7\", \"8\", \"9\", \"10\", \"11\", \"12\", \"13\", \"14\", \"15\", \"16\", \"17\", \"18\", \"19\", \"20\", \"21\", \"22\", \"23\", \"24\", \"25\", \"26\", \"27\", \"28\", \"29\", \"30\", \"31\", \"33\", \"34\"], \"mode\": \"lines\", \"name\": \"recall_score_macro_max\", \"stepped\": true, \"type\": \"scatter\", \"data\": [0.7924492893418248, 0.7924492893418248, 0.8263081322780804, 0.8263081322780804, 0.8263081322780804, 0.8263081322780804, 0.8263081322780804, 0.8263081322780804, 0.8263081322780804, 0.8263081322780804, 0.8263081322780804, 0.8263081322780804, 0.8263081322780804, 0.8263081322780804, 0.8263081322780804, 0.8263081322780804, 0.8263081322780804, 0.8263081322780804, 0.8263081322780804, 0.8263081322780804, 0.8263081322780804, 0.8263081322780804, 0.8263081322780804, 0.8263081322780804, 0.8366526272484537, 0.8366526272484537, 0.8366526272484537, 0.8366526272484537, 0.8366526272484537, 0.8366526272484537, 0.8366526272484537, 0.8366526272484537, 0.8366526272484537, 0.8366526272484537]}], \"log_loss\": [{\"categories\": [\"0\", \"1\", \"2\", \"3\", \"4\", \"5\", \"6\", \"7\", \"8\", \"9\", \"10\", \"11\", \"12\", \"13\", \"14\", \"15\", \"16\", \"17\", \"18\", \"19\", \"20\", \"21\", \"22\", \"23\", \"24\", \"25\", \"26\", \"27\", \"28\", \"29\", \"30\", \"31\", \"33\", \"34\"], \"mode\": \"markers\", \"name\": \"log_loss\", \"stepped\": false, \"type\": \"scatter\", \"data\": [0.4951966892314486, 0.4286740704307772, 0.40426279931875375, 0.4431636083681972, 0.4245529335819444, 0.5175149336215835, 0.365481981685505, 0.46548539950844187, 0.4783839917072658, 0.642162333824797, 0.4491225286741069, 0.5288208852567032, 0.5816346368608981, 0.48460475084686533, 0.41185686831789603, 0.49111004864123636, 0.4938251998483884, 0.43207843339315954, 0.5939210458447296, 0.44258867644230065, 0.4910699160994252, 0.5506410695096914, 0.38593918443959113, 0.42769132133528426, 0.3714781121943265, 0.5582735132589716, 0.46252072461108434, 0.41884361981524326, 0.4018665246172126, 0.4167701840635765, 0.41530910682985506, 0.42842244422648973, 0.3944115249639896, 0.39119607767078174]}, {\"categories\": [\"0\", \"1\", \"2\", \"3\", \"4\", \"5\", \"6\", \"7\", \"8\", \"9\", \"10\", \"11\", \"12\", \"13\", \"14\", \"15\", \"16\", \"17\", \"18\", \"19\", \"20\", \"21\", \"22\", \"23\", \"24\", \"25\", \"26\", \"27\", \"28\", \"29\", \"30\", \"31\", \"33\", \"34\"], \"mode\": \"lines\", \"name\": \"log_loss_min\", \"stepped\": true, \"type\": \"scatter\", \"data\": [0.4951966892314486, 0.4286740704307772, 0.40426279931875375, 0.40426279931875375, 0.40426279931875375, 0.40426279931875375, 0.365481981685505, 0.365481981685505, 0.365481981685505, 0.365481981685505, 0.365481981685505, 0.365481981685505, 0.365481981685505, 0.365481981685505, 0.365481981685505, 0.365481981685505, 0.365481981685505, 0.365481981685505, 0.365481981685505, 0.365481981685505, 0.365481981685505, 0.365481981685505, 0.365481981685505, 0.365481981685505, 0.365481981685505, 0.365481981685505, 0.365481981685505, 0.365481981685505, 0.365481981685505, 0.365481981685505, 0.365481981685505, 0.365481981685505, 0.365481981685505, 0.365481981685505]}], \"balanced_accuracy\": [{\"categories\": [\"0\", \"1\", \"2\", \"3\", \"4\", \"5\", \"6\", \"7\", \"8\", \"9\", \"10\", \"11\", \"12\", \"13\", \"14\", \"15\", \"16\", \"17\", \"18\", \"19\", \"20\", \"21\", \"22\", \"23\", \"24\", \"25\", \"26\", \"27\", \"28\", \"29\", \"30\", \"31\", \"33\", \"34\"], \"mode\": \"markers\", \"name\": \"balanced_accuracy\", \"stepped\": false, \"type\": \"scatter\", \"data\": [0.7924492893418248, 0.7839119650592231, 0.8263081322780804, 0.7874622004141928, 0.7718829795519767, 0.7990656896989016, 0.7630141212981769, 0.7070113613442693, 0.8144470006969783, 0.7817475780505778, 0.7756134906227471, 0.7845263443791403, 0.7916270547377545, 0.7278108692656566, 0.7847798127944433, 0.6640916017118904, 0.6784140450100153, 0.805829214371731, 0.7948423211571836, 0.8174492394150176, 0.7990483551114066, 0.7755601288511044, 0.8075976019155918, 0.793491321722355, 0.8366526272484537, 0.5, 0.7889897809810819, 0.8125534166911308, 0.8059550898382971, 0.7807718684408657, 0.8057618531233212, 0.7859550898382971, 0.8342784078540859, 0.8156257127051743]}, {\"categories\": [\"0\", \"1\", \"2\", \"3\", \"4\", \"5\", \"6\", \"7\", \"8\", \"9\", \"10\", \"11\", \"12\", \"13\", \"14\", \"15\", \"16\", \"17\", \"18\", \"19\", \"20\", \"21\", \"22\", \"23\", \"24\", \"25\", \"26\", \"27\", \"28\", \"29\", \"30\", \"31\", \"33\", \"34\"], \"mode\": \"lines\", \"name\": \"balanced_accuracy_max\", \"stepped\": true, \"type\": \"scatter\", \"data\": [0.7924492893418248, 0.7924492893418248, 0.8263081322780804, 0.8263081322780804, 0.8263081322780804, 0.8263081322780804, 0.8263081322780804, 0.8263081322780804, 0.8263081322780804, 0.8263081322780804, 0.8263081322780804, 0.8263081322780804, 0.8263081322780804, 0.8263081322780804, 0.8263081322780804, 0.8263081322780804, 0.8263081322780804, 0.8263081322780804, 0.8263081322780804, 0.8263081322780804, 0.8263081322780804, 0.8263081322780804, 0.8263081322780804, 0.8263081322780804, 0.8366526272484537, 0.8366526272484537, 0.8366526272484537, 0.8366526272484537, 0.8366526272484537, 0.8366526272484537, 0.8366526272484537, 0.8366526272484537, 0.8366526272484537, 0.8366526272484537]}], \"f1_score_micro\": [{\"categories\": [\"0\", \"1\", \"2\", \"3\", \"4\", \"5\", \"6\", \"7\", \"8\", \"9\", \"10\", \"11\", \"12\", \"13\", \"14\", \"15\", \"16\", \"17\", \"18\", \"19\", \"20\", \"21\", \"22\", \"23\", \"24\", \"25\", \"26\", \"27\", \"28\", \"29\", \"30\", \"31\", \"33\", \"34\"], \"mode\": \"markers\", \"name\": \"f1_score_micro\", \"stepped\": false, \"type\": \"scatter\", \"data\": [0.825925925925926, 0.825993265993266, 0.8560942760942761, 0.8193265993265993, 0.825993265993266, 0.7856565656565658, 0.805959595959596, 0.7825925925925925, 0.8359259259259259, 0.816026936026936, 0.8125925925925926, 0.778956228956229, 0.805959595959596, 0.7959932659932659, 0.8393939393939395, 0.755925925925926, 0.7725925925925926, 0.8058922558922559, 0.7723569023569024, 0.8460606060606061, 0.8025589225589226, 0.8025925925925925, 0.8460606060606062, 0.8192592592592592, 0.8627946127946128, 0.678989898989899, 0.8226599326599326, 0.8493602693602694, 0.8460942760942761, 0.8227272727272728, 0.8460606060606062, 0.8360942760942761, 0.8728619528619529, 0.8461279461279462]}, {\"categories\": [\"0\", \"1\", \"2\", \"3\", \"4\", \"5\", \"6\", \"7\", \"8\", \"9\", \"10\", \"11\", \"12\", \"13\", \"14\", \"15\", \"16\", \"17\", \"18\", \"19\", \"20\", \"21\", \"22\", \"23\", \"24\", \"25\", \"26\", \"27\", \"28\", \"29\", \"30\", \"31\", \"33\", \"34\"], \"mode\": \"lines\", \"name\": \"f1_score_micro_max\", \"stepped\": true, \"type\": \"scatter\", \"data\": [0.825925925925926, 0.825993265993266, 0.8560942760942761, 0.8560942760942761, 0.8560942760942761, 0.8560942760942761, 0.8560942760942761, 0.8560942760942761, 0.8560942760942761, 0.8560942760942761, 0.8560942760942761, 0.8560942760942761, 0.8560942760942761, 0.8560942760942761, 0.8560942760942761, 0.8560942760942761, 0.8560942760942761, 0.8560942760942761, 0.8560942760942761, 0.8560942760942761, 0.8560942760942761, 0.8560942760942761, 0.8560942760942761, 0.8560942760942761, 0.8627946127946128, 0.8627946127946128, 0.8627946127946128, 0.8627946127946128, 0.8627946127946128, 0.8627946127946128, 0.8627946127946128, 0.8627946127946128, 0.8728619528619529, 0.8728619528619529]}], \"f1_score_macro\": [{\"categories\": [\"0\", \"1\", \"2\", \"3\", \"4\", \"5\", \"6\", \"7\", \"8\", \"9\", \"10\", \"11\", \"12\", \"13\", \"14\", \"15\", \"16\", \"17\", \"18\", \"19\", \"20\", \"21\", \"22\", \"23\", \"24\", \"25\", \"26\", \"27\", \"28\", \"29\", \"30\", \"31\", \"33\", \"34\"], \"mode\": \"markers\", \"name\": \"f1_score_macro\", \"stepped\": false, \"type\": \"scatter\", \"data\": [0.796275898533339, 0.7893460959638977, 0.8317445363232933, 0.7877185164336867, 0.7851641632578964, 0.770381137453564, 0.7628675854844434, 0.7137268579821777, 0.8122231167683579, 0.7821911591943014, 0.7737294054091196, 0.7616492620599958, 0.7809031636382487, 0.7386744916255165, 0.8023093543637366, 0.6638553832249184, 0.6810259461992976, 0.7844140300300575, 0.7582141461316233, 0.8188864099134155, 0.7805736660245254, 0.7738237983267068, 0.816040822426522, 0.7885102191843, 0.8386811696497753, 0.4034516322252171, 0.7902024387336622, 0.8205629606170944, 0.8133436933436933, 0.7846868611806945, 0.8139939379679143, 0.7979095858945672, 0.8476510835015579, 0.8161160153636021]}, {\"categories\": [\"0\", \"1\", \"2\", \"3\", \"4\", \"5\", \"6\", \"7\", \"8\", \"9\", \"10\", \"11\", \"12\", \"13\", \"14\", \"15\", \"16\", \"17\", \"18\", \"19\", \"20\", \"21\", \"22\", \"23\", \"24\", \"25\", \"26\", \"27\", \"28\", \"29\", \"30\", \"31\", \"33\", \"34\"], \"mode\": \"lines\", \"name\": \"f1_score_macro_max\", \"stepped\": true, \"type\": \"scatter\", \"data\": [0.796275898533339, 0.796275898533339, 0.8317445363232933, 0.8317445363232933, 0.8317445363232933, 0.8317445363232933, 0.8317445363232933, 0.8317445363232933, 0.8317445363232933, 0.8317445363232933, 0.8317445363232933, 0.8317445363232933, 0.8317445363232933, 0.8317445363232933, 0.8317445363232933, 0.8317445363232933, 0.8317445363232933, 0.8317445363232933, 0.8317445363232933, 0.8317445363232933, 0.8317445363232933, 0.8317445363232933, 0.8317445363232933, 0.8317445363232933, 0.8386811696497753, 0.8386811696497753, 0.8386811696497753, 0.8386811696497753, 0.8386811696497753, 0.8386811696497753, 0.8386811696497753, 0.8386811696497753, 0.8476510835015579, 0.8476510835015579]}], \"precision_score_weighted\": [{\"categories\": [\"0\", \"1\", \"2\", \"3\", \"4\", \"5\", \"6\", \"7\", \"8\", \"9\", \"10\", \"11\", \"12\", \"13\", \"14\", \"15\", \"16\", \"17\", \"18\", \"19\", \"20\", \"21\", \"22\", \"23\", \"24\", \"25\", \"26\", \"27\", \"28\", \"29\", \"30\", \"31\", \"33\", \"34\"], \"mode\": \"markers\", \"name\": \"precision_score_weighted\", \"stepped\": false, \"type\": \"scatter\", \"data\": [0.8296778559936454, 0.8358295096304733, 0.8568460905302008, 0.828127158689001, 0.8351485548317741, 0.8226780543493463, 0.8201831260662211, 0.8046042160322813, 0.8455935010984493, 0.8248032859652424, 0.8182889243851811, 0.8057365094511878, 0.8148947166525531, 0.8075496385422856, 0.8451704203157595, 0.7766164871228162, 0.8106658829936723, 0.8299838106646584, 0.8210258369876877, 0.8485899057222587, 0.8204143224459589, 0.8053810017596783, 0.8552369852369853, 0.8339328808446455, 0.8699438185511245, 0.465455586164677, 0.8309118264544705, 0.8553389007682176, 0.8540008190008189, 0.8330454287496541, 0.8536672454958323, 0.843080073080073, 0.8796309979871623, 0.8618652483922652]}, {\"categories\": [\"0\", \"1\", \"2\", \"3\", \"4\", \"5\", \"6\", \"7\", \"8\", \"9\", \"10\", \"11\", \"12\", \"13\", \"14\", \"15\", \"16\", \"17\", \"18\", \"19\", \"20\", \"21\", \"22\", \"23\", \"24\", \"25\", \"26\", \"27\", \"28\", \"29\", \"30\", \"31\", \"33\", \"34\"], \"mode\": \"lines\", \"name\": \"precision_score_weighted_max\", \"stepped\": true, \"type\": \"scatter\", \"data\": [0.8296778559936454, 0.8358295096304733, 0.8568460905302008, 0.8568460905302008, 0.8568460905302008, 0.8568460905302008, 0.8568460905302008, 0.8568460905302008, 0.8568460905302008, 0.8568460905302008, 0.8568460905302008, 0.8568460905302008, 0.8568460905302008, 0.8568460905302008, 0.8568460905302008, 0.8568460905302008, 0.8568460905302008, 0.8568460905302008, 0.8568460905302008, 0.8568460905302008, 0.8568460905302008, 0.8568460905302008, 0.8568460905302008, 0.8568460905302008, 0.8699438185511245, 0.8699438185511245, 0.8699438185511245, 0.8699438185511245, 0.8699438185511245, 0.8699438185511245, 0.8699438185511245, 0.8699438185511245, 0.8796309979871623, 0.8796309979871623]}], \"recall_score_micro\": [{\"categories\": [\"0\", \"1\", \"2\", \"3\", \"4\", \"5\", \"6\", \"7\", \"8\", \"9\", \"10\", \"11\", \"12\", \"13\", \"14\", \"15\", \"16\", \"17\", \"18\", \"19\", \"20\", \"21\", \"22\", \"23\", \"24\", \"25\", \"26\", \"27\", \"28\", \"29\", \"30\", \"31\", \"33\", \"34\"], \"mode\": \"markers\", \"name\": \"recall_score_micro\", \"stepped\": false, \"type\": \"scatter\", \"data\": [0.825925925925926, 0.8259932659932661, 0.8560942760942761, 0.8193265993265993, 0.8259932659932661, 0.7856565656565658, 0.805959595959596, 0.7825925925925925, 0.8359259259259259, 0.816026936026936, 0.8125925925925926, 0.778956228956229, 0.805959595959596, 0.7959932659932659, 0.8393939393939395, 0.755925925925926, 0.7725925925925926, 0.8058922558922559, 0.7723569023569024, 0.8460606060606061, 0.8025589225589226, 0.8025925925925925, 0.8460606060606062, 0.8192592592592592, 0.8627946127946128, 0.678989898989899, 0.8226599326599326, 0.8493602693602694, 0.8460942760942761, 0.8227272727272728, 0.8460606060606062, 0.8360942760942761, 0.8728619528619529, 0.8461279461279462]}, {\"categories\": [\"0\", \"1\", \"2\", \"3\", \"4\", \"5\", \"6\", \"7\", \"8\", \"9\", \"10\", \"11\", \"12\", \"13\", \"14\", \"15\", \"16\", \"17\", \"18\", \"19\", \"20\", \"21\", \"22\", \"23\", \"24\", \"25\", \"26\", \"27\", \"28\", \"29\", \"30\", \"31\", \"33\", \"34\"], \"mode\": \"lines\", \"name\": \"recall_score_micro_max\", \"stepped\": true, \"type\": \"scatter\", \"data\": [0.825925925925926, 0.8259932659932661, 0.8560942760942761, 0.8560942760942761, 0.8560942760942761, 0.8560942760942761, 0.8560942760942761, 0.8560942760942761, 0.8560942760942761, 0.8560942760942761, 0.8560942760942761, 0.8560942760942761, 0.8560942760942761, 0.8560942760942761, 0.8560942760942761, 0.8560942760942761, 0.8560942760942761, 0.8560942760942761, 0.8560942760942761, 0.8560942760942761, 0.8560942760942761, 0.8560942760942761, 0.8560942760942761, 0.8560942760942761, 0.8627946127946128, 0.8627946127946128, 0.8627946127946128, 0.8627946127946128, 0.8627946127946128, 0.8627946127946128, 0.8627946127946128, 0.8627946127946128, 0.8728619528619529, 0.8728619528619529]}], \"precision_score_macro\": [{\"categories\": [\"0\", \"1\", \"2\", \"3\", \"4\", \"5\", \"6\", \"7\", \"8\", \"9\", \"10\", \"11\", \"12\", \"13\", \"14\", \"15\", \"16\", \"17\", \"18\", \"19\", \"20\", \"21\", \"22\", \"23\", \"24\", \"25\", \"26\", \"27\", \"28\", \"29\", \"30\", \"31\", \"33\", \"34\"], \"mode\": \"markers\", \"name\": \"precision_score_macro\", \"stepped\": false, \"type\": \"scatter\", \"data\": [0.8147546772260731, 0.8218409751026504, 0.8426337617624181, 0.8041256486511599, 0.8300473784206662, 0.771165652679683, 0.8025622883486635, 0.8029380982038671, 0.8210203517323418, 0.8021334658698788, 0.7870511841100076, 0.757596002978245, 0.7765335055029493, 0.7968829923273658, 0.8447233182448685, 0.7698263293200002, 0.8197474161656979, 0.7878409532219722, 0.7629449128136102, 0.825841991411045, 0.7756661376937468, 0.7777604952237306, 0.846870038174386, 0.806716105245517, 0.8549587422825461, 0.3394949494949495, 0.8063148023091192, 0.8420029659356034, 0.8441141141141141, 0.8155501306205531, 0.8448532311636132, 0.8344093744093745, 0.8801692055116712, 0.847916203716199]}, {\"categories\": [\"0\", \"1\", \"2\", \"3\", \"4\", \"5\", \"6\", \"7\", \"8\", \"9\", \"10\", \"11\", \"12\", \"13\", \"14\", \"15\", \"16\", \"17\", \"18\", \"19\", \"20\", \"21\", \"22\", \"23\", \"24\", \"25\", \"26\", \"27\", \"28\", \"29\", \"30\", \"31\", \"33\", \"34\"], \"mode\": \"lines\", \"name\": \"precision_score_macro_max\", \"stepped\": true, \"type\": \"scatter\", \"data\": [0.8147546772260731, 0.8218409751026504, 0.8426337617624181, 0.8426337617624181, 0.8426337617624181, 0.8426337617624181, 0.8426337617624181, 0.8426337617624181, 0.8426337617624181, 0.8426337617624181, 0.8426337617624181, 0.8426337617624181, 0.8426337617624181, 0.8426337617624181, 0.8447233182448685, 0.8447233182448685, 0.8447233182448685, 0.8447233182448685, 0.8447233182448685, 0.8447233182448685, 0.8447233182448685, 0.8447233182448685, 0.846870038174386, 0.846870038174386, 0.8549587422825461, 0.8549587422825461, 0.8549587422825461, 0.8549587422825461, 0.8549587422825461, 0.8549587422825461, 0.8549587422825461, 0.8549587422825461, 0.8801692055116712, 0.8801692055116712]}], \"average_precision_score_macro\": [{\"categories\": [\"0\", \"1\", \"2\", \"3\", \"4\", \"5\", \"6\", \"7\", \"8\", \"9\", \"10\", \"11\", \"12\", \"13\", \"14\", \"15\", \"16\", \"17\", \"18\", \"19\", \"20\", \"21\", \"22\", \"23\", \"24\", \"25\", \"26\", \"27\", \"28\", \"29\", \"30\", \"31\", \"33\", \"34\"], \"mode\": \"markers\", \"name\": \"average_precision_score_macro\", \"stepped\": false, \"type\": \"scatter\", \"data\": [0.8731198723526422, 0.8816256331225544, 0.8602602162038355, 0.8509325994278422, 0.8737921766220298, 0.857482912015069, 0.8872317934438376, 0.874744028330282, 0.8819108158586942, 0.8502367829138375, 0.8451689031665804, 0.8358383878499415, 0.8303482056897606, 0.8415733679781621, 0.8833209143270038, 0.8500528179696438, 0.8486021200811563, 0.871544558084863, 0.8581581364480678, 0.8592022452930408, 0.8669593781711514, 0.8444367223123811, 0.9013807049532288, 0.8615262500261549, 0.8953592241069748, 0.8899146004552362, 0.8476877555448978, 0.8945631312863013, 0.8792104258054491, 0.8695014581702015, 0.8832753309442894, 0.8838318192117077, 0.9057109865323957, 0.9090167302560438]}, {\"categories\": [\"0\", \"1\", \"2\", \"3\", \"4\", \"5\", \"6\", \"7\", \"8\", \"9\", \"10\", \"11\", \"12\", \"13\", \"14\", \"15\", \"16\", \"17\", \"18\", \"19\", \"20\", \"21\", \"22\", \"23\", \"24\", \"25\", \"26\", \"27\", \"28\", \"29\", \"30\", \"31\", \"33\", \"34\"], \"mode\": \"lines\", \"name\": \"average_precision_score_macro_max\", \"stepped\": true, \"type\": \"scatter\", \"data\": [0.8731198723526422, 0.8816256331225544, 0.8816256331225544, 0.8816256331225544, 0.8816256331225544, 0.8816256331225544, 0.8872317934438376, 0.8872317934438376, 0.8872317934438376, 0.8872317934438376, 0.8872317934438376, 0.8872317934438376, 0.8872317934438376, 0.8872317934438376, 0.8872317934438376, 0.8872317934438376, 0.8872317934438376, 0.8872317934438376, 0.8872317934438376, 0.8872317934438376, 0.8872317934438376, 0.8872317934438376, 0.9013807049532288, 0.9013807049532288, 0.9013807049532288, 0.9013807049532288, 0.9013807049532288, 0.9013807049532288, 0.9013807049532288, 0.9013807049532288, 0.9013807049532288, 0.9013807049532288, 0.9057109865323957, 0.9090167302560438]}], \"AUC_macro\": [{\"categories\": [\"0\", \"1\", \"2\", \"3\", \"4\", \"5\", \"6\", \"7\", \"8\", \"9\", \"10\", \"11\", \"12\", \"13\", \"14\", \"15\", \"16\", \"17\", \"18\", \"19\", \"20\", \"21\", \"22\", \"23\", \"24\", \"25\", \"26\", \"27\", \"28\", \"29\", \"30\", \"31\", \"33\", \"34\"], \"mode\": \"markers\", \"name\": \"AUC_macro\", \"stepped\": false, \"type\": \"scatter\", \"data\": [0.8852144920879325, 0.8951796527623838, 0.8842776476352334, 0.8702626243260713, 0.8896003908936168, 0.8753335599344694, 0.9080269532864819, 0.8987302699575754, 0.8930219689934557, 0.8762696907666694, 0.8654485926298712, 0.8535907224009601, 0.8535696114828996, 0.8570193605507659, 0.8971444310640599, 0.8682079117347303, 0.8555791976961773, 0.8880524732076109, 0.8766791568893336, 0.8780650808581286, 0.8756649796731325, 0.8532746348519739, 0.9119148427072578, 0.8818242613661705, 0.9087402350820364, 0.9086626088820456, 0.8699620148861769, 0.9068743387527217, 0.8901536100077285, 0.8900331149201937, 0.9032567107287384, 0.8925166266253672, 0.9204608880714207, 0.9224316373529738]}, {\"categories\": [\"0\", \"1\", \"2\", \"3\", \"4\", \"5\", \"6\", \"7\", \"8\", \"9\", \"10\", \"11\", \"12\", \"13\", \"14\", \"15\", \"16\", \"17\", \"18\", \"19\", \"20\", \"21\", \"22\", \"23\", \"24\", \"25\", \"26\", \"27\", \"28\", \"29\", \"30\", \"31\", \"33\", \"34\"], \"mode\": \"lines\", \"name\": \"AUC_macro_max\", \"stepped\": true, \"type\": \"scatter\", \"data\": [0.8852144920879325, 0.8951796527623838, 0.8951796527623838, 0.8951796527623838, 0.8951796527623838, 0.8951796527623838, 0.9080269532864819, 0.9080269532864819, 0.9080269532864819, 0.9080269532864819, 0.9080269532864819, 0.9080269532864819, 0.9080269532864819, 0.9080269532864819, 0.9080269532864819, 0.9080269532864819, 0.9080269532864819, 0.9080269532864819, 0.9080269532864819, 0.9080269532864819, 0.9080269532864819, 0.9080269532864819, 0.9119148427072578, 0.9119148427072578, 0.9119148427072578, 0.9119148427072578, 0.9119148427072578, 0.9119148427072578, 0.9119148427072578, 0.9119148427072578, 0.9119148427072578, 0.9119148427072578, 0.9204608880714207, 0.9224316373529738]}], \"AUC_weighted\": [{\"categories\": [\"0\", \"1\", \"2\", \"3\", \"4\", \"5\", \"6\", \"7\", \"8\", \"9\", \"10\", \"11\", \"12\", \"13\", \"14\", \"15\", \"16\", \"17\", \"18\", \"19\", \"20\", \"21\", \"22\", \"23\", \"24\", \"25\", \"26\", \"27\", \"28\", \"29\", \"30\", \"31\", \"33\", \"34\"], \"mode\": \"markers\", \"name\": \"AUC_weighted\", \"stepped\": false, \"type\": \"scatter\", \"data\": [0.8852144920879325, 0.8951796527623838, 0.8842776476352334, 0.8702626243260713, 0.8896003908936168, 0.8753335599344694, 0.9081822490088115, 0.8987302699575755, 0.8930219689934557, 0.8762696907666695, 0.8654485926298713, 0.8535907224009601, 0.8535696114828996, 0.857019360550766, 0.8971444310640599, 0.8682079117347302, 0.8555791976961774, 0.8880524732076109, 0.8766791568893336, 0.8780650808581285, 0.8756649796731325, 0.8532746348519739, 0.9119148427072578, 0.8818242613661705, 0.9087402350820364, 0.9086626088820456, 0.8699620148861769, 0.9068743387527219, 0.8901536100077286, 0.8900331149201937, 0.9032567107287384, 0.8925166266253672, 0.9204608880714207, 0.9224316373529738]}, {\"categories\": [\"0\", \"1\", \"2\", \"3\", \"4\", \"5\", \"6\", \"7\", \"8\", \"9\", \"10\", \"11\", \"12\", \"13\", \"14\", \"15\", \"16\", \"17\", \"18\", \"19\", \"20\", \"21\", \"22\", \"23\", \"24\", \"25\", \"26\", \"27\", \"28\", \"29\", \"30\", \"31\", \"33\", \"34\"], \"mode\": \"lines\", \"name\": \"AUC_weighted_max\", \"stepped\": true, \"type\": \"scatter\", \"data\": [0.8852144920879325, 0.8951796527623838, 0.8951796527623838, 0.8951796527623838, 0.8951796527623838, 0.8951796527623838, 0.9081822490088115, 0.9081822490088115, 0.9081822490088115, 0.9081822490088115, 0.9081822490088115, 0.9081822490088115, 0.9081822490088115, 0.9081822490088115, 0.9081822490088115, 0.9081822490088115, 0.9081822490088115, 0.9081822490088115, 0.9081822490088115, 0.9081822490088115, 0.9081822490088115, 0.9081822490088115, 0.9119148427072578, 0.9119148427072578, 0.9119148427072578, 0.9119148427072578, 0.9119148427072578, 0.9119148427072578, 0.9119148427072578, 0.9119148427072578, 0.9119148427072578, 0.9119148427072578, 0.9204608880714207, 0.9224316373529738]}], \"precision_score_micro\": [{\"categories\": [\"0\", \"1\", \"2\", \"3\", \"4\", \"5\", \"6\", \"7\", \"8\", \"9\", \"10\", \"11\", \"12\", \"13\", \"14\", \"15\", \"16\", \"17\", \"18\", \"19\", \"20\", \"21\", \"22\", \"23\", \"24\", \"25\", \"26\", \"27\", \"28\", \"29\", \"30\", \"31\", \"33\", \"34\"], \"mode\": \"markers\", \"name\": \"precision_score_micro\", \"stepped\": false, \"type\": \"scatter\", \"data\": [0.825925925925926, 0.8259932659932661, 0.8560942760942761, 0.8193265993265993, 0.8259932659932661, 0.7856565656565658, 0.805959595959596, 0.7825925925925925, 0.8359259259259259, 0.816026936026936, 0.8125925925925926, 0.778956228956229, 0.805959595959596, 0.7959932659932659, 0.8393939393939395, 0.755925925925926, 0.7725925925925926, 0.8058922558922559, 0.7723569023569024, 0.8460606060606061, 0.8025589225589226, 0.8025925925925925, 0.8460606060606062, 0.8192592592592592, 0.8627946127946128, 0.678989898989899, 0.8226599326599326, 0.8493602693602694, 0.8460942760942761, 0.8227272727272728, 0.8460606060606062, 0.8360942760942761, 0.8728619528619529, 0.8461279461279462]}, {\"categories\": [\"0\", \"1\", \"2\", \"3\", \"4\", \"5\", \"6\", \"7\", \"8\", \"9\", \"10\", \"11\", \"12\", \"13\", \"14\", \"15\", \"16\", \"17\", \"18\", \"19\", \"20\", \"21\", \"22\", \"23\", \"24\", \"25\", \"26\", \"27\", \"28\", \"29\", \"30\", \"31\", \"33\", \"34\"], \"mode\": \"lines\", \"name\": \"precision_score_micro_max\", \"stepped\": true, \"type\": \"scatter\", \"data\": [0.825925925925926, 0.8259932659932661, 0.8560942760942761, 0.8560942760942761, 0.8560942760942761, 0.8560942760942761, 0.8560942760942761, 0.8560942760942761, 0.8560942760942761, 0.8560942760942761, 0.8560942760942761, 0.8560942760942761, 0.8560942760942761, 0.8560942760942761, 0.8560942760942761, 0.8560942760942761, 0.8560942760942761, 0.8560942760942761, 0.8560942760942761, 0.8560942760942761, 0.8560942760942761, 0.8560942760942761, 0.8560942760942761, 0.8560942760942761, 0.8627946127946128, 0.8627946127946128, 0.8627946127946128, 0.8627946127946128, 0.8627946127946128, 0.8627946127946128, 0.8627946127946128, 0.8627946127946128, 0.8728619528619529, 0.8728619528619529]}], \"recall_score_weighted\": [{\"categories\": [\"0\", \"1\", \"2\", \"3\", \"4\", \"5\", \"6\", \"7\", \"8\", \"9\", \"10\", \"11\", \"12\", \"13\", \"14\", \"15\", \"16\", \"17\", \"18\", \"19\", \"20\", \"21\", \"22\", \"23\", \"24\", \"25\", \"26\", \"27\", \"28\", \"29\", \"30\", \"31\", \"33\", \"34\"], \"mode\": \"markers\", \"name\": \"recall_score_weighted\", \"stepped\": false, \"type\": \"scatter\", \"data\": [0.825925925925926, 0.8259932659932661, 0.8560942760942761, 0.8193265993265993, 0.8259932659932661, 0.7856565656565658, 0.805959595959596, 0.7825925925925925, 0.8359259259259259, 0.816026936026936, 0.8125925925925926, 0.778956228956229, 0.805959595959596, 0.7959932659932659, 0.8393939393939395, 0.755925925925926, 0.7725925925925926, 0.8058922558922559, 0.7723569023569024, 0.8460606060606061, 0.8025589225589226, 0.8025925925925925, 0.8460606060606062, 0.8192592592592592, 0.8627946127946128, 0.678989898989899, 0.8226599326599326, 0.8493602693602694, 0.8460942760942761, 0.8227272727272728, 0.8460606060606062, 0.8360942760942761, 0.8728619528619529, 0.8461279461279462]}, {\"categories\": [\"0\", \"1\", \"2\", \"3\", \"4\", \"5\", \"6\", \"7\", \"8\", \"9\", \"10\", \"11\", \"12\", \"13\", \"14\", \"15\", \"16\", \"17\", \"18\", \"19\", \"20\", \"21\", \"22\", \"23\", \"24\", \"25\", \"26\", \"27\", \"28\", \"29\", \"30\", \"31\", \"33\", \"34\"], \"mode\": \"lines\", \"name\": \"recall_score_weighted_max\", \"stepped\": true, \"type\": \"scatter\", \"data\": [0.825925925925926, 0.8259932659932661, 0.8560942760942761, 0.8560942760942761, 0.8560942760942761, 0.8560942760942761, 0.8560942760942761, 0.8560942760942761, 0.8560942760942761, 0.8560942760942761, 0.8560942760942761, 0.8560942760942761, 0.8560942760942761, 0.8560942760942761, 0.8560942760942761, 0.8560942760942761, 0.8560942760942761, 0.8560942760942761, 0.8560942760942761, 0.8560942760942761, 0.8560942760942761, 0.8560942760942761, 0.8560942760942761, 0.8560942760942761, 0.8627946127946128, 0.8627946127946128, 0.8627946127946128, 0.8627946127946128, 0.8627946127946128, 0.8627946127946128, 0.8627946127946128, 0.8627946127946128, 0.8728619528619529, 0.8728619528619529]}], \"f1_score_weighted\": [{\"categories\": [\"0\", \"1\", \"2\", \"3\", \"4\", \"5\", \"6\", \"7\", \"8\", \"9\", \"10\", \"11\", \"12\", \"13\", \"14\", \"15\", \"16\", \"17\", \"18\", \"19\", \"20\", \"21\", \"22\", \"23\", \"24\", \"25\", \"26\", \"27\", \"28\", \"29\", \"30\", \"31\", \"33\", \"34\"], \"mode\": \"markers\", \"name\": \"f1_score_weighted\", \"stepped\": false, \"type\": \"scatter\", \"data\": [0.8211819354480298, 0.8188619012721535, 0.8539942475815714, 0.8166267492449593, 0.8171093746843324, 0.7913135493160351, 0.7954127781274964, 0.7591460140626115, 0.8359743207543673, 0.8117939115523561, 0.8095313226891606, 0.7845898367861426, 0.8079223424460634, 0.7829439677269611, 0.8324215205861777, 0.722227504633027, 0.7361811256850554, 0.8075536372427274, 0.7784078176679619, 0.8448117640100127, 0.8062005679836043, 0.8014428553847454, 0.8407982446330382, 0.8163856383216924, 0.8599504187818439, 0.5510765335293636, 0.8201331535576543, 0.8464613718233757, 0.839746744837654, 0.8158706962230747, 0.839842439092136, 0.8289360091958794, 0.8679557274671411, 0.8400867848520682]}, {\"categories\": [\"0\", \"1\", \"2\", \"3\", \"4\", \"5\", \"6\", \"7\", \"8\", \"9\", \"10\", \"11\", \"12\", \"13\", \"14\", \"15\", \"16\", \"17\", \"18\", \"19\", \"20\", \"21\", \"22\", \"23\", \"24\", \"25\", \"26\", \"27\", \"28\", \"29\", \"30\", \"31\", \"33\", \"34\"], \"mode\": \"lines\", \"name\": \"f1_score_weighted_max\", \"stepped\": true, \"type\": \"scatter\", \"data\": [0.8211819354480298, 0.8211819354480298, 0.8539942475815714, 0.8539942475815714, 0.8539942475815714, 0.8539942475815714, 0.8539942475815714, 0.8539942475815714, 0.8539942475815714, 0.8539942475815714, 0.8539942475815714, 0.8539942475815714, 0.8539942475815714, 0.8539942475815714, 0.8539942475815714, 0.8539942475815714, 0.8539942475815714, 0.8539942475815714, 0.8539942475815714, 0.8539942475815714, 0.8539942475815714, 0.8539942475815714, 0.8539942475815714, 0.8539942475815714, 0.8599504187818439, 0.8599504187818439, 0.8599504187818439, 0.8599504187818439, 0.8599504187818439, 0.8599504187818439, 0.8599504187818439, 0.8599504187818439, 0.8679557274671411, 0.8679557274671411]}], \"AUC_micro\": [{\"categories\": [\"0\", \"1\", \"2\", \"3\", \"4\", \"5\", \"6\", \"7\", \"8\", \"9\", \"10\", \"11\", \"12\", \"13\", \"14\", \"15\", \"16\", \"17\", \"18\", \"19\", \"20\", \"21\", \"22\", \"23\", \"24\", \"25\", \"26\", \"27\", \"28\", \"29\", \"30\", \"31\", \"33\", \"34\"], \"mode\": \"markers\", \"name\": \"AUC_micro\", \"stepped\": false, \"type\": \"scatter\", \"data\": [0.8911140699928578, 0.897847063224841, 0.9006697343808455, 0.8799722749379315, 0.8897986668027071, 0.8533912389892189, 0.9050271791994015, 0.8820509505832739, 0.9035440159167432, 0.8820876713260551, 0.877833527191103, 0.8531563820018365, 0.8615739720436689, 0.868617790701629, 0.898940288405945, 0.8627629663639764, 0.8571539978913716, 0.8914771826004149, 0.843600717613849, 0.8936585654525048, 0.8799000238070945, 0.8655545114444104, 0.9104010339081047, 0.8862357310478522, 0.9164497670305751, 0.8534568785498079, 0.8782397884569603, 0.9081697309798319, 0.8994790429548005, 0.8918452028704554, 0.8949988368533823, 0.8965162670475801, 0.9193042478658641, 0.91020678842295]}, {\"categories\": [\"0\", \"1\", \"2\", \"3\", \"4\", \"5\", \"6\", \"7\", \"8\", \"9\", \"10\", \"11\", \"12\", \"13\", \"14\", \"15\", \"16\", \"17\", \"18\", \"19\", \"20\", \"21\", \"22\", \"23\", \"24\", \"25\", \"26\", \"27\", \"28\", \"29\", \"30\", \"31\", \"33\", \"34\"], \"mode\": \"lines\", \"name\": \"AUC_micro_max\", \"stepped\": true, \"type\": \"scatter\", \"data\": [0.8911140699928578, 0.897847063224841, 0.9006697343808455, 0.9006697343808455, 0.9006697343808455, 0.9006697343808455, 0.9050271791994015, 0.9050271791994015, 0.9050271791994015, 0.9050271791994015, 0.9050271791994015, 0.9050271791994015, 0.9050271791994015, 0.9050271791994015, 0.9050271791994015, 0.9050271791994015, 0.9050271791994015, 0.9050271791994015, 0.9050271791994015, 0.9050271791994015, 0.9050271791994015, 0.9050271791994015, 0.9104010339081047, 0.9104010339081047, 0.9164497670305751, 0.9164497670305751, 0.9164497670305751, 0.9164497670305751, 0.9164497670305751, 0.9164497670305751, 0.9164497670305751, 0.9164497670305751, 0.9193042478658641, 0.9193042478658641]}], \"accuracy\": [{\"categories\": [\"0\", \"1\", \"2\", \"3\", \"4\", \"5\", \"6\", \"7\", \"8\", \"9\", \"10\", \"11\", \"12\", \"13\", \"14\", \"15\", \"16\", \"17\", \"18\", \"19\", \"20\", \"21\", \"22\", \"23\", \"24\", \"25\", \"26\", \"27\", \"28\", \"29\", \"30\", \"31\", \"33\", \"34\"], \"mode\": \"markers\", \"name\": \"accuracy\", \"stepped\": false, \"type\": \"scatter\", \"data\": [0.825925925925926, 0.8259932659932661, 0.8560942760942761, 0.8193265993265993, 0.8259932659932661, 0.7856565656565658, 0.805959595959596, 0.7825925925925925, 0.8359259259259259, 0.816026936026936, 0.8125925925925926, 0.778956228956229, 0.805959595959596, 0.7959932659932659, 0.8393939393939395, 0.755925925925926, 0.7725925925925926, 0.8058922558922559, 0.7723569023569024, 0.8460606060606061, 0.8025589225589226, 0.8025925925925925, 0.8460606060606062, 0.8192592592592592, 0.8627946127946128, 0.678989898989899, 0.8226599326599326, 0.8493602693602694, 0.8460942760942761, 0.8227272727272728, 0.8460606060606062, 0.8360942760942761, 0.8728619528619529, 0.8461279461279462]}, {\"categories\": [\"0\", \"1\", \"2\", \"3\", \"4\", \"5\", \"6\", \"7\", \"8\", \"9\", \"10\", \"11\", \"12\", \"13\", \"14\", \"15\", \"16\", \"17\", \"18\", \"19\", \"20\", \"21\", \"22\", \"23\", \"24\", \"25\", \"26\", \"27\", \"28\", \"29\", \"30\", \"31\", \"33\", \"34\"], \"mode\": \"lines\", \"name\": \"accuracy_max\", \"stepped\": true, \"type\": \"scatter\", \"data\": [0.825925925925926, 0.8259932659932661, 0.8560942760942761, 0.8560942760942761, 0.8560942760942761, 0.8560942760942761, 0.8560942760942761, 0.8560942760942761, 0.8560942760942761, 0.8560942760942761, 0.8560942760942761, 0.8560942760942761, 0.8560942760942761, 0.8560942760942761, 0.8560942760942761, 0.8560942760942761, 0.8560942760942761, 0.8560942760942761, 0.8560942760942761, 0.8560942760942761, 0.8560942760942761, 0.8560942760942761, 0.8560942760942761, 0.8560942760942761, 0.8627946127946128, 0.8627946127946128, 0.8627946127946128, 0.8627946127946128, 0.8627946127946128, 0.8627946127946128, 0.8627946127946128, 0.8627946127946128, 0.8728619528619529, 0.8728619528619529]}], \"average_precision_score_micro\": [{\"categories\": [\"0\", \"1\", \"2\", \"3\", \"4\", \"5\", \"6\", \"7\", \"8\", \"9\", \"10\", \"11\", \"12\", \"13\", \"14\", \"15\", \"16\", \"17\", \"18\", \"19\", \"20\", \"21\", \"22\", \"23\", \"24\", \"25\", \"26\", \"27\", \"28\", \"29\", \"30\", \"31\", \"33\", \"34\"], \"mode\": \"markers\", \"name\": \"average_precision_score_micro\", \"stepped\": false, \"type\": \"scatter\", \"data\": [0.8938009858636106, 0.9026455376117112, 0.8973264742099586, 0.8793018664839223, 0.8943106260454989, 0.8490724718744168, 0.9088609323349656, 0.8867473248611466, 0.905761567906341, 0.8783411407410345, 0.8752778027763647, 0.8479632672424788, 0.8547286671754141, 0.8642615875025155, 0.8996374091308353, 0.860893929963396, 0.8592794643479585, 0.8923401970359593, 0.8379284339656042, 0.8883861922722965, 0.8841937072310068, 0.865187616975898, 0.9128189054961241, 0.8854576154265095, 0.9158078216044853, 0.8667091396181901, 0.8765220135554506, 0.9082147578000918, 0.8982713087180837, 0.8926469379443325, 0.8962331792174547, 0.8984479805184994, 0.9198963655465309, 0.9106999384658564]}, {\"categories\": [\"0\", \"1\", \"2\", \"3\", \"4\", \"5\", \"6\", \"7\", \"8\", \"9\", \"10\", \"11\", \"12\", \"13\", \"14\", \"15\", \"16\", \"17\", \"18\", \"19\", \"20\", \"21\", \"22\", \"23\", \"24\", \"25\", \"26\", \"27\", \"28\", \"29\", \"30\", \"31\", \"33\", \"34\"], \"mode\": \"lines\", \"name\": \"average_precision_score_micro_max\", \"stepped\": true, \"type\": \"scatter\", \"data\": [0.8938009858636106, 0.9026455376117112, 0.9026455376117112, 0.9026455376117112, 0.9026455376117112, 0.9026455376117112, 0.9088609323349656, 0.9088609323349656, 0.9088609323349656, 0.9088609323349656, 0.9088609323349656, 0.9088609323349656, 0.9088609323349656, 0.9088609323349656, 0.9088609323349656, 0.9088609323349656, 0.9088609323349656, 0.9088609323349656, 0.9088609323349656, 0.9088609323349656, 0.9088609323349656, 0.9088609323349656, 0.9128189054961241, 0.9128189054961241, 0.9158078216044853, 0.9158078216044853, 0.9158078216044853, 0.9158078216044853, 0.9158078216044853, 0.9158078216044853, 0.9158078216044853, 0.9158078216044853, 0.9198963655465309, 0.9198963655465309]}], \"norm_macro_recall\": [{\"categories\": [\"0\", \"1\", \"2\", \"3\", \"4\", \"5\", \"6\", \"7\", \"8\", \"9\", \"10\", \"11\", \"12\", \"13\", \"14\", \"15\", \"16\", \"17\", \"18\", \"19\", \"20\", \"21\", \"22\", \"23\", \"24\", \"25\", \"26\", \"27\", \"28\", \"29\", \"30\", \"31\", \"33\", \"34\"], \"mode\": \"markers\", \"name\": \"norm_macro_recall\", \"stepped\": false, \"type\": \"scatter\", \"data\": [0.5848985786836498, 0.5678239301184463, 0.6526162645561606, 0.5749244008283856, 0.5437659591039536, 0.5981313793978028, 0.5260282425963537, 0.4140227226885386, 0.6288940013939565, 0.5634951561011557, 0.5512269812454941, 0.5690526887582804, 0.5832541094755089, 0.4556217385313131, 0.5695596255888867, 0.32818320342378077, 0.3568280900200307, 0.6116584287434621, 0.5896846423143672, 0.6348984788300353, 0.5980967102228134, 0.5511202577022086, 0.6151952038311835, 0.5869826434447101, 0.6733052544969075, 0.0, 0.5779795619621635, 0.6251068333822616, 0.6119101796765941, 0.5615437368817314, 0.6115237062466424, 0.5719101796765941, 0.6685568157081718, 0.6312514254103484]}, {\"categories\": [\"0\", \"1\", \"2\", \"3\", \"4\", \"5\", \"6\", \"7\", \"8\", \"9\", \"10\", \"11\", \"12\", \"13\", \"14\", \"15\", \"16\", \"17\", \"18\", \"19\", \"20\", \"21\", \"22\", \"23\", \"24\", \"25\", \"26\", \"27\", \"28\", \"29\", \"30\", \"31\", \"33\", \"34\"], \"mode\": \"lines\", \"name\": \"norm_macro_recall_max\", \"stepped\": true, \"type\": \"scatter\", \"data\": [0.5848985786836498, 0.5848985786836498, 0.6526162645561606, 0.6526162645561606, 0.6526162645561606, 0.6526162645561606, 0.6526162645561606, 0.6526162645561606, 0.6526162645561606, 0.6526162645561606, 0.6526162645561606, 0.6526162645561606, 0.6526162645561606, 0.6526162645561606, 0.6526162645561606, 0.6526162645561606, 0.6526162645561606, 0.6526162645561606, 0.6526162645561606, 0.6526162645561606, 0.6526162645561606, 0.6526162645561606, 0.6526162645561606, 0.6526162645561606, 0.6733052544969075, 0.6733052544969075, 0.6733052544969075, 0.6733052544969075, 0.6733052544969075, 0.6733052544969075, 0.6733052544969075, 0.6733052544969075, 0.6733052544969075, 0.6733052544969075]}]}, \"metricName\": null, \"primaryMetricName\": \"accuracy\", \"showLegend\": false}, \"run_metrics\": [{\"name\": \"experiment_status\", \"run_id\": \"AutoML_5196779e-7eba-482f-b878-8b06fd78c6bf\", \"categories\": [0, 1, 2, 3, 4, 5, 6, 7, 8, 9, 10, 11, 12, 13], \"series\": [{\"data\": [\"DatasetEvaluation\", \"FeaturesGeneration\", \"DatasetFeaturization\", \"DatasetFeaturizationCompleted\", \"DatasetCrossValidationSplit\", \"ModelSelection\", \"BestRunExplainModel\", \"ModelExplanationDataSetSetup\", \"PickSurrogateModel\", \"EngineeredFeatureExplanations\", \"EngineeredFeatureExplanations\", \"RawFeaturesExplanations\", \"RawFeaturesExplanations\", \"BestRunExplainModel\"]}]}, {\"name\": \"experiment_status_description\", \"run_id\": \"AutoML_5196779e-7eba-482f-b878-8b06fd78c6bf\", \"categories\": [0, 1, 2, 3, 4, 5, 6, 7, 8, 9, 10, 11, 12, 13], \"series\": [{\"data\": [\"Gathering dataset statistics.\", \"Generating features for the dataset.\", \"Beginning to fit featurizers and featurize the dataset.\", \"Completed fit featurizers and featurizing the dataset.\", \"Generating individually featurized CV splits.\", \"Beginning model selection.\", \"Best run model explanations started\", \"Model explanations data setup completed\", \"Choosing LightGBM as the surrogate model for explanations\", \"Computation of engineered features started\", \"Computation of engineered features completed\", \"Computation of raw features started\", \"Computation of raw features completed\", \"Best run model explanations completed\"]}]}, {\"name\": \"precision_score_weighted\", \"run_id\": \"AutoML_5196779e-7eba-482f-b878-8b06fd78c6bf\", \"categories\": [0], \"series\": [{\"data\": [0.8796309979871623]}]}, {\"name\": \"weighted_accuracy\", \"run_id\": \"AutoML_5196779e-7eba-482f-b878-8b06fd78c6bf\", \"categories\": [0], \"series\": [{\"data\": [0.9018258031032834]}]}, {\"name\": \"matthews_correlation\", \"run_id\": \"AutoML_5196779e-7eba-482f-b878-8b06fd78c6bf\", \"categories\": [0], \"series\": [{\"data\": [0.7126073471108848]}]}, {\"name\": \"accuracy\", \"run_id\": \"AutoML_5196779e-7eba-482f-b878-8b06fd78c6bf\", \"categories\": [0], \"series\": [{\"data\": [0.8728619528619529]}]}, {\"name\": \"average_precision_score_micro\", \"run_id\": \"AutoML_5196779e-7eba-482f-b878-8b06fd78c6bf\", \"categories\": [0], \"series\": [{\"data\": [0.9198963655465309]}]}, {\"name\": \"balanced_accuracy\", \"run_id\": \"AutoML_5196779e-7eba-482f-b878-8b06fd78c6bf\", \"categories\": [0], \"series\": [{\"data\": [0.8342784078540859]}]}, {\"name\": \"precision_score_micro\", \"run_id\": \"AutoML_5196779e-7eba-482f-b878-8b06fd78c6bf\", \"categories\": [0], \"series\": [{\"data\": [0.8728619528619529]}]}, {\"name\": \"AUC_micro\", \"run_id\": \"AutoML_5196779e-7eba-482f-b878-8b06fd78c6bf\", \"categories\": [0], \"series\": [{\"data\": [0.9193042478658641]}]}, {\"name\": \"AUC_macro\", \"run_id\": \"AutoML_5196779e-7eba-482f-b878-8b06fd78c6bf\", \"categories\": [0], \"series\": [{\"data\": [0.9204608880714207]}]}, {\"name\": \"f1_score_micro\", \"run_id\": \"AutoML_5196779e-7eba-482f-b878-8b06fd78c6bf\", \"categories\": [0], \"series\": [{\"data\": [0.8728619528619529]}]}, {\"name\": \"norm_macro_recall\", \"run_id\": \"AutoML_5196779e-7eba-482f-b878-8b06fd78c6bf\", \"categories\": [0], \"series\": [{\"data\": [0.6685568157081718]}]}, {\"name\": \"recall_score_macro\", \"run_id\": \"AutoML_5196779e-7eba-482f-b878-8b06fd78c6bf\", \"categories\": [0], \"series\": [{\"data\": [0.8342784078540859]}]}, {\"name\": \"AUC_weighted\", \"run_id\": \"AutoML_5196779e-7eba-482f-b878-8b06fd78c6bf\", \"categories\": [0], \"series\": [{\"data\": [0.9204608880714207]}]}, {\"name\": \"precision_score_macro\", \"run_id\": \"AutoML_5196779e-7eba-482f-b878-8b06fd78c6bf\", \"categories\": [0], \"series\": [{\"data\": [0.8801692055116712]}]}, {\"name\": \"recall_score_weighted\", \"run_id\": \"AutoML_5196779e-7eba-482f-b878-8b06fd78c6bf\", \"categories\": [0], \"series\": [{\"data\": [0.8728619528619529]}]}, {\"name\": \"f1_score_weighted\", \"run_id\": \"AutoML_5196779e-7eba-482f-b878-8b06fd78c6bf\", \"categories\": [0], \"series\": [{\"data\": [0.8679557274671411]}]}, {\"name\": \"average_precision_score_weighted\", \"run_id\": \"AutoML_5196779e-7eba-482f-b878-8b06fd78c6bf\", \"categories\": [0], \"series\": [{\"data\": [0.9253156875513913]}]}, {\"name\": \"log_loss\", \"run_id\": \"AutoML_5196779e-7eba-482f-b878-8b06fd78c6bf\", \"categories\": [0], \"series\": [{\"data\": [0.3944115249639896]}]}, {\"name\": \"average_precision_score_macro\", \"run_id\": \"AutoML_5196779e-7eba-482f-b878-8b06fd78c6bf\", \"categories\": [0], \"series\": [{\"data\": [0.9057109865323957]}]}, {\"name\": \"f1_score_macro\", \"run_id\": \"AutoML_5196779e-7eba-482f-b878-8b06fd78c6bf\", \"categories\": [0], \"series\": [{\"data\": [0.8476510835015579]}]}, {\"name\": \"recall_score_micro\", \"run_id\": \"AutoML_5196779e-7eba-482f-b878-8b06fd78c6bf\", \"categories\": [0], \"series\": [{\"data\": [0.8728619528619529]}]}], \"run_logs\": \"\\nRun is completed.\", \"graph\": {}, \"widget_settings\": {\"childWidgetDisplay\": \"popup\", \"send_telemetry\": false, \"log_level\": \"INFO\", \"sdk_version\": \"1.18.0\"}, \"loading\": false}"
     },
     "metadata": {},
     "output_type": "display_data"
    },
    {
     "name": "stdout",
     "output_type": "stream",
     "text": [
      "Run(Experiment: automl_test,\n",
      "Id: AutoML_5196779e-7eba-482f-b878-8b06fd78c6bf_33,\n",
      "Type: azureml.scriptrun,\n",
      "Status: Completed)\n",
      "Pipeline(memory=None,\n",
      "         steps=[('datatransformer',\n",
      "                 DataTransformer(enable_dnn=None, enable_feature_sweeping=None,\n",
      "                                 feature_sweeping_config=None,\n",
      "                                 feature_sweeping_timeout=None,\n",
      "                                 featurization_config=None, force_text_dnn=None,\n",
      "                                 is_cross_validation=None,\n",
      "                                 is_onnx_compatible=None, logger=None,\n",
      "                                 observer=None, task=None, working_dir=None)),\n",
      "                ('prefittedsoftvotingclassifier',...\n",
      "                                                                                                  power_t=0.3333333333333333,\n",
      "                                                                                                  random_state=None,\n",
      "                                                                                                  tol=0.001))],\n",
      "                                                                     verbose=False))],\n",
      "                                               flatten_transform=None,\n",
      "                                               weights=[0.13333333333333333,\n",
      "                                                        0.06666666666666667,\n",
      "                                                        0.06666666666666667,\n",
      "                                                        0.06666666666666667,\n",
      "                                                        0.06666666666666667,\n",
      "                                                        0.13333333333333333,\n",
      "                                                        0.13333333333333333,\n",
      "                                                        0.06666666666666667,\n",
      "                                                        0.06666666666666667,\n",
      "                                                        0.06666666666666667,\n",
      "                                                        0.06666666666666667,\n",
      "                                                        0.06666666666666667]))],\n",
      "         verbose=False)\n"
     ]
    },
    {
     "data": {
      "text/plain": [
       "['automl_best_model.pkl']"
      ]
     },
     "execution_count": 10,
     "metadata": {},
     "output_type": "execute_result"
    }
   ],
   "source": [
    "exp=Experiment(ws,\"automl_test\")\n",
    "automl_model=exp.submit(automl_config,show_output=True)\n",
    "### YOUR CODE HERE ###\n",
    "import joblib\n",
    "from azureml.widgets import RunDetails\n",
    "RunDetails(automl_model).show()\n",
    "best_run, fitted_model = automl_model.get_output()\n",
    "print(best_run)\n",
    "print(fitted_model)\n",
    "from azureml.core.model import Model\n",
    "import joblib\n",
    "joblib.dump(fitted_model,\"automl_best_model.pkl\")\n"
   ]
  },
  {
   "cell_type": "code",
   "execution_count": 16,
   "metadata": {},
   "outputs": [],
   "source": [
    "input_data={\"data\":[{'age': 75.0,\n",
    "  'anaemia': 0,\n",
    "  'creatinine_phosphokinase': 582,\n",
    "  'diabetes': 0,\n",
    "  'ejection_fraction': 20,\n",
    "  'high_blood_pressure': 1,\n",
    "  'platelets': 265000.0,\n",
    "  'serum_creatinine': 1.9,\n",
    "  'serum_sodium': 130,\n",
    "  'sex': 1,\n",
    "  'smoking': 0,\n",
    "  'time': 4}]}"
   ]
  },
  {
   "cell_type": "code",
   "execution_count": 25,
   "metadata": {},
   "outputs": [],
   "source": [
    "input_data=x_df[0:2].to_dict(orient='records')\n",
    "import json\n",
    "import joblib\n",
    "i=json.dumps(input_data)\n",
    "data = json.loads(i)\n",
    "model2=joblib.load(\"automl_best_model.pkl\")\n",
    "result = model2.predict(pd.DataFrame(data['data']))"
   ]
  },
  {
   "cell_type": "code",
   "execution_count": 73,
   "metadata": {},
   "outputs": [],
   "source": [
    "input_data=x_df[0:2].to_dict(orient='records')\n",
    "import json\n",
    "import joblib\n",
    "i=json.dumps(input_data)\n",
    "data = json.loads(i)\n",
    "model2=joblib.load(\"automl_best_model.pkl\")\n",
    "result = model2.predict(pd.DataFrame(data))"
   ]
  },
  {
   "cell_type": "code",
   "execution_count": 76,
   "metadata": {},
   "outputs": [
    {
     "ename": "TypeError",
     "evalue": "'NoneType' object is not subscriptable",
     "output_type": "error",
     "traceback": [
      "\u001b[0;31m---------------------------------------------------------------------------\u001b[0m",
      "\u001b[0;31mTypeError\u001b[0m                                 Traceback (most recent call last)",
      "\u001b[0;32m<ipython-input-76-ce15103ab8a5>\u001b[0m in \u001b[0;36m<module>\u001b[0;34m\u001b[0m\n\u001b[0;32m----> 1\u001b[0;31m \u001b[0mlocal_service\u001b[0m\u001b[0;34m.\u001b[0m\u001b[0mrun\u001b[0m\u001b[0;34m(\u001b[0m\u001b[0mdata\u001b[0m\u001b[0;34m)\u001b[0m\u001b[0;34m\u001b[0m\u001b[0;34m\u001b[0m\u001b[0m\n\u001b[0m",
      "\u001b[0;32m/anaconda/envs/azureml_py36/lib/python3.6/site-packages/azureml/core/webservice/local.py\u001b[0m in \u001b[0;36mdecorated\u001b[0;34m(self, *args, **kwargs)\u001b[0m\n\u001b[1;32m     70\u001b[0m                 raise WebserviceException('Cannot call {}() when service is {}.'.format(func.__name__, self.state),\n\u001b[1;32m     71\u001b[0m                                           logger=module_logger)\n\u001b[0;32m---> 72\u001b[0;31m             \u001b[0;32mreturn\u001b[0m \u001b[0mfunc\u001b[0m\u001b[0;34m(\u001b[0m\u001b[0mself\u001b[0m\u001b[0;34m,\u001b[0m \u001b[0;34m*\u001b[0m\u001b[0margs\u001b[0m\u001b[0;34m,\u001b[0m \u001b[0;34m**\u001b[0m\u001b[0mkwargs\u001b[0m\u001b[0;34m)\u001b[0m\u001b[0;34m\u001b[0m\u001b[0;34m\u001b[0m\u001b[0m\n\u001b[0m\u001b[1;32m     73\u001b[0m         \u001b[0;32mreturn\u001b[0m \u001b[0mdecorated\u001b[0m\u001b[0;34m\u001b[0m\u001b[0;34m\u001b[0m\u001b[0m\n\u001b[1;32m     74\u001b[0m     \u001b[0;32mreturn\u001b[0m \u001b[0mdecorator\u001b[0m\u001b[0;34m\u001b[0m\u001b[0;34m\u001b[0m\u001b[0m\n",
      "\u001b[0;32m/anaconda/envs/azureml_py36/lib/python3.6/site-packages/azureml/core/webservice/local.py\u001b[0m in \u001b[0;36mrun\u001b[0;34m(self, input_data)\u001b[0m\n\u001b[1;32m    427\u001b[0m \u001b[0;34m\u001b[0m\u001b[0m\n\u001b[1;32m    428\u001b[0m         return container_scoring_call(self._port, input_data, self._container, self._internal_base_url,\n\u001b[0;32m--> 429\u001b[0;31m                                       cleanup_on_failure=False, score_url=self.scoring_uri)\n\u001b[0m\u001b[1;32m    430\u001b[0m \u001b[0;34m\u001b[0m\u001b[0m\n\u001b[1;32m    431\u001b[0m     \u001b[0;34m@\u001b[0m\u001b[0mproperty\u001b[0m\u001b[0;34m\u001b[0m\u001b[0;34m\u001b[0m\u001b[0m\n",
      "\u001b[0;32m/anaconda/envs/azureml_py36/lib/python3.6/site-packages/azureml/core/webservice/local.py\u001b[0m in \u001b[0;36mscoring_uri\u001b[0;34m(self)\u001b[0m\n\u001b[1;32m    440\u001b[0m             \u001b[0mscorePath\u001b[0m \u001b[0;34m=\u001b[0m \u001b[0mWEBSERVICE_SCORE_PATH\u001b[0m\u001b[0;34m\u001b[0m\u001b[0;34m\u001b[0m\u001b[0m\n\u001b[1;32m    441\u001b[0m             \u001b[0;32mif\u001b[0m \u001b[0mhasattr\u001b[0m\u001b[0;34m(\u001b[0m\u001b[0mself\u001b[0m\u001b[0;34m,\u001b[0m \u001b[0;34m'_container_override_config'\u001b[0m\u001b[0;34m)\u001b[0m\u001b[0;34m:\u001b[0m\u001b[0;34m\u001b[0m\u001b[0;34m\u001b[0m\u001b[0m\n\u001b[0;32m--> 442\u001b[0;31m                 \u001b[0moverrideScorePath\u001b[0m \u001b[0;34m=\u001b[0m \u001b[0mself\u001b[0m\u001b[0;34m.\u001b[0m\u001b[0m_container_override_config\u001b[0m\u001b[0;34m[\u001b[0m\u001b[0;34m\"scorePath\"\u001b[0m\u001b[0;34m]\u001b[0m\u001b[0;34m\u001b[0m\u001b[0;34m\u001b[0m\u001b[0m\n\u001b[0m\u001b[1;32m    443\u001b[0m                 \u001b[0;32mif\u001b[0m \u001b[0moverrideScorePath\u001b[0m \u001b[0;32mis\u001b[0m \u001b[0;32mnot\u001b[0m \u001b[0;32mNone\u001b[0m\u001b[0;34m:\u001b[0m\u001b[0;34m\u001b[0m\u001b[0;34m\u001b[0m\u001b[0m\n\u001b[1;32m    444\u001b[0m                     \u001b[0mscorePath\u001b[0m \u001b[0;34m=\u001b[0m \u001b[0moverrideScorePath\u001b[0m\u001b[0;34m\u001b[0m\u001b[0;34m\u001b[0m\u001b[0m\n",
      "\u001b[0;31mTypeError\u001b[0m: 'NoneType' object is not subscriptable"
     ]
    }
   ],
   "source": [
    "local_service.run(data)"
   ]
  },
  {
   "cell_type": "code",
   "execution_count": 74,
   "metadata": {},
   "outputs": [
    {
     "data": {
      "text/plain": [
       "array([1, 1])"
      ]
     },
     "execution_count": 74,
     "metadata": {},
     "output_type": "execute_result"
    }
   ],
   "source": [
    "result"
   ]
  },
  {
   "cell_type": "code",
   "execution_count": 26,
   "metadata": {},
   "outputs": [
    {
     "data": {
      "text/plain": [
       "array([1])"
      ]
     },
     "execution_count": 26,
     "metadata": {},
     "output_type": "execute_result"
    }
   ],
   "source": [
    "result"
   ]
  },
  {
   "cell_type": "code",
   "execution_count": 24,
   "metadata": {},
   "outputs": [
    {
     "data": {
      "text/html": [
       "<div>\n",
       "<style scoped>\n",
       "    .dataframe tbody tr th:only-of-type {\n",
       "        vertical-align: middle;\n",
       "    }\n",
       "\n",
       "    .dataframe tbody tr th {\n",
       "        vertical-align: top;\n",
       "    }\n",
       "\n",
       "    .dataframe thead th {\n",
       "        text-align: right;\n",
       "    }\n",
       "</style>\n",
       "<table border=\"1\" class=\"dataframe\">\n",
       "  <thead>\n",
       "    <tr style=\"text-align: right;\">\n",
       "      <th></th>\n",
       "      <th>age</th>\n",
       "      <th>anaemia</th>\n",
       "      <th>creatinine_phosphokinase</th>\n",
       "      <th>diabetes</th>\n",
       "      <th>ejection_fraction</th>\n",
       "      <th>high_blood_pressure</th>\n",
       "      <th>platelets</th>\n",
       "      <th>serum_creatinine</th>\n",
       "      <th>serum_sodium</th>\n",
       "      <th>sex</th>\n",
       "      <th>smoking</th>\n",
       "      <th>time</th>\n",
       "    </tr>\n",
       "  </thead>\n",
       "  <tbody>\n",
       "    <tr>\n",
       "      <th>0</th>\n",
       "      <td>75.00</td>\n",
       "      <td>0</td>\n",
       "      <td>582</td>\n",
       "      <td>0</td>\n",
       "      <td>20</td>\n",
       "      <td>1</td>\n",
       "      <td>265000.00</td>\n",
       "      <td>1.90</td>\n",
       "      <td>130</td>\n",
       "      <td>1</td>\n",
       "      <td>0</td>\n",
       "      <td>4</td>\n",
       "    </tr>\n",
       "  </tbody>\n",
       "</table>\n",
       "</div>"
      ],
      "text/plain": [
       "    age  anaemia  creatinine_phosphokinase  diabetes  ejection_fraction  \\\n",
       "0 75.00        0                       582         0                 20   \n",
       "\n",
       "   high_blood_pressure  platelets  serum_creatinine  serum_sodium  sex  \\\n",
       "0                    1  265000.00              1.90           130    1   \n",
       "\n",
       "   smoking  time  \n",
       "0        0     4  "
      ]
     },
     "execution_count": 24,
     "metadata": {},
     "output_type": "execute_result"
    }
   ],
   "source": [
    "pd.DataFrame(data['data'])"
   ]
  },
  {
   "cell_type": "code",
   "execution_count": 15,
   "metadata": {},
   "outputs": [
    {
     "data": {
      "text/plain": [
       "[{'age': 75.0,\n",
       "  'anaemia': 0,\n",
       "  'creatinine_phosphokinase': 582,\n",
       "  'diabetes': 0,\n",
       "  'ejection_fraction': 20,\n",
       "  'high_blood_pressure': 1,\n",
       "  'platelets': 265000.0,\n",
       "  'serum_creatinine': 1.9,\n",
       "  'serum_sodium': 130,\n",
       "  'sex': 1,\n",
       "  'smoking': 0,\n",
       "  'time': 4},\n",
       " {'age': 55.0,\n",
       "  'anaemia': 0,\n",
       "  'creatinine_phosphokinase': 7861,\n",
       "  'diabetes': 0,\n",
       "  'ejection_fraction': 38,\n",
       "  'high_blood_pressure': 0,\n",
       "  'platelets': 263358.03,\n",
       "  'serum_creatinine': 1.1,\n",
       "  'serum_sodium': 136,\n",
       "  'sex': 1,\n",
       "  'smoking': 0,\n",
       "  'time': 6}]"
      ]
     },
     "execution_count": 15,
     "metadata": {},
     "output_type": "execute_result"
    }
   ],
   "source": [
    "input_data"
   ]
  },
  {
   "cell_type": "code",
   "execution_count": 27,
   "metadata": {},
   "outputs": [
    {
     "name": "stdout",
     "output_type": "stream",
     "text": [
      "Registering model test\n"
     ]
    }
   ],
   "source": [
    "from azureml.core.model import Model\n",
    "import joblib\n",
    "model = Model.register(workspace=ws, model_path=\"automl_best_model.pkl\", model_name=\"test\")"
   ]
  },
  {
   "cell_type": "code",
   "execution_count": 60,
   "metadata": {},
   "outputs": [
    {
     "name": "stdout",
     "output_type": "stream",
     "text": [
      "Downloading model test:1 to /tmp/azureml_e_sx4h1r/test/1\n",
      "Generating Docker build context.\n",
      "Package creation Succeeded\n",
      "Logging into Docker registry viennaglobal.azurecr.io\n",
      "Logging into Docker registry viennaglobal.azurecr.io\n",
      "Building Docker image from Dockerfile...\n",
      "Step 1/5 : FROM viennaglobal.azurecr.io/azureml/azureml_3948892c3f204a4877f0b9993b8e7795\n",
      " ---> e958b21f6008\n",
      "Step 2/5 : COPY azureml-app /var/azureml-app\n",
      " ---> 5a2f940c1234\n",
      "Step 3/5 : RUN mkdir -p '/var/azureml-app' && echo eyJhY2NvdW50Q29udGV4dCI6eyJzdWJzY3JpcHRpb25JZCI6IjQyMmM3OGNiLTdiOWYtNDFlNy1hOTRjLWUxNDRmN2FmZGU1ZSIsInJlc291cmNlR3JvdXBOYW1lIjoiYW1sLXF1aWNrc3RhcnRzLTEyNzYzNCIsImFjY291bnROYW1lIjoicXVpY2stc3RhcnRzLXdzLTEyNzYzNCIsIndvcmtzcGFjZUlkIjoiMzQ1NTJlMzUtM2ViMy00NWRkLTg2NWUtNGQzN2U1NmEyMjM0In0sIm1vZGVscyI6e30sIm1vZGVsc0luZm8iOnt9fQ== | base64 --decode > /var/azureml-app/model_config_map.json\n",
      " ---> Running in 170012f792a8\n",
      " ---> 8ec9a93e2387\n",
      "Step 4/5 : RUN mv '/var/azureml-app/tmpuklckp44.py' /var/azureml-app/main.py\n",
      " ---> Running in 0c5a377acfad\n",
      " ---> 7dc72ebc9a93\n",
      "Step 5/5 : CMD [\"runsvdir\",\"/var/runit\"]\n",
      " ---> Running in 3728c98257e4\n",
      " ---> 590823dd313f\n",
      "Successfully built 590823dd313f\n",
      "Successfully tagged test:latest\n",
      "Container has been successfully cleaned up.\n",
      "Image sha256:3bf1cd6ff0ddc2e4cc9e3039a6f8260d2103c0ef21069ccd9ab042da98137f6b successfully removed.\n",
      "Starting Docker container...\n",
      "Docker container running.\n",
      "Checking container health...\n",
      "Local webservice is running at http://localhost:9000\n"
     ]
    }
   ],
   "source": [
    "from azureml.core.webservice import LocalWebservice\n",
    "from azureml.core.model import InferenceConfig\n",
    "local_config = LocalWebservice.deploy_configuration(port=9000)\n",
    "inference_config = InferenceConfig(entry_script='score.py', environment=best_run.get_environment())\n",
    "\n",
    "local_service = Model.deploy(ws, \"test\", [model], inference_config, local_config)\n",
    "\n",
    "local_service.wait_for_deployment(show_output=True)"
   ]
  },
  {
   "cell_type": "code",
   "execution_count": 61,
   "metadata": {},
   "outputs": [],
   "source": [
    "import json\n",
    "try:\n",
    "    i=json.dumps(input_data)\n",
    "    data = json.loads(i)\n",
    "except Eception as e:\n",
    "    print(e)\n",
    "#data = json.loads(i)"
   ]
  },
  {
   "cell_type": "code",
   "execution_count": 68,
   "metadata": {},
   "outputs": [],
   "source": []
  },
  {
   "cell_type": "code",
   "execution_count": 69,
   "metadata": {},
   "outputs": [
    {
     "ename": "JSONDecodeError",
     "evalue": "Expecting property name enclosed in double quotes: line 1 column 2 (char 1)",
     "output_type": "error",
     "traceback": [
      "\u001b[0;31m---------------------------------------------------------------------------\u001b[0m",
      "\u001b[0;31mJSONDecodeError\u001b[0m                           Traceback (most recent call last)",
      "\u001b[0;32m<ipython-input-69-6ba32c76427f>\u001b[0m in \u001b[0;36m<module>\u001b[0;34m\u001b[0m\n\u001b[0;32m----> 1\u001b[0;31m \u001b[0mjson\u001b[0m\u001b[0;34m.\u001b[0m\u001b[0mloads\u001b[0m\u001b[0;34m(\u001b[0m\u001b[0mdata\u001b[0m\u001b[0;34m)\u001b[0m\u001b[0;34m\u001b[0m\u001b[0;34m\u001b[0m\u001b[0m\n\u001b[0m",
      "\u001b[0;32m/anaconda/envs/azureml_py36/lib/python3.6/json/__init__.py\u001b[0m in \u001b[0;36mloads\u001b[0;34m(s, encoding, cls, object_hook, parse_float, parse_int, parse_constant, object_pairs_hook, **kw)\u001b[0m\n\u001b[1;32m    352\u001b[0m             \u001b[0mparse_int\u001b[0m \u001b[0;32mis\u001b[0m \u001b[0;32mNone\u001b[0m \u001b[0;32mand\u001b[0m \u001b[0mparse_float\u001b[0m \u001b[0;32mis\u001b[0m \u001b[0;32mNone\u001b[0m \u001b[0;32mand\u001b[0m\u001b[0;34m\u001b[0m\u001b[0;34m\u001b[0m\u001b[0m\n\u001b[1;32m    353\u001b[0m             parse_constant is None and object_pairs_hook is None and not kw):\n\u001b[0;32m--> 354\u001b[0;31m         \u001b[0;32mreturn\u001b[0m \u001b[0m_default_decoder\u001b[0m\u001b[0;34m.\u001b[0m\u001b[0mdecode\u001b[0m\u001b[0;34m(\u001b[0m\u001b[0ms\u001b[0m\u001b[0;34m)\u001b[0m\u001b[0;34m\u001b[0m\u001b[0;34m\u001b[0m\u001b[0m\n\u001b[0m\u001b[1;32m    355\u001b[0m     \u001b[0;32mif\u001b[0m \u001b[0mcls\u001b[0m \u001b[0;32mis\u001b[0m \u001b[0;32mNone\u001b[0m\u001b[0;34m:\u001b[0m\u001b[0;34m\u001b[0m\u001b[0;34m\u001b[0m\u001b[0m\n\u001b[1;32m    356\u001b[0m         \u001b[0mcls\u001b[0m \u001b[0;34m=\u001b[0m \u001b[0mJSONDecoder\u001b[0m\u001b[0;34m\u001b[0m\u001b[0;34m\u001b[0m\u001b[0m\n",
      "\u001b[0;32m/anaconda/envs/azureml_py36/lib/python3.6/json/decoder.py\u001b[0m in \u001b[0;36mdecode\u001b[0;34m(self, s, _w)\u001b[0m\n\u001b[1;32m    337\u001b[0m \u001b[0;34m\u001b[0m\u001b[0m\n\u001b[1;32m    338\u001b[0m         \"\"\"\n\u001b[0;32m--> 339\u001b[0;31m         \u001b[0mobj\u001b[0m\u001b[0;34m,\u001b[0m \u001b[0mend\u001b[0m \u001b[0;34m=\u001b[0m \u001b[0mself\u001b[0m\u001b[0;34m.\u001b[0m\u001b[0mraw_decode\u001b[0m\u001b[0;34m(\u001b[0m\u001b[0ms\u001b[0m\u001b[0;34m,\u001b[0m \u001b[0midx\u001b[0m\u001b[0;34m=\u001b[0m\u001b[0m_w\u001b[0m\u001b[0;34m(\u001b[0m\u001b[0ms\u001b[0m\u001b[0;34m,\u001b[0m \u001b[0;36m0\u001b[0m\u001b[0;34m)\u001b[0m\u001b[0;34m.\u001b[0m\u001b[0mend\u001b[0m\u001b[0;34m(\u001b[0m\u001b[0;34m)\u001b[0m\u001b[0;34m)\u001b[0m\u001b[0;34m\u001b[0m\u001b[0;34m\u001b[0m\u001b[0m\n\u001b[0m\u001b[1;32m    340\u001b[0m         \u001b[0mend\u001b[0m \u001b[0;34m=\u001b[0m \u001b[0m_w\u001b[0m\u001b[0;34m(\u001b[0m\u001b[0ms\u001b[0m\u001b[0;34m,\u001b[0m \u001b[0mend\u001b[0m\u001b[0;34m)\u001b[0m\u001b[0;34m.\u001b[0m\u001b[0mend\u001b[0m\u001b[0;34m(\u001b[0m\u001b[0;34m)\u001b[0m\u001b[0;34m\u001b[0m\u001b[0;34m\u001b[0m\u001b[0m\n\u001b[1;32m    341\u001b[0m         \u001b[0;32mif\u001b[0m \u001b[0mend\u001b[0m \u001b[0;34m!=\u001b[0m \u001b[0mlen\u001b[0m\u001b[0;34m(\u001b[0m\u001b[0ms\u001b[0m\u001b[0;34m)\u001b[0m\u001b[0;34m:\u001b[0m\u001b[0;34m\u001b[0m\u001b[0;34m\u001b[0m\u001b[0m\n",
      "\u001b[0;32m/anaconda/envs/azureml_py36/lib/python3.6/json/decoder.py\u001b[0m in \u001b[0;36mraw_decode\u001b[0;34m(self, s, idx)\u001b[0m\n\u001b[1;32m    353\u001b[0m         \"\"\"\n\u001b[1;32m    354\u001b[0m         \u001b[0;32mtry\u001b[0m\u001b[0;34m:\u001b[0m\u001b[0;34m\u001b[0m\u001b[0;34m\u001b[0m\u001b[0m\n\u001b[0;32m--> 355\u001b[0;31m             \u001b[0mobj\u001b[0m\u001b[0;34m,\u001b[0m \u001b[0mend\u001b[0m \u001b[0;34m=\u001b[0m \u001b[0mself\u001b[0m\u001b[0;34m.\u001b[0m\u001b[0mscan_once\u001b[0m\u001b[0;34m(\u001b[0m\u001b[0ms\u001b[0m\u001b[0;34m,\u001b[0m \u001b[0midx\u001b[0m\u001b[0;34m)\u001b[0m\u001b[0;34m\u001b[0m\u001b[0;34m\u001b[0m\u001b[0m\n\u001b[0m\u001b[1;32m    356\u001b[0m         \u001b[0;32mexcept\u001b[0m \u001b[0mStopIteration\u001b[0m \u001b[0;32mas\u001b[0m \u001b[0merr\u001b[0m\u001b[0;34m:\u001b[0m\u001b[0;34m\u001b[0m\u001b[0;34m\u001b[0m\u001b[0m\n\u001b[1;32m    357\u001b[0m             \u001b[0;32mraise\u001b[0m \u001b[0mJSONDecodeError\u001b[0m\u001b[0;34m(\u001b[0m\u001b[0;34m\"Expecting value\"\u001b[0m\u001b[0;34m,\u001b[0m \u001b[0ms\u001b[0m\u001b[0;34m,\u001b[0m \u001b[0merr\u001b[0m\u001b[0;34m.\u001b[0m\u001b[0mvalue\u001b[0m\u001b[0;34m)\u001b[0m \u001b[0;32mfrom\u001b[0m \u001b[0;32mNone\u001b[0m\u001b[0;34m\u001b[0m\u001b[0;34m\u001b[0m\u001b[0m\n",
      "\u001b[0;31mJSONDecodeError\u001b[0m: Expecting property name enclosed in double quotes: line 1 column 2 (char 1)"
     ]
    }
   ],
   "source": [
    "json.loads(data)"
   ]
  },
  {
   "cell_type": "code",
   "execution_count": 63,
   "metadata": {},
   "outputs": [
    {
     "ename": "TypeError",
     "evalue": "'NoneType' object is not subscriptable",
     "output_type": "error",
     "traceback": [
      "\u001b[0;31m---------------------------------------------------------------------------\u001b[0m",
      "\u001b[0;31mTypeError\u001b[0m                                 Traceback (most recent call last)",
      "\u001b[0;32m<ipython-input-63-a0df13ca90bb>\u001b[0m in \u001b[0;36m<module>\u001b[0;34m\u001b[0m\n\u001b[0;32m----> 1\u001b[0;31m \u001b[0mlocal_service\u001b[0m\u001b[0;34m.\u001b[0m\u001b[0mrun\u001b[0m\u001b[0;34m(\u001b[0m\u001b[0mdict\u001b[0m\u001b[0;34m(\u001b[0m\u001b[0mdata\u001b[0m\u001b[0;34m)\u001b[0m\u001b[0;34m)\u001b[0m\u001b[0;34m\u001b[0m\u001b[0;34m\u001b[0m\u001b[0m\n\u001b[0m",
      "\u001b[0;32m/anaconda/envs/azureml_py36/lib/python3.6/site-packages/azureml/core/webservice/local.py\u001b[0m in \u001b[0;36mdecorated\u001b[0;34m(self, *args, **kwargs)\u001b[0m\n\u001b[1;32m     70\u001b[0m                 raise WebserviceException('Cannot call {}() when service is {}.'.format(func.__name__, self.state),\n\u001b[1;32m     71\u001b[0m                                           logger=module_logger)\n\u001b[0;32m---> 72\u001b[0;31m             \u001b[0;32mreturn\u001b[0m \u001b[0mfunc\u001b[0m\u001b[0;34m(\u001b[0m\u001b[0mself\u001b[0m\u001b[0;34m,\u001b[0m \u001b[0;34m*\u001b[0m\u001b[0margs\u001b[0m\u001b[0;34m,\u001b[0m \u001b[0;34m**\u001b[0m\u001b[0mkwargs\u001b[0m\u001b[0;34m)\u001b[0m\u001b[0;34m\u001b[0m\u001b[0;34m\u001b[0m\u001b[0m\n\u001b[0m\u001b[1;32m     73\u001b[0m         \u001b[0;32mreturn\u001b[0m \u001b[0mdecorated\u001b[0m\u001b[0;34m\u001b[0m\u001b[0;34m\u001b[0m\u001b[0m\n\u001b[1;32m     74\u001b[0m     \u001b[0;32mreturn\u001b[0m \u001b[0mdecorator\u001b[0m\u001b[0;34m\u001b[0m\u001b[0;34m\u001b[0m\u001b[0m\n",
      "\u001b[0;32m/anaconda/envs/azureml_py36/lib/python3.6/site-packages/azureml/core/webservice/local.py\u001b[0m in \u001b[0;36mrun\u001b[0;34m(self, input_data)\u001b[0m\n\u001b[1;32m    427\u001b[0m \u001b[0;34m\u001b[0m\u001b[0m\n\u001b[1;32m    428\u001b[0m         return container_scoring_call(self._port, input_data, self._container, self._internal_base_url,\n\u001b[0;32m--> 429\u001b[0;31m                                       cleanup_on_failure=False, score_url=self.scoring_uri)\n\u001b[0m\u001b[1;32m    430\u001b[0m \u001b[0;34m\u001b[0m\u001b[0m\n\u001b[1;32m    431\u001b[0m     \u001b[0;34m@\u001b[0m\u001b[0mproperty\u001b[0m\u001b[0;34m\u001b[0m\u001b[0;34m\u001b[0m\u001b[0m\n",
      "\u001b[0;32m/anaconda/envs/azureml_py36/lib/python3.6/site-packages/azureml/core/webservice/local.py\u001b[0m in \u001b[0;36mscoring_uri\u001b[0;34m(self)\u001b[0m\n\u001b[1;32m    440\u001b[0m             \u001b[0mscorePath\u001b[0m \u001b[0;34m=\u001b[0m \u001b[0mWEBSERVICE_SCORE_PATH\u001b[0m\u001b[0;34m\u001b[0m\u001b[0;34m\u001b[0m\u001b[0m\n\u001b[1;32m    441\u001b[0m             \u001b[0;32mif\u001b[0m \u001b[0mhasattr\u001b[0m\u001b[0;34m(\u001b[0m\u001b[0mself\u001b[0m\u001b[0;34m,\u001b[0m \u001b[0;34m'_container_override_config'\u001b[0m\u001b[0;34m)\u001b[0m\u001b[0;34m:\u001b[0m\u001b[0;34m\u001b[0m\u001b[0;34m\u001b[0m\u001b[0m\n\u001b[0;32m--> 442\u001b[0;31m                 \u001b[0moverrideScorePath\u001b[0m \u001b[0;34m=\u001b[0m \u001b[0mself\u001b[0m\u001b[0;34m.\u001b[0m\u001b[0m_container_override_config\u001b[0m\u001b[0;34m[\u001b[0m\u001b[0;34m\"scorePath\"\u001b[0m\u001b[0;34m]\u001b[0m\u001b[0;34m\u001b[0m\u001b[0;34m\u001b[0m\u001b[0m\n\u001b[0m\u001b[1;32m    443\u001b[0m                 \u001b[0;32mif\u001b[0m \u001b[0moverrideScorePath\u001b[0m \u001b[0;32mis\u001b[0m \u001b[0;32mnot\u001b[0m \u001b[0;32mNone\u001b[0m\u001b[0;34m:\u001b[0m\u001b[0;34m\u001b[0m\u001b[0;34m\u001b[0m\u001b[0m\n\u001b[1;32m    444\u001b[0m                     \u001b[0mscorePath\u001b[0m \u001b[0;34m=\u001b[0m \u001b[0moverrideScorePath\u001b[0m\u001b[0;34m\u001b[0m\u001b[0;34m\u001b[0m\u001b[0m\n",
      "\u001b[0;31mTypeError\u001b[0m: 'NoneType' object is not subscriptable"
     ]
    }
   ],
   "source": [
    "local_service.run(dict(data))\n"
   ]
  },
  {
   "cell_type": "code",
   "execution_count": 42,
   "metadata": {},
   "outputs": [
    {
     "data": {
      "text/plain": [
       "'{\"data\": [{\"age\": 75.0, \"anaemia\": 0, \"creatinine_phosphokinase\": 582, \"diabetes\": 0, \"ejection_fraction\": 20, \"high_blood_pressure\": 1, \"platelets\": 265000.0, \"serum_creatinine\": 1.9, \"serum_sodium\": 130, \"sex\": 1, \"smoking\": 0, \"time\": 4}]}'"
      ]
     },
     "execution_count": 42,
     "metadata": {},
     "output_type": "execute_result"
    }
   ],
   "source": [
    "i"
   ]
  },
  {
   "cell_type": "code",
   "execution_count": 15,
   "metadata": {},
   "outputs": [
    {
     "name": "stdout",
     "output_type": "stream",
     "text": [
      "Tips: You can try get_logs(): https://aka.ms/debugimage#dockerlog or local deployment: https://aka.ms/debugimage#debug-locally to debug if deployment takes longer than 10 minutes.\n",
      "Running...\n",
      "Succeeded\n",
      "ACI service creation operation finished, operation \"Succeeded\"\n"
     ]
    }
   ],
   "source": [
    "from azureml.core.model import InferenceConfig\n",
    "from azureml.core.webservice import AciWebservice\n",
    "\n",
    "\n",
    "service_name = 'custom-env-service'\n",
    "\n",
    "aci_config = AciWebservice.deploy_configuration(cpu_cores=1, memory_gb=1)\n",
    "\n",
    "service = Model.deploy(workspace=ws,\n",
    "                       name=service_name,\n",
    "                       models=[model],\n",
    "                       inference_config=inference_config,\n",
    "                       deployment_config=aci_config,\n",
    "                       overwrite=True)\n",
    "service.wait_for_deployment(show_output=True)"
   ]
  },
  {
   "cell_type": "code",
   "execution_count": 13,
   "metadata": {},
   "outputs": [
    {
     "data": {
      "text/plain": [
       "'2020-11-23T04:05:08.2373015Z stdout F 2020-11-23T04:05:08,226298800+00:00 - gunicorn/run \\n2020-11-23T04:05:08.2543037Z stdout F 2020-11-23T04:05:08,243031400+00:00 - iot-server/run \\n2020-11-23T04:05:08.2653018Z stdout F 2020-11-23T04:05:08,254408900+00:00 - rsyslog/run \\n2020-11-23T04:05:08.2942928Z stdout F 2020-11-23T04:05:08,283487500+00:00 - nginx/run \\n2020-11-23T04:05:08.3013311Z stderr F /usr/sbin/nginx: /azureml-envs/azureml_0e3a8a6dba181476a2523c12c58dfc97/lib/libcrypto.so.1.0.0: no version information available (required by /usr/sbin/nginx)\\n2020-11-23T04:05:08.3013311Z stderr F /usr/sbin/nginx: /azureml-envs/azureml_0e3a8a6dba181476a2523c12c58dfc97/lib/libcrypto.so.1.0.0: no version information available (required by /usr/sbin/nginx)\\n2020-11-23T04:05:08.3053191Z stderr F /usr/sbin/nginx: /azureml-envs/azureml_0e3a8a6dba181476a2523c12c58dfc97/lib/libssl.so.1.0.0: no version information available (required by /usr/sbin/nginx)\\n2020-11-23T04:05:08.3053191Z stderr F /usr/sbin/nginx: /azureml-envs/azureml_0e3a8a6dba181476a2523c12c58dfc97/lib/libssl.so.1.0.0: no version information available (required by /usr/sbin/nginx)\\n2020-11-23T04:05:08.3053191Z stderr F /usr/sbin/nginx: /azureml-envs/azureml_0e3a8a6dba181476a2523c12c58dfc97/lib/libssl.so.1.0.0: no version information available (required by /usr/sbin/nginx)\\n2020-11-23T04:05:08.3407436Z stderr F rsyslogd: /azureml-envs/azureml_0e3a8a6dba181476a2523c12c58dfc97/lib/libuuid.so.1: no version information available (required by rsyslogd)\\n2020-11-23T04:05:08.5052999Z stdout F EdgeHubConnectionString and IOTEDGE_IOTHUBHOSTNAME are not set. Exiting...\\n2020-11-23T04:05:08.5143001Z stdout F 2020-11-23T04:05:08,502153200+00:00 - iot-server/finish 1 0\\n2020-11-23T04:05:08.5143001Z stdout F 2020-11-23T04:05:08,503332300+00:00 - Exit code 1 is normal. Not restarting iot-server.\\n2020-11-23T04:05:08.8958609Z stdout F Starting gunicorn 19.9.0\\n2020-11-23T04:05:08.8958609Z stdout F Listening at: http://127.0.0.1:31311 (479)\\n2020-11-23T04:05:08.8958609Z stdout F Using worker: sync\\n2020-11-23T04:05:08.8958609Z stdout F worker timeout is set to 300\\n2020-11-23T04:05:08.8958609Z stdout F Booting worker with pid: 508\\n2020-11-23T04:05:09.8133195Z stderr F /azureml-envs/azureml_0e3a8a6dba181476a2523c12c58dfc97/lib/python3.6/site-packages/sklearn/externals/joblib/__init__.py:15: FutureWarning: sklearn.externals.joblib is deprecated in 0.21 and will be removed in 0.23. Please import this functionality directly from joblib, which can be installed with: pip install joblib. If this warning is raised when loading pickled models, you may need to re-serialize those models with scikit-learn 0.21+.\\n2020-11-23T04:05:09.8133195Z stderr F   warnings.warn(msg, category=FutureWarning)\\n2020-11-23T04:05:09.8173158Z stdout F SPARK_HOME not set. Skipping PySpark Initialization.\\n2020-11-23T04:05:09.8173158Z stdout F Initializing logger\\n2020-11-23T04:05:09.8173158Z stdout F 2020-11-23 04:05:09,801 | root | INFO | Starting up app insights client\\n2020-11-23T04:05:09.8173158Z stdout F Starting up app insights client\\n2020-11-23T04:05:09.8173158Z stdout F 2020-11-23 04:05:09,802 | root | INFO | Starting up request id generator\\n2020-11-23T04:05:09.8173158Z stdout F Starting up request id generator\\n2020-11-23T04:05:09.8173158Z stdout F 2020-11-23 04:05:09,802 | root | INFO | Starting up app insight hooks\\n2020-11-23T04:05:09.8173158Z stdout F Starting up app insight hooks\\n2020-11-23T04:05:09.8173158Z stdout F 2020-11-23 04:05:09,802 | root | INFO | Invoking user\\'s init function\\n2020-11-23T04:05:09.8173158Z stdout F Invoking user\\'s init function\\n2020-11-23T04:05:09.8173158Z stdout F 2020-11-23 04:05:09,802 | root | ERROR | User\\'s init function failed\\n2020-11-23T04:05:09.8173158Z stdout F User\\'s init function failed\\n2020-11-23T04:05:09.8173158Z stdout F 2020-11-23 04:05:09,802 | root | ERROR | Encountered Exception Traceback (most recent call last):\\n2020-11-23T04:05:09.8173158Z stdout F   File \"/var/azureml-server/aml_blueprint.py\", line 177, in register\\n2020-11-23T04:05:09.8173158Z stdout F     main.init()\\n2020-11-23T04:05:09.8173158Z stdout F   File \"/var/azureml-app/score.py\", line 10, in init\\n2020-11-23T04:05:09.8173158Z stdout F     model = joblib.load(\\'automl_best_model.pkl\\')\\n2020-11-23T04:05:09.8173158Z stdout F   File \"/azureml-envs/azureml_0e3a8a6dba181476a2523c12c58dfc97/lib/python3.6/site-packages/joblib/numpy_pickle.py\", line 597, in load\\n2020-11-23T04:05:09.8173158Z stdout F     with open(filename, \\'rb\\') as f:\\n2020-11-23T04:05:09.8173158Z stdout F FileNotFoundError: [Errno 2] No such file or directory: \\'automl_best_model.pkl\\'\\n2020-11-23T04:05:09.8173158Z stdout F \\n2020-11-23T04:05:09.8173158Z stdout F Encountered Exception Traceback (most recent call last):\\n2020-11-23T04:05:09.8173158Z stdout F   File \"/var/azureml-server/aml_blueprint.py\", line 177, in register\\n2020-11-23T04:05:09.8173158Z stdout F     main.init()\\n2020-11-23T04:05:09.8173158Z stdout F   File \"/var/azureml-app/score.py\", line 10, in init\\n2020-11-23T04:05:09.8173158Z stdout F     model = joblib.load(\\'automl_best_model.pkl\\')\\n2020-11-23T04:05:09.8183191Z stdout F   File \"/azureml-envs/azureml_0e3a8a6dba181476a2523c12c58dfc97/lib/python3.6/site-packages/joblib/numpy_pickle.py\", line 597, in load\\n2020-11-23T04:05:09.8183191Z stdout F     with open(filename, \\'rb\\') as f:\\n2020-11-23T04:05:09.8183191Z stdout F FileNotFoundError: [Errno 2] No such file or directory: \\'automl_best_model.pkl\\'\\n2020-11-23T04:05:09.8183191Z stdout F \\n2020-11-23T04:05:09.8183191Z stdout F Worker exiting (pid: 508)\\n2020-11-23T04:05:09.982318Z stdout F Shutting down: Master\\n2020-11-23T04:05:09.982318Z stdout F Reason: Worker failed to boot.\\n2020-11-23T04:05:10.0263155Z stdout F 2020-11-23T04:05:10,015196700+00:00 - gunicorn/finish 3 0\\n2020-11-23T04:05:10.0273239Z stdout F 2020-11-23T04:05:10,016635300+00:00 - Exit code 3 is not normal. Killing image.\\n'"
      ]
     },
     "execution_count": 13,
     "metadata": {},
     "output_type": "execute_result"
    }
   ],
   "source": [
    "service.get_logs()"
   ]
  },
  {
   "cell_type": "code",
   "execution_count": 18,
   "metadata": {},
   "outputs": [
    {
     "ename": "KeyboardInterrupt",
     "evalue": "",
     "output_type": "error",
     "traceback": [
      "\u001b[0;31m---------------------------------------------------------------------------\u001b[0m",
      "\u001b[0;31mKeyboardInterrupt\u001b[0m                         Traceback (most recent call last)",
      "\u001b[0;32m<ipython-input-18-61abfca07f49>\u001b[0m in \u001b[0;36m<module>\u001b[0;34m\u001b[0m\n\u001b[0;32m----> 1\u001b[0;31m \u001b[0mx_df\u001b[0m\u001b[0;34m=\u001b[0m\u001b[0mdataset\u001b[0m\u001b[0;34m.\u001b[0m\u001b[0mto_pandas_dataframe\u001b[0m\u001b[0;34m(\u001b[0m\u001b[0;34m)\u001b[0m\u001b[0;34m\u001b[0m\u001b[0;34m\u001b[0m\u001b[0m\n\u001b[0m\u001b[1;32m      2\u001b[0m \u001b[0minput_data\u001b[0m\u001b[0;34m=\u001b[0m\u001b[0mx_df\u001b[0m\u001b[0;34m[\u001b[0m\u001b[0;36m0\u001b[0m\u001b[0;34m:\u001b[0m\u001b[0;36m2\u001b[0m\u001b[0;34m]\u001b[0m\u001b[0;34m.\u001b[0m\u001b[0mto_dict\u001b[0m\u001b[0;34m(\u001b[0m\u001b[0morient\u001b[0m\u001b[0;34m=\u001b[0m\u001b[0;34m'records'\u001b[0m\u001b[0;34m)\u001b[0m\u001b[0;34m\u001b[0m\u001b[0;34m\u001b[0m\u001b[0m\n",
      "\u001b[0;32m/anaconda/envs/azureml_py36/lib/python3.6/site-packages/azureml/data/_loggerfactory.py\u001b[0m in \u001b[0;36mwrapper\u001b[0;34m(*args, **kwargs)\u001b[0m\n\u001b[1;32m    124\u001b[0m             \u001b[0;32mwith\u001b[0m \u001b[0m_LoggerFactory\u001b[0m\u001b[0;34m.\u001b[0m\u001b[0mtrack_activity\u001b[0m\u001b[0;34m(\u001b[0m\u001b[0mlogger\u001b[0m\u001b[0;34m,\u001b[0m \u001b[0mfunc\u001b[0m\u001b[0;34m.\u001b[0m\u001b[0m__name__\u001b[0m\u001b[0;34m,\u001b[0m \u001b[0mactivity_type\u001b[0m\u001b[0;34m,\u001b[0m \u001b[0mcustom_dimensions\u001b[0m\u001b[0;34m)\u001b[0m \u001b[0;32mas\u001b[0m \u001b[0mal\u001b[0m\u001b[0;34m:\u001b[0m\u001b[0;34m\u001b[0m\u001b[0;34m\u001b[0m\u001b[0m\n\u001b[1;32m    125\u001b[0m                 \u001b[0;32mtry\u001b[0m\u001b[0;34m:\u001b[0m\u001b[0;34m\u001b[0m\u001b[0;34m\u001b[0m\u001b[0m\n\u001b[0;32m--> 126\u001b[0;31m                     \u001b[0;32mreturn\u001b[0m \u001b[0mfunc\u001b[0m\u001b[0;34m(\u001b[0m\u001b[0;34m*\u001b[0m\u001b[0margs\u001b[0m\u001b[0;34m,\u001b[0m \u001b[0;34m**\u001b[0m\u001b[0mkwargs\u001b[0m\u001b[0;34m)\u001b[0m\u001b[0;34m\u001b[0m\u001b[0;34m\u001b[0m\u001b[0m\n\u001b[0m\u001b[1;32m    127\u001b[0m                 \u001b[0;32mexcept\u001b[0m \u001b[0mException\u001b[0m \u001b[0;32mas\u001b[0m \u001b[0me\u001b[0m\u001b[0;34m:\u001b[0m\u001b[0;34m\u001b[0m\u001b[0;34m\u001b[0m\u001b[0m\n\u001b[1;32m    128\u001b[0m                     \u001b[0;32mif\u001b[0m \u001b[0mhasattr\u001b[0m\u001b[0;34m(\u001b[0m\u001b[0mal\u001b[0m\u001b[0;34m,\u001b[0m \u001b[0;34m'activity_info'\u001b[0m\u001b[0;34m)\u001b[0m \u001b[0;32mand\u001b[0m \u001b[0mhasattr\u001b[0m\u001b[0;34m(\u001b[0m\u001b[0me\u001b[0m\u001b[0;34m,\u001b[0m \u001b[0;34m'error_code'\u001b[0m\u001b[0;34m)\u001b[0m\u001b[0;34m:\u001b[0m\u001b[0;34m\u001b[0m\u001b[0;34m\u001b[0m\u001b[0m\n",
      "\u001b[0;32m/anaconda/envs/azureml_py36/lib/python3.6/site-packages/azureml/data/tabular_dataset.py\u001b[0m in \u001b[0;36mto_pandas_dataframe\u001b[0;34m(self, on_error, out_of_range_datetime)\u001b[0m\n\u001b[1;32m    165\u001b[0m         \u001b[0;34m:\u001b[0m\u001b[0mrtype\u001b[0m\u001b[0;34m:\u001b[0m \u001b[0mpandas\u001b[0m\u001b[0;34m.\u001b[0m\u001b[0mDataFrame\u001b[0m\u001b[0;34m\u001b[0m\u001b[0;34m\u001b[0m\u001b[0m\n\u001b[1;32m    166\u001b[0m         \"\"\"\n\u001b[0;32m--> 167\u001b[0;31m         \u001b[0mdataflow\u001b[0m \u001b[0;34m=\u001b[0m \u001b[0mget_dataflow_for_execution\u001b[0m\u001b[0;34m(\u001b[0m\u001b[0mself\u001b[0m\u001b[0;34m.\u001b[0m\u001b[0m_dataflow\u001b[0m\u001b[0;34m,\u001b[0m \u001b[0;34m'to_pandas_dataframe'\u001b[0m\u001b[0;34m,\u001b[0m \u001b[0;34m'TabularDataset'\u001b[0m\u001b[0;34m)\u001b[0m\u001b[0;34m\u001b[0m\u001b[0;34m\u001b[0m\u001b[0m\n\u001b[0m\u001b[1;32m    168\u001b[0m         df = _try_execute(lambda: dataflow.to_pandas_dataframe(on_error=on_error,\n\u001b[1;32m    169\u001b[0m                                                                out_of_range_datetime=out_of_range_datetime),\n",
      "\u001b[0;32m/anaconda/envs/azureml_py36/lib/python3.6/site-packages/azureml/data/_loggerfactory.py\u001b[0m in \u001b[0;36mwrapper\u001b[0;34m(*args, **kwargs)\u001b[0m\n\u001b[1;32m    124\u001b[0m             \u001b[0;32mwith\u001b[0m \u001b[0m_LoggerFactory\u001b[0m\u001b[0;34m.\u001b[0m\u001b[0mtrack_activity\u001b[0m\u001b[0;34m(\u001b[0m\u001b[0mlogger\u001b[0m\u001b[0;34m,\u001b[0m \u001b[0mfunc\u001b[0m\u001b[0;34m.\u001b[0m\u001b[0m__name__\u001b[0m\u001b[0;34m,\u001b[0m \u001b[0mactivity_type\u001b[0m\u001b[0;34m,\u001b[0m \u001b[0mcustom_dimensions\u001b[0m\u001b[0;34m)\u001b[0m \u001b[0;32mas\u001b[0m \u001b[0mal\u001b[0m\u001b[0;34m:\u001b[0m\u001b[0;34m\u001b[0m\u001b[0;34m\u001b[0m\u001b[0m\n\u001b[1;32m    125\u001b[0m                 \u001b[0;32mtry\u001b[0m\u001b[0;34m:\u001b[0m\u001b[0;34m\u001b[0m\u001b[0;34m\u001b[0m\u001b[0m\n\u001b[0;32m--> 126\u001b[0;31m                     \u001b[0;32mreturn\u001b[0m \u001b[0mfunc\u001b[0m\u001b[0;34m(\u001b[0m\u001b[0;34m*\u001b[0m\u001b[0margs\u001b[0m\u001b[0;34m,\u001b[0m \u001b[0;34m**\u001b[0m\u001b[0mkwargs\u001b[0m\u001b[0;34m)\u001b[0m\u001b[0;34m\u001b[0m\u001b[0;34m\u001b[0m\u001b[0m\n\u001b[0m\u001b[1;32m    127\u001b[0m                 \u001b[0;32mexcept\u001b[0m \u001b[0mException\u001b[0m \u001b[0;32mas\u001b[0m \u001b[0me\u001b[0m\u001b[0;34m:\u001b[0m\u001b[0;34m\u001b[0m\u001b[0;34m\u001b[0m\u001b[0m\n\u001b[1;32m    128\u001b[0m                     \u001b[0;32mif\u001b[0m \u001b[0mhasattr\u001b[0m\u001b[0;34m(\u001b[0m\u001b[0mal\u001b[0m\u001b[0;34m,\u001b[0m \u001b[0;34m'activity_info'\u001b[0m\u001b[0;34m)\u001b[0m \u001b[0;32mand\u001b[0m \u001b[0mhasattr\u001b[0m\u001b[0;34m(\u001b[0m\u001b[0me\u001b[0m\u001b[0;34m,\u001b[0m \u001b[0;34m'error_code'\u001b[0m\u001b[0;34m)\u001b[0m\u001b[0;34m:\u001b[0m\u001b[0;34m\u001b[0m\u001b[0;34m\u001b[0m\u001b[0m\n",
      "\u001b[0;32m/anaconda/envs/azureml_py36/lib/python3.6/site-packages/azureml/data/abstract_dataset.py\u001b[0m in \u001b[0;36m_dataflow\u001b[0;34m(self)\u001b[0m\n\u001b[1;32m    206\u001b[0m             \u001b[0;32mraise\u001b[0m \u001b[0mUserErrorException\u001b[0m\u001b[0;34m(\u001b[0m\u001b[0;34m'Dataset definition is missing. Please check how the dataset is created.'\u001b[0m\u001b[0;34m)\u001b[0m\u001b[0;34m\u001b[0m\u001b[0;34m\u001b[0m\u001b[0m\n\u001b[1;32m    207\u001b[0m         \u001b[0;32mif\u001b[0m \u001b[0mself\u001b[0m\u001b[0;34m.\u001b[0m\u001b[0m_registration\u001b[0m \u001b[0;32mand\u001b[0m \u001b[0mself\u001b[0m\u001b[0;34m.\u001b[0m\u001b[0m_registration\u001b[0m\u001b[0;34m.\u001b[0m\u001b[0mworkspace\u001b[0m\u001b[0;34m:\u001b[0m\u001b[0;34m\u001b[0m\u001b[0;34m\u001b[0m\u001b[0m\n\u001b[0;32m--> 208\u001b[0;31m             \u001b[0mdataprep\u001b[0m\u001b[0;34m(\u001b[0m\u001b[0;34m)\u001b[0m\u001b[0;34m.\u001b[0m\u001b[0mapi\u001b[0m\u001b[0;34m.\u001b[0m\u001b[0m_datastore_helper\u001b[0m\u001b[0;34m.\u001b[0m\u001b[0m_set_auth_type\u001b[0m\u001b[0;34m(\u001b[0m\u001b[0mself\u001b[0m\u001b[0;34m.\u001b[0m\u001b[0m_registration\u001b[0m\u001b[0;34m.\u001b[0m\u001b[0mworkspace\u001b[0m\u001b[0;34m)\u001b[0m\u001b[0;34m\u001b[0m\u001b[0;34m\u001b[0m\u001b[0m\n\u001b[0m\u001b[1;32m    209\u001b[0m         \u001b[0;32mif\u001b[0m \u001b[0;32mnot\u001b[0m \u001b[0misinstance\u001b[0m\u001b[0;34m(\u001b[0m\u001b[0mself\u001b[0m\u001b[0;34m.\u001b[0m\u001b[0m_definition\u001b[0m\u001b[0;34m,\u001b[0m \u001b[0mdataprep\u001b[0m\u001b[0;34m(\u001b[0m\u001b[0;34m)\u001b[0m\u001b[0;34m.\u001b[0m\u001b[0mDataflow\u001b[0m\u001b[0;34m)\u001b[0m\u001b[0;34m:\u001b[0m\u001b[0;34m\u001b[0m\u001b[0;34m\u001b[0m\u001b[0m\n\u001b[1;32m    210\u001b[0m             \u001b[0;32mtry\u001b[0m\u001b[0;34m:\u001b[0m\u001b[0;34m\u001b[0m\u001b[0;34m\u001b[0m\u001b[0m\n",
      "\u001b[0;32m/anaconda/envs/azureml_py36/lib/python3.6/site-packages/azureml/dataprep/api/_datastore_helper.py\u001b[0m in \u001b[0;36m_set_auth_type\u001b[0;34m(workspace)\u001b[0m\n\u001b[1;32m    141\u001b[0m         \u001b[0mget_engine_api\u001b[0m\u001b[0;34m(\u001b[0m\u001b[0;34m)\u001b[0m\u001b[0;34m.\u001b[0m\u001b[0mset_aml_auth\u001b[0m\u001b[0;34m(\u001b[0m\u001b[0mSetAmlAuthMessageArgument\u001b[0m\u001b[0;34m(\u001b[0m\u001b[0mAuthType\u001b[0m\u001b[0;34m.\u001b[0m\u001b[0mSERVICEPRINCIPAL\u001b[0m\u001b[0;34m,\u001b[0m \u001b[0mjson\u001b[0m\u001b[0;34m.\u001b[0m\u001b[0mdumps\u001b[0m\u001b[0;34m(\u001b[0m\u001b[0mauth\u001b[0m\u001b[0;34m)\u001b[0m\u001b[0;34m)\u001b[0m\u001b[0;34m)\u001b[0m\u001b[0;34m\u001b[0m\u001b[0;34m\u001b[0m\u001b[0m\n\u001b[1;32m    142\u001b[0m     \u001b[0;32melse\u001b[0m\u001b[0;34m:\u001b[0m\u001b[0;34m\u001b[0m\u001b[0;34m\u001b[0m\u001b[0m\n\u001b[0;32m--> 143\u001b[0;31m         \u001b[0mget_engine_api\u001b[0m\u001b[0;34m(\u001b[0m\u001b[0;34m)\u001b[0m\u001b[0;34m.\u001b[0m\u001b[0mset_aml_auth\u001b[0m\u001b[0;34m(\u001b[0m\u001b[0mSetAmlAuthMessageArgument\u001b[0m\u001b[0;34m(\u001b[0m\u001b[0mAuthType\u001b[0m\u001b[0;34m.\u001b[0m\u001b[0mDERIVED\u001b[0m\u001b[0;34m,\u001b[0m \u001b[0mjson\u001b[0m\u001b[0;34m.\u001b[0m\u001b[0mdumps\u001b[0m\u001b[0;34m(\u001b[0m\u001b[0mauth\u001b[0m\u001b[0;34m)\u001b[0m\u001b[0;34m)\u001b[0m\u001b[0;34m)\u001b[0m\u001b[0;34m\u001b[0m\u001b[0;34m\u001b[0m\u001b[0m\n\u001b[0m\u001b[1;32m    144\u001b[0m \u001b[0;34m\u001b[0m\u001b[0m\n\u001b[1;32m    145\u001b[0m \u001b[0;34m\u001b[0m\u001b[0m\n",
      "\u001b[0;32m/anaconda/envs/azureml_py36/lib/python3.6/site-packages/azureml/dataprep/api/_aml_helper.py\u001b[0m in \u001b[0;36mwrapper\u001b[0;34m(op_code, message, cancellation_token)\u001b[0m\n\u001b[1;32m     36\u001b[0m             \u001b[0;32mif\u001b[0m \u001b[0mlen\u001b[0m\u001b[0;34m(\u001b[0m\u001b[0mchanged\u001b[0m\u001b[0;34m)\u001b[0m \u001b[0;34m>\u001b[0m \u001b[0;36m0\u001b[0m\u001b[0;34m:\u001b[0m\u001b[0;34m\u001b[0m\u001b[0;34m\u001b[0m\u001b[0m\n\u001b[1;32m     37\u001b[0m                 \u001b[0mengine_api_func\u001b[0m\u001b[0;34m(\u001b[0m\u001b[0;34m)\u001b[0m\u001b[0;34m.\u001b[0m\u001b[0mupdate_environment_variable\u001b[0m\u001b[0;34m(\u001b[0m\u001b[0mchanged\u001b[0m\u001b[0;34m)\u001b[0m\u001b[0;34m\u001b[0m\u001b[0;34m\u001b[0m\u001b[0m\n\u001b[0;32m---> 38\u001b[0;31m             \u001b[0;32mreturn\u001b[0m \u001b[0msend_message_func\u001b[0m\u001b[0;34m(\u001b[0m\u001b[0mop_code\u001b[0m\u001b[0;34m,\u001b[0m \u001b[0mmessage\u001b[0m\u001b[0;34m,\u001b[0m \u001b[0mcancellation_token\u001b[0m\u001b[0;34m)\u001b[0m\u001b[0;34m\u001b[0m\u001b[0;34m\u001b[0m\u001b[0m\n\u001b[0m\u001b[1;32m     39\u001b[0m \u001b[0;34m\u001b[0m\u001b[0m\n\u001b[1;32m     40\u001b[0m         \u001b[0;32mreturn\u001b[0m \u001b[0mwrapper\u001b[0m\u001b[0;34m\u001b[0m\u001b[0;34m\u001b[0m\u001b[0m\n",
      "\u001b[0;32m/anaconda/envs/azureml_py36/lib/python3.6/site-packages/azureml/dataprep/api/engineapi/api.py\u001b[0m in \u001b[0;36mset_aml_auth\u001b[0;34m(self, message_args, cancellation_token)\u001b[0m\n\u001b[1;32m    243\u001b[0m     \u001b[0;34m@\u001b[0m\u001b[0mupdate_aml_env_vars\u001b[0m\u001b[0;34m(\u001b[0m\u001b[0mget_engine_api\u001b[0m\u001b[0;34m)\u001b[0m\u001b[0;34m\u001b[0m\u001b[0;34m\u001b[0m\u001b[0m\n\u001b[1;32m    244\u001b[0m     \u001b[0;32mdef\u001b[0m \u001b[0mset_aml_auth\u001b[0m\u001b[0;34m(\u001b[0m\u001b[0mself\u001b[0m\u001b[0;34m,\u001b[0m \u001b[0mmessage_args\u001b[0m\u001b[0;34m:\u001b[0m \u001b[0mtypedefinitions\u001b[0m\u001b[0;34m.\u001b[0m\u001b[0mSetAmlAuthMessageArgument\u001b[0m\u001b[0;34m,\u001b[0m \u001b[0mcancellation_token\u001b[0m\u001b[0;34m:\u001b[0m \u001b[0mCancellationToken\u001b[0m \u001b[0;34m=\u001b[0m \u001b[0;32mNone\u001b[0m\u001b[0;34m)\u001b[0m \u001b[0;34m->\u001b[0m \u001b[0;32mNone\u001b[0m\u001b[0;34m:\u001b[0m\u001b[0;34m\u001b[0m\u001b[0;34m\u001b[0m\u001b[0m\n\u001b[0;32m--> 245\u001b[0;31m         \u001b[0mresponse\u001b[0m \u001b[0;34m=\u001b[0m \u001b[0mself\u001b[0m\u001b[0;34m.\u001b[0m\u001b[0m_message_channel\u001b[0m\u001b[0;34m.\u001b[0m\u001b[0msend_message\u001b[0m\u001b[0;34m(\u001b[0m\u001b[0;34m'Engine.SetAmlAuth'\u001b[0m\u001b[0;34m,\u001b[0m \u001b[0mmessage_args\u001b[0m\u001b[0;34m,\u001b[0m \u001b[0mcancellation_token\u001b[0m\u001b[0;34m)\u001b[0m\u001b[0;34m\u001b[0m\u001b[0;34m\u001b[0m\u001b[0m\n\u001b[0m\u001b[1;32m    246\u001b[0m         \u001b[0;32mreturn\u001b[0m \u001b[0mresponse\u001b[0m\u001b[0;34m\u001b[0m\u001b[0;34m\u001b[0m\u001b[0m\n\u001b[1;32m    247\u001b[0m \u001b[0;34m\u001b[0m\u001b[0m\n",
      "\u001b[0;32m/anaconda/envs/azureml_py36/lib/python3.6/site-packages/azureml/dataprep/api/engineapi/engine.py\u001b[0m in \u001b[0;36msend_message\u001b[0;34m(self, op_code, message, cancellation_token)\u001b[0m\n\u001b[1;32m    269\u001b[0m         }, cls=CustomEncoder))\n\u001b[1;32m    270\u001b[0m \u001b[0;34m\u001b[0m\u001b[0m\n\u001b[0;32m--> 271\u001b[0;31m         \u001b[0mevent\u001b[0m\u001b[0;34m.\u001b[0m\u001b[0mwait\u001b[0m\u001b[0;34m(\u001b[0m\u001b[0;34m)\u001b[0m\u001b[0;34m\u001b[0m\u001b[0;34m\u001b[0m\u001b[0m\n\u001b[0m\u001b[1;32m    272\u001b[0m         \u001b[0;32mwith\u001b[0m \u001b[0mself\u001b[0m\u001b[0;34m.\u001b[0m\u001b[0m_messages_lock\u001b[0m\u001b[0;34m:\u001b[0m\u001b[0;34m\u001b[0m\u001b[0;34m\u001b[0m\u001b[0m\n\u001b[1;32m    273\u001b[0m             \u001b[0mmessage\u001b[0m \u001b[0;34m=\u001b[0m \u001b[0mself\u001b[0m\u001b[0;34m.\u001b[0m\u001b[0m_pending_messages\u001b[0m\u001b[0;34m.\u001b[0m\u001b[0mpop\u001b[0m\u001b[0;34m(\u001b[0m\u001b[0mmessage_id\u001b[0m\u001b[0;34m,\u001b[0m \u001b[0;32mNone\u001b[0m\u001b[0;34m)\u001b[0m\u001b[0;34m\u001b[0m\u001b[0;34m\u001b[0m\u001b[0m\n",
      "\u001b[0;32m/anaconda/envs/azureml_py36/lib/python3.6/threading.py\u001b[0m in \u001b[0;36mwait\u001b[0;34m(self, timeout)\u001b[0m\n\u001b[1;32m    549\u001b[0m             \u001b[0msignaled\u001b[0m \u001b[0;34m=\u001b[0m \u001b[0mself\u001b[0m\u001b[0;34m.\u001b[0m\u001b[0m_flag\u001b[0m\u001b[0;34m\u001b[0m\u001b[0;34m\u001b[0m\u001b[0m\n\u001b[1;32m    550\u001b[0m             \u001b[0;32mif\u001b[0m \u001b[0;32mnot\u001b[0m \u001b[0msignaled\u001b[0m\u001b[0;34m:\u001b[0m\u001b[0;34m\u001b[0m\u001b[0;34m\u001b[0m\u001b[0m\n\u001b[0;32m--> 551\u001b[0;31m                 \u001b[0msignaled\u001b[0m \u001b[0;34m=\u001b[0m \u001b[0mself\u001b[0m\u001b[0;34m.\u001b[0m\u001b[0m_cond\u001b[0m\u001b[0;34m.\u001b[0m\u001b[0mwait\u001b[0m\u001b[0;34m(\u001b[0m\u001b[0mtimeout\u001b[0m\u001b[0;34m)\u001b[0m\u001b[0;34m\u001b[0m\u001b[0;34m\u001b[0m\u001b[0m\n\u001b[0m\u001b[1;32m    552\u001b[0m             \u001b[0;32mreturn\u001b[0m \u001b[0msignaled\u001b[0m\u001b[0;34m\u001b[0m\u001b[0;34m\u001b[0m\u001b[0m\n\u001b[1;32m    553\u001b[0m \u001b[0;34m\u001b[0m\u001b[0m\n",
      "\u001b[0;32m/anaconda/envs/azureml_py36/lib/python3.6/threading.py\u001b[0m in \u001b[0;36mwait\u001b[0;34m(self, timeout)\u001b[0m\n\u001b[1;32m    293\u001b[0m         \u001b[0;32mtry\u001b[0m\u001b[0;34m:\u001b[0m    \u001b[0;31m# restore state no matter what (e.g., KeyboardInterrupt)\u001b[0m\u001b[0;34m\u001b[0m\u001b[0;34m\u001b[0m\u001b[0m\n\u001b[1;32m    294\u001b[0m             \u001b[0;32mif\u001b[0m \u001b[0mtimeout\u001b[0m \u001b[0;32mis\u001b[0m \u001b[0;32mNone\u001b[0m\u001b[0;34m:\u001b[0m\u001b[0;34m\u001b[0m\u001b[0;34m\u001b[0m\u001b[0m\n\u001b[0;32m--> 295\u001b[0;31m                 \u001b[0mwaiter\u001b[0m\u001b[0;34m.\u001b[0m\u001b[0macquire\u001b[0m\u001b[0;34m(\u001b[0m\u001b[0;34m)\u001b[0m\u001b[0;34m\u001b[0m\u001b[0;34m\u001b[0m\u001b[0m\n\u001b[0m\u001b[1;32m    296\u001b[0m                 \u001b[0mgotit\u001b[0m \u001b[0;34m=\u001b[0m \u001b[0;32mTrue\u001b[0m\u001b[0;34m\u001b[0m\u001b[0;34m\u001b[0m\u001b[0m\n\u001b[1;32m    297\u001b[0m             \u001b[0;32melse\u001b[0m\u001b[0;34m:\u001b[0m\u001b[0;34m\u001b[0m\u001b[0;34m\u001b[0m\u001b[0m\n",
      "\u001b[0;31mKeyboardInterrupt\u001b[0m: "
     ]
    }
   ],
   "source": []
  },
  {
   "cell_type": "code",
   "execution_count": 47,
   "metadata": {},
   "outputs": [
    {
     "data": {
      "text/plain": [
       "'http://e5401dfb-1add-43be-987a-87e391a83eb3.southcentralus.azurecontainer.io/score'"
      ]
     },
     "execution_count": 47,
     "metadata": {},
     "output_type": "execute_result"
    }
   ],
   "source": [
    "service.scoring_uri"
   ]
  },
  {
   "cell_type": "code",
   "execution_count": 90,
   "metadata": {},
   "outputs": [],
   "source": []
  },
  {
   "cell_type": "code",
   "execution_count": 18,
   "metadata": {},
   "outputs": [],
   "source": [
    "input_data={\"data\":[{'age': 75.0,\n",
    "  'anaemia': 0,\n",
    "  'creatinine_phosphokinase': 582,\n",
    "  'diabetes': 0,\n",
    "  'ejection_fraction': 20,\n",
    "  'high_blood_pressure': 1,\n",
    "  'platelets': 265000.0,\n",
    "  'serum_creatinine': 1.9,\n",
    "  'serum_sodium': 130,\n",
    "  'sex': 1,\n",
    "  'smoking': 0,\n",
    "  'time': 4}]}\n",
    "import json\n",
    "i=json.dumps(input_data)"
   ]
  },
  {
   "cell_type": "code",
   "execution_count": 20,
   "metadata": {},
   "outputs": [],
   "source": []
  },
  {
   "cell_type": "code",
   "execution_count": 21,
   "metadata": {},
   "outputs": [],
   "source": [
    "service.update(auth_enabled=True)"
   ]
  },
  {
   "cell_type": "code",
   "execution_count": 64,
   "metadata": {},
   "outputs": [],
   "source": [
    "with open(\"data.json\",\"w\") as _f:\n",
    "    _f.write(i)\n",
    "    "
   ]
  },
  {
   "cell_type": "code",
   "execution_count": 33,
   "metadata": {},
   "outputs": [],
   "source": [
    "headers={\"Content-Type\":\"application/json\"}\n",
    "key=\"nmzf01o9jlalITeEPXejCGkw7Bqs0Iv0\"\n",
    "headers[\"Authorization\"]=f'Bearer \"hL84fRidVsQHrZsgj9he798pG7tEyr6c\"'"
   ]
  },
  {
   "cell_type": "code",
   "execution_count": 29,
   "metadata": {},
   "outputs": [
    {
     "name": "stdout",
     "output_type": "stream",
     "text": [
      "\u001b[33mTo sign in, use a web browser to open the page https://microsoft.com/devicelogin and enter the code RWJDCH8LX to authenticate.\u001b[0m\n",
      "[\n",
      "  {\n",
      "    \"cloudName\": \"AzureCloud\",\n",
      "    \"homeTenantId\": \"660b3398-b80e-49d2-bc5b-ac1dc93b5254\",\n",
      "    \"id\": \"dafd62fe-51d3-4671-af50-6bac2f001b5d\",\n",
      "    \"isDefault\": true,\n",
      "    \"managedByTenants\": [],\n",
      "    \"name\": \"Azure Sponsorship - Udacity -47\",\n",
      "    \"state\": \"Enabled\",\n",
      "    \"tenantId\": \"660b3398-b80e-49d2-bc5b-ac1dc93b5254\",\n",
      "    \"user\": {\n",
      "      \"name\": \"odl_user_127468@udacitylabs.onmicrosoft.com\",\n",
      "      \"type\": \"user\"\n",
      "    }\n",
      "  }\n",
      "]\n",
      "\u001b[0m"
     ]
    }
   ],
   "source": [
    "!az login"
   ]
  },
  {
   "cell_type": "code",
   "execution_count": 34,
   "metadata": {},
   "outputs": [],
   "source": [
    "import requests\n",
    "result=requests.post('http://b16e4ef9-3001-4d9c-82f2-b0f1c7850e7d.southcentralus.azurecontainer.io/score',i,headers=headers)"
   ]
  },
  {
   "cell_type": "code",
   "execution_count": 36,
   "metadata": {},
   "outputs": [
    {
     "data": {
      "text/plain": [
       "'Unauthorized, no token matched'"
      ]
     },
     "execution_count": 36,
     "metadata": {},
     "output_type": "execute_result"
    }
   ],
   "source": [
    "result.text\n"
   ]
  },
  {
   "cell_type": "code",
   "execution_count": null,
   "metadata": {},
   "outputs": [],
   "source": [
    "\n",
    "service.delete()"
   ]
  }
 ],
 "metadata": {
  "kernel_info": {
   "name": "python3-azureml"
  },
  "kernelspec": {
   "display_name": "Python 3",
   "language": "python",
   "name": "python3"
  },
  "language_info": {
   "codemirror_mode": {
    "name": "ipython",
    "version": 3
   },
   "file_extension": ".py",
   "mimetype": "text/x-python",
   "name": "python",
   "nbconvert_exporter": "python",
   "pygments_lexer": "ipython3",
   "version": "3.6.9"
  },
  "nteract": {
   "version": "nteract-front-end@1.0.0"
  }
 },
 "nbformat": 4,
 "nbformat_minor": 2
}
